{
 "cells": [
  {
   "cell_type": "markdown",
   "metadata": {},
   "source": [
    "### Problem statement we want to predict that airline customer will loyal or disloyal using ANN"
   ]
  },
  {
   "cell_type": "code",
   "execution_count": 1,
   "metadata": {},
   "outputs": [],
   "source": [
    "import numpy as np \n",
    "import pandas as pd\n",
    "import matplotlib.pyplot as plt \n",
    "import seaborn as sns \n",
    "from sklearn.model_selection import  train_test_split\n",
    "from sklearn.linear_model import  LogisticRegression\n",
    "from sklearn.metrics import  confusion_matrix,classification_report"
   ]
  },
  {
   "cell_type": "code",
   "execution_count": 2,
   "metadata": {},
   "outputs": [
    {
     "data": {
      "text/html": [
       "<div>\n",
       "<style scoped>\n",
       "    .dataframe tbody tr th:only-of-type {\n",
       "        vertical-align: middle;\n",
       "    }\n",
       "\n",
       "    .dataframe tbody tr th {\n",
       "        vertical-align: top;\n",
       "    }\n",
       "\n",
       "    .dataframe thead th {\n",
       "        text-align: right;\n",
       "    }\n",
       "</style>\n",
       "<table border=\"1\" class=\"dataframe\">\n",
       "  <thead>\n",
       "    <tr style=\"text-align: right;\">\n",
       "      <th></th>\n",
       "      <th>Gender</th>\n",
       "      <th>Customer Type</th>\n",
       "      <th>Type of Travel</th>\n",
       "      <th>Class</th>\n",
       "      <th>satisfaction</th>\n",
       "      <th>Age</th>\n",
       "      <th>Flight Distance</th>\n",
       "      <th>Inflight entertainment</th>\n",
       "      <th>Baggage handling</th>\n",
       "      <th>Cleanliness</th>\n",
       "      <th>Departure Delay in Minutes</th>\n",
       "      <th>Arrival Delay in Minutes</th>\n",
       "    </tr>\n",
       "  </thead>\n",
       "  <tbody>\n",
       "    <tr>\n",
       "      <th>0</th>\n",
       "      <td>Male</td>\n",
       "      <td>Loyal Customer</td>\n",
       "      <td>Personal Travel</td>\n",
       "      <td>Eco Plus</td>\n",
       "      <td>neutral or dissatisfied</td>\n",
       "      <td>13</td>\n",
       "      <td>460</td>\n",
       "      <td>5</td>\n",
       "      <td>4</td>\n",
       "      <td>5</td>\n",
       "      <td>25</td>\n",
       "      <td>18.0</td>\n",
       "    </tr>\n",
       "    <tr>\n",
       "      <th>1</th>\n",
       "      <td>Male</td>\n",
       "      <td>disloyal Customer</td>\n",
       "      <td>Business travel</td>\n",
       "      <td>Business</td>\n",
       "      <td>neutral or dissatisfied</td>\n",
       "      <td>25</td>\n",
       "      <td>235</td>\n",
       "      <td>1</td>\n",
       "      <td>3</td>\n",
       "      <td>1</td>\n",
       "      <td>1</td>\n",
       "      <td>6.0</td>\n",
       "    </tr>\n",
       "    <tr>\n",
       "      <th>2</th>\n",
       "      <td>Female</td>\n",
       "      <td>Loyal Customer</td>\n",
       "      <td>Business travel</td>\n",
       "      <td>Business</td>\n",
       "      <td>satisfied</td>\n",
       "      <td>26</td>\n",
       "      <td>1142</td>\n",
       "      <td>5</td>\n",
       "      <td>4</td>\n",
       "      <td>5</td>\n",
       "      <td>0</td>\n",
       "      <td>0.0</td>\n",
       "    </tr>\n",
       "    <tr>\n",
       "      <th>3</th>\n",
       "      <td>Female</td>\n",
       "      <td>Loyal Customer</td>\n",
       "      <td>Business travel</td>\n",
       "      <td>Business</td>\n",
       "      <td>neutral or dissatisfied</td>\n",
       "      <td>25</td>\n",
       "      <td>562</td>\n",
       "      <td>2</td>\n",
       "      <td>3</td>\n",
       "      <td>2</td>\n",
       "      <td>11</td>\n",
       "      <td>9.0</td>\n",
       "    </tr>\n",
       "    <tr>\n",
       "      <th>4</th>\n",
       "      <td>Male</td>\n",
       "      <td>Loyal Customer</td>\n",
       "      <td>Business travel</td>\n",
       "      <td>Business</td>\n",
       "      <td>satisfied</td>\n",
       "      <td>61</td>\n",
       "      <td>214</td>\n",
       "      <td>3</td>\n",
       "      <td>4</td>\n",
       "      <td>3</td>\n",
       "      <td>0</td>\n",
       "      <td>0.0</td>\n",
       "    </tr>\n",
       "  </tbody>\n",
       "</table>\n",
       "</div>"
      ],
      "text/plain": [
       "   Gender      Customer Type   Type of Travel     Class  \\\n",
       "0    Male     Loyal Customer  Personal Travel  Eco Plus   \n",
       "1    Male  disloyal Customer  Business travel  Business   \n",
       "2  Female     Loyal Customer  Business travel  Business   \n",
       "3  Female     Loyal Customer  Business travel  Business   \n",
       "4    Male     Loyal Customer  Business travel  Business   \n",
       "\n",
       "              satisfaction  Age  Flight Distance  Inflight entertainment  \\\n",
       "0  neutral or dissatisfied   13              460                       5   \n",
       "1  neutral or dissatisfied   25              235                       1   \n",
       "2                satisfied   26             1142                       5   \n",
       "3  neutral or dissatisfied   25              562                       2   \n",
       "4                satisfied   61              214                       3   \n",
       "\n",
       "   Baggage handling  Cleanliness  Departure Delay in Minutes  \\\n",
       "0                 4            5                          25   \n",
       "1                 3            1                           1   \n",
       "2                 4            5                           0   \n",
       "3                 3            2                          11   \n",
       "4                 4            3                           0   \n",
       "\n",
       "   Arrival Delay in Minutes  \n",
       "0                      18.0  \n",
       "1                       6.0  \n",
       "2                       0.0  \n",
       "3                       9.0  \n",
       "4                       0.0  "
      ]
     },
     "execution_count": 2,
     "metadata": {},
     "output_type": "execute_result"
    }
   ],
   "source": [
    "df = pd.read_csv('cust_satisfaction.csv')\n",
    "df.head()"
   ]
  },
  {
   "cell_type": "code",
   "execution_count": 3,
   "metadata": {},
   "outputs": [],
   "source": [
    "df['Gender'] = df['Gender'].map({'Male':1,'Female':0})\n",
    "df['Customer Type'] = df['Customer Type'].map({'Loyal Customer':1,'disloyal Customer':0})\n",
    "df['Type of Travel'] = df['Type of Travel'].map({'Business travel':1,'Personal Travel':0})\n",
    "df['Class'] = df['Class'].map({'Business':1,'Eco':2,'Eco Plus':3})\n",
    "df['satisfaction'] = df['satisfaction'].map({'neutral or dissatisfied':0,'satisfied':1})\n"
   ]
  },
  {
   "cell_type": "code",
   "execution_count": 4,
   "metadata": {},
   "outputs": [
    {
     "data": {
      "text/html": [
       "<div>\n",
       "<style scoped>\n",
       "    .dataframe tbody tr th:only-of-type {\n",
       "        vertical-align: middle;\n",
       "    }\n",
       "\n",
       "    .dataframe tbody tr th {\n",
       "        vertical-align: top;\n",
       "    }\n",
       "\n",
       "    .dataframe thead th {\n",
       "        text-align: right;\n",
       "    }\n",
       "</style>\n",
       "<table border=\"1\" class=\"dataframe\">\n",
       "  <thead>\n",
       "    <tr style=\"text-align: right;\">\n",
       "      <th></th>\n",
       "      <th>Gender</th>\n",
       "      <th>Customer Type</th>\n",
       "      <th>Type of Travel</th>\n",
       "      <th>Class</th>\n",
       "      <th>satisfaction</th>\n",
       "      <th>Age</th>\n",
       "      <th>Flight Distance</th>\n",
       "      <th>Inflight entertainment</th>\n",
       "      <th>Baggage handling</th>\n",
       "      <th>Cleanliness</th>\n",
       "      <th>Departure Delay in Minutes</th>\n",
       "      <th>Arrival Delay in Minutes</th>\n",
       "    </tr>\n",
       "  </thead>\n",
       "  <tbody>\n",
       "    <tr>\n",
       "      <th>0</th>\n",
       "      <td>1</td>\n",
       "      <td>1</td>\n",
       "      <td>0</td>\n",
       "      <td>3</td>\n",
       "      <td>0</td>\n",
       "      <td>13</td>\n",
       "      <td>460</td>\n",
       "      <td>5</td>\n",
       "      <td>4</td>\n",
       "      <td>5</td>\n",
       "      <td>25</td>\n",
       "      <td>18.0</td>\n",
       "    </tr>\n",
       "    <tr>\n",
       "      <th>1</th>\n",
       "      <td>1</td>\n",
       "      <td>0</td>\n",
       "      <td>1</td>\n",
       "      <td>1</td>\n",
       "      <td>0</td>\n",
       "      <td>25</td>\n",
       "      <td>235</td>\n",
       "      <td>1</td>\n",
       "      <td>3</td>\n",
       "      <td>1</td>\n",
       "      <td>1</td>\n",
       "      <td>6.0</td>\n",
       "    </tr>\n",
       "    <tr>\n",
       "      <th>2</th>\n",
       "      <td>0</td>\n",
       "      <td>1</td>\n",
       "      <td>1</td>\n",
       "      <td>1</td>\n",
       "      <td>1</td>\n",
       "      <td>26</td>\n",
       "      <td>1142</td>\n",
       "      <td>5</td>\n",
       "      <td>4</td>\n",
       "      <td>5</td>\n",
       "      <td>0</td>\n",
       "      <td>0.0</td>\n",
       "    </tr>\n",
       "    <tr>\n",
       "      <th>3</th>\n",
       "      <td>0</td>\n",
       "      <td>1</td>\n",
       "      <td>1</td>\n",
       "      <td>1</td>\n",
       "      <td>0</td>\n",
       "      <td>25</td>\n",
       "      <td>562</td>\n",
       "      <td>2</td>\n",
       "      <td>3</td>\n",
       "      <td>2</td>\n",
       "      <td>11</td>\n",
       "      <td>9.0</td>\n",
       "    </tr>\n",
       "    <tr>\n",
       "      <th>4</th>\n",
       "      <td>1</td>\n",
       "      <td>1</td>\n",
       "      <td>1</td>\n",
       "      <td>1</td>\n",
       "      <td>1</td>\n",
       "      <td>61</td>\n",
       "      <td>214</td>\n",
       "      <td>3</td>\n",
       "      <td>4</td>\n",
       "      <td>3</td>\n",
       "      <td>0</td>\n",
       "      <td>0.0</td>\n",
       "    </tr>\n",
       "  </tbody>\n",
       "</table>\n",
       "</div>"
      ],
      "text/plain": [
       "   Gender  Customer Type  Type of Travel  Class  satisfaction  Age  \\\n",
       "0       1              1               0      3             0   13   \n",
       "1       1              0               1      1             0   25   \n",
       "2       0              1               1      1             1   26   \n",
       "3       0              1               1      1             0   25   \n",
       "4       1              1               1      1             1   61   \n",
       "\n",
       "   Flight Distance  Inflight entertainment  Baggage handling  Cleanliness  \\\n",
       "0              460                       5                 4            5   \n",
       "1              235                       1                 3            1   \n",
       "2             1142                       5                 4            5   \n",
       "3              562                       2                 3            2   \n",
       "4              214                       3                 4            3   \n",
       "\n",
       "   Departure Delay in Minutes  Arrival Delay in Minutes  \n",
       "0                          25                      18.0  \n",
       "1                           1                       6.0  \n",
       "2                           0                       0.0  \n",
       "3                          11                       9.0  \n",
       "4                           0                       0.0  "
      ]
     },
     "execution_count": 4,
     "metadata": {},
     "output_type": "execute_result"
    }
   ],
   "source": [
    "df.head()"
   ]
  },
  {
   "cell_type": "code",
   "execution_count": 5,
   "metadata": {},
   "outputs": [
    {
     "data": {
      "image/png": "[encoded data removed]",
      "text/plain": [
       "<Figure size 500x500 with 1 Axes>"
      ]
     },
     "metadata": {},
     "output_type": "display_data"
    }
   ],
   "source": [
    "sns.catplot(x = list((df['Customer Type'].value_counts().keys())),y=list((df['Customer Type'].value_counts().values)),kind='bar')\n",
    "plt.title('imbalance dataset')\n",
    "plt.show()"
   ]
  },
  {
   "cell_type": "code",
   "execution_count": 6,
   "metadata": {},
   "outputs": [],
   "source": [
    "loyal_customer = df[df['Customer Type']==1].loc[0:20000]\n",
    "disloyal_customer = df[df['Customer Type']==0]"
   ]
  },
  {
   "cell_type": "code",
   "execution_count": 7,
   "metadata": {},
   "outputs": [],
   "source": [
    "balance_df = pd.concat([loyal_customer,disloyal_customer])"
   ]
  },
  {
   "cell_type": "code",
   "execution_count": 8,
   "metadata": {},
   "outputs": [
    {
     "data": {
      "image/png": "[encoded data removed]",
      "text/plain": [
       "<Figure size 500x500 with 1 Axes>"
      ]
     },
     "metadata": {},
     "output_type": "display_data"
    }
   ],
   "source": [
    "sns.catplot(x = list((balance_df['Customer Type'].value_counts().keys())),y=list((balance_df['Customer Type'].value_counts().values)),kind='bar')\n",
    "plt.title('Balance dataset')\n",
    "plt.show()"
   ]
  },
  {
   "cell_type": "code",
   "execution_count": 9,
   "metadata": {},
   "outputs": [
    {
     "data": {
      "text/plain": [
       "Gender                         0\n",
       "Customer Type                  0\n",
       "Type of Travel                 0\n",
       "Class                          0\n",
       "satisfaction                   0\n",
       "Age                            0\n",
       "Flight Distance                0\n",
       "Inflight entertainment         0\n",
       "Baggage handling               0\n",
       "Cleanliness                    0\n",
       "Departure Delay in Minutes     0\n",
       "Arrival Delay in Minutes      94\n",
       "dtype: int64"
      ]
     },
     "execution_count": 9,
     "metadata": {},
     "output_type": "execute_result"
    }
   ],
   "source": [
    "balance_df.isnull().sum()"
   ]
  },
  {
   "cell_type": "code",
   "execution_count": 10,
   "metadata": {},
   "outputs": [
    {
     "data": {
      "text/html": [
       "<div>\n",
       "<style scoped>\n",
       "    .dataframe tbody tr th:only-of-type {\n",
       "        vertical-align: middle;\n",
       "    }\n",
       "\n",
       "    .dataframe tbody tr th {\n",
       "        vertical-align: top;\n",
       "    }\n",
       "\n",
       "    .dataframe thead th {\n",
       "        text-align: right;\n",
       "    }\n",
       "</style>\n",
       "<table border=\"1\" class=\"dataframe\">\n",
       "  <thead>\n",
       "    <tr style=\"text-align: right;\">\n",
       "      <th></th>\n",
       "      <th>Gender</th>\n",
       "      <th>Customer Type</th>\n",
       "      <th>Type of Travel</th>\n",
       "      <th>Class</th>\n",
       "      <th>satisfaction</th>\n",
       "      <th>Age</th>\n",
       "      <th>Flight Distance</th>\n",
       "      <th>Inflight entertainment</th>\n",
       "      <th>Baggage handling</th>\n",
       "      <th>Cleanliness</th>\n",
       "      <th>Departure Delay in Minutes</th>\n",
       "      <th>Arrival Delay in Minutes</th>\n",
       "    </tr>\n",
       "  </thead>\n",
       "  <tbody>\n",
       "    <tr>\n",
       "      <th>213</th>\n",
       "      <td>0</td>\n",
       "      <td>1</td>\n",
       "      <td>1</td>\n",
       "      <td>2</td>\n",
       "      <td>1</td>\n",
       "      <td>38</td>\n",
       "      <td>109</td>\n",
       "      <td>5</td>\n",
       "      <td>4</td>\n",
       "      <td>5</td>\n",
       "      <td>31</td>\n",
       "      <td>NaN</td>\n",
       "    </tr>\n",
       "    <tr>\n",
       "      <th>1124</th>\n",
       "      <td>1</td>\n",
       "      <td>1</td>\n",
       "      <td>0</td>\n",
       "      <td>2</td>\n",
       "      <td>0</td>\n",
       "      <td>53</td>\n",
       "      <td>1012</td>\n",
       "      <td>4</td>\n",
       "      <td>4</td>\n",
       "      <td>4</td>\n",
       "      <td>38</td>\n",
       "      <td>NaN</td>\n",
       "    </tr>\n",
       "    <tr>\n",
       "      <th>1529</th>\n",
       "      <td>1</td>\n",
       "      <td>1</td>\n",
       "      <td>1</td>\n",
       "      <td>1</td>\n",
       "      <td>0</td>\n",
       "      <td>39</td>\n",
       "      <td>733</td>\n",
       "      <td>2</td>\n",
       "      <td>2</td>\n",
       "      <td>3</td>\n",
       "      <td>11</td>\n",
       "      <td>NaN</td>\n",
       "    </tr>\n",
       "    <tr>\n",
       "      <th>2108</th>\n",
       "      <td>0</td>\n",
       "      <td>1</td>\n",
       "      <td>0</td>\n",
       "      <td>2</td>\n",
       "      <td>0</td>\n",
       "      <td>24</td>\n",
       "      <td>417</td>\n",
       "      <td>5</td>\n",
       "      <td>2</td>\n",
       "      <td>5</td>\n",
       "      <td>1</td>\n",
       "      <td>NaN</td>\n",
       "    </tr>\n",
       "    <tr>\n",
       "      <th>2485</th>\n",
       "      <td>0</td>\n",
       "      <td>1</td>\n",
       "      <td>0</td>\n",
       "      <td>2</td>\n",
       "      <td>1</td>\n",
       "      <td>28</td>\n",
       "      <td>2370</td>\n",
       "      <td>3</td>\n",
       "      <td>4</td>\n",
       "      <td>3</td>\n",
       "      <td>3</td>\n",
       "      <td>NaN</td>\n",
       "    </tr>\n",
       "  </tbody>\n",
       "</table>\n",
       "</div>"
      ],
      "text/plain": [
       "      Gender  Customer Type  Type of Travel  Class  satisfaction  Age  \\\n",
       "213        0              1               1      2             1   38   \n",
       "1124       1              1               0      2             0   53   \n",
       "1529       1              1               1      1             0   39   \n",
       "2108       0              1               0      2             0   24   \n",
       "2485       0              1               0      2             1   28   \n",
       "\n",
       "      Flight Distance  Inflight entertainment  Baggage handling  Cleanliness  \\\n",
       "213               109                       5                 4            5   \n",
       "1124             1012                       4                 4            4   \n",
       "1529              733                       2                 2            3   \n",
       "2108              417                       5                 2            5   \n",
       "2485             2370                       3                 4            3   \n",
       "\n",
       "      Departure Delay in Minutes  Arrival Delay in Minutes  \n",
       "213                           31                       NaN  \n",
       "1124                          38                       NaN  \n",
       "1529                          11                       NaN  \n",
       "2108                           1                       NaN  \n",
       "2485                           3                       NaN  "
      ]
     },
     "execution_count": 10,
     "metadata": {},
     "output_type": "execute_result"
    }
   ],
   "source": [
    "null_df = balance_df[balance_df.isnull()['Arrival Delay in Minutes']]\n",
    "null_df.head()"
   ]
  },
  {
   "cell_type": "code",
   "execution_count": 11,
   "metadata": {},
   "outputs": [
    {
     "data": {
      "image/png": "[encoded data removed]",
      "text/plain": [
       "<Figure size 640x480 with 2 Axes>"
      ]
     },
     "metadata": {},
     "output_type": "display_data"
    }
   ],
   "source": [
    "sns.heatmap(balance_df.isnull())\n",
    "plt.show()\n",
    "# to visualaize the represenatation of missing value"
   ]
  },
  {
   "cell_type": "code",
   "execution_count": 12,
   "metadata": {},
   "outputs": [
    {
     "data": {
      "text/plain": [
       "Gender                        0\n",
       "Customer Type                 0\n",
       "Type of Travel                0\n",
       "Class                         0\n",
       "satisfaction                  0\n",
       "Age                           0\n",
       "Flight Distance               0\n",
       "Inflight entertainment        0\n",
       "Baggage handling              0\n",
       "Cleanliness                   0\n",
       "Departure Delay in Minutes    0\n",
       "Arrival Delay in Minutes      0\n",
       "dtype: int64"
      ]
     },
     "execution_count": 12,
     "metadata": {},
     "output_type": "execute_result"
    }
   ],
   "source": [
    "balance_df.dropna().isnull().sum()\n",
    "## null free data"
   ]
  },
  {
   "cell_type": "code",
   "execution_count": 13,
   "metadata": {},
   "outputs": [],
   "source": [
    "null_free_df = balance_df.dropna()"
   ]
  },
  {
   "cell_type": "code",
   "execution_count": 14,
   "metadata": {},
   "outputs": [],
   "source": [
    "x = null_free_df.drop('Customer Type',axis=1)\n",
    "y = null_free_df[['Customer Type']]"
   ]
  },
  {
   "cell_type": "code",
   "execution_count": 15,
   "metadata": {},
   "outputs": [
    {
     "data": {
      "text/plain": [
       "((35269, 11), (35269, 1))"
      ]
     },
     "execution_count": 15,
     "metadata": {},
     "output_type": "execute_result"
    }
   ],
   "source": [
    "x.shape ,y.shape"
   ]
  },
  {
   "cell_type": "code",
   "execution_count": 16,
   "metadata": {},
   "outputs": [],
   "source": [
    "x_train,x_test,y_train,y_test = train_test_split(x,y,test_size=0.2)"
   ]
  },
  {
   "cell_type": "markdown",
   "metadata": {},
   "source": [
    "### Standard Scaling the Dataset"
   ]
  },
  {
   "cell_type": "code",
   "execution_count": 17,
   "metadata": {},
   "outputs": [],
   "source": [
    "from sklearn.preprocessing import  StandardScaler\n",
    "st_scaler = StandardScaler()"
   ]
  },
  {
   "cell_type": "code",
   "execution_count": 18,
   "metadata": {},
   "outputs": [],
   "source": [
    "x_train_scaled = st_scaler.fit_transform(x_train)\n",
    "x_test_scaled  = st_scaler.transform(x_test)"
   ]
  },
  {
   "cell_type": "markdown",
   "metadata": {},
   "source": [
    "## We are importing all the necessary library for build ANN"
   ]
  },
  {
   "cell_type": "code",
   "execution_count": 19,
   "metadata": {},
   "outputs": [
    {
     "name": "stdout",
     "output_type": "stream",
     "text": [
      "WARNING:tensorflow:From c:\\Users\\Ranjit\\AppData\\Local\\Programs\\Python\\Python311\\Lib\\site-packages\\keras\\src\\losses.py:2976: The name tf.losses.sparse_softmax_cross_entropy is deprecated. Please use tf.compat.v1.losses.sparse_softmax_cross_entropy instead.\n",
      "\n"
     ]
    }
   ],
   "source": [
    "from tensorflow.keras.layers import Dense,Dropout\n",
    "from tensorflow.keras.models import  Sequential"
   ]
  },
  {
   "cell_type": "code",
   "execution_count": 20,
   "metadata": {},
   "outputs": [
    {
     "data": {
      "text/plain": [
       "((28215, 11), (28215, 1))"
      ]
     },
     "execution_count": 20,
     "metadata": {},
     "output_type": "execute_result"
    }
   ],
   "source": [
    "x_train_scaled.shape,    y_train.shape   # shape of the Dataset"
   ]
  },
  {
   "cell_type": "code",
   "execution_count": 21,
   "metadata": {},
   "outputs": [
    {
     "name": "stdout",
     "output_type": "stream",
     "text": [
      "WARNING:tensorflow:From c:\\Users\\Ranjit\\AppData\\Local\\Programs\\Python\\Python311\\Lib\\site-packages\\keras\\src\\backend.py:873: The name tf.get_default_graph is deprecated. Please use tf.compat.v1.get_default_graph instead.\n",
      "\n",
      "WARNING:tensorflow:From c:\\Users\\Ranjit\\AppData\\Local\\Programs\\Python\\Python311\\Lib\\site-packages\\keras\\src\\optimizers\\__init__.py:309: The name tf.train.Optimizer is deprecated. Please use tf.compat.v1.train.Optimizer instead.\n",
      "\n",
      "Model: \"sequential\"\n",
      "_________________________________________________________________\n",
      " Layer (type)                Output Shape              Param #   \n",
      "=================================================================\n",
      " dense (Dense)               (None, 68)                816       \n",
      "                                                                 \n",
      " dense_1 (Dense)             (None, 32)                2208      \n",
      "                                                                 \n",
      " dense_2 (Dense)             (None, 24)                792       \n",
      "                                                                 \n",
      " dense_3 (Dense)             (None, 12)                300       \n",
      "                                                                 \n",
      " dense_4 (Dense)             (None, 1)                 13        \n",
      "                                                                 \n",
      "=================================================================\n",
      "Total params: 4129 (16.13 KB)\n",
      "Trainable params: 4129 (16.13 KB)\n",
      "Non-trainable params: 0 (0.00 Byte)\n",
      "_________________________________________________________________\n"
     ]
    }
   ],
   "source": [
    "### Defining ANN Model\n",
    "\n",
    "Ann_Model = Sequential()\n",
    "# Hidden layers\n",
    "Ann_Model.add(Dense(units=68,activation='relu',input_dim=x_train_scaled.shape[1]))\n",
    "Ann_Model.add(Dense(units=32,activation='relu'))\n",
    "Ann_Model.add(Dense(units=24,activation='relu'))\n",
    "Ann_Model.add(Dense(units=12,activation='relu'))\n",
    "#output layers\n",
    "Ann_Model.add(Dense(units=1,activation='sigmoid'))\n",
    "\n",
    "#compiling the models\n",
    "Ann_Model.compile(optimizer='adam', loss='binary_crossentropy', metrics=['accuracy'])\n",
    "Ann_Model.summary()"
   ]
  },
  {
   "cell_type": "code",
   "execution_count": 26,
   "metadata": {},
   "outputs": [
    {
     "name": "stdout",
     "output_type": "stream",
     "text": [
      "Epoch 1/15\n",
      "WARNING:tensorflow:From c:\\Users\\Ranjit\\AppData\\Local\\Programs\\Python\\Python311\\Lib\\site-packages\\keras\\src\\utils\\tf_utils.py:492: The name tf.ragged.RaggedTensorValue is deprecated. Please use tf.compat.v1.ragged.RaggedTensorValue instead.\n",
      "\n",
      "WARNING:tensorflow:From c:\\Users\\Ranjit\\AppData\\Local\\Programs\\Python\\Python311\\Lib\\site-packages\\keras\\src\\engine\\base_layer_utils.py:384: The name tf.executing_eagerly_outside_functions is deprecated. Please use tf.compat.v1.executing_eagerly_outside_functions instead.\n",
      "\n",
      "882/882 [==============================] - 6s 4ms/step - loss: 0.2796 - accuracy: 0.8895 - val_loss: 0.2432 - val_accuracy: 0.9056\n",
      "Epoch 2/15\n",
      "882/882 [==============================] - 3s 4ms/step - loss: 0.2310 - accuracy: 0.9119 - val_loss: 0.2303 - val_accuracy: 0.9110\n",
      "Epoch 3/15\n",
      "882/882 [==============================] - 3s 4ms/step - loss: 0.2198 - accuracy: 0.9159 - val_loss: 0.2211 - val_accuracy: 0.9166\n",
      "Epoch 4/15\n",
      "882/882 [==============================] - 3s 4ms/step - loss: 0.2117 - accuracy: 0.9184 - val_loss: 0.2180 - val_accuracy: 0.9196\n",
      "Epoch 5/15\n",
      "882/882 [==============================] - 3s 4ms/step - loss: 0.2050 - accuracy: 0.9226 - val_loss: 0.2160 - val_accuracy: 0.9195\n",
      "Epoch 6/15\n",
      "882/882 [==============================] - 3s 4ms/step - loss: 0.2007 - accuracy: 0.9243 - val_loss: 0.2166 - val_accuracy: 0.9185\n",
      "Epoch 7/15\n",
      "882/882 [==============================] - 3s 4ms/step - loss: 0.1975 - accuracy: 0.9248 - val_loss: 0.2094 - val_accuracy: 0.9208\n",
      "Epoch 8/15\n",
      "882/882 [==============================] - 4s 4ms/step - loss: 0.1947 - accuracy: 0.9272 - val_loss: 0.2081 - val_accuracy: 0.9213\n",
      "Epoch 9/15\n",
      "882/882 [==============================] - 3s 4ms/step - loss: 0.1930 - accuracy: 0.9273 - val_loss: 0.2088 - val_accuracy: 0.9208\n",
      "Epoch 10/15\n",
      "882/882 [==============================] - 3s 4ms/step - loss: 0.1897 - accuracy: 0.9274 - val_loss: 0.2117 - val_accuracy: 0.9191\n",
      "Epoch 11/15\n",
      "882/882 [==============================] - 3s 4ms/step - loss: 0.1892 - accuracy: 0.9278 - val_loss: 0.2110 - val_accuracy: 0.9212\n",
      "Epoch 12/15\n",
      "882/882 [==============================] - 3s 4ms/step - loss: 0.1868 - accuracy: 0.9302 - val_loss: 0.2059 - val_accuracy: 0.9209\n",
      "Epoch 13/15\n",
      "882/882 [==============================] - 3s 3ms/step - loss: 0.1852 - accuracy: 0.9300 - val_loss: 0.2093 - val_accuracy: 0.9200\n",
      "Epoch 14/15\n",
      "882/882 [==============================] - 3s 4ms/step - loss: 0.1844 - accuracy: 0.9307 - val_loss: 0.2064 - val_accuracy: 0.9212\n",
      "Epoch 15/15\n",
      "882/882 [==============================] - 3s 4ms/step - loss: 0.1831 - accuracy: 0.9303 - val_loss: 0.2051 - val_accuracy: 0.9229\n"
     ]
    }
   ],
   "source": [
    "history = Ann_Model.fit(x_train_scaled,y_train,epochs=15,validation_data=(x_test_scaled,y_test))"
   ]
  },
  {
   "cell_type": "code",
   "execution_count": 27,
   "metadata": {},
   "outputs": [
    {
     "name": "stdout",
     "output_type": "stream",
     "text": [
      "Epoch 16/50\n",
      "882/882 [==============================] - 4s 4ms/step - loss: 0.1826 - accuracy: 0.9321 - val_loss: 0.2073 - val_accuracy: 0.9212\n",
      "Epoch 17/50\n",
      "882/882 [==============================] - 3s 3ms/step - loss: 0.1807 - accuracy: 0.9311 - val_loss: 0.2082 - val_accuracy: 0.9230\n",
      "Epoch 18/50\n",
      "882/882 [==============================] - 3s 4ms/step - loss: 0.1803 - accuracy: 0.9326 - val_loss: 0.2039 - val_accuracy: 0.9229\n",
      "Epoch 19/50\n",
      "882/882 [==============================] - 3s 4ms/step - loss: 0.1791 - accuracy: 0.9321 - val_loss: 0.2045 - val_accuracy: 0.9212\n",
      "Epoch 20/50\n",
      "882/882 [==============================] - 3s 4ms/step - loss: 0.1782 - accuracy: 0.9322 - val_loss: 0.2035 - val_accuracy: 0.9225\n",
      "Epoch 21/50\n",
      "882/882 [==============================] - 3s 4ms/step - loss: 0.1776 - accuracy: 0.9330 - val_loss: 0.2056 - val_accuracy: 0.9237\n",
      "Epoch 22/50\n",
      "882/882 [==============================] - 3s 3ms/step - loss: 0.1765 - accuracy: 0.9335 - val_loss: 0.2066 - val_accuracy: 0.9213\n",
      "Epoch 23/50\n",
      "882/882 [==============================] - 3s 4ms/step - loss: 0.1756 - accuracy: 0.9342 - val_loss: 0.2043 - val_accuracy: 0.9223\n",
      "Epoch 24/50\n",
      "882/882 [==============================] - 3s 4ms/step - loss: 0.1748 - accuracy: 0.9335 - val_loss: 0.2090 - val_accuracy: 0.9203\n",
      "Epoch 25/50\n",
      "882/882 [==============================] - 3s 4ms/step - loss: 0.1739 - accuracy: 0.9346 - val_loss: 0.2135 - val_accuracy: 0.9183\n",
      "Epoch 26/50\n",
      "882/882 [==============================] - 3s 4ms/step - loss: 0.1724 - accuracy: 0.9344 - val_loss: 0.2100 - val_accuracy: 0.9226\n",
      "Epoch 27/50\n",
      "882/882 [==============================] - 3s 4ms/step - loss: 0.1722 - accuracy: 0.9352 - val_loss: 0.2071 - val_accuracy: 0.9199\n",
      "Epoch 28/50\n",
      "882/882 [==============================] - 3s 3ms/step - loss: 0.1707 - accuracy: 0.9350 - val_loss: 0.2091 - val_accuracy: 0.9198\n",
      "Epoch 29/50\n",
      "882/882 [==============================] - 3s 4ms/step - loss: 0.1709 - accuracy: 0.9355 - val_loss: 0.2107 - val_accuracy: 0.9210\n",
      "Epoch 30/50\n",
      "882/882 [==============================] - 3s 4ms/step - loss: 0.1688 - accuracy: 0.9364 - val_loss: 0.2077 - val_accuracy: 0.9237\n",
      "Epoch 31/50\n",
      "882/882 [==============================] - 3s 4ms/step - loss: 0.1681 - accuracy: 0.9354 - val_loss: 0.2198 - val_accuracy: 0.9192\n",
      "Epoch 32/50\n",
      "882/882 [==============================] - 3s 4ms/step - loss: 0.1673 - accuracy: 0.9363 - val_loss: 0.2130 - val_accuracy: 0.9195\n",
      "Epoch 33/50\n",
      "882/882 [==============================] - 3s 4ms/step - loss: 0.1661 - accuracy: 0.9362 - val_loss: 0.2119 - val_accuracy: 0.9200\n",
      "Epoch 34/50\n",
      "882/882 [==============================] - 3s 4ms/step - loss: 0.1656 - accuracy: 0.9363 - val_loss: 0.2144 - val_accuracy: 0.9213\n",
      "Epoch 35/50\n",
      "882/882 [==============================] - 3s 4ms/step - loss: 0.1649 - accuracy: 0.9371 - val_loss: 0.2116 - val_accuracy: 0.9195\n",
      "Epoch 36/50\n",
      "882/882 [==============================] - 3s 3ms/step - loss: 0.1643 - accuracy: 0.9369 - val_loss: 0.2109 - val_accuracy: 0.9182\n",
      "Epoch 37/50\n",
      "882/882 [==============================] - 3s 4ms/step - loss: 0.1641 - accuracy: 0.9374 - val_loss: 0.2173 - val_accuracy: 0.9192\n",
      "Epoch 38/50\n",
      "882/882 [==============================] - 3s 4ms/step - loss: 0.1631 - accuracy: 0.9369 - val_loss: 0.2126 - val_accuracy: 0.9208\n",
      "Epoch 39/50\n",
      "882/882 [==============================] - 3s 4ms/step - loss: 0.1626 - accuracy: 0.9379 - val_loss: 0.2129 - val_accuracy: 0.9254\n",
      "Epoch 40/50\n",
      "882/882 [==============================] - 3s 4ms/step - loss: 0.1616 - accuracy: 0.9376 - val_loss: 0.2160 - val_accuracy: 0.9192\n",
      "Epoch 41/50\n",
      "882/882 [==============================] - 3s 4ms/step - loss: 0.1613 - accuracy: 0.9387 - val_loss: 0.2158 - val_accuracy: 0.9210\n",
      "Epoch 42/50\n",
      "882/882 [==============================] - 3s 4ms/step - loss: 0.1599 - accuracy: 0.9392 - val_loss: 0.2133 - val_accuracy: 0.9217\n",
      "Epoch 43/50\n",
      "882/882 [==============================] - 3s 4ms/step - loss: 0.1595 - accuracy: 0.9387 - val_loss: 0.2144 - val_accuracy: 0.9205\n",
      "Epoch 44/50\n",
      "882/882 [==============================] - 3s 4ms/step - loss: 0.1595 - accuracy: 0.9397 - val_loss: 0.2099 - val_accuracy: 0.9196\n",
      "Epoch 45/50\n",
      "882/882 [==============================] - 3s 4ms/step - loss: 0.1583 - accuracy: 0.9394 - val_loss: 0.2145 - val_accuracy: 0.9212\n",
      "Epoch 46/50\n",
      "882/882 [==============================] - 3s 4ms/step - loss: 0.1580 - accuracy: 0.9393 - val_loss: 0.2095 - val_accuracy: 0.9259\n",
      "Epoch 47/50\n",
      "882/882 [==============================] - 3s 4ms/step - loss: 0.1568 - accuracy: 0.9406 - val_loss: 0.2168 - val_accuracy: 0.9195\n",
      "Epoch 48/50\n",
      "882/882 [==============================] - 3s 4ms/step - loss: 0.1568 - accuracy: 0.9396 - val_loss: 0.2108 - val_accuracy: 0.9236\n",
      "Epoch 49/50\n",
      "882/882 [==============================] - 3s 4ms/step - loss: 0.1558 - accuracy: 0.9403 - val_loss: 0.2184 - val_accuracy: 0.9200\n",
      "Epoch 50/50\n",
      "882/882 [==============================] - 4s 5ms/step - loss: 0.1551 - accuracy: 0.9399 - val_loss: 0.2167 - val_accuracy: 0.9203\n"
     ]
    }
   ],
   "source": [
    "history = Ann_Model.fit(x_train_scaled,y_train, initial_epoch=15,epochs=50,validation_data=(x_test_scaled,y_test))\n"
   ]
  },
  {
   "cell_type": "code",
   "execution_count": 28,
   "metadata": {},
   "outputs": [
    {
     "data": {
      "text/html": [
       "<div>\n",
       "<style scoped>\n",
       "    .dataframe tbody tr th:only-of-type {\n",
       "        vertical-align: middle;\n",
       "    }\n",
       "\n",
       "    .dataframe tbody tr th {\n",
       "        vertical-align: top;\n",
       "    }\n",
       "\n",
       "    .dataframe thead th {\n",
       "        text-align: right;\n",
       "    }\n",
       "</style>\n",
       "<table border=\"1\" class=\"dataframe\">\n",
       "  <thead>\n",
       "    <tr style=\"text-align: right;\">\n",
       "      <th></th>\n",
       "      <th>loss</th>\n",
       "      <th>accuracy</th>\n",
       "      <th>val_loss</th>\n",
       "      <th>val_accuracy</th>\n",
       "    </tr>\n",
       "  </thead>\n",
       "  <tbody>\n",
       "    <tr>\n",
       "      <th>0</th>\n",
       "      <td>0.182573</td>\n",
       "      <td>0.932057</td>\n",
       "      <td>0.207257</td>\n",
       "      <td>0.921179</td>\n",
       "    </tr>\n",
       "    <tr>\n",
       "      <th>1</th>\n",
       "      <td>0.180703</td>\n",
       "      <td>0.931136</td>\n",
       "      <td>0.208186</td>\n",
       "      <td>0.923022</td>\n",
       "    </tr>\n",
       "    <tr>\n",
       "      <th>2</th>\n",
       "      <td>0.180349</td>\n",
       "      <td>0.932554</td>\n",
       "      <td>0.203880</td>\n",
       "      <td>0.922881</td>\n",
       "    </tr>\n",
       "    <tr>\n",
       "      <th>3</th>\n",
       "      <td>0.179149</td>\n",
       "      <td>0.932093</td>\n",
       "      <td>0.204472</td>\n",
       "      <td>0.921179</td>\n",
       "    </tr>\n",
       "    <tr>\n",
       "      <th>4</th>\n",
       "      <td>0.178193</td>\n",
       "      <td>0.932199</td>\n",
       "      <td>0.203486</td>\n",
       "      <td>0.922455</td>\n",
       "    </tr>\n",
       "    <tr>\n",
       "      <th>5</th>\n",
       "      <td>0.177554</td>\n",
       "      <td>0.933050</td>\n",
       "      <td>0.205632</td>\n",
       "      <td>0.923731</td>\n",
       "    </tr>\n",
       "    <tr>\n",
       "      <th>6</th>\n",
       "      <td>0.176489</td>\n",
       "      <td>0.933475</td>\n",
       "      <td>0.206572</td>\n",
       "      <td>0.921321</td>\n",
       "    </tr>\n",
       "    <tr>\n",
       "      <th>7</th>\n",
       "      <td>0.175635</td>\n",
       "      <td>0.934184</td>\n",
       "      <td>0.204264</td>\n",
       "      <td>0.922314</td>\n",
       "    </tr>\n",
       "    <tr>\n",
       "      <th>8</th>\n",
       "      <td>0.174847</td>\n",
       "      <td>0.933546</td>\n",
       "      <td>0.209026</td>\n",
       "      <td>0.920329</td>\n",
       "    </tr>\n",
       "    <tr>\n",
       "      <th>9</th>\n",
       "      <td>0.173852</td>\n",
       "      <td>0.934645</td>\n",
       "      <td>0.213539</td>\n",
       "      <td>0.918344</td>\n",
       "    </tr>\n",
       "    <tr>\n",
       "      <th>10</th>\n",
       "      <td>0.172378</td>\n",
       "      <td>0.934397</td>\n",
       "      <td>0.209953</td>\n",
       "      <td>0.922597</td>\n",
       "    </tr>\n",
       "    <tr>\n",
       "      <th>11</th>\n",
       "      <td>0.172153</td>\n",
       "      <td>0.935176</td>\n",
       "      <td>0.207079</td>\n",
       "      <td>0.919904</td>\n",
       "    </tr>\n",
       "    <tr>\n",
       "      <th>12</th>\n",
       "      <td>0.170735</td>\n",
       "      <td>0.934999</td>\n",
       "      <td>0.209120</td>\n",
       "      <td>0.919762</td>\n",
       "    </tr>\n",
       "    <tr>\n",
       "      <th>13</th>\n",
       "      <td>0.170945</td>\n",
       "      <td>0.935531</td>\n",
       "      <td>0.210711</td>\n",
       "      <td>0.921038</td>\n",
       "    </tr>\n",
       "    <tr>\n",
       "      <th>14</th>\n",
       "      <td>0.168818</td>\n",
       "      <td>0.936417</td>\n",
       "      <td>0.207740</td>\n",
       "      <td>0.923731</td>\n",
       "    </tr>\n",
       "    <tr>\n",
       "      <th>15</th>\n",
       "      <td>0.168052</td>\n",
       "      <td>0.935354</td>\n",
       "      <td>0.219792</td>\n",
       "      <td>0.919195</td>\n",
       "    </tr>\n",
       "    <tr>\n",
       "      <th>16</th>\n",
       "      <td>0.167280</td>\n",
       "      <td>0.936275</td>\n",
       "      <td>0.213026</td>\n",
       "      <td>0.919478</td>\n",
       "    </tr>\n",
       "    <tr>\n",
       "      <th>17</th>\n",
       "      <td>0.166081</td>\n",
       "      <td>0.936204</td>\n",
       "      <td>0.211920</td>\n",
       "      <td>0.920045</td>\n",
       "    </tr>\n",
       "    <tr>\n",
       "      <th>18</th>\n",
       "      <td>0.165596</td>\n",
       "      <td>0.936346</td>\n",
       "      <td>0.214441</td>\n",
       "      <td>0.921321</td>\n",
       "    </tr>\n",
       "    <tr>\n",
       "      <th>19</th>\n",
       "      <td>0.164948</td>\n",
       "      <td>0.937126</td>\n",
       "      <td>0.211582</td>\n",
       "      <td>0.919478</td>\n",
       "    </tr>\n",
       "    <tr>\n",
       "      <th>20</th>\n",
       "      <td>0.164302</td>\n",
       "      <td>0.936878</td>\n",
       "      <td>0.210940</td>\n",
       "      <td>0.918202</td>\n",
       "    </tr>\n",
       "    <tr>\n",
       "      <th>21</th>\n",
       "      <td>0.164132</td>\n",
       "      <td>0.937409</td>\n",
       "      <td>0.217265</td>\n",
       "      <td>0.919195</td>\n",
       "    </tr>\n",
       "    <tr>\n",
       "      <th>22</th>\n",
       "      <td>0.163069</td>\n",
       "      <td>0.936913</td>\n",
       "      <td>0.212605</td>\n",
       "      <td>0.920754</td>\n",
       "    </tr>\n",
       "    <tr>\n",
       "      <th>23</th>\n",
       "      <td>0.162612</td>\n",
       "      <td>0.937905</td>\n",
       "      <td>0.212938</td>\n",
       "      <td>0.925432</td>\n",
       "    </tr>\n",
       "    <tr>\n",
       "      <th>24</th>\n",
       "      <td>0.161631</td>\n",
       "      <td>0.937622</td>\n",
       "      <td>0.216001</td>\n",
       "      <td>0.919195</td>\n",
       "    </tr>\n",
       "    <tr>\n",
       "      <th>25</th>\n",
       "      <td>0.161303</td>\n",
       "      <td>0.938685</td>\n",
       "      <td>0.215783</td>\n",
       "      <td>0.921038</td>\n",
       "    </tr>\n",
       "    <tr>\n",
       "      <th>26</th>\n",
       "      <td>0.159904</td>\n",
       "      <td>0.939181</td>\n",
       "      <td>0.213320</td>\n",
       "      <td>0.921747</td>\n",
       "    </tr>\n",
       "    <tr>\n",
       "      <th>27</th>\n",
       "      <td>0.159533</td>\n",
       "      <td>0.938721</td>\n",
       "      <td>0.214401</td>\n",
       "      <td>0.920471</td>\n",
       "    </tr>\n",
       "    <tr>\n",
       "      <th>28</th>\n",
       "      <td>0.159504</td>\n",
       "      <td>0.939677</td>\n",
       "      <td>0.209856</td>\n",
       "      <td>0.919620</td>\n",
       "    </tr>\n",
       "    <tr>\n",
       "      <th>29</th>\n",
       "      <td>0.158290</td>\n",
       "      <td>0.939358</td>\n",
       "      <td>0.214482</td>\n",
       "      <td>0.921179</td>\n",
       "    </tr>\n",
       "    <tr>\n",
       "      <th>30</th>\n",
       "      <td>0.157956</td>\n",
       "      <td>0.939252</td>\n",
       "      <td>0.209481</td>\n",
       "      <td>0.925858</td>\n",
       "    </tr>\n",
       "    <tr>\n",
       "      <th>31</th>\n",
       "      <td>0.156775</td>\n",
       "      <td>0.940634</td>\n",
       "      <td>0.216835</td>\n",
       "      <td>0.919478</td>\n",
       "    </tr>\n",
       "    <tr>\n",
       "      <th>32</th>\n",
       "      <td>0.156759</td>\n",
       "      <td>0.939642</td>\n",
       "      <td>0.210811</td>\n",
       "      <td>0.923589</td>\n",
       "    </tr>\n",
       "    <tr>\n",
       "      <th>33</th>\n",
       "      <td>0.155792</td>\n",
       "      <td>0.940280</td>\n",
       "      <td>0.218428</td>\n",
       "      <td>0.920045</td>\n",
       "    </tr>\n",
       "    <tr>\n",
       "      <th>34</th>\n",
       "      <td>0.155053</td>\n",
       "      <td>0.939855</td>\n",
       "      <td>0.216695</td>\n",
       "      <td>0.920329</td>\n",
       "    </tr>\n",
       "  </tbody>\n",
       "</table>\n",
       "</div>"
      ],
      "text/plain": [
       "        loss  accuracy  val_loss  val_accuracy\n",
       "0   0.182573  0.932057  0.207257      0.921179\n",
       "1   0.180703  0.931136  0.208186      0.923022\n",
       "2   0.180349  0.932554  0.203880      0.922881\n",
       "3   0.179149  0.932093  0.204472      0.921179\n",
       "4   0.178193  0.932199  0.203486      0.922455\n",
       "5   0.177554  0.933050  0.205632      0.923731\n",
       "6   0.176489  0.933475  0.206572      0.921321\n",
       "7   0.175635  0.934184  0.204264      0.922314\n",
       "8   0.174847  0.933546  0.209026      0.920329\n",
       "9   0.173852  0.934645  0.213539      0.918344\n",
       "10  0.172378  0.934397  0.209953      0.922597\n",
       "11  0.172153  0.935176  0.207079      0.919904\n",
       "12  0.170735  0.934999  0.209120      0.919762\n",
       "13  0.170945  0.935531  0.210711      0.921038\n",
       "14  0.168818  0.936417  0.207740      0.923731\n",
       "15  0.168052  0.935354  0.219792      0.919195\n",
       "16  0.167280  0.936275  0.213026      0.919478\n",
       "17  0.166081  0.936204  0.211920      0.920045\n",
       "18  0.165596  0.936346  0.214441      0.921321\n",
       "19  0.164948  0.937126  0.211582      0.919478\n",
       "20  0.164302  0.936878  0.210940      0.918202\n",
       "21  0.164132  0.937409  0.217265      0.919195\n",
       "22  0.163069  0.936913  0.212605      0.920754\n",
       "23  0.162612  0.937905  0.212938      0.925432\n",
       "24  0.161631  0.937622  0.216001      0.919195\n",
       "25  0.161303  0.938685  0.215783      0.921038\n",
       "26  0.159904  0.939181  0.213320      0.921747\n",
       "27  0.159533  0.938721  0.214401      0.920471\n",
       "28  0.159504  0.939677  0.209856      0.919620\n",
       "29  0.158290  0.939358  0.214482      0.921179\n",
       "30  0.157956  0.939252  0.209481      0.925858\n",
       "31  0.156775  0.940634  0.216835      0.919478\n",
       "32  0.156759  0.939642  0.210811      0.923589\n",
       "33  0.155792  0.940280  0.218428      0.920045\n",
       "34  0.155053  0.939855  0.216695      0.920329"
      ]
     },
     "execution_count": 28,
     "metadata": {},
     "output_type": "execute_result"
    }
   ],
   "source": [
    "training_details = pd.DataFrame(history.history)\n",
    "training_details"
   ]
  },
  {
   "cell_type": "code",
   "execution_count": 29,
   "metadata": {},
   "outputs": [
    {
     "data": {
      "text/plain": [
       "<Axes: >"
      ]
     },
     "execution_count": 29,
     "metadata": {},
     "output_type": "execute_result"
    },
    {
     "data": {
      "image/png": "[encoded data removed]",
      "text/plain": [
       "<Figure size 640x480 with 1 Axes>"
      ]
     },
     "metadata": {},
     "output_type": "display_data"
    }
   ],
   "source": [
    "training_details.plot()\n",
    "# all are plotted"
   ]
  },
  {
   "cell_type": "code",
   "execution_count": 31,
   "metadata": {},
   "outputs": [
    {
     "data": {
      "text/plain": [
       "<Axes: >"
      ]
     },
     "execution_count": 31,
     "metadata": {},
     "output_type": "execute_result"
    },
    {
     "data": {
      "image/png": "[encoded data removed]",
      "text/plain": [
       "<Figure size 640x480 with 1 Axes>"
      ]
     },
     "metadata": {},
     "output_type": "display_data"
    }
   ],
   "source": [
    "training_details[['accuracy','val_accuracy']].plot()\n",
    "# Training Accuracy Vs Validation Accuracy"
   ]
  },
  {
   "cell_type": "code",
   "execution_count": 32,
   "metadata": {},
   "outputs": [
    {
     "name": "stdout",
     "output_type": "stream",
     "text": [
      "221/221 [==============================] - 1s 3ms/step\n"
     ]
    }
   ],
   "source": [
    "y_pred = Ann_Model.predict(x_test_scaled)"
   ]
  },
  {
   "cell_type": "code",
   "execution_count": 41,
   "metadata": {},
   "outputs": [],
   "source": [
    "# y_pred[y_pred>0.5] \n",
    "def ge(y_p):  \n",
    "    for y in y_p:\n",
    "        if y >0.5:\n",
    "            return 1\n",
    "        else:\n",
    "            return 0"
   ]
  },
  {
   "cell_type": "code",
   "execution_count": 50,
   "metadata": {},
   "outputs": [],
   "source": [
    "predictions = (y_pred>0.5).astype(int).ravel()"
   ]
  },
  {
   "cell_type": "code",
   "execution_count": 51,
   "metadata": {},
   "outputs": [],
   "source": [
    "from sklearn.metrics import confusion_matrix,classification_report"
   ]
  },
  {
   "cell_type": "code",
   "execution_count": 55,
   "metadata": {},
   "outputs": [
    {
     "data": {
      "text/plain": [
       "array([[3549,  354],\n",
       "       [ 208, 2943]], dtype=int64)"
      ]
     },
     "execution_count": 55,
     "metadata": {},
     "output_type": "execute_result"
    }
   ],
   "source": [
    "confusion_matrix(predictions,y_test)\n",
    "# confusion metrix"
   ]
  },
  {
   "cell_type": "code",
   "execution_count": 57,
   "metadata": {},
   "outputs": [
    {
     "name": "stdout",
     "output_type": "stream",
     "text": [
      "              precision    recall  f1-score   support\n",
      "\n",
      "           0       0.94      0.91      0.93      3903\n",
      "           1       0.89      0.93      0.91      3151\n",
      "\n",
      "    accuracy                           0.92      7054\n",
      "   macro avg       0.92      0.92      0.92      7054\n",
      "weighted avg       0.92      0.92      0.92      7054\n",
      "\n"
     ]
    }
   ],
   "source": [
    "print(classification_report(predictions,y_test))\n",
    "#classification report of our model"
   ]
  },
  {
   "cell_type": "code",
   "execution_count": 58,
   "metadata": {},
   "outputs": [
    {
     "name": "stderr",
     "output_type": "stream",
     "text": [
      "c:\\Users\\Ranjit\\AppData\\Local\\Programs\\Python\\Python311\\Lib\\site-packages\\keras\\src\\engine\\training.py:3103: UserWarning: You are saving your model as an HDF5 file via `model.save()`. This file format is considered legacy. We recommend using instead the native Keras format, e.g. `model.save('my_model.keras')`.\n",
      "  saving_api.save_model(\n"
     ]
    }
   ],
   "source": [
    "Ann_Model.save('custom_satisfaction.h5')\n",
    "# To save the model afer training"
   ]
  },
  {
   "cell_type": "code",
   "execution_count": 59,
   "metadata": {},
   "outputs": [],
   "source": [
    "from tensorflow.keras.models import load_model\n",
    "# To load the model"
   ]
  },
  {
   "cell_type": "code",
   "execution_count": 60,
   "metadata": {},
   "outputs": [],
   "source": [
    "model_loaded = load_model('custom_satisfaction.h5')"
   ]
  },
  {
   "cell_type": "code",
   "execution_count": 62,
   "metadata": {},
   "outputs": [
    {
     "name": "stdout",
     "output_type": "stream",
     "text": [
      "221/221 [==============================] - 1s 2ms/step\n"
     ]
    }
   ],
   "source": [
    "prediction_after_loading = model_loaded.predict(x_test_scaled)"
   ]
  },
  {
   "cell_type": "markdown",
   "metadata": {},
   "source": [
    "## EarlyStoping , Dropout and HyperparameterTurning"
   ]
  },
  {
   "cell_type": "code",
   "execution_count": null,
   "metadata": {},
   "outputs": [],
   "source": [
    "## code will be uploaded soon"
   ]
  },
  {
   "cell_type": "markdown",
   "metadata": {},
   "source": [
    "Thank you"
   ]
  }
 ],
 "metadata": {
  "kernelspec": {
   "display_name": "Python 3",
   "language": "python",
   "name": "python3"
  },
  "language_info": {
   "codemirror_mode": {
    "name": "ipython",
    "version": 3
   },
   "file_extension": ".py",
   "mimetype": "text/x-python",
   "name": "python",
   "nbconvert_exporter": "python",
   "pygments_lexer": "ipython3",
   "version": "3.11.5"
  }
 },
 "nbformat": 4,
 "nbformat_minor": 2
}
