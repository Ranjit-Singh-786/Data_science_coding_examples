{
 "cells": [
  {
   "cell_type": "code",
   "execution_count": 36,
   "metadata": {},
   "outputs": [
    {
     "name": "stdout",
     "output_type": "stream",
     "text": [
      "libraries imported!\n"
     ]
    }
   ],
   "source": [
    "# importing necessary library and classes \n",
    "import torch\n",
    "import torch.nn as nn\n",
    "import torch.optim as optim\n",
    "from sklearn.datasets import load_iris\n",
    "from sklearn.model_selection import train_test_split\n",
    "from sklearn.preprocessing import StandardScaler\n",
    "import numpy as np \n",
    "import pandas as pd \n",
    "import matplotlib.pyplot as plt \n",
    "import seaborn as sns \n",
    "print(\"libraries imported!\")\n"
   ]
  },
  {
   "cell_type": "markdown",
   "metadata": {},
   "source": [
    "### Data preprocessing "
   ]
  },
  {
   "cell_type": "code",
   "execution_count": 3,
   "metadata": {},
   "outputs": [],
   "source": [
    "\n",
    "# Load the Iris dataset and Prepare the data\n",
    "iris = load_iris()\n",
    "X = iris.data  # Features\n",
    "y = iris.target  # Labels\n",
    "\n",
    "# Standardize the data\n",
    "scaler = StandardScaler()\n",
    "X = scaler.fit_transform(X)\n",
    "\n",
    "# Convert to PyTorch tensors\n",
    "X = torch.tensor(X, dtype=torch.float32)\n",
    "y = torch.tensor(y, dtype=torch.long)\n",
    "\n",
    "# Split the data into training and test sets\n",
    "X_train, X_test, y_train, y_test = train_test_split(X, y, test_size=0.2, random_state=42)\n"
   ]
  },
  {
   "cell_type": "markdown",
   "metadata": {},
   "source": [
    "### Model Defining "
   ]
  },
  {
   "cell_type": "code",
   "execution_count": 4,
   "metadata": {},
   "outputs": [],
   "source": [
    "# Define the ANN model \n",
    "class ANNModel(nn.Module):\n",
    "    def __init__(self, input_size, hidden_size, num_classes):\n",
    "        super(ANNModel, self).__init__()\n",
    "        # Define the layers: Input -> Hidden -> Output\n",
    "        self.fc1 = nn.Linear(input_size, hidden_size)  # Input to hidden\n",
    "        self.relu = nn.ReLU()  # Activation function\n",
    "        self.fc2 = nn.Linear(hidden_size, num_classes)  # Hidden to output\n",
    "\n",
    "    def forward(self, x):\n",
    "        # Forward pass\n",
    "        out = self.fc1(x)\n",
    "        out = self.relu(out)\n",
    "        out = self.fc2(out)\n",
    "        return out\n"
   ]
  },
  {
   "cell_type": "markdown",
   "metadata": {},
   "source": [
    "### Initialize the model, define loss and optimizer\n"
   ]
  },
  {
   "cell_type": "code",
   "execution_count": 5,
   "metadata": {},
   "outputs": [],
   "source": [
    "\n",
    "input_size = X.shape[1]  # Number of features in the dataset\n",
    "hidden_size = 10  # Number of neurons in the hidden layer\n",
    "num_classes = len(np.unique(y))  # Number of output classes (3 for Iris)\n",
    "\n",
    "model = ANNModel(input_size, hidden_size, num_classes)\n",
    "\n",
    "# Loss function and optimizer\n",
    "criterion = nn.CrossEntropyLoss()\n",
    "optimizer = optim.Adam(model.parameters(), lr=0.01)\n"
   ]
  },
  {
   "cell_type": "markdown",
   "metadata": {},
   "source": [
    "## train the model and return only loss epochs wise"
   ]
  },
  {
   "cell_type": "code",
   "execution_count": 11,
   "metadata": {},
   "outputs": [
    {
     "name": "stdout",
     "output_type": "stream",
     "text": [
      "Epoch [100/500], Loss: 0.0149\n",
      "Epoch [200/500], Loss: 0.0122\n",
      "Epoch [300/500], Loss: 0.0101\n",
      "Epoch [400/500], Loss: 0.0085\n",
      "Epoch [500/500], Loss: 0.0071\n"
     ]
    }
   ],
   "source": [
    "# Train the model \n",
    "num_epochs = 500  # Number of epochs for training\n",
    "\n",
    "for epoch in range(num_epochs):\n",
    "    # Forward pass: Compute predicted output\n",
    "    outputs = model(X_train)\n",
    "    loss = criterion(outputs, y_train)\n",
    "\n",
    "    # Backward pass and optimization\n",
    "    optimizer.zero_grad()  # Clear gradients\n",
    "    loss.backward()  # Backpropagation\n",
    "    optimizer.step()  # Update weights\n",
    "\n",
    "    if (epoch+1) % 100 == 0:\n",
    "        print(f'Epoch [{epoch+1}/{num_epochs}], Loss: {loss.item():.4f}')\n",
    "\n",
    "## we are getting only loss here "
   ]
  },
  {
   "cell_type": "markdown",
   "metadata": {},
   "source": [
    "### Code to print loss and accuracy on training data both at a time "
   ]
  },
  {
   "cell_type": "code",
   "execution_count": 12,
   "metadata": {},
   "outputs": [
    {
     "name": "stdout",
     "output_type": "stream",
     "text": [
      "Epoch [100/500], Loss: 0.0060, Accuracy: 100.00%\n",
      "Epoch [200/500], Loss: 0.0052, Accuracy: 100.00%\n",
      "Epoch [300/500], Loss: 0.0045, Accuracy: 100.00%\n",
      "Epoch [400/500], Loss: 0.0039, Accuracy: 100.00%\n",
      "Epoch [500/500], Loss: 0.0034, Accuracy: 100.00%\n"
     ]
    }
   ],
   "source": [
    "num_epochs = 500  # Number of epochs for training\n",
    "\n",
    "for epoch in range(num_epochs):\n",
    "    # Forward pass: Compute predicted output\n",
    "    outputs = model(X_train)\n",
    "    loss = criterion(outputs, y_train)\n",
    "\n",
    "    # Backward pass and optimization\n",
    "    optimizer.zero_grad()  # Clear gradients\n",
    "    loss.backward()  # Backpropagation\n",
    "    optimizer.step()  # Update weights\n",
    "\n",
    "    # Calculate accuracy\n",
    "    with torch.no_grad():\n",
    "        _, predicted = torch.max(outputs, 1)  # Get the index of the max log-probability\n",
    "        correct = (predicted == y_train).sum().item()  # Count correct predictions\n",
    "        accuracy = correct / len(y_train) * 100  # Accuracy percentage\n",
    "\n",
    "    if (epoch + 1) % 100 == 0:\n",
    "        print(f'Epoch [{epoch+1}/{num_epochs}], Loss: {loss.item():.4f}, Accuracy: {accuracy:.2f}%')\n",
    "\n",
    "# now we can see checkout loss and accuracy both during the training"
   ]
  },
  {
   "cell_type": "markdown",
   "metadata": {},
   "source": [
    "### to checkout the accuracy and loss on validation data\n"
   ]
  },
  {
   "cell_type": "code",
   "execution_count": 28,
   "metadata": {},
   "outputs": [
    {
     "name": "stdout",
     "output_type": "stream",
     "text": [
      "validation accuracy : 93.33  and val loss 14.17\n"
     ]
    }
   ],
   "source": [
    "model.eval()  # Set model to evaluation mode\n",
    "with torch.no_grad():\n",
    "    val_outputs = model(X_test)\n",
    "    val_loss = criterion(val_outputs, y_test)\n",
    "    _, val_predicted = torch.max(val_outputs, 1)\n",
    "    val_correct = (val_predicted == y_test).sum().item()\n",
    "    val_accuracy = val_correct / len(y_test) * 100\n",
    "    print(f\"validation accuracy : {val_accuracy:.2f}  and val loss {val_loss * 100 :.2f}\")"
   ]
  },
  {
   "cell_type": "markdown",
   "metadata": {},
   "source": [
    "### Save the model after training\n"
   ]
  },
  {
   "cell_type": "code",
   "execution_count": 8,
   "metadata": {},
   "outputs": [
    {
     "name": "stdout",
     "output_type": "stream",
     "text": [
      "Model saved to iris_ann_model.pth\n"
     ]
    }
   ],
   "source": [
    "torch.save(model.state_dict(), 'iris_ann_model.pth')\n",
    "print(\"Model saved to iris_ann_model.pth\")\n"
   ]
  },
  {
   "cell_type": "markdown",
   "metadata": {},
   "source": [
    "### Load the model for inference\n"
   ]
  },
  {
   "cell_type": "code",
   "execution_count": 9,
   "metadata": {},
   "outputs": [
    {
     "name": "stdout",
     "output_type": "stream",
     "text": [
      "Model loaded from iris_ann_model.pth\n"
     ]
    },
    {
     "name": "stderr",
     "output_type": "stream",
     "text": [
      "C:\\Users\\Ranjit\\AppData\\Local\\Temp\\ipykernel_14144\\2449039693.py:3: FutureWarning: You are using `torch.load` with `weights_only=False` (the current default value), which uses the default pickle module implicitly. It is possible to construct malicious pickle data which will execute arbitrary code during unpickling (See https://github.com/pytorch/pytorch/blob/main/SECURITY.md#untrusted-models for more details). In a future release, the default value for `weights_only` will be flipped to `True`. This limits the functions that could be executed during unpickling. Arbitrary objects will no longer be allowed to be loaded via this mode unless they are explicitly allowlisted by the user via `torch.serialization.add_safe_globals`. We recommend you start setting `weights_only=True` for any use case where you don't have full control of the loaded file. Please open an issue on GitHub for any issues related to this experimental feature.\n",
      "  loaded_model.load_state_dict(torch.load('iris_ann_model.pth'))\n"
     ]
    }
   ],
   "source": [
    "loaded_model = ANNModel(input_size, hidden_size, num_classes)\n",
    "loaded_model.load_state_dict(torch.load('iris_ann_model.pth'))\n",
    "loaded_model.eval()  # Set the model to evaluation mode\n",
    "\n",
    "print(\"Model loaded from iris_ann_model.pth\")\n"
   ]
  },
  {
   "cell_type": "markdown",
   "metadata": {},
   "source": [
    "### Example 2 \n"
   ]
  },
  {
   "cell_type": "code",
   "execution_count": 45,
   "metadata": {},
   "outputs": [
    {
     "name": "stdout",
     "output_type": "stream",
     "text": [
      "Epoch [10/100], Train Loss: 0.6103, Train Accuracy: 81.67%, Val Loss: 0.5448, Val Accuracy: 90.00%\n",
      "Epoch [20/100], Train Loss: 0.4236, Train Accuracy: 84.17%, Val Loss: 0.3496, Val Accuracy: 93.33%\n",
      "Epoch [30/100], Train Loss: 0.3361, Train Accuracy: 88.33%, Val Loss: 0.2626, Val Accuracy: 93.33%\n",
      "Epoch [40/100], Train Loss: 0.2769, Train Accuracy: 89.17%, Val Loss: 0.2094, Val Accuracy: 93.33%\n",
      "Epoch [50/100], Train Loss: 0.2251, Train Accuracy: 91.67%, Val Loss: 0.1706, Val Accuracy: 96.67%\n",
      "Epoch [60/100], Train Loss: 0.1784, Train Accuracy: 96.67%, Val Loss: 0.1399, Val Accuracy: 96.67%\n",
      "Epoch [70/100], Train Loss: 0.1400, Train Accuracy: 95.83%, Val Loss: 0.1179, Val Accuracy: 96.67%\n",
      "Epoch [80/100], Train Loss: 0.1115, Train Accuracy: 96.67%, Val Loss: 0.0959, Val Accuracy: 96.67%\n",
      "Epoch [90/100], Train Loss: 0.0933, Train Accuracy: 96.67%, Val Loss: 0.0788, Val Accuracy: 96.67%\n",
      "Epoch [100/100], Train Loss: 0.0822, Train Accuracy: 96.67%, Val Loss: 0.0685, Val Accuracy: 96.67%\n"
     ]
    }
   ],
   "source": [
    "# Load the Iris dataset\n",
    "iris = load_iris()\n",
    "X = iris.data  # Features\n",
    "y = iris.target  # Labels\n",
    "\n",
    "# Standardize the data\n",
    "scaler = StandardScaler()\n",
    "X = scaler.fit_transform(X)\n",
    "\n",
    "# Convert to PyTorch tensors\n",
    "X = torch.tensor(X, dtype=torch.float32)\n",
    "y = torch.tensor(y, dtype=torch.long)\n",
    "\n",
    "# Split the data into training and validation sets\n",
    "X_train, X_val, y_train, y_val = train_test_split(X, y, test_size=0.2, random_state=42)\n",
    "\n",
    "# Define the ANN model\n",
    "class ANNModel(nn.Module):\n",
    "    def __init__(self, input_size, hidden_size, num_classes):\n",
    "        super(ANNModel, self).__init__()\n",
    "        # Define the layers: Input -> Hidden -> Output\n",
    "        self.fc1 = nn.Linear(input_size, hidden_size)  # Input to hidden\n",
    "        self.relu = nn.ReLU()  # Activation function\n",
    "        self.fc2 = nn.Linear(hidden_size, num_classes)  # Hidden to output\n",
    "\n",
    "    def forward(self, x):\n",
    "        # Forward pass\n",
    "        out = self.fc1(x)\n",
    "        out = self.relu(out)\n",
    "        out = self.fc2(out)\n",
    "        return out\n",
    "\n",
    "# Initialize the model, define loss and optimizer\n",
    "input_size = X.shape[1]  # Number of features in the dataset\n",
    "hidden_size = 10  # Number of neurons in the hidden layer\n",
    "num_classes = len(np.unique(y))  # Number of output classes (3 for Iris)\n",
    "\n",
    "model = ANNModel(input_size, hidden_size, num_classes)\n",
    "\n",
    "# Loss function and optimizer\n",
    "criterion = nn.CrossEntropyLoss()\n",
    "optimizer = optim.Adam(model.parameters(), lr=0.01)\n",
    "\n",
    "# Define a history dictionary to store loss and accuracy\n",
    "history = {\n",
    "    'train_loss': [],\n",
    "    'train_accuracy': [],\n",
    "    'val_loss': [],\n",
    "    'val_accuracy': []\n",
    "}\n",
    "\n",
    "# Training the model\n",
    "num_epochs = 100\n",
    "\n",
    "for epoch in range(num_epochs):\n",
    "    # Training phase\n",
    "    model.train()  # Set the model to training mode\n",
    "    outputs = model(X_train)  # Forward pass on training data\n",
    "    loss = criterion(outputs, y_train)  # Compute training loss\n",
    "\n",
    "    optimizer.zero_grad()  # Clear gradients\n",
    "    loss.backward()  # Backpropagation\n",
    "    optimizer.step()  # Update weights\n",
    "\n",
    "    # Calculate training accuracy\n",
    "    with torch.no_grad():\n",
    "        _, predicted = torch.max(outputs, 1)  # Get predicted labels\n",
    "        correct = (predicted == y_train).sum().item()  # Count correct predictions\n",
    "        train_accuracy = correct / len(y_train) * 100  # Compute training accuracy\n",
    "\n",
    "    # Validation phase\n",
    "    model.eval()  # Set the model to evaluation mode (no gradient calculation)\n",
    "    with torch.no_grad():\n",
    "        val_outputs = model(X_val)  # Forward pass on validation data\n",
    "        val_loss = criterion(val_outputs, y_val)  # Compute validation loss\n",
    "\n",
    "        # Calculate validation accuracy\n",
    "        _, val_predicted = torch.max(val_outputs, 1)  # Get predicted labels for validation set\n",
    "        val_correct = (val_predicted == y_val).sum().item()  # Count correct validation predictions\n",
    "        val_accuracy = val_correct / len(y_val) * 100  # Compute validation accuracy\n",
    "\n",
    "    # Store the metrics for this epoch\n",
    "    history['train_loss'].append(loss.item())\n",
    "    history['train_accuracy'].append(train_accuracy)\n",
    "    history['val_loss'].append(val_loss.item())\n",
    "    history['val_accuracy'].append(val_accuracy)\n",
    "\n",
    "    if (epoch+1) % 10 == 0:\n",
    "        print(f'Epoch [{epoch+1}/{num_epochs}], '\n",
    "                f'Train Loss: {loss.item():.4f}, Train Accuracy: {train_accuracy:.2f}%, '\n",
    "                f'Val Loss: {val_loss.item():.4f}, Val Accuracy: {val_accuracy:.2f}%')"
   ]
  },
  {
   "cell_type": "code",
   "execution_count": 39,
   "metadata": {},
   "outputs": [
    {
     "data": {
      "text/plain": [
       "<Axes: >"
      ]
     },
     "execution_count": 39,
     "metadata": {},
     "output_type": "execute_result"
    },
    {
     "data": {
      "image/png": "[encoded data removed]",
      "text/plain": [
       "<Figure size 640x480 with 1 Axes>"
      ]
     },
     "metadata": {},
     "output_type": "display_data"
    }
   ],
   "source": [
    "his_df = pd.DataFrame(history) \n",
    "his_df.plot()"
   ]
  },
  {
   "cell_type": "markdown",
   "metadata": {},
   "source": [
    "# THANK YOU ❤"
   ]
  }
 ],
 "metadata": {
  "kernelspec": {
   "display_name": "Python 3",
   "language": "python",
   "name": "python3"
  },
  "language_info": {
   "codemirror_mode": {
    "name": "ipython",
    "version": 3
   },
   "file_extension": ".py",
   "mimetype": "text/x-python",
   "name": "python",
   "nbconvert_exporter": "python",
   "pygments_lexer": "ipython3",
   "version": "3.12.4"
  }
 },
 "nbformat": 4,
 "nbformat_minor": 2
}
