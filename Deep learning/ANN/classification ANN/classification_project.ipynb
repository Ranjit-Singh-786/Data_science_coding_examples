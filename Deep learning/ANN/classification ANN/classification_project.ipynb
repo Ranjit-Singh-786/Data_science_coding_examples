{
 "cells": [
  {
   "cell_type": "markdown",
   "metadata": {},
   "source": [
    "### Problem statement we want to predict that airline customer will loyal or disloyal using ANN"
   ]
  },
  {
   "cell_type": "code",
   "execution_count": 1,
   "metadata": {},
   "outputs": [],
   "source": [
    "import numpy as np \n",
    "import pandas as pd\n",
    "import matplotlib.pyplot as plt \n",
    "import seaborn as sns \n",
    "from sklearn.model_selection import  train_test_split\n",
    "from sklearn.linear_model import  LogisticRegression\n",
    "from sklearn.metrics import  confusion_matrix,classification_report\n",
    "import warnings\n",
    "warnings.filterwarnings('ignore')"
   ]
  },
  {
   "cell_type": "code",
   "execution_count": 5,
   "metadata": {},
   "outputs": [
    {
     "data": {
      "text/html": [
       "<div>\n",
       "<style scoped>\n",
       "    .dataframe tbody tr th:only-of-type {\n",
       "        vertical-align: middle;\n",
       "    }\n",
       "\n",
       "    .dataframe tbody tr th {\n",
       "        vertical-align: top;\n",
       "    }\n",
       "\n",
       "    .dataframe thead th {\n",
       "        text-align: right;\n",
       "    }\n",
       "</style>\n",
       "<table border=\"1\" class=\"dataframe\">\n",
       "  <thead>\n",
       "    <tr style=\"text-align: right;\">\n",
       "      <th></th>\n",
       "      <th>Gender</th>\n",
       "      <th>Customer Type</th>\n",
       "      <th>Type of Travel</th>\n",
       "      <th>Class</th>\n",
       "      <th>satisfaction</th>\n",
       "      <th>Age</th>\n",
       "      <th>Flight Distance</th>\n",
       "      <th>Inflight entertainment</th>\n",
       "      <th>Baggage handling</th>\n",
       "      <th>Cleanliness</th>\n",
       "      <th>Departure Delay in Minutes</th>\n",
       "      <th>Arrival Delay in Minutes</th>\n",
       "    </tr>\n",
       "  </thead>\n",
       "  <tbody>\n",
       "    <tr>\n",
       "      <th>0</th>\n",
       "      <td>Male</td>\n",
       "      <td>Loyal Customer</td>\n",
       "      <td>Personal Travel</td>\n",
       "      <td>Eco Plus</td>\n",
       "      <td>neutral or dissatisfied</td>\n",
       "      <td>13</td>\n",
       "      <td>460</td>\n",
       "      <td>5</td>\n",
       "      <td>4</td>\n",
       "      <td>5</td>\n",
       "      <td>25</td>\n",
       "      <td>18.0</td>\n",
       "    </tr>\n",
       "    <tr>\n",
       "      <th>1</th>\n",
       "      <td>Male</td>\n",
       "      <td>disloyal Customer</td>\n",
       "      <td>Business travel</td>\n",
       "      <td>Business</td>\n",
       "      <td>neutral or dissatisfied</td>\n",
       "      <td>25</td>\n",
       "      <td>235</td>\n",
       "      <td>1</td>\n",
       "      <td>3</td>\n",
       "      <td>1</td>\n",
       "      <td>1</td>\n",
       "      <td>6.0</td>\n",
       "    </tr>\n",
       "    <tr>\n",
       "      <th>2</th>\n",
       "      <td>Female</td>\n",
       "      <td>Loyal Customer</td>\n",
       "      <td>Business travel</td>\n",
       "      <td>Business</td>\n",
       "      <td>satisfied</td>\n",
       "      <td>26</td>\n",
       "      <td>1142</td>\n",
       "      <td>5</td>\n",
       "      <td>4</td>\n",
       "      <td>5</td>\n",
       "      <td>0</td>\n",
       "      <td>0.0</td>\n",
       "    </tr>\n",
       "    <tr>\n",
       "      <th>3</th>\n",
       "      <td>Female</td>\n",
       "      <td>Loyal Customer</td>\n",
       "      <td>Business travel</td>\n",
       "      <td>Business</td>\n",
       "      <td>neutral or dissatisfied</td>\n",
       "      <td>25</td>\n",
       "      <td>562</td>\n",
       "      <td>2</td>\n",
       "      <td>3</td>\n",
       "      <td>2</td>\n",
       "      <td>11</td>\n",
       "      <td>9.0</td>\n",
       "    </tr>\n",
       "    <tr>\n",
       "      <th>4</th>\n",
       "      <td>Male</td>\n",
       "      <td>Loyal Customer</td>\n",
       "      <td>Business travel</td>\n",
       "      <td>Business</td>\n",
       "      <td>satisfied</td>\n",
       "      <td>61</td>\n",
       "      <td>214</td>\n",
       "      <td>3</td>\n",
       "      <td>4</td>\n",
       "      <td>3</td>\n",
       "      <td>0</td>\n",
       "      <td>0.0</td>\n",
       "    </tr>\n",
       "  </tbody>\n",
       "</table>\n",
       "</div>"
      ],
      "text/plain": [
       "   Gender      Customer Type   Type of Travel     Class  \\\n",
       "0    Male     Loyal Customer  Personal Travel  Eco Plus   \n",
       "1    Male  disloyal Customer  Business travel  Business   \n",
       "2  Female     Loyal Customer  Business travel  Business   \n",
       "3  Female     Loyal Customer  Business travel  Business   \n",
       "4    Male     Loyal Customer  Business travel  Business   \n",
       "\n",
       "              satisfaction  Age  Flight Distance  Inflight entertainment  \\\n",
       "0  neutral or dissatisfied   13              460                       5   \n",
       "1  neutral or dissatisfied   25              235                       1   \n",
       "2                satisfied   26             1142                       5   \n",
       "3  neutral or dissatisfied   25              562                       2   \n",
       "4                satisfied   61              214                       3   \n",
       "\n",
       "   Baggage handling  Cleanliness  Departure Delay in Minutes  \\\n",
       "0                 4            5                          25   \n",
       "1                 3            1                           1   \n",
       "2                 4            5                           0   \n",
       "3                 3            2                          11   \n",
       "4                 4            3                           0   \n",
       "\n",
       "   Arrival Delay in Minutes  \n",
       "0                      18.0  \n",
       "1                       6.0  \n",
       "2                       0.0  \n",
       "3                       9.0  \n",
       "4                       0.0  "
      ]
     },
     "execution_count": 5,
     "metadata": {},
     "output_type": "execute_result"
    }
   ],
   "source": [
    "df = pd.read_csv('cust_satisfaction.csv')\n",
    "df.head()"
   ]
  },
  {
   "cell_type": "code",
   "execution_count": 3,
   "metadata": {},
   "outputs": [
    {
     "name": "stdout",
     "output_type": "stream",
     "text": [
      "<class 'pandas.core.frame.DataFrame'>\n",
      "RangeIndex: 103904 entries, 0 to 103903\n",
      "Data columns (total 12 columns):\n",
      " #   Column                      Non-Null Count   Dtype  \n",
      "---  ------                      --------------   -----  \n",
      " 0   Gender                      103904 non-null  object \n",
      " 1   Customer Type               103904 non-null  object \n",
      " 2   Type of Travel              103904 non-null  object \n",
      " 3   Class                       103904 non-null  object \n",
      " 4   satisfaction                103904 non-null  object \n",
      " 5   Age                         103904 non-null  int64  \n",
      " 6   Flight Distance             103904 non-null  int64  \n",
      " 7   Inflight entertainment      103904 non-null  int64  \n",
      " 8   Baggage handling            103904 non-null  int64  \n",
      " 9   Cleanliness                 103904 non-null  int64  \n",
      " 10  Departure Delay in Minutes  103904 non-null  int64  \n",
      " 11  Arrival Delay in Minutes    103594 non-null  float64\n",
      "dtypes: float64(1), int64(6), object(5)\n",
      "memory usage: 9.5+ MB\n"
     ]
    }
   ],
   "source": [
    "df.info()"
   ]
  },
  {
   "cell_type": "code",
   "execution_count": 6,
   "metadata": {},
   "outputs": [],
   "source": [
    "df['Gender'] = df['Gender'].map({'Male':1,'Female':0})\n",
    "df['Customer Type'] = df['Customer Type'].map({'Loyal Customer':1,'disloyal Customer':0})\n",
    "df['Type of Travel'] = df['Type of Travel'].map({'Business travel':1,'Personal Travel':0})\n",
    "df['Class'] = df['Class'].map({'Business':1,'Eco':2,'Eco Plus':3})\n",
    "df['satisfaction'] = df['satisfaction'].map({'neutral or dissatisfied':0,'satisfied':1})\n"
   ]
  },
  {
   "cell_type": "code",
   "execution_count": 5,
   "metadata": {},
   "outputs": [
    {
     "data": {
      "text/html": [
       "<div>\n",
       "<style scoped>\n",
       "    .dataframe tbody tr th:only-of-type {\n",
       "        vertical-align: middle;\n",
       "    }\n",
       "\n",
       "    .dataframe tbody tr th {\n",
       "        vertical-align: top;\n",
       "    }\n",
       "\n",
       "    .dataframe thead th {\n",
       "        text-align: right;\n",
       "    }\n",
       "</style>\n",
       "<table border=\"1\" class=\"dataframe\">\n",
       "  <thead>\n",
       "    <tr style=\"text-align: right;\">\n",
       "      <th></th>\n",
       "      <th>Gender</th>\n",
       "      <th>Customer Type</th>\n",
       "      <th>Type of Travel</th>\n",
       "      <th>Class</th>\n",
       "      <th>satisfaction</th>\n",
       "      <th>Age</th>\n",
       "      <th>Flight Distance</th>\n",
       "      <th>Inflight entertainment</th>\n",
       "      <th>Baggage handling</th>\n",
       "      <th>Cleanliness</th>\n",
       "      <th>Departure Delay in Minutes</th>\n",
       "      <th>Arrival Delay in Minutes</th>\n",
       "    </tr>\n",
       "  </thead>\n",
       "  <tbody>\n",
       "    <tr>\n",
       "      <th>0</th>\n",
       "      <td>1</td>\n",
       "      <td>1</td>\n",
       "      <td>0</td>\n",
       "      <td>3</td>\n",
       "      <td>0</td>\n",
       "      <td>13</td>\n",
       "      <td>460</td>\n",
       "      <td>5</td>\n",
       "      <td>4</td>\n",
       "      <td>5</td>\n",
       "      <td>25</td>\n",
       "      <td>18.0</td>\n",
       "    </tr>\n",
       "    <tr>\n",
       "      <th>1</th>\n",
       "      <td>1</td>\n",
       "      <td>0</td>\n",
       "      <td>1</td>\n",
       "      <td>1</td>\n",
       "      <td>0</td>\n",
       "      <td>25</td>\n",
       "      <td>235</td>\n",
       "      <td>1</td>\n",
       "      <td>3</td>\n",
       "      <td>1</td>\n",
       "      <td>1</td>\n",
       "      <td>6.0</td>\n",
       "    </tr>\n",
       "    <tr>\n",
       "      <th>2</th>\n",
       "      <td>0</td>\n",
       "      <td>1</td>\n",
       "      <td>1</td>\n",
       "      <td>1</td>\n",
       "      <td>1</td>\n",
       "      <td>26</td>\n",
       "      <td>1142</td>\n",
       "      <td>5</td>\n",
       "      <td>4</td>\n",
       "      <td>5</td>\n",
       "      <td>0</td>\n",
       "      <td>0.0</td>\n",
       "    </tr>\n",
       "    <tr>\n",
       "      <th>3</th>\n",
       "      <td>0</td>\n",
       "      <td>1</td>\n",
       "      <td>1</td>\n",
       "      <td>1</td>\n",
       "      <td>0</td>\n",
       "      <td>25</td>\n",
       "      <td>562</td>\n",
       "      <td>2</td>\n",
       "      <td>3</td>\n",
       "      <td>2</td>\n",
       "      <td>11</td>\n",
       "      <td>9.0</td>\n",
       "    </tr>\n",
       "    <tr>\n",
       "      <th>4</th>\n",
       "      <td>1</td>\n",
       "      <td>1</td>\n",
       "      <td>1</td>\n",
       "      <td>1</td>\n",
       "      <td>1</td>\n",
       "      <td>61</td>\n",
       "      <td>214</td>\n",
       "      <td>3</td>\n",
       "      <td>4</td>\n",
       "      <td>3</td>\n",
       "      <td>0</td>\n",
       "      <td>0.0</td>\n",
       "    </tr>\n",
       "  </tbody>\n",
       "</table>\n",
       "</div>"
      ],
      "text/plain": [
       "   Gender  Customer Type  Type of Travel  Class  satisfaction  Age  \\\n",
       "0       1              1               0      3             0   13   \n",
       "1       1              0               1      1             0   25   \n",
       "2       0              1               1      1             1   26   \n",
       "3       0              1               1      1             0   25   \n",
       "4       1              1               1      1             1   61   \n",
       "\n",
       "   Flight Distance  Inflight entertainment  Baggage handling  Cleanliness  \\\n",
       "0              460                       5                 4            5   \n",
       "1              235                       1                 3            1   \n",
       "2             1142                       5                 4            5   \n",
       "3              562                       2                 3            2   \n",
       "4              214                       3                 4            3   \n",
       "\n",
       "   Departure Delay in Minutes  Arrival Delay in Minutes  \n",
       "0                          25                      18.0  \n",
       "1                           1                       6.0  \n",
       "2                           0                       0.0  \n",
       "3                          11                       9.0  \n",
       "4                           0                       0.0  "
      ]
     },
     "execution_count": 5,
     "metadata": {},
     "output_type": "execute_result"
    }
   ],
   "source": [
    "df.head()"
   ]
  },
  {
   "cell_type": "code",
   "execution_count": 6,
   "metadata": {},
   "outputs": [],
   "source": [
    "import matplotlib.pyplot as plt \n",
    "import seaborn as sns "
   ]
  },
  {
   "cell_type": "code",
   "execution_count": 7,
   "metadata": {},
   "outputs": [
    {
     "data": {
      "image/png": "[encoded data removed]",
      "text/plain": [
       "<Figure size 558.875x500 with 1 Axes>"
      ]
     },
     "metadata": {},
     "output_type": "display_data"
    }
   ],
   "source": [
    "index = list((df['Customer Type'].value_counts().values))\n",
    "label = list((df['Customer Type'].value_counts().keys()))\n",
    "color= ['red','green']\n",
    "sns.catplot(x =label ,y=index,kind='bar',palette=color)\n",
    "plt.title(\"Imbalance Dataset\",fontsize=16)\n",
    "plt.show()"
   ]
  },
  {
   "cell_type": "code",
   "execution_count": 7,
   "metadata": {},
   "outputs": [
    {
     "data": {
      "image/png": "[encoded data removed]",
      "text/plain": [
       "<Figure size 558.875x500 with 1 Axes>"
      ]
     },
     "metadata": {},
     "output_type": "display_data"
    }
   ],
   "source": [
    "loyal_customer = df[df['Customer Type']==1].loc[0:20000]\n",
    "disloyal_customer = df[df['Customer Type']==0]\n",
    "\n",
    "balance_df = pd.concat([loyal_customer,disloyal_customer])\n",
    "colors = ['red','green']\n",
    "sns.catplot(x = list((balance_df['Customer Type'].value_counts().keys())),\n",
    "y=list((balance_df['Customer Type'].value_counts().values)),kind='bar',\n",
    "palette=colors)\n",
    "plt.title('Balance dataset')\n",
    "plt.show()"
   ]
  },
  {
   "cell_type": "code",
   "execution_count": 9,
   "metadata": {},
   "outputs": [
    {
     "data": {
      "text/plain": [
       "Gender                         0\n",
       "Customer Type                  0\n",
       "Type of Travel                 0\n",
       "Class                          0\n",
       "satisfaction                   0\n",
       "Age                            0\n",
       "Flight Distance                0\n",
       "Inflight entertainment         0\n",
       "Baggage handling               0\n",
       "Cleanliness                    0\n",
       "Departure Delay in Minutes     0\n",
       "Arrival Delay in Minutes      94\n",
       "dtype: int64"
      ]
     },
     "execution_count": 9,
     "metadata": {},
     "output_type": "execute_result"
    }
   ],
   "source": [
    "# checking missing value in our dataset.\n",
    "balance_df.isnull().sum()"
   ]
  },
  {
   "cell_type": "code",
   "execution_count": 10,
   "metadata": {},
   "outputs": [
    {
     "data": {
      "text/html": [
       "<div>\n",
       "<style scoped>\n",
       "    .dataframe tbody tr th:only-of-type {\n",
       "        vertical-align: middle;\n",
       "    }\n",
       "\n",
       "    .dataframe tbody tr th {\n",
       "        vertical-align: top;\n",
       "    }\n",
       "\n",
       "    .dataframe thead th {\n",
       "        text-align: right;\n",
       "    }\n",
       "</style>\n",
       "<table border=\"1\" class=\"dataframe\">\n",
       "  <thead>\n",
       "    <tr style=\"text-align: right;\">\n",
       "      <th></th>\n",
       "      <th>Gender</th>\n",
       "      <th>Customer Type</th>\n",
       "      <th>Type of Travel</th>\n",
       "      <th>Class</th>\n",
       "      <th>satisfaction</th>\n",
       "      <th>Age</th>\n",
       "      <th>Flight Distance</th>\n",
       "      <th>Inflight entertainment</th>\n",
       "      <th>Baggage handling</th>\n",
       "      <th>Cleanliness</th>\n",
       "      <th>Departure Delay in Minutes</th>\n",
       "      <th>Arrival Delay in Minutes</th>\n",
       "    </tr>\n",
       "  </thead>\n",
       "  <tbody>\n",
       "    <tr>\n",
       "      <th>213</th>\n",
       "      <td>0</td>\n",
       "      <td>1</td>\n",
       "      <td>1</td>\n",
       "      <td>2</td>\n",
       "      <td>1</td>\n",
       "      <td>38</td>\n",
       "      <td>109</td>\n",
       "      <td>5</td>\n",
       "      <td>4</td>\n",
       "      <td>5</td>\n",
       "      <td>31</td>\n",
       "      <td>NaN</td>\n",
       "    </tr>\n",
       "    <tr>\n",
       "      <th>1124</th>\n",
       "      <td>1</td>\n",
       "      <td>1</td>\n",
       "      <td>0</td>\n",
       "      <td>2</td>\n",
       "      <td>0</td>\n",
       "      <td>53</td>\n",
       "      <td>1012</td>\n",
       "      <td>4</td>\n",
       "      <td>4</td>\n",
       "      <td>4</td>\n",
       "      <td>38</td>\n",
       "      <td>NaN</td>\n",
       "    </tr>\n",
       "    <tr>\n",
       "      <th>1529</th>\n",
       "      <td>1</td>\n",
       "      <td>1</td>\n",
       "      <td>1</td>\n",
       "      <td>1</td>\n",
       "      <td>0</td>\n",
       "      <td>39</td>\n",
       "      <td>733</td>\n",
       "      <td>2</td>\n",
       "      <td>2</td>\n",
       "      <td>3</td>\n",
       "      <td>11</td>\n",
       "      <td>NaN</td>\n",
       "    </tr>\n",
       "    <tr>\n",
       "      <th>2108</th>\n",
       "      <td>0</td>\n",
       "      <td>1</td>\n",
       "      <td>0</td>\n",
       "      <td>2</td>\n",
       "      <td>0</td>\n",
       "      <td>24</td>\n",
       "      <td>417</td>\n",
       "      <td>5</td>\n",
       "      <td>2</td>\n",
       "      <td>5</td>\n",
       "      <td>1</td>\n",
       "      <td>NaN</td>\n",
       "    </tr>\n",
       "    <tr>\n",
       "      <th>2485</th>\n",
       "      <td>0</td>\n",
       "      <td>1</td>\n",
       "      <td>0</td>\n",
       "      <td>2</td>\n",
       "      <td>1</td>\n",
       "      <td>28</td>\n",
       "      <td>2370</td>\n",
       "      <td>3</td>\n",
       "      <td>4</td>\n",
       "      <td>3</td>\n",
       "      <td>3</td>\n",
       "      <td>NaN</td>\n",
       "    </tr>\n",
       "  </tbody>\n",
       "</table>\n",
       "</div>"
      ],
      "text/plain": [
       "      Gender  Customer Type  Type of Travel  Class  satisfaction  Age  \\\n",
       "213        0              1               1      2             1   38   \n",
       "1124       1              1               0      2             0   53   \n",
       "1529       1              1               1      1             0   39   \n",
       "2108       0              1               0      2             0   24   \n",
       "2485       0              1               0      2             1   28   \n",
       "\n",
       "      Flight Distance  Inflight entertainment  Baggage handling  Cleanliness  \\\n",
       "213               109                       5                 4            5   \n",
       "1124             1012                       4                 4            4   \n",
       "1529              733                       2                 2            3   \n",
       "2108              417                       5                 2            5   \n",
       "2485             2370                       3                 4            3   \n",
       "\n",
       "      Departure Delay in Minutes  Arrival Delay in Minutes  \n",
       "213                           31                       NaN  \n",
       "1124                          38                       NaN  \n",
       "1529                          11                       NaN  \n",
       "2108                           1                       NaN  \n",
       "2485                           3                       NaN  "
      ]
     },
     "execution_count": 10,
     "metadata": {},
     "output_type": "execute_result"
    }
   ],
   "source": [
    "#To extract only those records, where the missing value is present.\n",
    "null_df = balance_df.loc[balance_df.isnull()['Arrival Delay in Minutes']]\n",
    "null_df.head()\n"
   ]
  },
  {
   "cell_type": "code",
   "execution_count": 11,
   "metadata": {},
   "outputs": [
    {
     "data": {
      "image/png": "[encoded data removed]",
      "text/plain": [
       "<Figure size 640x480 with 2 Axes>"
      ]
     },
     "metadata": {},
     "output_type": "display_data"
    }
   ],
   "source": [
    "sns.heatmap(balance_df.isnull())\n",
    "plt.show()\n",
    "# to visualaize the represenatation of missing value"
   ]
  },
  {
   "cell_type": "code",
   "execution_count": 9,
   "metadata": {},
   "outputs": [
    {
     "data": {
      "text/plain": [
       "Gender                        0\n",
       "Customer Type                 0\n",
       "Type of Travel                0\n",
       "Class                         0\n",
       "satisfaction                  0\n",
       "Age                           0\n",
       "Flight Distance               0\n",
       "Inflight entertainment        0\n",
       "Baggage handling              0\n",
       "Cleanliness                   0\n",
       "Departure Delay in Minutes    0\n",
       "Arrival Delay in Minutes      0\n",
       "dtype: int64"
      ]
     },
     "execution_count": 9,
     "metadata": {},
     "output_type": "execute_result"
    }
   ],
   "source": [
    "balance_df.dropna().isnull().sum()\n"
   ]
  },
  {
   "cell_type": "code",
   "execution_count": 11,
   "metadata": {},
   "outputs": [],
   "source": [
    "balance_df.dropna(inplace=True)"
   ]
  },
  {
   "cell_type": "code",
   "execution_count": 13,
   "metadata": {},
   "outputs": [
    {
     "data": {
      "text/plain": [
       "Gender                        0\n",
       "Customer Type                 0\n",
       "Type of Travel                0\n",
       "Class                         0\n",
       "satisfaction                  0\n",
       "Age                           0\n",
       "Flight Distance               0\n",
       "Inflight entertainment        0\n",
       "Baggage handling              0\n",
       "Cleanliness                   0\n",
       "Departure Delay in Minutes    0\n",
       "Arrival Delay in Minutes      0\n",
       "dtype: int64"
      ]
     },
     "execution_count": 13,
     "metadata": {},
     "output_type": "execute_result"
    }
   ],
   "source": [
    "balance_df.isnull().sum()"
   ]
  },
  {
   "cell_type": "code",
   "execution_count": 14,
   "metadata": {},
   "outputs": [
    {
     "name": "stdout",
     "output_type": "stream",
     "text": [
      "shape of x : (35269, 11)  and shape of y : (35269, 1) \n",
      "\n",
      " x_train shape : (28215, 11) \n",
      " x_test shape : (7054, 11) \n",
      " y_train shape : (28215, 1) \n",
      " y_test shape : (7054, 1)\n"
     ]
    }
   ],
   "source": [
    "# splitting the dataset into independent and dependent variables\n",
    "x = balance_df.drop('Customer Type',axis=1)\n",
    "y = balance_df[['Customer Type']]\n",
    "\n",
    "print(\"shape of x :\", x.shape ,\" and shape of y :\",y.shape,\"\\n\")\n",
    "# spliting the dataset into training and testing set \n",
    "x_train,x_test,y_train,y_test = train_test_split(x,y,test_size=0.2)\n",
    "\n",
    "print(\" x_train shape :\",x_train.shape,\"\\n\",\"x_test shape :\",x_test.shape,\n",
    "\"\\n\",\"y_train shape :\",y_train.shape,\"\\n\",\"y_test shape :\",y_test.shape)"
   ]
  },
  {
   "cell_type": "markdown",
   "metadata": {},
   "source": [
    "### Standard Scaling the Dataset"
   ]
  },
  {
   "cell_type": "code",
   "execution_count": 15,
   "metadata": {},
   "outputs": [],
   "source": [
    "from sklearn.preprocessing import  StandardScaler\n",
    "st_scaler = StandardScaler()\n",
    "\n",
    "x_train_scaled = st_scaler.fit_transform(x_train)\n",
    "x_test_scaled  = st_scaler.transform(x_test)"
   ]
  },
  {
   "cell_type": "code",
   "execution_count": null,
   "metadata": {},
   "outputs": [],
   "source": []
  },
  {
   "cell_type": "markdown",
   "metadata": {},
   "source": [
    "## We are importing all the necessary library for build ANN"
   ]
  },
  {
   "cell_type": "code",
   "execution_count": 2,
   "metadata": {},
   "outputs": [
    {
     "name": "stdout",
     "output_type": "stream",
     "text": [
      "WARNING:tensorflow:From c:\\Users\\Ranjit\\AppData\\Local\\Programs\\Python\\Python311\\Lib\\site-packages\\keras\\src\\losses.py:2976: The name tf.losses.sparse_softmax_cross_entropy is deprecated. Please use tf.compat.v1.losses.sparse_softmax_cross_entropy instead.\n",
      "\n"
     ]
    }
   ],
   "source": [
    "from tensorflow.keras.layers import Dense,Dropout\n",
    "from tensorflow.keras.models import  Sequential,load_model"
   ]
  },
  {
   "cell_type": "code",
   "execution_count": 17,
   "metadata": {},
   "outputs": [
    {
     "data": {
      "text/plain": [
       "((28290, 11), (28290, 1))"
      ]
     },
     "execution_count": 17,
     "metadata": {},
     "output_type": "execute_result"
    }
   ],
   "source": [
    "x_train_scaled.shape,    y_train.shape   # shape of the Dataset"
   ]
  },
  {
   "cell_type": "code",
   "execution_count": 18,
   "metadata": {},
   "outputs": [
    {
     "name": "stdout",
     "output_type": "stream",
     "text": [
      "WARNING:tensorflow:From c:\\Users\\Ranjit\\AppData\\Local\\Programs\\Python\\Python311\\Lib\\site-packages\\keras\\src\\backend.py:873: The name tf.get_default_graph is deprecated. Please use tf.compat.v1.get_default_graph instead.\n",
      "\n",
      "WARNING:tensorflow:From c:\\Users\\Ranjit\\AppData\\Local\\Programs\\Python\\Python311\\Lib\\site-packages\\keras\\src\\optimizers\\__init__.py:309: The name tf.train.Optimizer is deprecated. Please use tf.compat.v1.train.Optimizer instead.\n",
      "\n",
      "Model: \"sequential\"\n",
      "_________________________________________________________________\n",
      " Layer (type)                Output Shape              Param #   \n",
      "=================================================================\n",
      " dense (Dense)               (None, 68)                816       \n",
      "                                                                 \n",
      " dense_1 (Dense)             (None, 32)                2208      \n",
      "                                                                 \n",
      " dense_2 (Dense)             (None, 24)                792       \n",
      "                                                                 \n",
      " dense_3 (Dense)             (None, 12)                300       \n",
      "                                                                 \n",
      " dense_4 (Dense)             (None, 1)                 13        \n",
      "                                                                 \n",
      "=================================================================\n",
      "Total params: 4129 (16.13 KB)\n",
      "Trainable params: 4129 (16.13 KB)\n",
      "Non-trainable params: 0 (0.00 Byte)\n",
      "_________________________________________________________________\n"
     ]
    }
   ],
   "source": [
    "from tensorflow.keras.layers import Dense,Dropout\n",
    "from tensorflow.keras.models import  Sequential\n",
    "### Defining ANN Model\n",
    "\n",
    "Ann_Model = Sequential()\n",
    "# Hidden layers\n",
    "Ann_Model.add(Dense(units=68,activation='relu',input_dim=x_train_scaled.shape[1]))\n",
    "Ann_Model.add(Dense(units=32,activation='relu'))\n",
    "Ann_Model.add(Dense(units=24,activation='relu'))\n",
    "Ann_Model.add(Dense(units=12,activation='relu'))\n",
    "#output layers\n",
    "Ann_Model.add(Dense(units=1,activation='sigmoid'))\n",
    "\n",
    "#compiling the models\n",
    "Ann_Model.compile(optimizer='adam', loss='binary_crossentropy', metrics=['accuracy'])\n",
    "Ann_Model.summary()"
   ]
  },
  {
   "cell_type": "code",
   "execution_count": 22,
   "metadata": {},
   "outputs": [
    {
     "name": "stdout",
     "output_type": "stream",
     "text": [
      "Epoch 1/15\n",
      "WARNING:tensorflow:From c:\\Users\\Ranjit\\AppData\\Local\\Programs\\Python\\Python311\\Lib\\site-packages\\keras\\src\\utils\\tf_utils.py:492: The name tf.ragged.RaggedTensorValue is deprecated. Please use tf.compat.v1.ragged.RaggedTensorValue instead.\n",
      "\n",
      "WARNING:tensorflow:From c:\\Users\\Ranjit\\AppData\\Local\\Programs\\Python\\Python311\\Lib\\site-packages\\keras\\src\\engine\\base_layer_utils.py:384: The name tf.executing_eagerly_outside_functions is deprecated. Please use tf.compat.v1.executing_eagerly_outside_functions instead.\n",
      "\n",
      "882/882 [==============================] - 12s 8ms/step - loss: 0.2729 - accuracy: 0.8952 - val_loss: 0.2407 - val_accuracy: 0.9083\n",
      "Epoch 2/15\n",
      "882/882 [==============================] - 8s 9ms/step - loss: 0.2312 - accuracy: 0.9113 - val_loss: 0.2378 - val_accuracy: 0.9113\n",
      "Epoch 3/15\n",
      "882/882 [==============================] - 5s 6ms/step - loss: 0.2196 - accuracy: 0.9155 - val_loss: 0.2191 - val_accuracy: 0.9199\n",
      "Epoch 4/15\n",
      "882/882 [==============================] - 5s 5ms/step - loss: 0.2120 - accuracy: 0.9193 - val_loss: 0.2121 - val_accuracy: 0.9200\n",
      "Epoch 5/15\n",
      "882/882 [==============================] - 5s 6ms/step - loss: 0.2058 - accuracy: 0.9219 - val_loss: 0.2100 - val_accuracy: 0.9222\n",
      "Epoch 6/15\n",
      "882/882 [==============================] - 6s 7ms/step - loss: 0.2026 - accuracy: 0.9227 - val_loss: 0.2113 - val_accuracy: 0.9174\n",
      "Epoch 7/15\n",
      "882/882 [==============================] - 5s 6ms/step - loss: 0.1989 - accuracy: 0.9251 - val_loss: 0.2075 - val_accuracy: 0.9215\n",
      "Epoch 8/15\n",
      "882/882 [==============================] - 6s 6ms/step - loss: 0.1969 - accuracy: 0.9257 - val_loss: 0.2161 - val_accuracy: 0.9193\n",
      "Epoch 9/15\n",
      "882/882 [==============================] - 5s 5ms/step - loss: 0.1949 - accuracy: 0.9265 - val_loss: 0.2065 - val_accuracy: 0.9237\n",
      "Epoch 10/15\n",
      "882/882 [==============================] - 5s 5ms/step - loss: 0.1918 - accuracy: 0.9274 - val_loss: 0.2044 - val_accuracy: 0.9237\n",
      "Epoch 11/15\n",
      "882/882 [==============================] - 5s 6ms/step - loss: 0.1911 - accuracy: 0.9271 - val_loss: 0.2054 - val_accuracy: 0.9240\n",
      "Epoch 12/15\n",
      "882/882 [==============================] - 5s 5ms/step - loss: 0.1889 - accuracy: 0.9282 - val_loss: 0.2060 - val_accuracy: 0.9229\n",
      "Epoch 13/15\n",
      "882/882 [==============================] - 5s 5ms/step - loss: 0.1883 - accuracy: 0.9269 - val_loss: 0.2047 - val_accuracy: 0.9215\n",
      "Epoch 14/15\n",
      "882/882 [==============================] - 5s 6ms/step - loss: 0.1865 - accuracy: 0.9288 - val_loss: 0.2003 - val_accuracy: 0.9244\n",
      "Epoch 15/15\n",
      "882/882 [==============================] - 5s 5ms/step - loss: 0.1855 - accuracy: 0.9292 - val_loss: 0.1988 - val_accuracy: 0.9233\n"
     ]
    }
   ],
   "source": [
    "history = Ann_Model.fit(x_train_scaled,y_train,epochs=15,validation_data=(x_test_scaled,y_test))"
   ]
  },
  {
   "cell_type": "code",
   "execution_count": 23,
   "metadata": {},
   "outputs": [
    {
     "name": "stdout",
     "output_type": "stream",
     "text": [
      "Epoch 16/50\n",
      "  1/882 [..............................] - ETA: 10s - loss: 0.1639 - accuracy: 0.9688"
     ]
    },
    {
     "name": "stdout",
     "output_type": "stream",
     "text": [
      "882/882 [==============================] - 4s 5ms/step - loss: 0.1833 - accuracy: 0.9308 - val_loss: 0.2033 - val_accuracy: 0.9236\n",
      "Epoch 17/50\n",
      "882/882 [==============================] - 4s 5ms/step - loss: 0.1828 - accuracy: 0.9311 - val_loss: 0.2023 - val_accuracy: 0.9243\n",
      "Epoch 18/50\n",
      "882/882 [==============================] - 4s 5ms/step - loss: 0.1819 - accuracy: 0.9308 - val_loss: 0.1991 - val_accuracy: 0.9261\n",
      "Epoch 19/50\n",
      "882/882 [==============================] - 4s 5ms/step - loss: 0.1806 - accuracy: 0.9304 - val_loss: 0.1970 - val_accuracy: 0.9264\n",
      "Epoch 20/50\n",
      "882/882 [==============================] - 5s 5ms/step - loss: 0.1792 - accuracy: 0.9322 - val_loss: 0.1978 - val_accuracy: 0.9263\n",
      "Epoch 21/50\n",
      "882/882 [==============================] - 5s 5ms/step - loss: 0.1783 - accuracy: 0.9319 - val_loss: 0.2044 - val_accuracy: 0.9234\n",
      "Epoch 22/50\n",
      "882/882 [==============================] - 5s 6ms/step - loss: 0.1771 - accuracy: 0.9321 - val_loss: 0.2027 - val_accuracy: 0.9276\n",
      "Epoch 23/50\n",
      "882/882 [==============================] - 5s 5ms/step - loss: 0.1773 - accuracy: 0.9332 - val_loss: 0.1927 - val_accuracy: 0.9280\n",
      "Epoch 24/50\n",
      "882/882 [==============================] - 4s 4ms/step - loss: 0.1756 - accuracy: 0.9319 - val_loss: 0.1996 - val_accuracy: 0.9251\n",
      "Epoch 25/50\n",
      "882/882 [==============================] - 4s 4ms/step - loss: 0.1747 - accuracy: 0.9332 - val_loss: 0.1962 - val_accuracy: 0.9276\n",
      "Epoch 26/50\n",
      "882/882 [==============================] - 4s 5ms/step - loss: 0.1737 - accuracy: 0.9334 - val_loss: 0.1972 - val_accuracy: 0.9246\n",
      "Epoch 27/50\n",
      "882/882 [==============================] - 4s 5ms/step - loss: 0.1728 - accuracy: 0.9339 - val_loss: 0.1958 - val_accuracy: 0.9243\n",
      "Epoch 28/50\n",
      "882/882 [==============================] - 4s 5ms/step - loss: 0.1714 - accuracy: 0.9350 - val_loss: 0.1946 - val_accuracy: 0.9271\n",
      "Epoch 29/50\n",
      "882/882 [==============================] - 4s 5ms/step - loss: 0.1715 - accuracy: 0.9347 - val_loss: 0.1971 - val_accuracy: 0.9274\n",
      "Epoch 30/50\n",
      "882/882 [==============================] - 4s 5ms/step - loss: 0.1712 - accuracy: 0.9341 - val_loss: 0.1943 - val_accuracy: 0.9270\n",
      "Epoch 31/50\n",
      "882/882 [==============================] - 4s 5ms/step - loss: 0.1688 - accuracy: 0.9348 - val_loss: 0.1996 - val_accuracy: 0.9261\n",
      "Epoch 32/50\n",
      "882/882 [==============================] - 4s 4ms/step - loss: 0.1684 - accuracy: 0.9358 - val_loss: 0.1959 - val_accuracy: 0.9280\n",
      "Epoch 33/50\n",
      "882/882 [==============================] - 4s 4ms/step - loss: 0.1682 - accuracy: 0.9352 - val_loss: 0.1965 - val_accuracy: 0.9236\n",
      "Epoch 34/50\n",
      "882/882 [==============================] - 4s 4ms/step - loss: 0.1680 - accuracy: 0.9359 - val_loss: 0.1951 - val_accuracy: 0.9251\n",
      "Epoch 35/50\n",
      "882/882 [==============================] - 4s 4ms/step - loss: 0.1671 - accuracy: 0.9357 - val_loss: 0.1960 - val_accuracy: 0.9273\n",
      "Epoch 36/50\n",
      "882/882 [==============================] - 4s 5ms/step - loss: 0.1655 - accuracy: 0.9358 - val_loss: 0.2055 - val_accuracy: 0.9246\n",
      "Epoch 37/50\n",
      "882/882 [==============================] - 4s 5ms/step - loss: 0.1647 - accuracy: 0.9374 - val_loss: 0.2008 - val_accuracy: 0.9270\n",
      "Epoch 38/50\n",
      "882/882 [==============================] - 4s 5ms/step - loss: 0.1644 - accuracy: 0.9374 - val_loss: 0.1981 - val_accuracy: 0.9259\n",
      "Epoch 39/50\n",
      "882/882 [==============================] - 4s 5ms/step - loss: 0.1639 - accuracy: 0.9377 - val_loss: 0.1961 - val_accuracy: 0.9264\n",
      "Epoch 40/50\n",
      "882/882 [==============================] - 4s 5ms/step - loss: 0.1624 - accuracy: 0.9380 - val_loss: 0.2027 - val_accuracy: 0.9225\n",
      "Epoch 41/50\n",
      "882/882 [==============================] - 4s 5ms/step - loss: 0.1621 - accuracy: 0.9372 - val_loss: 0.2007 - val_accuracy: 0.9264\n",
      "Epoch 42/50\n",
      "882/882 [==============================] - 4s 4ms/step - loss: 0.1628 - accuracy: 0.9381 - val_loss: 0.2004 - val_accuracy: 0.9244\n",
      "Epoch 43/50\n",
      "882/882 [==============================] - 4s 4ms/step - loss: 0.1609 - accuracy: 0.9383 - val_loss: 0.2014 - val_accuracy: 0.9264\n",
      "Epoch 44/50\n",
      "882/882 [==============================] - 4s 4ms/step - loss: 0.1608 - accuracy: 0.9384 - val_loss: 0.1968 - val_accuracy: 0.9263\n",
      "Epoch 45/50\n",
      "882/882 [==============================] - 4s 4ms/step - loss: 0.1604 - accuracy: 0.9392 - val_loss: 0.2035 - val_accuracy: 0.9233\n",
      "Epoch 46/50\n",
      "882/882 [==============================] - 4s 4ms/step - loss: 0.1592 - accuracy: 0.9398 - val_loss: 0.2001 - val_accuracy: 0.9264\n",
      "Epoch 47/50\n",
      "882/882 [==============================] - 4s 4ms/step - loss: 0.1604 - accuracy: 0.9383 - val_loss: 0.2017 - val_accuracy: 0.9240\n",
      "Epoch 48/50\n",
      "882/882 [==============================] - 4s 4ms/step - loss: 0.1590 - accuracy: 0.9386 - val_loss: 0.1995 - val_accuracy: 0.9251\n",
      "Epoch 49/50\n",
      "882/882 [==============================] - 4s 5ms/step - loss: 0.1582 - accuracy: 0.9391 - val_loss: 0.1966 - val_accuracy: 0.9259\n",
      "Epoch 50/50\n",
      "882/882 [==============================] - 4s 5ms/step - loss: 0.1580 - accuracy: 0.9394 - val_loss: 0.2015 - val_accuracy: 0.9277\n"
     ]
    }
   ],
   "source": [
    "history = Ann_Model.fit(x_train_scaled,y_train, initial_epoch=15,epochs=50,validation_data=(x_test_scaled,y_test))\n"
   ]
  },
  {
   "cell_type": "code",
   "execution_count": 24,
   "metadata": {},
   "outputs": [
    {
     "data": {
      "text/html": [
       "<div>\n",
       "<style scoped>\n",
       "    .dataframe tbody tr th:only-of-type {\n",
       "        vertical-align: middle;\n",
       "    }\n",
       "\n",
       "    .dataframe tbody tr th {\n",
       "        vertical-align: top;\n",
       "    }\n",
       "\n",
       "    .dataframe thead th {\n",
       "        text-align: right;\n",
       "    }\n",
       "</style>\n",
       "<table border=\"1\" class=\"dataframe\">\n",
       "  <thead>\n",
       "    <tr style=\"text-align: right;\">\n",
       "      <th></th>\n",
       "      <th>loss</th>\n",
       "      <th>accuracy</th>\n",
       "      <th>val_loss</th>\n",
       "      <th>val_accuracy</th>\n",
       "    </tr>\n",
       "  </thead>\n",
       "  <tbody>\n",
       "    <tr>\n",
       "      <th>0</th>\n",
       "      <td>0.183292</td>\n",
       "      <td>0.930781</td>\n",
       "      <td>0.203263</td>\n",
       "      <td>0.923589</td>\n",
       "    </tr>\n",
       "    <tr>\n",
       "      <th>1</th>\n",
       "      <td>0.182757</td>\n",
       "      <td>0.931136</td>\n",
       "      <td>0.202287</td>\n",
       "      <td>0.924298</td>\n",
       "    </tr>\n",
       "    <tr>\n",
       "      <th>2</th>\n",
       "      <td>0.181881</td>\n",
       "      <td>0.930817</td>\n",
       "      <td>0.199098</td>\n",
       "      <td>0.926141</td>\n",
       "    </tr>\n",
       "    <tr>\n",
       "      <th>3</th>\n",
       "      <td>0.180560</td>\n",
       "      <td>0.930427</td>\n",
       "      <td>0.197016</td>\n",
       "      <td>0.926425</td>\n",
       "    </tr>\n",
       "    <tr>\n",
       "      <th>4</th>\n",
       "      <td>0.179184</td>\n",
       "      <td>0.932235</td>\n",
       "      <td>0.197832</td>\n",
       "      <td>0.926283</td>\n",
       "    </tr>\n",
       "    <tr>\n",
       "      <th>5</th>\n",
       "      <td>0.178303</td>\n",
       "      <td>0.931880</td>\n",
       "      <td>0.204443</td>\n",
       "      <td>0.923448</td>\n",
       "    </tr>\n",
       "    <tr>\n",
       "      <th>6</th>\n",
       "      <td>0.177063</td>\n",
       "      <td>0.932128</td>\n",
       "      <td>0.202654</td>\n",
       "      <td>0.927559</td>\n",
       "    </tr>\n",
       "    <tr>\n",
       "      <th>7</th>\n",
       "      <td>0.177252</td>\n",
       "      <td>0.933227</td>\n",
       "      <td>0.192660</td>\n",
       "      <td>0.927984</td>\n",
       "    </tr>\n",
       "    <tr>\n",
       "      <th>8</th>\n",
       "      <td>0.175573</td>\n",
       "      <td>0.931880</td>\n",
       "      <td>0.199637</td>\n",
       "      <td>0.925149</td>\n",
       "    </tr>\n",
       "    <tr>\n",
       "      <th>9</th>\n",
       "      <td>0.174696</td>\n",
       "      <td>0.933156</td>\n",
       "      <td>0.196191</td>\n",
       "      <td>0.927559</td>\n",
       "    </tr>\n",
       "    <tr>\n",
       "      <th>10</th>\n",
       "      <td>0.173686</td>\n",
       "      <td>0.933440</td>\n",
       "      <td>0.197162</td>\n",
       "      <td>0.924582</td>\n",
       "    </tr>\n",
       "    <tr>\n",
       "      <th>11</th>\n",
       "      <td>0.172790</td>\n",
       "      <td>0.933900</td>\n",
       "      <td>0.195801</td>\n",
       "      <td>0.924298</td>\n",
       "    </tr>\n",
       "    <tr>\n",
       "      <th>12</th>\n",
       "      <td>0.171418</td>\n",
       "      <td>0.935035</td>\n",
       "      <td>0.194610</td>\n",
       "      <td>0.927134</td>\n",
       "    </tr>\n",
       "    <tr>\n",
       "      <th>13</th>\n",
       "      <td>0.171483</td>\n",
       "      <td>0.934716</td>\n",
       "      <td>0.197145</td>\n",
       "      <td>0.927417</td>\n",
       "    </tr>\n",
       "    <tr>\n",
       "      <th>14</th>\n",
       "      <td>0.171211</td>\n",
       "      <td>0.934148</td>\n",
       "      <td>0.194291</td>\n",
       "      <td>0.926992</td>\n",
       "    </tr>\n",
       "    <tr>\n",
       "      <th>15</th>\n",
       "      <td>0.168772</td>\n",
       "      <td>0.934751</td>\n",
       "      <td>0.199632</td>\n",
       "      <td>0.926141</td>\n",
       "    </tr>\n",
       "    <tr>\n",
       "      <th>16</th>\n",
       "      <td>0.168419</td>\n",
       "      <td>0.935850</td>\n",
       "      <td>0.195914</td>\n",
       "      <td>0.927984</td>\n",
       "    </tr>\n",
       "    <tr>\n",
       "      <th>17</th>\n",
       "      <td>0.168162</td>\n",
       "      <td>0.935247</td>\n",
       "      <td>0.196483</td>\n",
       "      <td>0.923589</td>\n",
       "    </tr>\n",
       "    <tr>\n",
       "      <th>18</th>\n",
       "      <td>0.167962</td>\n",
       "      <td>0.935885</td>\n",
       "      <td>0.195066</td>\n",
       "      <td>0.925149</td>\n",
       "    </tr>\n",
       "    <tr>\n",
       "      <th>19</th>\n",
       "      <td>0.167109</td>\n",
       "      <td>0.935708</td>\n",
       "      <td>0.195951</td>\n",
       "      <td>0.927275</td>\n",
       "    </tr>\n",
       "    <tr>\n",
       "      <th>20</th>\n",
       "      <td>0.165535</td>\n",
       "      <td>0.935850</td>\n",
       "      <td>0.205465</td>\n",
       "      <td>0.924582</td>\n",
       "    </tr>\n",
       "    <tr>\n",
       "      <th>21</th>\n",
       "      <td>0.164660</td>\n",
       "      <td>0.937374</td>\n",
       "      <td>0.200843</td>\n",
       "      <td>0.926992</td>\n",
       "    </tr>\n",
       "    <tr>\n",
       "      <th>22</th>\n",
       "      <td>0.164361</td>\n",
       "      <td>0.937409</td>\n",
       "      <td>0.198113</td>\n",
       "      <td>0.925858</td>\n",
       "    </tr>\n",
       "    <tr>\n",
       "      <th>23</th>\n",
       "      <td>0.163857</td>\n",
       "      <td>0.937728</td>\n",
       "      <td>0.196104</td>\n",
       "      <td>0.926425</td>\n",
       "    </tr>\n",
       "    <tr>\n",
       "      <th>24</th>\n",
       "      <td>0.162382</td>\n",
       "      <td>0.938047</td>\n",
       "      <td>0.202734</td>\n",
       "      <td>0.922455</td>\n",
       "    </tr>\n",
       "    <tr>\n",
       "      <th>25</th>\n",
       "      <td>0.162124</td>\n",
       "      <td>0.937197</td>\n",
       "      <td>0.200739</td>\n",
       "      <td>0.926425</td>\n",
       "    </tr>\n",
       "    <tr>\n",
       "      <th>26</th>\n",
       "      <td>0.162794</td>\n",
       "      <td>0.938118</td>\n",
       "      <td>0.200427</td>\n",
       "      <td>0.924440</td>\n",
       "    </tr>\n",
       "    <tr>\n",
       "      <th>27</th>\n",
       "      <td>0.160901</td>\n",
       "      <td>0.938331</td>\n",
       "      <td>0.201370</td>\n",
       "      <td>0.926425</td>\n",
       "    </tr>\n",
       "    <tr>\n",
       "      <th>28</th>\n",
       "      <td>0.160796</td>\n",
       "      <td>0.938402</td>\n",
       "      <td>0.196835</td>\n",
       "      <td>0.926283</td>\n",
       "    </tr>\n",
       "    <tr>\n",
       "      <th>29</th>\n",
       "      <td>0.160425</td>\n",
       "      <td>0.939217</td>\n",
       "      <td>0.203499</td>\n",
       "      <td>0.923306</td>\n",
       "    </tr>\n",
       "    <tr>\n",
       "      <th>30</th>\n",
       "      <td>0.159225</td>\n",
       "      <td>0.939819</td>\n",
       "      <td>0.200117</td>\n",
       "      <td>0.926425</td>\n",
       "    </tr>\n",
       "    <tr>\n",
       "      <th>31</th>\n",
       "      <td>0.160421</td>\n",
       "      <td>0.938295</td>\n",
       "      <td>0.201725</td>\n",
       "      <td>0.924015</td>\n",
       "    </tr>\n",
       "    <tr>\n",
       "      <th>32</th>\n",
       "      <td>0.159047</td>\n",
       "      <td>0.938579</td>\n",
       "      <td>0.199504</td>\n",
       "      <td>0.925149</td>\n",
       "    </tr>\n",
       "    <tr>\n",
       "      <th>33</th>\n",
       "      <td>0.158231</td>\n",
       "      <td>0.939075</td>\n",
       "      <td>0.196572</td>\n",
       "      <td>0.925858</td>\n",
       "    </tr>\n",
       "    <tr>\n",
       "      <th>34</th>\n",
       "      <td>0.157969</td>\n",
       "      <td>0.939358</td>\n",
       "      <td>0.201514</td>\n",
       "      <td>0.927701</td>\n",
       "    </tr>\n",
       "  </tbody>\n",
       "</table>\n",
       "</div>"
      ],
      "text/plain": [
       "        loss  accuracy  val_loss  val_accuracy\n",
       "0   0.183292  0.930781  0.203263      0.923589\n",
       "1   0.182757  0.931136  0.202287      0.924298\n",
       "2   0.181881  0.930817  0.199098      0.926141\n",
       "3   0.180560  0.930427  0.197016      0.926425\n",
       "4   0.179184  0.932235  0.197832      0.926283\n",
       "5   0.178303  0.931880  0.204443      0.923448\n",
       "6   0.177063  0.932128  0.202654      0.927559\n",
       "7   0.177252  0.933227  0.192660      0.927984\n",
       "8   0.175573  0.931880  0.199637      0.925149\n",
       "9   0.174696  0.933156  0.196191      0.927559\n",
       "10  0.173686  0.933440  0.197162      0.924582\n",
       "11  0.172790  0.933900  0.195801      0.924298\n",
       "12  0.171418  0.935035  0.194610      0.927134\n",
       "13  0.171483  0.934716  0.197145      0.927417\n",
       "14  0.171211  0.934148  0.194291      0.926992\n",
       "15  0.168772  0.934751  0.199632      0.926141\n",
       "16  0.168419  0.935850  0.195914      0.927984\n",
       "17  0.168162  0.935247  0.196483      0.923589\n",
       "18  0.167962  0.935885  0.195066      0.925149\n",
       "19  0.167109  0.935708  0.195951      0.927275\n",
       "20  0.165535  0.935850  0.205465      0.924582\n",
       "21  0.164660  0.937374  0.200843      0.926992\n",
       "22  0.164361  0.937409  0.198113      0.925858\n",
       "23  0.163857  0.937728  0.196104      0.926425\n",
       "24  0.162382  0.938047  0.202734      0.922455\n",
       "25  0.162124  0.937197  0.200739      0.926425\n",
       "26  0.162794  0.938118  0.200427      0.924440\n",
       "27  0.160901  0.938331  0.201370      0.926425\n",
       "28  0.160796  0.938402  0.196835      0.926283\n",
       "29  0.160425  0.939217  0.203499      0.923306\n",
       "30  0.159225  0.939819  0.200117      0.926425\n",
       "31  0.160421  0.938295  0.201725      0.924015\n",
       "32  0.159047  0.938579  0.199504      0.925149\n",
       "33  0.158231  0.939075  0.196572      0.925858\n",
       "34  0.157969  0.939358  0.201514      0.927701"
      ]
     },
     "execution_count": 24,
     "metadata": {},
     "output_type": "execute_result"
    }
   ],
   "source": [
    "import pandas as pd \n",
    "training_details = pd.DataFrame(history.history)\n",
    "training_details"
   ]
  },
  {
   "cell_type": "code",
   "execution_count": 25,
   "metadata": {},
   "outputs": [
    {
     "data": {
      "text/plain": [
       "<Axes: >"
      ]
     },
     "execution_count": 25,
     "metadata": {},
     "output_type": "execute_result"
    },
    {
     "data": {
      "image/png": "[encoded data removed]",
      "text/plain": [
       "<Figure size 640x480 with 1 Axes>"
      ]
     },
     "metadata": {},
     "output_type": "display_data"
    }
   ],
   "source": [
    "training_details.plot()\n",
    "# all are plotted"
   ]
  },
  {
   "cell_type": "code",
   "execution_count": 26,
   "metadata": {},
   "outputs": [
    {
     "data": {
      "text/plain": [
       "<Axes: >"
      ]
     },
     "execution_count": 26,
     "metadata": {},
     "output_type": "execute_result"
    },
    {
     "data": {
      "image/png": "[encoded data removed]",
      "text/plain": [
       "<Figure size 640x480 with 1 Axes>"
      ]
     },
     "metadata": {},
     "output_type": "display_data"
    }
   ],
   "source": [
    "training_details[['accuracy','val_accuracy']].plot()\n",
    "# Training Accuracy Vs Validation Accuracy"
   ]
  },
  {
   "cell_type": "code",
   "execution_count": 3,
   "metadata": {},
   "outputs": [
    {
     "name": "stdout",
     "output_type": "stream",
     "text": [
      "WARNING:tensorflow:From c:\\Users\\Ranjit\\AppData\\Local\\Programs\\Python\\Python311\\Lib\\site-packages\\keras\\src\\backend.py:1398: The name tf.executing_eagerly_outside_functions is deprecated. Please use tf.compat.v1.executing_eagerly_outside_functions instead.\n",
      "\n"
     ]
    }
   ],
   "source": [
    "#you can save your model,\n",
    "Ann_Model.save(\"custom_satisfaction.h5\")\n",
    "\n",
    "# to load your model\n",
    "Ann_Model = load_model('custom_satisfaction.h5')\n"
   ]
  },
  {
   "cell_type": "code",
   "execution_count": 16,
   "metadata": {},
   "outputs": [
    {
     "name": "stdout",
     "output_type": "stream",
     "text": [
      "221/221 [==============================] - 2s 3ms/step\n"
     ]
    },
    {
     "data": {
      "text/plain": [
       "array([1, 0, 1, ..., 0, 0, 1])"
      ]
     },
     "execution_count": 16,
     "metadata": {},
     "output_type": "execute_result"
    }
   ],
   "source": [
    "# Get Prediction Probability\n",
    "y_pred = Ann_Model.predict(x_test_scaled)\n",
    "prediction_label = (y_pred>0.5).astype('int').ravel()\n",
    "prediction_label"
   ]
  },
  {
   "cell_type": "code",
   "execution_count": 20,
   "metadata": {},
   "outputs": [
    {
     "data": {
      "image/png": "[encoded data removed]",
      "text/plain": [
       "<Figure size 640x480 with 2 Axes>"
      ]
     },
     "metadata": {},
     "output_type": "display_data"
    }
   ],
   "source": [
    "# confusion metrix\n",
    "cm = confusion_matrix(prediction_label,y_test)\n",
    "\n",
    "sns.heatmap(cm, annot=True,fmt=\"d\",  cmap=\"Blues\")\n",
    "plt.xlabel('Predicted labels')\n",
    "plt.ylabel('True labels')\n",
    "plt.title('Confusion Matrix')\n",
    "plt.show()"
   ]
  },
  {
   "cell_type": "code",
   "execution_count": 52,
   "metadata": {},
   "outputs": [],
   "source": [
    "from sklearn.metrics import classification_report"
   ]
  },
  {
   "cell_type": "code",
   "execution_count": 18,
   "metadata": {},
   "outputs": [
    {
     "name": "stdout",
     "output_type": "stream",
     "text": [
      "              precision    recall  f1-score   support\n",
      "\n",
      "           0       0.96      0.93      0.95      3923\n",
      "           1       0.92      0.95      0.93      3131\n",
      "\n",
      "    accuracy                           0.94      7054\n",
      "   macro avg       0.94      0.94      0.94      7054\n",
      "weighted avg       0.94      0.94      0.94      7054\n",
      "\n"
     ]
    }
   ],
   "source": [
    "#classification report\n",
    "print(classification_report(prediction_label,y_test))\n"
   ]
  },
  {
   "cell_type": "markdown",
   "metadata": {},
   "source": [
    "## EarlyStoping , Dropout and HyperparameterTurning"
   ]
  },
  {
   "cell_type": "markdown",
   "metadata": {},
   "source": [
    "Thank you"
   ]
  }
 ],
 "metadata": {
  "kernelspec": {
   "display_name": "Python 3",
   "language": "python",
   "name": "python3"
  },
  "language_info": {
   "codemirror_mode": {
    "name": "ipython",
    "version": 3
   },
   "file_extension": ".py",
   "mimetype": "text/x-python",
   "name": "python",
   "nbconvert_exporter": "python",
   "pygments_lexer": "ipython3",
   "version": "3.11.5"
  }
 },
 "nbformat": 4,
 "nbformat_minor": 2
}
