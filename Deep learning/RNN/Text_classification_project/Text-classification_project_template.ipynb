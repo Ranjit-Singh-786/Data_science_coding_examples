{
 "cells": [
  {
   "cell_type": "markdown",
   "metadata": {
    "id": "LNPW-9PDX31H"
   },
   "source": [
    "## How to do integer encoding using keras"
   ]
  },
  {
   "cell_type": "code",
   "execution_count": 2,
   "metadata": {
    "executionInfo": {
     "elapsed": 1087,
     "status": "ok",
     "timestamp": 1685274840976,
     "user": {
      "displayName": "Boktiar Ahmed Bappy",
      "userId": "10381972055342951581"
     },
     "user_tz": -360
    },
    "id": "SX1YuKQ4UDon"
   },
   "outputs": [],
   "source": [
    "import numpy as np\n",
    "import pandas as pd\n",
    "import nltk\n",
    "import tensorflow\n",
    "from tensorflow.keras.utils import pad_sequences\n",
    "from nltk.corpus import stopwords\n",
    "from nltk.stem import PorterStemmer\n",
    "from nltk.stem import WordNetLemmatizer\n",
    "from tensorflow.keras.models import Sequential\n",
    "from sklearn.feature_extraction.text import CountVectorizer\n",
    "from sklearn.feature_extraction.text import TfidfVectorizer\n",
    "from tensorflow.keras.layers import LSTM,Dense , SimpleRNN , Embedding , Dropout\n",
    "from tensorflow.keras.preprocessing.text import Tokenizer\n",
    "from sklearn.model_selection import train_test_split\n",
    "import string\n",
    "# from textblob import TextBlob\n",
    "import joblib"
   ]
  },
  {
   "cell_type": "code",
   "execution_count": 3,
   "metadata": {
    "executionInfo": {
     "elapsed": 578,
     "status": "ok",
     "timestamp": 1685274853593,
     "user": {
      "displayName": "Boktiar Ahmed Bappy",
      "userId": "10381972055342951581"
     },
     "user_tz": -360
    },
    "id": "KB7xfbIoWmy3"
   },
   "outputs": [
    {
     "data": {
      "text/plain": [
       "16000"
      ]
     },
     "execution_count": 3,
     "metadata": {},
     "output_type": "execute_result"
    }
   ],
   "source": [
    "len(open('data/train.txt','r').readlines())"
   ]
  },
  {
   "cell_type": "code",
   "execution_count": 4,
   "metadata": {},
   "outputs": [
    {
     "data": {
      "text/plain": [
       "2000"
      ]
     },
     "execution_count": 4,
     "metadata": {},
     "output_type": "execute_result"
    }
   ],
   "source": [
    "len(open('data/test.txt','r').readlines())"
   ]
  },
  {
   "cell_type": "code",
   "execution_count": 5,
   "metadata": {},
   "outputs": [
    {
     "data": {
      "text/plain": [
       "2000"
      ]
     },
     "execution_count": 5,
     "metadata": {},
     "output_type": "execute_result"
    }
   ],
   "source": [
    "len(open('data/val.txt','r').readlines())"
   ]
  },
  {
   "cell_type": "code",
   "execution_count": 6,
   "metadata": {},
   "outputs": [
    {
     "data": {
      "text/plain": [
       "'im feeling quite sad and sorry for myself but ill snap out of it soon;sadness\\n'"
      ]
     },
     "execution_count": 6,
     "metadata": {},
     "output_type": "execute_result"
    }
   ],
   "source": [
    "open('data/val.txt','r').readlines()[0]\n",
    "# printing first element of dataset"
   ]
  },
  {
   "cell_type": "code",
   "execution_count": 7,
   "metadata": {},
   "outputs": [],
   "source": [
    "# reading the data from .txt file\n",
    "\n",
    "train = open('data/train.txt','r').readlines()\n",
    "test = open('data/test.txt','r').readlines()\n",
    "val = open('data/val.txt','r').readlines()"
   ]
  },
  {
   "cell_type": "code",
   "execution_count": 8,
   "metadata": {},
   "outputs": [
    {
     "data": {
      "text/plain": [
       "20000"
      ]
     },
     "execution_count": 8,
     "metadata": {},
     "output_type": "execute_result"
    }
   ],
   "source": [
    "full_data = train + test + val\n",
    "len(full_data)"
   ]
  },
  {
   "cell_type": "markdown",
   "metadata": {},
   "source": [
    "## creating independent and dependent variable"
   ]
  },
  {
   "cell_type": "code",
   "execution_count": 9,
   "metadata": {},
   "outputs": [],
   "source": [
    "# extracting X and Y variable\n",
    "\n",
    "x = []\n",
    "y = []\n",
    "for item in full_data:\n",
    "    text,label = item.split(';')\n",
    "    label = label.replace('\\n','')\n",
    "    x.append(text)\n",
    "    y.append(label)"
   ]
  },
  {
   "cell_type": "markdown",
   "metadata": {},
   "source": [
    "## Text cleaning steps"
   ]
  },
  {
   "cell_type": "code",
   "execution_count": 10,
   "metadata": {},
   "outputs": [],
   "source": [
    "# first we will do lowerise all the text\n",
    "# second we will perform word tokenization\n",
    "# third we will remove stopwords\n",
    "# fourth we will perform stemming or lemmataization on each word\n",
    "# then make a clean text \n",
    "stem = PorterStemmer()\n",
    "\n",
    "def text_cleaning(sentences):\n",
    "    clean_text = []\n",
    "    for sent in sentences:\n",
    "        lower_sent = sent.lower()   # first lowerising the sentence\n",
    "        word_tokenize = nltk.word_tokenize(sent)   #performing word_tokenization\n",
    "        removed_stop_words = [word for word in word_tokenize if word not in stopwords.words('english')]  # remove stopwords\n",
    "        stemmed_sent = [stem.stem(word) for word in removed_stop_words]  # apply stemming\n",
    "        cleaned = \" \".join(stemmed_sent)  # joining our final words\n",
    "        clean_text.append(cleaned)      # appending cleaned text in a separate list\n",
    "    return clean_text"
   ]
  },
  {
   "cell_type": "code",
   "execution_count": 11,
   "metadata": {},
   "outputs": [],
   "source": [
    "cleaned_data = text_cleaning(x)"
   ]
  },
  {
   "cell_type": "code",
   "execution_count": 12,
   "metadata": {},
   "outputs": [
    {
     "data": {
      "text/plain": [
       "'ive been feeling a little burdened lately wasnt sure why that was'"
      ]
     },
     "execution_count": 12,
     "metadata": {},
     "output_type": "execute_result"
    }
   ],
   "source": [
    "x[5]\n",
    "\n",
    "# original text"
   ]
  },
  {
   "cell_type": "code",
   "execution_count": 13,
   "metadata": {},
   "outputs": [
    {
     "data": {
      "text/plain": [
       "'ive feel littl burden late wasnt sure'"
      ]
     },
     "execution_count": 13,
     "metadata": {},
     "output_type": "execute_result"
    }
   ],
   "source": [
    "cleaned_data[5]\n",
    "# after cleaning"
   ]
  },
  {
   "cell_type": "markdown",
   "metadata": {},
   "source": [
    "## Tokenaization"
   ]
  },
  {
   "cell_type": "code",
   "execution_count": 14,
   "metadata": {
    "executionInfo": {
     "elapsed": 3615,
     "status": "ok",
     "timestamp": 1685274921180,
     "user": {
      "displayName": "Boktiar Ahmed Bappy",
      "userId": "10381972055342951581"
     },
     "user_tz": -360
    },
    "id": "pOJzJ3vzUOkh"
   },
   "outputs": [],
   "source": [
    "## creating the object Tokenizer\n",
    "tokenizer = Tokenizer(oov_token='<nothing>')\n",
    "# we can also pass num_word parameter"
   ]
  },
  {
   "cell_type": "code",
   "execution_count": 15,
   "metadata": {
    "executionInfo": {
     "elapsed": 606,
     "status": "ok",
     "timestamp": 1685274925850,
     "user": {
      "displayName": "Boktiar Ahmed Bappy",
      "userId": "10381972055342951581"
     },
     "user_tz": -360
    },
    "id": "njO0da4-Unl8"
   },
   "outputs": [],
   "source": [
    "tokenizer.fit_on_texts(cleaned_data)\n",
    "#we are fitting tokenizer on our cleaned dataset"
   ]
  },
  {
   "cell_type": "code",
   "execution_count": 16,
   "metadata": {
    "colab": {
     "base_uri": "https://localhost:8080/"
    },
    "executionInfo": {
     "elapsed": 549,
     "status": "ok",
     "timestamp": 1685274937992,
     "user": {
      "displayName": "Boktiar Ahmed Bappy",
      "userId": "10381972055342951581"
     },
     "user_tz": -360
    },
    "id": "GrKpFbzRUucs",
    "outputId": "3cca0f08-016c-421f-e74b-98addfb6f65f"
   },
   "outputs": [
    {
     "data": {
      "text/plain": [
       "['word_index_tokens.lb']"
      ]
     },
     "execution_count": 16,
     "metadata": {},
     "output_type": "execute_result"
    }
   ],
   "source": [
    "tokenizer.word_index\n",
    "joblib.dump(tokenizer.word_index,'word_index_tokens.lb')\n",
    "# to check initialize tokens for the word it return a dict, key -> word , value -> initialized token no."
   ]
  },
  {
   "cell_type": "code",
   "execution_count": 17,
   "metadata": {
    "colab": {
     "base_uri": "https://localhost:8080/"
    },
    "executionInfo": {
     "elapsed": 795,
     "status": "ok",
     "timestamp": 1685275001698,
     "user": {
      "displayName": "Boktiar Ahmed Bappy",
      "userId": "10381972055342951581"
     },
     "user_tz": -360
    },
    "id": "jNcKSYUYegGl",
    "outputId": "140525ff-bba0-4f95-bafe-f69b3a4e163c"
   },
   "outputs": [
    {
     "data": {
      "text/plain": [
       "OrderedDict([('didnt', 334),\n",
       "             ('feel', 21204),\n",
       "             ('humili', 69),\n",
       "             ('go', 1101),\n",
       "             ('hopeless', 81),\n",
       "             ('damn', 54),\n",
       "             ('hope', 320),\n",
       "             ('around', 382),\n",
       "             ('someon', 335),\n",
       "             ('care', 254),\n",
       "             ('awak', 22),\n",
       "             ('im', 3055),\n",
       "             ('grab', 22),\n",
       "             ('minut', 79),\n",
       "             ('post', 234),\n",
       "             ('greedi', 79),\n",
       "             ('wrong', 152),\n",
       "             ('ever', 260),\n",
       "             ('nostalg', 63),\n",
       "             ('fireplac', 3),\n",
       "             ('know', 1192),\n",
       "             ('still', 743),\n",
       "             ('properti', 5),\n",
       "             ('grouchi', 35),\n",
       "             ('ive', 723),\n",
       "             ('littl', 932),\n",
       "             ('burden', 95),\n",
       "             ('late', 167),\n",
       "             ('wasnt', 119),\n",
       "             ('sure', 310),\n",
       "             ('take', 403),\n",
       "             ('milligram', 1),\n",
       "             ('time', 1215),\n",
       "             ('recommend', 19),\n",
       "             ('amount', 51),\n",
       "             ('fallen', 7),\n",
       "             ('asleep', 19),\n",
       "             ('lot', 323),\n",
       "             ('faster', 14),\n",
       "             ('also', 423),\n",
       "             ('like', 3760),\n",
       "             ('funni', 93),\n",
       "             ('confus', 96),\n",
       "             ('life', 685),\n",
       "             ('teenag', 24),\n",
       "             ('jade', 51),\n",
       "             ('year', 408),\n",
       "             ('old', 151),\n",
       "             ('man', 107),\n",
       "             ('petrona', 2),\n",
       "             ('perform', 36),\n",
       "             ('well', 348),\n",
       "             ('made', 368),\n",
       "             ('huge', 37),\n",
       "             ('profit', 5),\n",
       "             ('romant', 66),\n",
       "             ('make', 1144),\n",
       "             ('suffer', 89),\n",
       "             ('see', 515),\n",
       "             ('mean', 192),\n",
       "             ('someth', 631),\n",
       "             ('run', 195),\n",
       "             ('divin', 71),\n",
       "             ('experi', 129),\n",
       "             ('expect', 97),\n",
       "             ('type', 77),\n",
       "             ('spiritu', 23),\n",
       "             ('encount', 13),\n",
       "             ('think', 904),\n",
       "             ('easiest', 2),\n",
       "             ('dissatisfi', 69),\n",
       "             ('low', 107),\n",
       "             ('energi', 90),\n",
       "             ('thirsti', 3),\n",
       "             ('immens', 12),\n",
       "             ('sympathi', 16),\n",
       "             ('gener', 235),\n",
       "             ('point', 182),\n",
       "             ('possibl', 104),\n",
       "             ('proto', 1),\n",
       "             ('writer', 33),\n",
       "             ('tri', 510),\n",
       "             ('find', 325),\n",
       "             ('write', 325),\n",
       "             ('corner', 19),\n",
       "             ('sign', 25),\n",
       "             ('agent', 5),\n",
       "             ('let', 257),\n",
       "             ('alon', 194),\n",
       "             ('publish', 19),\n",
       "             ('contract', 16),\n",
       "             ('preciou', 74),\n",
       "             ('reassur', 58),\n",
       "             ('anxieti', 35),\n",
       "             ('side', 88),\n",
       "             ('realli', 1182),\n",
       "             ('embarrass', 100),\n",
       "             ('pretti', 491),\n",
       "             ('pathet', 72),\n",
       "             ('start', 575),\n",
       "             ('sentiment', 45),\n",
       "             ('doll', 9),\n",
       "             ('child', 103),\n",
       "             ('began', 70),\n",
       "             ('collect', 21),\n",
       "             ('vintag', 9),\n",
       "             ('barbi', 3),\n",
       "             ('sixti', 2),\n",
       "             ('compromis', 7),\n",
       "             ('skeptic', 47),\n",
       "             ('valu', 101),\n",
       "             ('everi', 311),\n",
       "             ('unit', 7),\n",
       "             ('work', 590),\n",
       "             ('put', 228),\n",
       "             ('irrit', 173),\n",
       "             ('reject', 87),\n",
       "             ('without', 264),\n",
       "             ('anyon', 160),\n",
       "             ('anyth', 278),\n",
       "             ('say', 563),\n",
       "             ('complet', 196),\n",
       "             ('overwhelm', 187),\n",
       "             ('two', 186),\n",
       "             ('strategi', 8),\n",
       "             ('help', 432),\n",
       "             ('ground', 45),\n",
       "             ('pour', 11),\n",
       "             ('heart', 204),\n",
       "             ('journal', 19),\n",
       "             ('form', 26),\n",
       "             ('letter', 30),\n",
       "             ('god', 190),\n",
       "             ('end', 247),\n",
       "             ('list', 69),\n",
       "             ('five', 33),\n",
       "             ('thing', 841),\n",
       "             ('grate', 58),\n",
       "             ('amus', 47),\n",
       "             ('delight', 51),\n",
       "             ('abl', 223),\n",
       "             ('chai', 2),\n",
       "             ('lifelin', 2),\n",
       "             ('support', 267),\n",
       "             ('encourag', 25),\n",
       "             ('great', 140),\n",
       "             ('glad', 111),\n",
       "             ('alreadi', 196),\n",
       "             ('fuck', 150),\n",
       "             ('though', 365),\n",
       "             ('dont', 596),\n",
       "             ('usual', 125),\n",
       "             ('eat', 141),\n",
       "             ('morn', 186),\n",
       "             ('love', 988),\n",
       "             ('wish', 138),\n",
       "             ('best', 124),\n",
       "             ('longer', 83),\n",
       "             ('toler', 10),\n",
       "             ('effect', 47),\n",
       "             ('bm', 1),\n",
       "             ('live', 317),\n",
       "             ('fact', 142),\n",
       "             ('turn', 127),\n",
       "             ('bitter', 72),\n",
       "             ('angri', 158),\n",
       "             ('person', 370),\n",
       "             ('alway', 454),\n",
       "             ('particularli', 103),\n",
       "             ('kind', 287),\n",
       "             ('peopl', 857),\n",
       "             ('stress', 229),\n",
       "             ('inhibit', 34),\n",
       "             ('els', 146),\n",
       "             ('kitchen', 19),\n",
       "             ('paint', 39),\n",
       "             ('pictur', 79),\n",
       "             ('becom', 168),\n",
       "             ('defeat', 72),\n",
       "             ('kinda', 77),\n",
       "             ('appal', 18),\n",
       "             ('need', 636),\n",
       "             ('explain', 59),\n",
       "             ('wide', 11),\n",
       "             ('lenghth', 1),\n",
       "             ('bodi', 155),\n",
       "             ('measur', 13),\n",
       "             ('etc', 53),\n",
       "             ('pp', 1),\n",
       "             ('superior', 66),\n",
       "             ('dead', 25),\n",
       "             ('chicken', 12),\n",
       "             ('griev', 9),\n",
       "             ('get', 1228),\n",
       "             ('giddi', 8),\n",
       "             ('eleg', 29),\n",
       "             ('perfectli', 23),\n",
       "             ('fit', 59),\n",
       "             ('pencil', 5),\n",
       "             ('skirt', 6),\n",
       "             ('rememb', 250),\n",
       "             ('acut', 4),\n",
       "             ('distress', 49),\n",
       "             ('day', 851),\n",
       "             ('seen', 47),\n",
       "             ('heard', 42),\n",
       "             ('read', 303),\n",
       "             ('past', 139),\n",
       "             ('coupl', 76),\n",
       "             ('left', 268),\n",
       "             ('impress', 93),\n",
       "             ('compani', 43),\n",
       "             ('climb', 17),\n",
       "             ('hill', 11),\n",
       "             ('frustrat', 136),\n",
       "             ('id', 164),\n",
       "             ('much', 618),\n",
       "             ('pace', 21),\n",
       "             ('entir', 61),\n",
       "             ('cours', 69),\n",
       "             ('factor', 7),\n",
       "             ('never', 329),\n",
       "             ('hamper', 2),\n",
       "             ('dent', 2),\n",
       "             ('imagin', 61),\n",
       "             ('real', 129),\n",
       "             ('scenario', 5),\n",
       "             ('would', 798),\n",
       "             ('emot', 231),\n",
       "             ('connect', 72),\n",
       "             ('enough', 295),\n",
       "             ('total', 130),\n",
       "             ('accept', 252),\n",
       "             ('safe', 107),\n",
       "             ('moral', 18),\n",
       "             ('close', 107),\n",
       "             ('prolong', 3),\n",
       "             ('physic', 73),\n",
       "             ('contact', 24),\n",
       "             ('sex', 35),\n",
       "             ('subsequ', 2),\n",
       "             ('content', 140),\n",
       "             ('creativ', 102),\n",
       "             ('howev', 70),\n",
       "             ('want', 1064),\n",
       "             ('caus', 112),\n",
       "             ('less', 308),\n",
       "             ('splendid', 14),\n",
       "             ('self', 146),\n",
       "             ('step', 63),\n",
       "             ('away', 277),\n",
       "             ('bit', 650),\n",
       "             ('rude', 76),\n",
       "             ('elderli', 3),\n",
       "             ('gentleman', 1),\n",
       "             ('ask', 202),\n",
       "             ('gift', 53),\n",
       "             ('christma', 63),\n",
       "             ('mild', 7),\n",
       "             ('greed', 4),\n",
       "             ('protect', 37),\n",
       "             ('small', 77),\n",
       "             ('season', 43),\n",
       "             ('word', 171),\n",
       "             ('plan', 99),\n",
       "             ('share', 181),\n",
       "             ('everyday', 39),\n",
       "             ('stori', 126),\n",
       "             ('travel', 31),\n",
       "             ('adventur', 73),\n",
       "             ('inspir', 114),\n",
       "             ('handmad', 2),\n",
       "             ('creation', 8),\n",
       "             ('tree', 36),\n",
       "             ('got', 347),\n",
       "             ('festiv', 68),\n",
       "             ('spur', 3),\n",
       "             ('book', 196),\n",
       "             ('worn', 11),\n",
       "             ('conceal', 3),\n",
       "             ('brave', 87),\n",
       "             ('pale', 6),\n",
       "             ('perfect', 114),\n",
       "             ('strongli', 44),\n",
       "             ('passion', 164),\n",
       "             ('jerk', 5),\n",
       "             ('decid', 133),\n",
       "             ('poke', 7),\n",
       "             ('fun', 81),\n",
       "             ('us', 188),\n",
       "             ('discourag', 83),\n",
       "             ('rob', 5),\n",
       "             ('peter', 9),\n",
       "             ('pay', 46),\n",
       "             ('paul', 5),\n",
       "             ('cow', 7),\n",
       "             ('cant', 376),\n",
       "             ('afford', 9),\n",
       "             ('way', 641),\n",
       "             ('listless', 55),\n",
       "             ('new', 245),\n",
       "             ('differ', 120),\n",
       "             ('lost', 155),\n",
       "             ('special', 117),\n",
       "             ('mind', 136),\n",
       "             ('worri', 101),\n",
       "             ('sane', 2),\n",
       "             ('felt', 326),\n",
       "             ('mani', 292),\n",
       "             ('said', 220),\n",
       "             ('sam', 8),\n",
       "             ('guarante', 5),\n",
       "             ('use', 387),\n",
       "             ('paragraph', 2),\n",
       "             ('tell', 268),\n",
       "             ('sad', 195),\n",
       "             ('first', 226),\n",
       "             ('home', 282),\n",
       "             ('mine', 66),\n",
       "             ('boat', 9),\n",
       "             ('trip', 55),\n",
       "             ('denmark', 1),\n",
       "             ('stop', 199),\n",
       "             ('cold', 139),\n",
       "             ('hot', 98),\n",
       "             ('dough', 1),\n",
       "             ('found', 123),\n",
       "             ('selfish', 83),\n",
       "             ('spoil', 5),\n",
       "             ('stymi', 1),\n",
       "             ('wrote', 38),\n",
       "             ('unsur', 82),\n",
       "             ('might', 172),\n",
       "             ('somewher', 30),\n",
       "             ('unintend', 1),\n",
       "             ('bag', 30),\n",
       "             ('qaf', 1),\n",
       "             ('look', 517),\n",
       "             ('cryin', 1),\n",
       "             ('jacynth', 1),\n",
       "             ('lookin', 1),\n",
       "             ('good', 499),\n",
       "             ('feelin', 8),\n",
       "             ('gorgeou', 73),\n",
       "             ('rupaul', 1),\n",
       "             ('skin', 62),\n",
       "             ('scissor', 3),\n",
       "             ('sister', 45),\n",
       "             ('valentin', 3),\n",
       "             ('sun', 36),\n",
       "             ('fed', 7),\n",
       "             ('kayl', 1),\n",
       "             ('daddi', 7),\n",
       "             ('gerl', 1),\n",
       "             ('unkind', 14),\n",
       "             ('u', 38),\n",
       "             ('basic', 28),\n",
       "             ('fake', 66),\n",
       "             ('realm', 2),\n",
       "             ('scienc', 9),\n",
       "             ('fiction', 10),\n",
       "             ('hate', 359),\n",
       "             ('dad', 44),\n",
       "             ('roof', 5),\n",
       "             ('give', 294),\n",
       "             ('excus', 16),\n",
       "             ('asshol', 4),\n",
       "             ('he', 76),\n",
       "             ('provid', 42),\n",
       "             ('unwelcom', 72),\n",
       "             ('ill', 207),\n",
       "             ('leav', 209),\n",
       "             ('keep', 262),\n",
       "             ('pleasantli', 11),\n",
       "             ('surpris', 107),\n",
       "             ('eas', 18),\n",
       "             ('situat', 112),\n",
       "             ('anymor', 91),\n",
       "             ('vigor', 9),\n",
       "             ('sexual', 31),\n",
       "             ('activ', 46),\n",
       "             ('come', 461),\n",
       "             ('ye', 49),\n",
       "             ('misspelt', 1),\n",
       "             ('cum', 3),\n",
       "             ('part', 197),\n",
       "             ('begin', 107),\n",
       "             ('fall', 77),\n",
       "             ('mom', 88),\n",
       "             ('grace', 35),\n",
       "             ('warm', 43),\n",
       "             ('smile', 76),\n",
       "             ('nurtur', 6),\n",
       "             ('heal', 31),\n",
       "             ('talk', 275),\n",
       "             ('brother', 32),\n",
       "             ('law', 17),\n",
       "             ('extrem', 114),\n",
       "             ('popular', 84),\n",
       "             ('one', 800),\n",
       "             ('stiff', 4),\n",
       "             ('ate', 21),\n",
       "             ('could', 567),\n",
       "             ('gentl', 64),\n",
       "             ('tingl', 6),\n",
       "             ('throughout', 28),\n",
       "             ('almost', 152),\n",
       "             ('place', 201),\n",
       "             ('cellular', 1),\n",
       "             ('level', 51),\n",
       "             ('pressur', 120),\n",
       "             ('young', 64),\n",
       "             ('beauti', 102),\n",
       "             ('thin', 14),\n",
       "             ('depend', 28),\n",
       "             ('trend', 5),\n",
       "             ('girl', 186),\n",
       "             ('rejuven', 5),\n",
       "             ('butt', 10),\n",
       "             ('implant', 1),\n",
       "             ('sever', 52),\n",
       "             ('week', 315),\n",
       "             ('tortur', 103),\n",
       "             ('hallucin', 2),\n",
       "             ('move', 159),\n",
       "             ('figur', 51),\n",
       "             ('sound', 63),\n",
       "             ('vibrat', 9),\n",
       "             ('nearli', 27),\n",
       "             ('finish', 98),\n",
       "             ('detox', 4),\n",
       "             ('amaz', 252),\n",
       "             ('back', 510),\n",
       "             ('former', 10),\n",
       "             ('prayer', 21),\n",
       "             ('other', 188),\n",
       "             ('consid', 64),\n",
       "             ('may', 173),\n",
       "             ('deserv', 45),\n",
       "             ('answer', 59),\n",
       "             ('pain', 195),\n",
       "             ('parent', 95),\n",
       "             ('enrag', 14),\n",
       "             ('violent', 77),\n",
       "             ('roller', 5),\n",
       "             ('coaster', 4),\n",
       "             ('suppos', 108),\n",
       "             ('unpleas', 45),\n",
       "             ('truth', 68),\n",
       "             ('havent', 92),\n",
       "             ('faith', 99),\n",
       "             ('dwell', 7),\n",
       "             ('doubt', 80),\n",
       "             ('uncertainti', 7),\n",
       "             ('bought', 24),\n",
       "             ('clearli', 20),\n",
       "             ('makeup', 14),\n",
       "             ('miser', 91),\n",
       "             ('c', 18),\n",
       "             ('proudest', 1),\n",
       "             ('mum', 22),\n",
       "             ('earth', 26),\n",
       "             ('famili', 237),\n",
       "             ('matter', 103),\n",
       "             ('michel', 2),\n",
       "             ('goe', 51),\n",
       "             ('ballist', 2),\n",
       "             ('necessarili', 6),\n",
       "             ('f', 11),\n",
       "             ('bomb', 11),\n",
       "             ('necessari', 16),\n",
       "             ('print', 12),\n",
       "             ('ovari', 1),\n",
       "             ('ach', 105),\n",
       "             ('chri', 7),\n",
       "             ('mostli', 42),\n",
       "             ('took', 74),\n",
       "             ('unimport', 66),\n",
       "             ('stuff', 101),\n",
       "             ('tire', 139),\n",
       "             ('readi', 68),\n",
       "             ('given', 58),\n",
       "             ('unsuit', 1),\n",
       "             ('imag', 36),\n",
       "             ('blame', 36),\n",
       "             ('result', 66),\n",
       "             ('sit', 164),\n",
       "             ('success', 109),\n",
       "             ('manag', 71),\n",
       "             ('stretch', 16),\n",
       "             ('mxm', 1),\n",
       "             ('canva', 9),\n",
       "             ('achiev', 38),\n",
       "             ('worthwhil', 65),\n",
       "             ('usag', 2),\n",
       "             ('money', 79),\n",
       "             ('futur', 93),\n",
       "             ('brief', 5),\n",
       "             ('nay', 2),\n",
       "             ('import', 152),\n",
       "             ('honor', 72),\n",
       "             ('influenc', 13),\n",
       "             ('talent', 95),\n",
       "             ('fulli', 34),\n",
       "             ('aliv', 22),\n",
       "             ('woman', 79),\n",
       "             ('anger', 59),\n",
       "             ('firey', 1),\n",
       "             ('piec', 63),\n",
       "             ('garbag', 7),\n",
       "             ('leann', 2),\n",
       "             ('thought', 337),\n",
       "             ('miss', 221),\n",
       "             ('drove', 14),\n",
       "             ('dannika', 1),\n",
       "             ('school', 169),\n",
       "             ('rush', 89),\n",
       "             ('greet', 7),\n",
       "             ('hellip', 13),\n",
       "             ('furiou', 22),\n",
       "             ('shooter', 1),\n",
       "             ('happi', 345),\n",
       "             ('excit', 192),\n",
       "             ('sinc', 196),\n",
       "             ('learn', 159),\n",
       "             ('show', 151),\n",
       "             ('hors', 14),\n",
       "             ('trust', 131),\n",
       "             ('relax', 107),\n",
       "             ('quiet', 29),\n",
       "             ('handl', 35),\n",
       "             ('frequent', 10),\n",
       "             ('decemb', 5),\n",
       "             ('done', 156),\n",
       "             ('smug', 53),\n",
       "             ('realiz', 147),\n",
       "             ('everyth', 268),\n",
       "             ('ok', 113),\n",
       "             ('worthless', 69),\n",
       "             ('struggl', 81),\n",
       "             ('lay', 26),\n",
       "             ('bed', 96),\n",
       "             ('dark', 45),\n",
       "             ('terrifi', 95),\n",
       "             ('least', 133),\n",
       "             ('meet', 92),\n",
       "             ('airport', 11),\n",
       "             ('arm', 62),\n",
       "             ('today', 413),\n",
       "             ('mood', 58),\n",
       "             ('strang', 191),\n",
       "             ('guess', 169),\n",
       "             ('pass', 85),\n",
       "             ('involv', 29),\n",
       "             ('car', 57),\n",
       "             ('accid', 13),\n",
       "             ('bring', 76),\n",
       "             ('present', 65),\n",
       "             ('exam', 35),\n",
       "             ('fli', 25),\n",
       "             ('colour', 20),\n",
       "             ('animos', 1),\n",
       "             ('toward', 186),\n",
       "             ('dog', 39),\n",
       "             ('understand', 166),\n",
       "             ('throw', 46),\n",
       "             ('shitti', 86),\n",
       "             ('shit', 49),\n",
       "             ('paper', 37),\n",
       "             ('wryli', 1),\n",
       "             ('banal', 1),\n",
       "             ('comedi', 6),\n",
       "             ('error', 2),\n",
       "             ('vital', 50),\n",
       "             ('hear', 123),\n",
       "             ('owner', 5),\n",
       "             ('victim', 41),\n",
       "             ('associ', 12),\n",
       "             ('attorney', 1),\n",
       "             ('goodby', 6),\n",
       "             ('fam', 1),\n",
       "             ('theyr', 35),\n",
       "             ('cri', 115),\n",
       "             ('heartless', 30),\n",
       "             ('bitch', 31),\n",
       "             ('hey', 16),\n",
       "             ('spend', 104),\n",
       "             ('anoth', 166),\n",
       "             ('countri', 61),\n",
       "             ('wont', 97),\n",
       "             ('lili', 3),\n",
       "             ('opportun', 55),\n",
       "             ('last', 271),\n",
       "             ('short', 50),\n",
       "             ('month', 163),\n",
       "             ('alba', 1),\n",
       "             ('ton', 13),\n",
       "             ('catch', 33),\n",
       "             ('hard', 160),\n",
       "             ('obtain', 8),\n",
       "             ('high', 62),\n",
       "             ('technic', 2),\n",
       "             ('skill', 28),\n",
       "             ('wushu', 2),\n",
       "             ('asham', 98),\n",
       "             ('somehow', 83),\n",
       "             ('motiv', 38),\n",
       "             ('saw', 53),\n",
       "             ('kid', 143),\n",
       "             ('whole', 160),\n",
       "             ('heartedli', 3),\n",
       "             ('despit', 45),\n",
       "             ('tired', 6),\n",
       "             ('spritz', 2),\n",
       "             ('toner', 1),\n",
       "             ('calm', 87),\n",
       "             ('sooth', 7),\n",
       "             ('effort', 54),\n",
       "             ('requir', 19),\n",
       "             ('better', 268),\n",
       "             ('whether', 74),\n",
       "             ('member', 41),\n",
       "             ('colleg', 38),\n",
       "             ('friend', 400),\n",
       "             ('neighbor', 6),\n",
       "             ('street', 31),\n",
       "             ('even', 758),\n",
       "             ('stranger', 19),\n",
       "             ('soon', 76),\n",
       "             ('on', 2),\n",
       "             ('coron', 1),\n",
       "             ('serious', 46),\n",
       "             ('alright', 10),\n",
       "             ('class', 128),\n",
       "             ('combin', 22),\n",
       "             ('unsuccess', 14),\n",
       "             ('horribl', 102),\n",
       "             ('grappl', 3),\n",
       "             ('rare', 30),\n",
       "             ('advanc', 16),\n",
       "             ('stick', 25),\n",
       "             ('rule', 15),\n",
       "             ('onlin', 24),\n",
       "             ('wouldnt', 52),\n",
       "             ('prepar', 40),\n",
       "             ('somebodi', 19),\n",
       "             ('face', 161),\n",
       "             ('group', 58),\n",
       "             ('idea', 123),\n",
       "             ('ugli', 77),\n",
       "             ('inclin', 7),\n",
       "             ('wear', 124),\n",
       "             ('ratti', 2),\n",
       "             ('jean', 6),\n",
       "             ('sweatshirt', 3),\n",
       "             ('dress', 48),\n",
       "             ('pair', 23),\n",
       "             ('heel', 10),\n",
       "             ('hous', 112),\n",
       "             ('boost', 9),\n",
       "             ('esteem', 7),\n",
       "             ('slightli', 116),\n",
       "             ('definit', 83),\n",
       "             ('bother', 119),\n",
       "             ('buy', 82),\n",
       "             ('homesick', 72),\n",
       "             ('yet', 182),\n",
       "             ('danc', 41),\n",
       "             ('workout', 26),\n",
       "             ('fabul', 56),\n",
       "             ('eye', 122),\n",
       "             ('touch', 79),\n",
       "             ('assuredli', 2),\n",
       "             ('return', 51),\n",
       "             ('shall', 19),\n",
       "             ('vain', 74),\n",
       "             ('friday', 26),\n",
       "             ('aw', 92),\n",
       "             ('cramp', 13),\n",
       "             ('honour', 58),\n",
       "             ('call', 199),\n",
       "             ('brotherhood', 2),\n",
       "             ('begun', 13),\n",
       "             ('apprehens', 75),\n",
       "             ('thick', 10),\n",
       "             ('black', 33),\n",
       "             ('rain', 27),\n",
       "             ('cloud', 11),\n",
       "             ('storm', 14),\n",
       "             ('sky', 22),\n",
       "             ('town', 21),\n",
       "             ('state', 59),\n",
       "             ('reason', 164),\n",
       "             ('fear', 131),\n",
       "             ('unsaf', 4),\n",
       "             ('shaken', 72),\n",
       "             ('tsa', 2),\n",
       "             ('quit', 318),\n",
       "             ('pull', 62),\n",
       "             ('croissant', 2),\n",
       "             ('lunch', 16),\n",
       "             ('awkward', 95),\n",
       "             ('overcompens', 1),\n",
       "             ('final', 129),\n",
       "             ('companion', 8),\n",
       "             ('especi', 148),\n",
       "             ('lone', 112),\n",
       "             ('disappoint', 101),\n",
       "             ('blog', 233),\n",
       "             ('img', 34),\n",
       "             ('src', 42),\n",
       "             ('http', 249),\n",
       "             ('eager', 65),\n",
       "             ('quilt', 12),\n",
       "             ('horni', 61),\n",
       "             ('poem', 11),\n",
       "             ('uncomfort', 84),\n",
       "             ('sens', 134),\n",
       "             ('land', 15),\n",
       "             ('rais', 23),\n",
       "             ('son', 45),\n",
       "             ('father', 48),\n",
       "             ('ancestr', 2),\n",
       "             ('shower', 21),\n",
       "             ('question', 91),\n",
       "             ('fantast', 56),\n",
       "             ('confid', 129),\n",
       "             ('movement', 17),\n",
       "             ('effortlessli', 1),\n",
       "             ('energet', 73),\n",
       "             ('bounci', 26),\n",
       "             ('gym', 19),\n",
       "             ('outsid', 68),\n",
       "             ('pram', 1),\n",
       "             ('long', 277),\n",
       "             ('walk', 191),\n",
       "             ('often', 182),\n",
       "             ('three', 64),\n",
       "             ('strong', 115),\n",
       "             ('burst', 12),\n",
       "             ('tear', 57),\n",
       "             ('devast', 81),\n",
       "             ('releas', 26),\n",
       "             ('seem', 206),\n",
       "             ('rich', 79),\n",
       "             ('space', 50),\n",
       "             ('dump', 13),\n",
       "             ('pumpkin', 2),\n",
       "             ('spice', 6),\n",
       "             ('latt', 1),\n",
       "             ('coffe', 23),\n",
       "             ('mayb', 147),\n",
       "             ('badli', 28),\n",
       "             ('she', 66),\n",
       "             ('hyperchondria', 1),\n",
       "             ('exagger', 4),\n",
       "             ('habit', 16),\n",
       "             ('openli', 4),\n",
       "             ('clench', 3),\n",
       "             ('assur', 73),\n",
       "             ('right', 456),\n",
       "             ('name', 69),\n",
       "             ('utterli', 38),\n",
       "             ('affirm', 8),\n",
       "             ('perhap', 47),\n",
       "             ('offic', 36),\n",
       "             ('nice', 82),\n",
       "             ('hair', 75),\n",
       "             ('rebelli', 54),\n",
       "             ('celebr', 38),\n",
       "             ('eid', 2),\n",
       "             ('wash', 20),\n",
       "             ('sleep', 171),\n",
       "             ('depriv', 58),\n",
       "             ('night', 188),\n",
       "             ('bloge', 1),\n",
       "             ('amp', 109),\n",
       "             ('cat', 25),\n",
       "             ('lucki', 89),\n",
       "             ('woke', 96),\n",
       "             ('sick', 78),\n",
       "             ('witch', 2),\n",
       "             ('hunt', 9),\n",
       "             ('repress', 26),\n",
       "             ('memori', 54),\n",
       "             ('therapi', 12),\n",
       "             ('disgust', 81),\n",
       "             ('race', 57),\n",
       "             ('nation', 14),\n",
       "             ('laugh', 54),\n",
       "             ('bitterli', 2),\n",
       "             ('knew', 91),\n",
       "             ('forev', 24),\n",
       "             ('mellow', 65),\n",
       "             ('soft', 22),\n",
       "             ('easi', 49),\n",
       "             ('told', 125),\n",
       "             ('indecis', 34),\n",
       "             ('genr', 10),\n",
       "             ('disservic', 3),\n",
       "             ('resolv', 66),\n",
       "             ('artif', 1),\n",
       "             ('artist', 83),\n",
       "             ('manitz', 1),\n",
       "             ('draw', 30),\n",
       "             ('circl', 16),\n",
       "             ('dot', 4),\n",
       "             ('bigger', 14),\n",
       "             ('line', 52),\n",
       "             ('accent', 3),\n",
       "             ('mark', 28),\n",
       "             ('spanish', 5),\n",
       "             ('piss', 81),\n",
       "             ('brazil', 2),\n",
       "             ('bu', 20),\n",
       "             ('steep', 3),\n",
       "             ('mountain', 13),\n",
       "             ('middl', 28),\n",
       "             ('big', 99),\n",
       "             ('wonder', 252),\n",
       "             ('whimper', 1),\n",
       "             ('unlov', 55),\n",
       "             ('uncar', 6),\n",
       "             ('certainli', 38),\n",
       "             ('what', 32),\n",
       "             ('curiou', 77),\n",
       "             ('youd', 11),\n",
       "             ('watch', 171),\n",
       "             ('sorri', 118),\n",
       "             ('humor', 18),\n",
       "             ('foot', 24),\n",
       "             ('door', 43),\n",
       "             ('world', 251),\n",
       "             ('trail', 11),\n",
       "             ('fell', 13),\n",
       "             ('whatev', 67),\n",
       "             ('directli', 7),\n",
       "             ('jealou', 73),\n",
       "             ('insecur', 82),\n",
       "             ('worthi', 13),\n",
       "             ('sweet', 175),\n",
       "             ('holiday', 50),\n",
       "             ('dash', 4),\n",
       "             ('emili', 5),\n",
       "             ('dickinson', 1),\n",
       "             ('exampl', 18),\n",
       "             ('instead', 88),\n",
       "             ('colon', 2),\n",
       "             ('semi', 4),\n",
       "             ('enhanc', 2),\n",
       "             ('enjamb', 1),\n",
       "             ('sonnet', 1),\n",
       "             ('fatter', 1),\n",
       "             ('remain', 33),\n",
       "             ('control', 94),\n",
       "             ('peanut', 2),\n",
       "             ('butter', 5),\n",
       "             ('bread', 9),\n",
       "             ('imposs', 12),\n",
       "             ('third', 15),\n",
       "             ('hell', 39),\n",
       "             ('needi', 58),\n",
       "             ('neglect', 40),\n",
       "             ('claim', 7),\n",
       "             ('redeem', 2),\n",
       "             ('beat', 33),\n",
       "             ('head', 139),\n",
       "             ('wall', 38),\n",
       "             ('either', 75),\n",
       "             ('intimid', 70),\n",
       "             ('concept', 9),\n",
       "             ('lit', 7),\n",
       "             ('groggi', 70),\n",
       "             ('routin', 18),\n",
       "             ('view', 53),\n",
       "             ('isnt', 55),\n",
       "             ('that', 118),\n",
       "             ('fine', 105),\n",
       "             ('hold', 80),\n",
       "             ('shock', 70),\n",
       "             ('awe', 7),\n",
       "             ('rumour', 1),\n",
       "             ('st', 12),\n",
       "             ('failur', 20),\n",
       "             ('appreci', 114),\n",
       "             ('arent', 24),\n",
       "             ('anywher', 20),\n",
       "             ('natur', 60),\n",
       "             ('relationship', 102),\n",
       "             ('chang', 161),\n",
       "             ('distract', 79),\n",
       "             ('regularli', 10),\n",
       "             ('music', 84),\n",
       "             ('invigor', 52),\n",
       "             ('afterward', 28),\n",
       "             ('tend', 41),\n",
       "             ('practic', 43),\n",
       "             ('shut', 24),\n",
       "             ('w', 13),\n",
       "             ('youtub', 8),\n",
       "             ('specif', 28),\n",
       "             ('tango', 3),\n",
       "             ('shi', 73),\n",
       "             ('mak', 1),\n",
       "             ('opposit', 13),\n",
       "             ('far', 114),\n",
       "             ('pic', 16),\n",
       "             ('lol', 27),\n",
       "             ('weird', 167),\n",
       "             ('slept', 9),\n",
       "             ('okay', 32),\n",
       "             ('earlier', 29),\n",
       "             ('here', 6),\n",
       "             ('coop', 5),\n",
       "             ('restless', 60),\n",
       "             ('weight', 66),\n",
       "             ('tini', 18),\n",
       "             ('unabl', 28),\n",
       "             ('presenc', 38),\n",
       "             ('fan', 48),\n",
       "             ('current', 51),\n",
       "             ('presid', 7),\n",
       "             ('conserv', 9),\n",
       "             ('enclos', 2),\n",
       "             ('vers', 7),\n",
       "             ('weigh', 9),\n",
       "             ('odd', 22),\n",
       "             ('complac', 34),\n",
       "             ('vulner', 83),\n",
       "             ('punish', 84),\n",
       "             ('stupid', 137),\n",
       "             ('chastis', 1),\n",
       "             ('behav', 13),\n",
       "             ('stay', 118),\n",
       "             ('simpli', 70),\n",
       "             ('cut', 50),\n",
       "             ('everyon', 160),\n",
       "             ('comfort', 149),\n",
       "             ('solitud', 1),\n",
       "             ('medit', 12),\n",
       "             ('project', 64),\n",
       "             ('nervou', 113),\n",
       "             ('act', 73),\n",
       "             ('bird', 19),\n",
       "             ('air', 42),\n",
       "             ('carefre', 54),\n",
       "             ('manner', 14),\n",
       "             ('revis', 3),\n",
       "             ('repli', 18),\n",
       "             ('appropri', 7),\n",
       "             ('receiv', 55),\n",
       "             ('offend', 87),\n",
       "             ('die', 64),\n",
       "             ('irrevoc', 1),\n",
       "             ('gone', 64),\n",
       "             ('alex', 6),\n",
       "             ('matt', 5),\n",
       "             ('regret', 84),\n",
       "             ('visit', 47),\n",
       "             ('educ', 33),\n",
       "             ('educationg', 1),\n",
       "             ('mama', 8),\n",
       "             ('papa', 1),\n",
       "             ('key', 22),\n",
       "             ('hostil', 36),\n",
       "             ('bore', 93),\n",
       "             ('sew', 12),\n",
       "             ('noth', 184),\n",
       "             ('fabric', 16),\n",
       "             ('origin', 17),\n",
       "             ('fragranc', 4),\n",
       "             ('freshen', 1),\n",
       "             ('lightli', 8),\n",
       "             ('scent', 17),\n",
       "             ('underwear', 2),\n",
       "             ('drawer', 3),\n",
       "             ('gorgeous', 2),\n",
       "             ('glamor', 39),\n",
       "             ('girli', 4),\n",
       "             ('apart', 39),\n",
       "             ('push', 49),\n",
       "             ('succeed', 15),\n",
       "             ('wound', 17),\n",
       "             ('process', 40),\n",
       "             ('underway', 2),\n",
       "             ('sometim', 256),\n",
       "             ('ad', 40),\n",
       "             ('antagon', 1),\n",
       "             ('misunderstand', 2),\n",
       "             ('reluct', 68),\n",
       "             ('wholeheartedli', 3),\n",
       "             ('tradit', 12),\n",
       "             ('armistic', 1),\n",
       "             ('remembr', 3),\n",
       "             ('leg', 46),\n",
       "             ('mile', 32),\n",
       "             ('unfair', 8),\n",
       "             ('reaction', 29),\n",
       "             ('bless', 175),\n",
       "             ('abus', 64),\n",
       "             ...])"
      ]
     },
     "execution_count": 17,
     "metadata": {},
     "output_type": "execute_result"
    }
   ],
   "source": [
    "tokenizer.word_counts\n",
    "# to check no. of count of words"
   ]
  },
  {
   "cell_type": "code",
   "execution_count": 18,
   "metadata": {
    "colab": {
     "base_uri": "https://localhost:8080/"
    },
    "executionInfo": {
     "elapsed": 780,
     "status": "ok",
     "timestamp": 1685275059288,
     "user": {
      "displayName": "Boktiar Ahmed Bappy",
      "userId": "10381972055342951581"
     },
     "user_tz": -360
    },
    "id": "mx3SMLV3euuU",
    "outputId": "86a391e9-e9b7-435f-cfff-2bebd266793f"
   },
   "outputs": [
    {
     "data": {
      "text/plain": [
       "20000"
      ]
     },
     "execution_count": 18,
     "metadata": {},
     "output_type": "execute_result"
    }
   ],
   "source": [
    "tokenizer.document_count\n",
    "# to check total no. of sentences"
   ]
  },
  {
   "cell_type": "code",
   "execution_count": 19,
   "metadata": {
    "colab": {
     "base_uri": "https://localhost:8080/"
    },
    "executionInfo": {
     "elapsed": 664,
     "status": "ok",
     "timestamp": 1685275085970,
     "user": {
      "displayName": "Boktiar Ahmed Bappy",
      "userId": "10381972055342951581"
     },
     "user_tz": -360
    },
    "id": "xNrqCeiUU05s",
    "outputId": "6e41c0fb-60e9-45eb-d931-d0e3f0defb80"
   },
   "outputs": [
    {
     "data": {
      "text/plain": [
       "[[61, 2, 522],\n",
       " [10, 2, 419, 682, 67, 50, 60, 96, 1229],\n",
       " [4, 1230, 431, 107, 2, 432, 192],\n",
       " [92, 2, 592, 3696, 7, 21, 2844],\n",
       " [2, 918]]"
      ]
     },
     "execution_count": 19,
     "metadata": {},
     "output_type": "execute_result"
    }
   ],
   "source": [
    "sequences = tokenizer.texts_to_sequences(cleaned_data)\n",
    "sequences[0:5]\n",
    "\n",
    "# tokenize the input sentences as a sequence "
   ]
  },
  {
   "cell_type": "code",
   "execution_count": 20,
   "metadata": {
    "executionInfo": {
     "elapsed": 616,
     "status": "ok",
     "timestamp": 1685275228824,
     "user": {
      "displayName": "Boktiar Ahmed Bappy",
      "userId": "10381972055342951581"
     },
     "user_tz": -360
    },
    "id": "H00D6kZlVOC4"
   },
   "outputs": [
    {
     "data": {
      "text/plain": [
       "array([[  61,    2,  522,    0,    0,    0,    0,    0,    0,    0,    0,\n",
       "           0,    0,    0,    0,    0,    0,    0,    0,    0,    0,    0,\n",
       "           0,    0,    0,    0,    0,    0,    0,    0,    0,    0,    0,\n",
       "           0,    0],\n",
       "       [  10,    2,  419,  682,   67,   50,   60,   96, 1229,    0,    0,\n",
       "           0,    0,    0,    0,    0,    0,    0,    0,    0,    0,    0,\n",
       "           0,    0,    0,    0,    0,    0,    0,    0,    0,    0,    0,\n",
       "           0,    0],\n",
       "       [   4, 1230,  431,  107,    2,  432,  192,    0,    0,    0,    0,\n",
       "           0,    0,    0,    0,    0,    0,    0,    0,    0,    0,    0,\n",
       "           0,    0,    0,    0,    0,    0,    0,    0,    0,    0,    0,\n",
       "           0,    0]])"
      ]
     },
     "execution_count": 20,
     "metadata": {},
     "output_type": "execute_result"
    }
   ],
   "source": [
    "sequences = pad_sequences(sequences,padding='post',maxlen=35)\n",
    "sequences[0:3]\n",
    "# to equalize the length of input sequences"
   ]
  },
  {
   "cell_type": "code",
   "execution_count": 21,
   "metadata": {},
   "outputs": [
    {
     "data": {
      "text/plain": [
       "(['sadness', 'anger', 'love', 'surprise', 'fear', 'joy'], 6)"
      ]
     },
     "execution_count": 21,
     "metadata": {},
     "output_type": "execute_result"
    }
   ],
   "source": [
    "unique_labels = list(pd.Series(np.array(y)).unique())\n",
    "no_of_class = len(unique_labels)\n",
    "\n",
    "unique_labels , no_of_class\n",
    "## to finding unique labels and no. of class"
   ]
  },
  {
   "cell_type": "markdown",
   "metadata": {},
   "source": [
    "## Label encoding"
   ]
  },
  {
   "cell_type": "code",
   "execution_count": 22,
   "metadata": {},
   "outputs": [
    {
     "data": {
      "text/plain": [
       "array([0, 0, 1, 2, 1])"
      ]
     },
     "execution_count": 22,
     "metadata": {},
     "output_type": "execute_result"
    }
   ],
   "source": [
    "label_dict = {\n",
    "    'sadness':0,\n",
    "    'anger':1,\n",
    "    'love':2,\n",
    "    'surprise':3,\n",
    "    'fear':4,\n",
    "    'joy':5\n",
    "}\n",
    "def label_encoder(labels):\n",
    "    label = []\n",
    "    for lab in labels:\n",
    "        label.append(label_dict[lab])\n",
    "    label = np.array(label)\n",
    "    return label\n",
    "\n",
    "label = label_encoder(y)\n",
    "label[0:5]\n",
    "\n",
    "# to perform label encoding"
   ]
  },
  {
   "cell_type": "code",
   "execution_count": 23,
   "metadata": {},
   "outputs": [
    {
     "data": {
      "text/plain": [
       "((20000, 35), (20000,))"
      ]
     },
     "execution_count": 23,
     "metadata": {},
     "output_type": "execute_result"
    }
   ],
   "source": [
    "sequences.shape , label.shape"
   ]
  },
  {
   "cell_type": "markdown",
   "metadata": {},
   "source": [
    "## spliting our dataset into train and test sample"
   ]
  },
  {
   "cell_type": "code",
   "execution_count": 24,
   "metadata": {},
   "outputs": [],
   "source": [
    "x_train,x_test,y_train,y_test = train_test_split(sequences,label,test_size=0.2,random_state=42)"
   ]
  },
  {
   "cell_type": "code",
   "execution_count": 25,
   "metadata": {},
   "outputs": [
    {
     "data": {
      "text/plain": [
       "((16000, 35), (4000, 35), (4000,), (16000,))"
      ]
     },
     "execution_count": 25,
     "metadata": {},
     "output_type": "execute_result"
    }
   ],
   "source": [
    "x_train.shape,    x_test.shape    ,  y_test.shape    ,  y_train.shape "
   ]
  },
  {
   "cell_type": "markdown",
   "metadata": {},
   "source": [
    "## Model Defining\n",
    "<p>model can be define in a two way.</p>\n",
    "<ul>\n",
    "    <li>sequential model</li>\n",
    "    <li>functional model</li>\n",
    "    </ul>"
   ]
  },
  {
   "cell_type": "markdown",
   "metadata": {},
   "source": [
    "### Sequential SimpleRNN model defination"
   ]
  },
  {
   "cell_type": "code",
   "execution_count": 26,
   "metadata": {},
   "outputs": [
    {
     "name": "stderr",
     "output_type": "stream",
     "text": [
      "C:\\Users\\Ranjit\\AppData\\Local\\Programs\\Python\\Python312\\Lib\\site-packages\\keras\\src\\layers\\rnn\\rnn.py:204: UserWarning: Do not pass an `input_shape`/`input_dim` argument to a layer. When using Sequential models, prefer using an `Input(shape)` object as the first layer in the model instead.\n",
      "  super().__init__(**kwargs)\n"
     ]
    },
    {
     "data": {
      "text/html": [
       "<pre style=\"white-space:pre;overflow-x:auto;line-height:normal;font-family:Menlo,'DejaVu Sans Mono',consolas,'Courier New',monospace\"><span style=\"font-weight: bold\">Model: \"sequential\"</span>\n",
       "</pre>\n"
      ],
      "text/plain": [
       "\u001b[1mModel: \"sequential\"\u001b[0m\n"
      ]
     },
     "metadata": {},
     "output_type": "display_data"
    },
    {
     "data": {
      "text/html": [
       "<pre style=\"white-space:pre;overflow-x:auto;line-height:normal;font-family:Menlo,'DejaVu Sans Mono',consolas,'Courier New',monospace\">┏━━━━━━━━━━━━━━━━━━━━━━━━━━━━━━━━┳━━━━━━━━━━━━━━━━━━━━━━━━┳━━━━━━━━━━━━━━┓\n",
       "┃<span style=\"font-weight: bold\"> Layer (type)                   </span>┃<span style=\"font-weight: bold\"> Output Shape           </span>┃<span style=\"font-weight: bold\">      Param # </span>┃\n",
       "┡━━━━━━━━━━━━━━━━━━━━━━━━━━━━━━━━╇━━━━━━━━━━━━━━━━━━━━━━━━╇━━━━━━━━━━━━━━┩\n",
       "│ simple_rnn (<span style=\"color: #0087ff; text-decoration-color: #0087ff\">SimpleRNN</span>)         │ (<span style=\"color: #00d7ff; text-decoration-color: #00d7ff\">None</span>, <span style=\"color: #00af00; text-decoration-color: #00af00\">32</span>)             │        <span style=\"color: #00af00; text-decoration-color: #00af00\">1,088</span> │\n",
       "├────────────────────────────────┼────────────────────────┼──────────────┤\n",
       "│ dense (<span style=\"color: #0087ff; text-decoration-color: #0087ff\">Dense</span>)                  │ (<span style=\"color: #00d7ff; text-decoration-color: #00d7ff\">None</span>, <span style=\"color: #00af00; text-decoration-color: #00af00\">6</span>)              │          <span style=\"color: #00af00; text-decoration-color: #00af00\">198</span> │\n",
       "└────────────────────────────────┴────────────────────────┴──────────────┘\n",
       "</pre>\n"
      ],
      "text/plain": [
       "┏━━━━━━━━━━━━━━━━━━━━━━━━━━━━━━━━┳━━━━━━━━━━━━━━━━━━━━━━━━┳━━━━━━━━━━━━━━┓\n",
       "┃\u001b[1m \u001b[0m\u001b[1mLayer (type)                  \u001b[0m\u001b[1m \u001b[0m┃\u001b[1m \u001b[0m\u001b[1mOutput Shape          \u001b[0m\u001b[1m \u001b[0m┃\u001b[1m \u001b[0m\u001b[1m     Param #\u001b[0m\u001b[1m \u001b[0m┃\n",
       "┡━━━━━━━━━━━━━━━━━━━━━━━━━━━━━━━━╇━━━━━━━━━━━━━━━━━━━━━━━━╇━━━━━━━━━━━━━━┩\n",
       "│ simple_rnn (\u001b[38;5;33mSimpleRNN\u001b[0m)         │ (\u001b[38;5;45mNone\u001b[0m, \u001b[38;5;34m32\u001b[0m)             │        \u001b[38;5;34m1,088\u001b[0m │\n",
       "├────────────────────────────────┼────────────────────────┼──────────────┤\n",
       "│ dense (\u001b[38;5;33mDense\u001b[0m)                  │ (\u001b[38;5;45mNone\u001b[0m, \u001b[38;5;34m6\u001b[0m)              │          \u001b[38;5;34m198\u001b[0m │\n",
       "└────────────────────────────────┴────────────────────────┴──────────────┘\n"
      ]
     },
     "metadata": {},
     "output_type": "display_data"
    },
    {
     "data": {
      "text/html": [
       "<pre style=\"white-space:pre;overflow-x:auto;line-height:normal;font-family:Menlo,'DejaVu Sans Mono',consolas,'Courier New',monospace\"><span style=\"font-weight: bold\"> Total params: </span><span style=\"color: #00af00; text-decoration-color: #00af00\">1,286</span> (5.02 KB)\n",
       "</pre>\n"
      ],
      "text/plain": [
       "\u001b[1m Total params: \u001b[0m\u001b[38;5;34m1,286\u001b[0m (5.02 KB)\n"
      ]
     },
     "metadata": {},
     "output_type": "display_data"
    },
    {
     "data": {
      "text/html": [
       "<pre style=\"white-space:pre;overflow-x:auto;line-height:normal;font-family:Menlo,'DejaVu Sans Mono',consolas,'Courier New',monospace\"><span style=\"font-weight: bold\"> Trainable params: </span><span style=\"color: #00af00; text-decoration-color: #00af00\">1,286</span> (5.02 KB)\n",
       "</pre>\n"
      ],
      "text/plain": [
       "\u001b[1m Trainable params: \u001b[0m\u001b[38;5;34m1,286\u001b[0m (5.02 KB)\n"
      ]
     },
     "metadata": {},
     "output_type": "display_data"
    },
    {
     "data": {
      "text/html": [
       "<pre style=\"white-space:pre;overflow-x:auto;line-height:normal;font-family:Menlo,'DejaVu Sans Mono',consolas,'Courier New',monospace\"><span style=\"font-weight: bold\"> Non-trainable params: </span><span style=\"color: #00af00; text-decoration-color: #00af00\">0</span> (0.00 B)\n",
       "</pre>\n"
      ],
      "text/plain": [
       "\u001b[1m Non-trainable params: \u001b[0m\u001b[38;5;34m0\u001b[0m (0.00 B)\n"
      ]
     },
     "metadata": {},
     "output_type": "display_data"
    }
   ],
   "source": [
    "# sequential SimpleRNN model defining\n",
    "model = Sequential()\n",
    "model.add(SimpleRNN(32,input_shape=(35,1),return_sequences=False))\n",
    "model.add(Dense(no_of_class,activation='softmax'))\n",
    "\n",
    "\n",
    "\n",
    "## compiling the model\n",
    "model.compile(optimizer='adam',loss='sparse_categorical_crossentropy',metrics=['accuracy'])\n",
    "model.summary()\n",
    "# return_sequence = False  --> means if you don,t want to stack again this model then specify False"
   ]
  },
  {
   "cell_type": "code",
   "execution_count": 27,
   "metadata": {},
   "outputs": [
    {
     "name": "stdout",
     "output_type": "stream",
     "text": [
      "\u001b[1m500/500\u001b[0m \u001b[32m━━━━━━━━━━━━━━━━━━━━\u001b[0m\u001b[37m\u001b[0m \u001b[1m7s\u001b[0m 8ms/step - accuracy: 0.3116 - loss: 1.6177\n"
     ]
    },
    {
     "data": {
      "text/plain": [
       "<keras.src.callbacks.history.History at 0x19159cb6630>"
      ]
     },
     "execution_count": 27,
     "metadata": {},
     "output_type": "execute_result"
    }
   ],
   "source": [
    "model.fit(x_train,y_train,epochs=1)"
   ]
  },
  {
   "cell_type": "markdown",
   "metadata": {},
   "source": [
    "## prediction with SimpleRNN"
   ]
  },
  {
   "cell_type": "code",
   "execution_count": 28,
   "metadata": {},
   "outputs": [
    {
     "data": {
      "text/plain": [
       "array([[ 61,   2, 522,   0,   0,   0,   0,   0,   0,   0,   0,   0,   0,\n",
       "          0,   0,   0,   0,   0,   0,   0,   0,   0,   0,   0,   0,   0,\n",
       "          0,   0,   0,   0,   0,   0,   0,   0,   0]])"
      ]
     },
     "execution_count": 28,
     "metadata": {},
     "output_type": "execute_result"
    }
   ],
   "source": [
    "np.expand_dims(sequences[0], axis=0)\n",
    "\n",
    "# i am expanding dimension of my numpy array, because model is expecting 2D array"
   ]
  },
  {
   "cell_type": "code",
   "execution_count": 29,
   "metadata": {},
   "outputs": [
    {
     "name": "stdout",
     "output_type": "stream",
     "text": [
      "\u001b[1m1/1\u001b[0m \u001b[32m━━━━━━━━━━━━━━━━━━━━\u001b[0m\u001b[37m\u001b[0m \u001b[1m0s\u001b[0m 274ms/step\n"
     ]
    },
    {
     "data": {
      "text/plain": [
       "array([[0.288813  , 0.15445714, 0.07390119, 0.03421041, 0.1250597 ,\n",
       "        0.32355857]], dtype=float32)"
      ]
     },
     "execution_count": 29,
     "metadata": {},
     "output_type": "execute_result"
    }
   ],
   "source": [
    "pred = model.predict(np.expand_dims(sequences[5], axis=0))\n",
    "pred"
   ]
  },
  {
   "cell_type": "code",
   "execution_count": 37,
   "metadata": {},
   "outputs": [
    {
     "data": {
      "text/plain": [
       "'joy'"
      ]
     },
     "execution_count": 37,
     "metadata": {},
     "output_type": "execute_result"
    }
   ],
   "source": [
    "unique_labels[np.argmax(pred)]      #, unique_labels[label[5]]"
   ]
  },
  {
   "cell_type": "markdown",
   "metadata": {},
   "source": [
    "## LSTM model defining"
   ]
  },
  {
   "cell_type": "markdown",
   "metadata": {},
   "source": [
    "Here are the parameters of the Embedding layer and what they do:\n",
    "\n",
    "- input_dim:  This is the size of the vocabulary, i.e., the total number of unique words in your dataset. Each word is assigned a unique integer index. For example, if you have 10,000 unique words, input_dim would be set to 10000.\n",
    "<br>\n",
    "- output_dim: This is the dimension of the dense embedding. It determines the size of the dense vector that will represent each word. A higher value will result in a more expressive representation, but it will also increase the computational complexity of the model.\n",
    "<br>\n",
    "- input_length: This is the length of each input sequence. If you are processing sentences, this would be the number of words in a sentence. For example, if you are using sequences of length 35, you would set input_length=35."
   ]
  },
  {
   "cell_type": "code",
   "execution_count": 31,
   "metadata": {},
   "outputs": [],
   "source": [
    "# Define the model\n",
    "model = Sequential([\n",
    "    LSTM(units=64, input_shape=(35, 1), return_sequences=True),\n",
    "    LSTM(units=64),\n",
    "    Dense(units=6, activation='softmax')\n",
    "])\n",
    "model.compile(optimizer='adam', loss='sparse_categorical_crossentropy', metrics=['accuracy'])\n"
   ]
  },
  {
   "cell_type": "code",
   "execution_count": 32,
   "metadata": {},
   "outputs": [
    {
     "name": "stdout",
     "output_type": "stream",
     "text": [
      "Epoch 1/25\n",
      "\u001b[1m500/500\u001b[0m \u001b[32m━━━━━━━━━━━━━━━━━━━━\u001b[0m\u001b[37m\u001b[0m \u001b[1m20s\u001b[0m 31ms/step - accuracy: 0.3311 - loss: 1.5990\n",
      "Epoch 2/25\n",
      "\u001b[1m500/500\u001b[0m \u001b[32m━━━━━━━━━━━━━━━━━━━━\u001b[0m\u001b[37m\u001b[0m \u001b[1m18s\u001b[0m 36ms/step - accuracy: 0.3351 - loss: 1.5699\n",
      "Epoch 3/25\n",
      "\u001b[1m500/500\u001b[0m \u001b[32m━━━━━━━━━━━━━━━━━━━━\u001b[0m\u001b[37m\u001b[0m \u001b[1m17s\u001b[0m 33ms/step - accuracy: 0.3362 - loss: 1.5731\n",
      "Epoch 4/25\n",
      "\u001b[1m500/500\u001b[0m \u001b[32m━━━━━━━━━━━━━━━━━━━━\u001b[0m\u001b[37m\u001b[0m \u001b[1m21s\u001b[0m 33ms/step - accuracy: 0.3307 - loss: 1.5836\n",
      "Epoch 5/25\n",
      "\u001b[1m500/500\u001b[0m \u001b[32m━━━━━━━━━━━━━━━━━━━━\u001b[0m\u001b[37m\u001b[0m \u001b[1m17s\u001b[0m 35ms/step - accuracy: 0.3367 - loss: 1.5736\n",
      "Epoch 6/25\n",
      "\u001b[1m500/500\u001b[0m \u001b[32m━━━━━━━━━━━━━━━━━━━━\u001b[0m\u001b[37m\u001b[0m \u001b[1m23s\u001b[0m 41ms/step - accuracy: 0.3435 - loss: 1.5670\n",
      "Epoch 7/25\n",
      "\u001b[1m500/500\u001b[0m \u001b[32m━━━━━━━━━━━━━━━━━━━━\u001b[0m\u001b[37m\u001b[0m \u001b[1m17s\u001b[0m 34ms/step - accuracy: 0.3434 - loss: 1.5694\n",
      "Epoch 8/25\n",
      "\u001b[1m500/500\u001b[0m \u001b[32m━━━━━━━━━━━━━━━━━━━━\u001b[0m\u001b[37m\u001b[0m \u001b[1m18s\u001b[0m 35ms/step - accuracy: 0.3411 - loss: 1.5678\n",
      "Epoch 9/25\n",
      "\u001b[1m500/500\u001b[0m \u001b[32m━━━━━━━━━━━━━━━━━━━━\u001b[0m\u001b[37m\u001b[0m \u001b[1m24s\u001b[0m 49ms/step - accuracy: 0.3449 - loss: 1.5775\n",
      "Epoch 10/25\n",
      "\u001b[1m500/500\u001b[0m \u001b[32m━━━━━━━━━━━━━━━━━━━━\u001b[0m\u001b[37m\u001b[0m \u001b[1m36s\u001b[0m 37ms/step - accuracy: 0.3429 - loss: 1.5745\n",
      "Epoch 11/25\n",
      "\u001b[1m500/500\u001b[0m \u001b[32m━━━━━━━━━━━━━━━━━━━━\u001b[0m\u001b[37m\u001b[0m \u001b[1m25s\u001b[0m 51ms/step - accuracy: 0.3505 - loss: 1.5612\n",
      "Epoch 12/25\n",
      "\u001b[1m500/500\u001b[0m \u001b[32m━━━━━━━━━━━━━━━━━━━━\u001b[0m\u001b[37m\u001b[0m \u001b[1m36s\u001b[0m 40ms/step - accuracy: 0.3532 - loss: 1.5622\n",
      "Epoch 13/25\n",
      "\u001b[1m500/500\u001b[0m \u001b[32m━━━━━━━━━━━━━━━━━━━━\u001b[0m\u001b[37m\u001b[0m \u001b[1m20s\u001b[0m 40ms/step - accuracy: 0.3580 - loss: 1.5569\n",
      "Epoch 14/25\n",
      "\u001b[1m500/500\u001b[0m \u001b[32m━━━━━━━━━━━━━━━━━━━━\u001b[0m\u001b[37m\u001b[0m \u001b[1m18s\u001b[0m 35ms/step - accuracy: 0.3528 - loss: 1.5632\n",
      "Epoch 15/25\n",
      "\u001b[1m500/500\u001b[0m \u001b[32m━━━━━━━━━━━━━━━━━━━━\u001b[0m\u001b[37m\u001b[0m \u001b[1m20s\u001b[0m 39ms/step - accuracy: 0.3583 - loss: 1.5642\n",
      "Epoch 16/25\n",
      "\u001b[1m500/500\u001b[0m \u001b[32m━━━━━━━━━━━━━━━━━━━━\u001b[0m\u001b[37m\u001b[0m \u001b[1m20s\u001b[0m 39ms/step - accuracy: 0.3492 - loss: 1.5625\n",
      "Epoch 17/25\n",
      "\u001b[1m500/500\u001b[0m \u001b[32m━━━━━━━━━━━━━━━━━━━━\u001b[0m\u001b[37m\u001b[0m \u001b[1m21s\u001b[0m 42ms/step - accuracy: 0.3637 - loss: 1.5506\n",
      "Epoch 18/25\n",
      "\u001b[1m500/500\u001b[0m \u001b[32m━━━━━━━━━━━━━━━━━━━━\u001b[0m\u001b[37m\u001b[0m \u001b[1m41s\u001b[0m 42ms/step - accuracy: 0.3560 - loss: 1.5546\n",
      "Epoch 19/25\n",
      "\u001b[1m500/500\u001b[0m \u001b[32m━━━━━━━━━━━━━━━━━━━━\u001b[0m\u001b[37m\u001b[0m \u001b[1m38s\u001b[0m 37ms/step - accuracy: 0.3528 - loss: 1.5591\n",
      "Epoch 20/25\n",
      "\u001b[1m500/500\u001b[0m \u001b[32m━━━━━━━━━━━━━━━━━━━━\u001b[0m\u001b[37m\u001b[0m \u001b[1m17s\u001b[0m 35ms/step - accuracy: 0.3532 - loss: 1.5523\n",
      "Epoch 21/25\n",
      "\u001b[1m500/500\u001b[0m \u001b[32m━━━━━━━━━━━━━━━━━━━━\u001b[0m\u001b[37m\u001b[0m \u001b[1m17s\u001b[0m 35ms/step - accuracy: 0.3567 - loss: 1.5613\n",
      "Epoch 22/25\n",
      "\u001b[1m500/500\u001b[0m \u001b[32m━━━━━━━━━━━━━━━━━━━━\u001b[0m\u001b[37m\u001b[0m \u001b[1m19s\u001b[0m 37ms/step - accuracy: 0.3595 - loss: 1.5539\n",
      "Epoch 23/25\n",
      "\u001b[1m500/500\u001b[0m \u001b[32m━━━━━━━━━━━━━━━━━━━━\u001b[0m\u001b[37m\u001b[0m \u001b[1m25s\u001b[0m 47ms/step - accuracy: 0.3585 - loss: 1.5515\n",
      "Epoch 24/25\n",
      "\u001b[1m500/500\u001b[0m \u001b[32m━━━━━━━━━━━━━━━━━━━━\u001b[0m\u001b[37m\u001b[0m \u001b[1m43s\u001b[0m 50ms/step - accuracy: 0.3584 - loss: 1.5514\n",
      "Epoch 25/25\n",
      "\u001b[1m500/500\u001b[0m \u001b[32m━━━━━━━━━━━━━━━━━━━━\u001b[0m\u001b[37m\u001b[0m \u001b[1m22s\u001b[0m 44ms/step - accuracy: 0.3651 - loss: 1.5475\n"
     ]
    }
   ],
   "source": [
    "history = model.fit(x_train,y_train,epochs=25)"
   ]
  },
  {
   "cell_type": "code",
   "execution_count": 33,
   "metadata": {},
   "outputs": [
    {
     "data": {
      "text/plain": [
       "<Axes: >"
      ]
     },
     "execution_count": 33,
     "metadata": {},
     "output_type": "execute_result"
    },
    {
     "data": {
      "image/png": "[encoded data removed]",
      "text/plain": [
       "<Figure size 640x480 with 1 Axes>"
      ]
     },
     "metadata": {},
     "output_type": "display_data"
    }
   ],
   "source": [
    "pd.DataFrame(model.history.history).plot()"
   ]
  },
  {
   "cell_type": "markdown",
   "metadata": {},
   "source": [
    "## Prediction With LSTM"
   ]
  },
  {
   "cell_type": "code",
   "execution_count": 34,
   "metadata": {},
   "outputs": [
    {
     "name": "stdout",
     "output_type": "stream",
     "text": [
      "\u001b[1m125/125\u001b[0m \u001b[32m━━━━━━━━━━━━━━━━━━━━\u001b[0m\u001b[37m\u001b[0m \u001b[1m3s\u001b[0m 16ms/step\n"
     ]
    }
   ],
   "source": [
    "prediction = model.predict(x_test)"
   ]
  },
  {
   "cell_type": "code",
   "execution_count": 35,
   "metadata": {},
   "outputs": [
    {
     "data": {
      "text/plain": [
       "array([5, 0, 5, ..., 0, 5, 0], dtype=int64)"
      ]
     },
     "execution_count": 35,
     "metadata": {},
     "output_type": "execute_result"
    }
   ],
   "source": [
    "predicted_class_index = np.argmax(prediction,axis=1)\n",
    "predicted_class_index"
   ]
  },
  {
   "cell_type": "code",
   "execution_count": 36,
   "metadata": {},
   "outputs": [
    {
     "data": {
      "text/plain": [
       "array([1, 5, 0, ..., 1, 5, 5])"
      ]
     },
     "execution_count": 36,
     "metadata": {},
     "output_type": "execute_result"
    }
   ],
   "source": [
    "y_test"
   ]
  },
  {
   "cell_type": "code",
   "execution_count": 41,
   "metadata": {},
   "outputs": [
    {
     "name": "stderr",
     "output_type": "stream",
     "text": [
      "C:\\Users\\Ranjit\\AppData\\Local\\Programs\\Python\\Python312\\Lib\\site-packages\\keras\\src\\layers\\rnn\\rnn.py:204: UserWarning: Do not pass an `input_shape`/`input_dim` argument to a layer. When using Sequential models, prefer using an `Input(shape)` object as the first layer in the model instead.\n",
      "  super().__init__(**kwargs)\n"
     ]
    }
   ],
   "source": [
    "#updated model\n",
    "from tensorflow.keras.optimizers import Adam\n",
    "model3 = Sequential([\n",
    "    LSTM(units=128, input_shape=(35, 1), return_sequences=True),\n",
    "    Dropout(0.2),\n",
    "    LSTM(units=128),\n",
    "    Dropout(0.2),\n",
    "    Dense(units=64, activation='relu'),\n",
    "    Dense(units=6, activation='softmax')\n",
    "])\n",
    "\n",
    "# Compile the model\n",
    "optimizer = Adam(learning_rate=0.001)\n",
    "model3.compile(optimizer=optimizer, loss='sparse_categorical_crossentropy', metrics=['accuracy'])"
   ]
  },
  {
   "cell_type": "code",
   "execution_count": null,
   "metadata": {},
   "outputs": [
    {
     "name": "stdout",
     "output_type": "stream",
     "text": [
      "Epoch 1/25\n",
      "\u001b[1m500/500\u001b[0m \u001b[32m━━━━━━━━━━━━━━━━━━━━\u001b[0m\u001b[37m\u001b[0m \u001b[1m43s\u001b[0m 72ms/step - accuracy: 0.3212 - loss: 1.6036\n",
      "Epoch 2/25\n",
      "\u001b[1m500/500\u001b[0m \u001b[32m━━━━━━━━━━━━━━━━━━━━\u001b[0m\u001b[37m\u001b[0m \u001b[1m34s\u001b[0m 67ms/step - accuracy: 0.3277 - loss: 1.5793\n",
      "Epoch 3/25\n",
      "\u001b[1m500/500\u001b[0m \u001b[32m━━━━━━━━━━━━━━━━━━━━\u001b[0m\u001b[37m\u001b[0m \u001b[1m32s\u001b[0m 63ms/step - accuracy: 0.3359 - loss: 1.5779\n",
      "Epoch 4/25\n",
      "\u001b[1m500/500\u001b[0m \u001b[32m━━━━━━━━━━━━━━━━━━━━\u001b[0m\u001b[37m\u001b[0m \u001b[1m34s\u001b[0m 69ms/step - accuracy: 0.3428 - loss: 1.5677\n",
      "Epoch 5/25\n",
      "\u001b[1m500/500\u001b[0m \u001b[32m━━━━━━━━━━━━━━━━━━━━\u001b[0m\u001b[37m\u001b[0m \u001b[1m39s\u001b[0m 78ms/step - accuracy: 0.3451 - loss: 1.5720\n",
      "Epoch 6/25\n",
      "\u001b[1m500/500\u001b[0m \u001b[32m━━━━━━━━━━━━━━━━━━━━\u001b[0m\u001b[37m\u001b[0m \u001b[1m39s\u001b[0m 77ms/step - accuracy: 0.3488 - loss: 1.5653\n",
      "Epoch 7/25\n",
      "\u001b[1m500/500\u001b[0m \u001b[32m━━━━━━━━━━━━━━━━━━━━\u001b[0m\u001b[37m\u001b[0m \u001b[1m34s\u001b[0m 69ms/step - accuracy: 0.3392 - loss: 1.5758\n",
      "Epoch 8/25\n",
      "\u001b[1m500/500\u001b[0m \u001b[32m━━━━━━━━━━━━━━━━━━━━\u001b[0m\u001b[37m\u001b[0m \u001b[1m43s\u001b[0m 72ms/step - accuracy: 0.3491 - loss: 1.5690\n",
      "Epoch 9/25\n",
      "\u001b[1m500/500\u001b[0m \u001b[32m━━━━━━━━━━━━━━━━━━━━\u001b[0m\u001b[37m\u001b[0m \u001b[1m35s\u001b[0m 70ms/step - accuracy: 0.3419 - loss: 1.5649\n",
      "Epoch 10/25\n",
      "\u001b[1m500/500\u001b[0m \u001b[32m━━━━━━━━━━━━━━━━━━━━\u001b[0m\u001b[37m\u001b[0m \u001b[1m36s\u001b[0m 72ms/step - accuracy: 0.3460 - loss: 1.5658\n",
      "Epoch 11/25\n",
      "\u001b[1m500/500\u001b[0m \u001b[32m━━━━━━━━━━━━━━━━━━━━\u001b[0m\u001b[37m\u001b[0m \u001b[1m32s\u001b[0m 63ms/step - accuracy: 0.3442 - loss: 1.5769\n",
      "Epoch 12/25\n",
      "\u001b[1m500/500\u001b[0m \u001b[32m━━━━━━━━━━━━━━━━━━━━\u001b[0m\u001b[37m\u001b[0m \u001b[1m33s\u001b[0m 65ms/step - accuracy: 0.3518 - loss: 1.5640\n",
      "Epoch 13/25\n",
      "\u001b[1m500/500\u001b[0m \u001b[32m━━━━━━━━━━━━━━━━━━━━\u001b[0m\u001b[37m\u001b[0m \u001b[1m33s\u001b[0m 65ms/step - accuracy: 0.3535 - loss: 1.5663\n",
      "Epoch 14/25\n",
      "\u001b[1m500/500\u001b[0m \u001b[32m━━━━━━━━━━━━━━━━━━━━\u001b[0m\u001b[37m\u001b[0m \u001b[1m33s\u001b[0m 65ms/step - accuracy: 0.3530 - loss: 1.5725\n",
      "Epoch 15/25\n",
      "\u001b[1m500/500\u001b[0m \u001b[32m━━━━━━━━━━━━━━━━━━━━\u001b[0m\u001b[37m\u001b[0m \u001b[1m32s\u001b[0m 65ms/step - accuracy: 0.3547 - loss: 1.5593\n",
      "Epoch 16/25\n",
      "\u001b[1m500/500\u001b[0m \u001b[32m━━━━━━━━━━━━━━━━━━━━\u001b[0m\u001b[37m\u001b[0m \u001b[1m34s\u001b[0m 67ms/step - accuracy: 0.3528 - loss: 1.5648\n",
      "Epoch 17/25\n",
      "\u001b[1m500/500\u001b[0m \u001b[32m━━━━━━━━━━━━━━━━━━━━\u001b[0m\u001b[37m\u001b[0m \u001b[1m40s\u001b[0m 80ms/step - accuracy: 0.3522 - loss: 1.5666\n",
      "Epoch 18/25\n",
      "\u001b[1m500/500\u001b[0m \u001b[32m━━━━━━━━━━━━━━━━━━━━\u001b[0m\u001b[37m\u001b[0m \u001b[1m36s\u001b[0m 73ms/step - accuracy: 0.3570 - loss: 1.5563\n",
      "Epoch 19/25\n",
      "\u001b[1m500/500\u001b[0m \u001b[32m━━━━━━━━━━━━━━━━━━━━\u001b[0m\u001b[37m\u001b[0m \u001b[1m42s\u001b[0m 85ms/step - accuracy: 0.3562 - loss: 1.5505\n",
      "Epoch 20/25\n",
      "\u001b[1m472/500\u001b[0m \u001b[32m━━━━━━━━━━━━━━━━━━\u001b[0m\u001b[37m━━\u001b[0m \u001b[1m2s\u001b[0m 83ms/step - accuracy: 0.3499 - loss: 1.5679"
     ]
    }
   ],
   "source": [
    "history = model3.fit(x_train,y_train,epochs=25)\n"
   ]
  },
  {
   "cell_type": "code",
   "execution_count": null,
   "metadata": {},
   "outputs": [],
   "source": []
  },
  {
   "cell_type": "code",
   "execution_count": null,
   "metadata": {},
   "outputs": [],
   "source": []
  },
  {
   "cell_type": "markdown",
   "metadata": {},
   "source": [
    "## wait for with  embadding layer 😋"
   ]
  },
  {
   "cell_type": "code",
   "execution_count": null,
   "metadata": {},
   "outputs": [],
   "source": [
    "from tensorflow.keras.models import Sequential\n",
    "from tensorflow.keras.layers import Embedding, LSTM, Dense, Dropout\n",
    "from tensorflow.keras.optimizers import Adam\n"
   ]
  },
  {
   "cell_type": "code",
   "execution_count": null,
   "metadata": {},
   "outputs": [],
   "source": [
    "vocab_size = 10000  # Size of the vocabulary\n",
    "embedding_dim = 128  # Dimension of the embedding vectors\n",
    "input_length = 35  # Length of input sequences\n",
    "\n",
    "# Define the model\n",
    "model = Sequential([\n",
    "    Embedding(input_dim=vocab_size, output_dim=embedding_dim, input_length=input_length),\n",
    "    LSTM(units=128, return_sequences=True),\n",
    "    Dropout(0.2),\n",
    "    LSTM(units=128),\n",
    "    Dropout(0.2),\n",
    "    Dense(units=64, activation='relu'),\n",
    "    Dense(units=6, activation='softmax')\n",
    "])\n",
    "\n",
    "# Compile the model\n",
    "optimizer = Adam(learning_rate=0.001)\n",
    "model.compile(optimizer=optimizer, loss='sparse_categorical_crossentropy', metrics=['accuracy'])"
   ]
  }
 ],
 "metadata": {
  "accelerator": "GPU",
  "colab": {
   "gpuType": "T4",
   "provenance": []
  },
  "kernelspec": {
   "display_name": "Python 3 (ipykernel)",
   "language": "python",
   "name": "python3"
  },
  "language_info": {
   "codemirror_mode": {
    "name": "ipython",
    "version": 3
   },
   "file_extension": ".py",
   "mimetype": "text/x-python",
   "name": "python",
   "nbconvert_exporter": "python",
   "pygments_lexer": "ipython3",
   "version": "3.12.4"
  }
 },
 "nbformat": 4,
 "nbformat_minor": 4
}
