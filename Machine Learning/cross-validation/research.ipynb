{
 "cells": [
  {
   "cell_type": "markdown",
   "metadata": {},
   "source": [
    "### cross validation with all the variants"
   ]
  },
  {
   "cell_type": "code",
   "execution_count": 8,
   "metadata": {},
   "outputs": [
    {
     "name": "stdout",
     "output_type": "stream",
     "text": [
      "Standard K-Fold Average Accuracy: 0.46936274509803927\n",
      "Stratified K-Fold Average Accuracy: 0.53\n",
      "LOOCV Average Accuracy: 0.48\n",
      "Repeated K-Fold Average Accuracy: 0.49500000000000005\n"
     ]
    }
   ],
   "source": [
    "from sklearn.model_selection import KFold, StratifiedKFold, LeaveOneOut, RepeatedKFold, cross_val_score\n",
    "from sklearn.ensemble import RandomForestClassifier\n",
    "import numpy as np\n",
    "\n",
    "# Sample data\n",
    "X = np.random.rand(100, 10)  # 100 samples, 10 features\n",
    "y = np.random.randint(2, size=100)  # Binary target variable\n",
    "\n",
    "# Model\n",
    "model = RandomForestClassifier()\n",
    "\n",
    "# Standard K-Fold Cross Validation\n",
    "kf = KFold(n_splits=6, shuffle=True, random_state=42)\n",
    "scores = cross_val_score(model, X, y, cv=kf)\n",
    "print(\"Standard K-Fold Average Accuracy:\", np.mean(scores))\n",
    "\n",
    "# Stratified K-Fold Cross Validation\n",
    "skf = StratifiedKFold(n_splits=5, shuffle=True, random_state=42)\n",
    "stratified_scores = cross_val_score(model, X, y, cv=skf)\n",
    "print(\"Stratified K-Fold Average Accuracy:\", np.mean(stratified_scores))\n",
    "\n",
    "# Leave-One-Out Cross Validation\n",
    "loo = LeaveOneOut()\n",
    "loo_scores = cross_val_score(model, X, y, cv=loo)\n",
    "print(\"LOOCV Average Accuracy:\", np.mean(loo_scores))\n",
    "\n",
    "# Repeated K-Fold Cross Validation\n",
    "rkf = RepeatedKFold(n_splits=5, n_repeats=10, random_state=42)\n",
    "repeated_scores = cross_val_score(model, X, y, cv=rkf)\n",
    "print(\"Repeated K-Fold Average Accuracy:\", np.mean(repeated_scores))\n"
   ]
  },
  {
   "cell_type": "code",
   "execution_count": 7,
   "metadata": {},
   "outputs": [
    {
     "name": "stdout",
     "output_type": "stream",
     "text": [
      "score for each and every fold :  [0.4  0.55 0.45 0.35 0.5 ]\n",
      "trained model with 5 fold thats why we got it 5 accuracy!\n"
     ]
    }
   ],
   "source": [
    "print(\"score for each and every fold : \",stratified_scores)\n",
    "print(\"trained model with 5 fold thats why we got it 5 accuracy!\")"
   ]
  },
  {
   "cell_type": "markdown",
   "metadata": {},
   "source": [
    "<h1>for the regression you will have to change the scoring parameter of cross_val_score</h1>"
   ]
  },
  {
   "cell_type": "code",
   "execution_count": 13,
   "metadata": {},
   "outputs": [
    {
     "name": "stdout",
     "output_type": "stream",
     "text": [
      "MSE Scores for each fold: [0.09515666 0.06409506 0.09118028 0.10002346 0.06524814]\n",
      "Average MSE: 0.0831407205857377\n"
     ]
    }
   ],
   "source": [
    "from sklearn.model_selection import KFold, cross_val_score\n",
    "from sklearn.ensemble import RandomForestRegressor\n",
    "from sklearn.metrics import mean_squared_error, make_scorer\n",
    "import numpy as np\n",
    "\n",
    "# Sample data\n",
    "X = np.random.rand(100, 10)  # 100 samples, 10 features\n",
    "y = np.random.rand(100)  # Continuous target variable\n",
    "\n",
    "# Model\n",
    "model = RandomForestRegressor()\n",
    "\n",
    "# Scorer for MSE\n",
    "mse_scorer = make_scorer(mean_squared_error)\n",
    "\n",
    "# Standard K-Fold Cross Validation\n",
    "kf = KFold(n_splits=5, shuffle=True, random_state=42)\n",
    "scores = cross_val_score(model, X, y, cv=kf, scoring=mse_scorer)\n",
    "\n",
    "print(\"MSE Scores for each fold:\", scores)\n",
    "print(\"Average MSE:\", np.mean(scores))\n"
   ]
  },
  {
   "cell_type": "markdown",
   "metadata": {},
   "source": [
    "## Thank you 😎"
   ]
  }
 ],
 "metadata": {
  "kernelspec": {
   "display_name": "Python 3",
   "language": "python",
   "name": "python3"
  },
  "language_info": {
   "codemirror_mode": {
    "name": "ipython",
    "version": 3
   },
   "file_extension": ".py",
   "mimetype": "text/x-python",
   "name": "python",
   "nbconvert_exporter": "python",
   "pygments_lexer": "ipython3",
   "version": "3.12.4"
  }
 },
 "nbformat": 4,
 "nbformat_minor": 2
}
