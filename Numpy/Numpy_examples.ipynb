{
 "cells": [
  {
   "cell_type": "markdown",
   "id": "c78b7177-7fb6-4f57-85dd-c8e924ca0814",
   "metadata": {},
   "source": [
    "## Numpy Examples"
   ]
  },
  {
   "cell_type": "code",
   "execution_count": 20,
   "id": "784f7059",
   "metadata": {},
   "outputs": [
    {
     "name": "stdout",
     "output_type": "stream",
     "text": [
      "Requirement already satisfied: numpy in c:\\users\\ranjit\\appdata\\local\\programs\\python\\python311\\lib\\site-packages (1.26.0)\n"
     ]
    }
   ],
   "source": [
    "### to install numpy \n",
    "!pip install numpy"
   ]
  },
  {
   "cell_type": "code",
   "execution_count": 21,
   "id": "e9efde07-37cc-46e9-ab18-855b7ce1d3a1",
   "metadata": {},
   "outputs": [
    {
     "name": "stdout",
     "output_type": "stream",
     "text": [
      "numpy successfully imported !\n"
     ]
    }
   ],
   "source": [
    "import numpy as np\n",
    "print('numpy successfully imported !')\n"
   ]
  },
  {
   "cell_type": "markdown",
   "id": "61f56f31-0bf6-4a2a-bef2-c43e0562b1df",
   "metadata": {},
   "source": [
    "### Numpy array creation method"
   ]
  },
  {
   "cell_type": "code",
   "execution_count": 22,
   "id": "92203ade-5e25-40fb-b5e2-7ce7c974be9b",
   "metadata": {},
   "outputs": [
    {
     "data": {
      "text/plain": [
       "array([ 1,  2,  3,  4,  5,  6,  7,  8,  9, 10, 11, 12, 13, 14, 15, 16, 17,\n",
       "       18, 19, 20, 21, 22, 23, 24])"
      ]
     },
     "execution_count": 22,
     "metadata": {},
     "output_type": "execute_result"
    }
   ],
   "source": [
    "lst = list(range(1,25))\n",
    "arr1 = np.array(lst)\n",
    "arr1\n",
    "# creating first numpy array"
   ]
  },
  {
   "cell_type": "code",
   "execution_count": 23,
   "id": "9aec1c31-3c79-4e3d-848b-180e60b221c8",
   "metadata": {},
   "outputs": [
    {
     "data": {
      "text/plain": [
       "array([ 1,  2,  3,  4,  5,  6,  7,  8,  9, 10, 11, 12, 13, 14, 15, 16, 17,\n",
       "       18, 19, 20, 21, 22, 23, 24])"
      ]
     },
     "execution_count": 23,
     "metadata": {},
     "output_type": "execute_result"
    }
   ],
   "source": [
    "arr2 = np.arange(1,25)\n",
    "arr2\n",
    "# single dimension numpy array"
   ]
  },
  {
   "cell_type": "code",
   "execution_count": 24,
   "id": "62ee6cc7-5367-4ade-a1db-41804b992feb",
   "metadata": {},
   "outputs": [
    {
     "data": {
      "text/plain": [
       "array([1, 2, 3, 4, 5, 6, 7, 8, 9, 4, 5, 6, 1, 2, 3])"
      ]
     },
     "execution_count": 24,
     "metadata": {},
     "output_type": "execute_result"
    }
   ],
   "source": [
    "arr3 = np.array([1,2,3,4,5,6,7,8,9,4,5,6,1,2,3])\n",
    "arr3\n",
    "# single numpy array"
   ]
  },
  {
   "cell_type": "code",
   "execution_count": 25,
   "id": "cdb95eed-358a-4c7f-b9a4-f7d9139011ca",
   "metadata": {},
   "outputs": [
    {
     "data": {
      "text/plain": [
       "array([[0., 0., 0., 0., 0., 0., 0., 0., 0., 0.],\n",
       "       [0., 0., 0., 0., 0., 0., 0., 0., 0., 0.],\n",
       "       [0., 0., 0., 0., 0., 0., 0., 0., 0., 0.],\n",
       "       [0., 0., 0., 0., 0., 0., 0., 0., 0., 0.],\n",
       "       [0., 0., 0., 0., 0., 0., 0., 0., 0., 0.]])"
      ]
     },
     "execution_count": 25,
     "metadata": {},
     "output_type": "execute_result"
    }
   ],
   "source": [
    "arr4 = np.zeros((5,10))\n",
    "arr4\n",
    "# 2D Array with filling 0"
   ]
  },
  {
   "cell_type": "code",
   "execution_count": 26,
   "id": "b52e56f2-f523-49aa-9cc6-0685dbeb9017",
   "metadata": {},
   "outputs": [
    {
     "data": {
      "text/plain": [
       "array([[1., 1., 1., 1., 1.],\n",
       "       [1., 1., 1., 1., 1.],\n",
       "       [1., 1., 1., 1., 1.],\n",
       "       [1., 1., 1., 1., 1.],\n",
       "       [1., 1., 1., 1., 1.],\n",
       "       [1., 1., 1., 1., 1.],\n",
       "       [1., 1., 1., 1., 1.],\n",
       "       [1., 1., 1., 1., 1.],\n",
       "       [1., 1., 1., 1., 1.],\n",
       "       [1., 1., 1., 1., 1.]])"
      ]
     },
     "execution_count": 26,
     "metadata": {},
     "output_type": "execute_result"
    }
   ],
   "source": [
    "arr5 = np.ones((10,5))\n",
    "arr5\n",
    "# 2D Array with filling 1"
   ]
  },
  {
   "cell_type": "code",
   "execution_count": 27,
   "id": "6ee55128-29c6-4985-8cda-77ff983e90c3",
   "metadata": {
    "scrolled": true
   },
   "outputs": [
    {
     "data": {
      "text/plain": [
       "array([ 1.  ,  3.25,  5.5 ,  7.75, 10.  ])"
      ]
     },
     "execution_count": 27,
     "metadata": {},
     "output_type": "execute_result"
    }
   ],
   "source": [
    "arr6 = np.linspace(1,10,5)\n",
    "arr6\n",
    "# 1D Array in between 1 to  10,   5 elements"
   ]
  },
  {
   "cell_type": "code",
   "execution_count": 28,
   "id": "07baa447-81e1-4249-b29d-1bc290a3795a",
   "metadata": {},
   "outputs": [
    {
     "data": {
      "text/plain": [
       "array([[ 0,  1,  2],\n",
       "       [ 3,  4,  5],\n",
       "       [ 6,  7,  8],\n",
       "       [ 9, 10, 11],\n",
       "       [12, 13, 14],\n",
       "       [15, 16, 17],\n",
       "       [18, 19, 20],\n",
       "       [21, 22, 23],\n",
       "       [24, 25, 26],\n",
       "       [27, 28, 29]])"
      ]
     },
     "execution_count": 28,
     "metadata": {},
     "output_type": "execute_result"
    }
   ],
   "source": [
    "arr7 = np.arange(0,30).reshape(10,3)\n",
    "arr7\n",
    "# reshaping the array 1D to 2D"
   ]
  },
  {
   "cell_type": "markdown",
   "id": "96627d53-1eef-4ba3-8e16-4f47515c92a8",
   "metadata": {},
   "source": [
    "### random initialliazation array creation method"
   ]
  },
  {
   "cell_type": "code",
   "execution_count": 29,
   "id": "ca969d8e-26ea-46fc-8de1-ad6c3d86c954",
   "metadata": {},
   "outputs": [
    {
     "data": {
      "text/plain": [
       "array([2, 2, 4, 1, 4, 1, 4, 4, 3])"
      ]
     },
     "execution_count": 29,
     "metadata": {},
     "output_type": "execute_result"
    }
   ],
   "source": [
    "arr_1_D = np.random.randint(1,5,9)\n",
    "arr_1_D\n",
    "# Randomly initialization numpy array with integer filling value"
   ]
  },
  {
   "cell_type": "code",
   "execution_count": 30,
   "id": "c149ab86",
   "metadata": {},
   "outputs": [
    {
     "data": {
      "text/plain": [
       "array([[1, 3],\n",
       "       [1, 2],\n",
       "       [1, 1],\n",
       "       [1, 3],\n",
       "       [4, 3]])"
      ]
     },
     "execution_count": 30,
     "metadata": {},
     "output_type": "execute_result"
    }
   ],
   "source": [
    "arr2D = np.random.randint(1,5,(5,2))\n",
    "arr2D\n",
    "#2D numpy array with filling random integer value"
   ]
  },
  {
   "cell_type": "code",
   "execution_count": 31,
   "id": "2abe32ee",
   "metadata": {},
   "outputs": [
    {
     "data": {
      "text/plain": [
       "array([0.65520637, 0.26044838, 0.71858341, 0.95858769, 0.94171036,\n",
       "       0.22848227, 0.08688715, 0.96552868, 0.13394152, 0.43117082])"
      ]
     },
     "execution_count": 31,
     "metadata": {},
     "output_type": "execute_result"
    }
   ],
   "source": [
    "arr_1_D = np.random.random(10)\n",
    "arr_1_D\n",
    "# 1D Array ,it will fill floating value"
   ]
  },
  {
   "cell_type": "code",
   "execution_count": 32,
   "id": "c39a4065-3f94-4450-9963-e185ba63c585",
   "metadata": {},
   "outputs": [
    {
     "data": {
      "text/plain": [
       "array([[0.80621927, 0.60847073, 0.395852  , 0.60071533, 0.47805027,\n",
       "        0.34175207, 0.21678268, 0.71347534, 0.59920144, 0.21433418],\n",
       "       [0.22014533, 0.80122625, 0.73740129, 0.39190989, 0.75378015,\n",
       "        0.39204034, 0.75064644, 0.59164273, 0.72881004, 0.45915411],\n",
       "       [0.04099834, 0.82897525, 0.94958313, 0.0349612 , 0.9581746 ,\n",
       "        0.2566487 , 0.34399207, 0.24590768, 0.42357002, 0.76913408],\n",
       "       [0.62967636, 0.08770956, 0.64106409, 0.12478031, 0.70829179,\n",
       "        0.43899673, 0.31107975, 0.95777733, 0.38935382, 0.49597971],\n",
       "       [0.15908645, 0.34320658, 0.90312125, 0.90455552, 0.99673944,\n",
       "        0.16850351, 0.70063595, 0.52383638, 0.93338879, 0.44723653]])"
      ]
     },
     "execution_count": 32,
     "metadata": {},
     "output_type": "execute_result"
    }
   ],
   "source": [
    "arr_2_D = np.random.random((5,10))\n",
    "arr_2_D\n",
    "#2D Array random initialization numpy array with floating value"
   ]
  },
  {
   "cell_type": "markdown",
   "id": "d9738f42-7e0a-4f1a-a66d-732dd257ab37",
   "metadata": {},
   "source": [
    "### Array attribute"
   ]
  },
  {
   "cell_type": "code",
   "execution_count": 33,
   "id": "aff69cf0-beb1-48f0-b48c-722a66d2cc03",
   "metadata": {},
   "outputs": [
    {
     "data": {
      "text/plain": [
       "array([[ 0,  1,  2,  3,  4],\n",
       "       [ 5,  6,  7,  8,  9],\n",
       "       [10, 11, 12, 13, 14],\n",
       "       [15, 16, 17, 18, 19],\n",
       "       [20, 21, 22, 23, 24],\n",
       "       [25, 26, 27, 28, 29],\n",
       "       [30, 31, 32, 33, 34],\n",
       "       [35, 36, 37, 38, 39],\n",
       "       [40, 41, 42, 43, 44],\n",
       "       [45, 46, 47, 48, 49],\n",
       "       [50, 51, 52, 53, 54],\n",
       "       [55, 56, 57, 58, 59]])"
      ]
     },
     "execution_count": 33,
     "metadata": {},
     "output_type": "execute_result"
    }
   ],
   "source": [
    "arr = np.arange(60).reshape(12,5)\n",
    "arr\n"
   ]
  },
  {
   "cell_type": "code",
   "execution_count": 34,
   "id": "3e7bbf39-f73d-4d34-bbc8-e8a21ff24ddb",
   "metadata": {},
   "outputs": [
    {
     "data": {
      "text/plain": [
       "(12, 5)"
      ]
     },
     "execution_count": 34,
     "metadata": {},
     "output_type": "execute_result"
    }
   ],
   "source": [
    "arr.shape\n",
    "# to check the shape of numpy array"
   ]
  },
  {
   "cell_type": "code",
   "execution_count": 35,
   "id": "12bc653f-34de-4a89-8f09-66a6418a766a",
   "metadata": {},
   "outputs": [
    {
     "data": {
      "text/plain": [
       "dtype('int32')"
      ]
     },
     "execution_count": 35,
     "metadata": {},
     "output_type": "execute_result"
    }
   ],
   "source": [
    "arr.dtype\n",
    "# to check the data type of numpy array"
   ]
  },
  {
   "cell_type": "code",
   "execution_count": 36,
   "id": "3ce85e10-7c35-4e9f-ae2e-aa8f64943e92",
   "metadata": {},
   "outputs": [
    {
     "data": {
      "text/plain": [
       "2"
      ]
     },
     "execution_count": 36,
     "metadata": {},
     "output_type": "execute_result"
    }
   ],
   "source": [
    "arr.ndim\n",
    "# to check the dimension of numpy array"
   ]
  },
  {
   "cell_type": "code",
   "execution_count": 37,
   "id": "d07f58a1-a606-4ff9-b54d-aedb888f4935",
   "metadata": {},
   "outputs": [
    {
     "data": {
      "text/plain": [
       "60"
      ]
     },
     "execution_count": 37,
     "metadata": {},
     "output_type": "execute_result"
    }
   ],
   "source": [
    "arr.size     \n",
    "# total no. of elements --> rows * columns\n"
   ]
  },
  {
   "cell_type": "code",
   "execution_count": 38,
   "id": "3bcfc604-d34b-4b39-a559-513e90c2f3c4",
   "metadata": {},
   "outputs": [
    {
     "data": {
      "text/plain": [
       "array([ 0,  1,  2,  3,  4,  5,  6,  7,  8,  9, 10, 11, 12, 13, 14, 15, 16,\n",
       "       17, 18, 19, 20, 21, 22, 23, 24, 25, 26, 27, 28, 29, 30, 31, 32, 33,\n",
       "       34, 35, 36, 37, 38, 39, 40, 41, 42, 43, 44, 45, 46, 47, 48, 49, 50,\n",
       "       51, 52, 53, 54, 55, 56, 57, 58, 59])"
      ]
     },
     "execution_count": 38,
     "metadata": {},
     "output_type": "execute_result"
    }
   ],
   "source": [
    "arr.flatten()    \n",
    "# converting into  1D"
   ]
  },
  {
   "cell_type": "code",
   "execution_count": 39,
   "id": "bcb10df8-0eba-43a6-ade9-46dc86075da0",
   "metadata": {},
   "outputs": [
    {
     "data": {
      "text/plain": [
       "array([ 0,  1,  2,  3,  4,  5,  6,  7,  8,  9, 10, 11, 12, 13, 14, 15, 16,\n",
       "       17, 18, 19, 20, 21, 22, 23, 24, 25, 26, 27, 28, 29, 30, 31, 32, 33,\n",
       "       34, 35, 36, 37, 38, 39, 40, 41, 42, 43, 44, 45, 46, 47, 48, 49, 50,\n",
       "       51, 52, 53, 54, 55, 56, 57, 58, 59])"
      ]
     },
     "execution_count": 39,
     "metadata": {},
     "output_type": "execute_result"
    }
   ],
   "source": [
    "arr.ravel()       \n",
    "# converting 1 D"
   ]
  },
  {
   "cell_type": "code",
   "execution_count": 40,
   "id": "da817a7c-335e-49d6-a145-ffe0eeeb12ee",
   "metadata": {},
   "outputs": [
    {
     "data": {
      "text/plain": [
       "[[1, 2, 3], [4, 5, 6]]"
      ]
     },
     "execution_count": 40,
     "metadata": {},
     "output_type": "execute_result"
    }
   ],
   "source": [
    "list_2D = [[1,2,3],[4,5,6]]\n",
    "list_2D\n",
    "# creating 2D python list"
   ]
  },
  {
   "cell_type": "code",
   "execution_count": 41,
   "id": "2c57df21-9f91-41c7-9c42-c5222b7df8b3",
   "metadata": {},
   "outputs": [
    {
     "data": {
      "text/plain": [
       "array([[1, 2, 3],\n",
       "       [4, 5, 6]])"
      ]
     },
     "execution_count": 41,
     "metadata": {},
     "output_type": "execute_result"
    }
   ],
   "source": [
    "arr = np.array(list_2D)\n",
    "arr\n",
    "# creating numpy array from python 2D list"
   ]
  },
  {
   "cell_type": "code",
   "execution_count": 42,
   "id": "6a04056f",
   "metadata": {},
   "outputs": [
    {
     "data": {
      "text/plain": [
       "(2, 3)"
      ]
     },
     "execution_count": 42,
     "metadata": {},
     "output_type": "execute_result"
    }
   ],
   "source": [
    "arr.shape"
   ]
  },
  {
   "cell_type": "code",
   "execution_count": 43,
   "id": "f51328a2-dc92-414f-a3e6-9f2eed323c2e",
   "metadata": {},
   "outputs": [
    {
     "data": {
      "text/plain": [
       "(3, 2)"
      ]
     },
     "execution_count": 43,
     "metadata": {},
     "output_type": "execute_result"
    }
   ],
   "source": [
    "arr.T.shape        \n",
    " ## transposing the shape of the data"
   ]
  },
  {
   "cell_type": "markdown",
   "id": "48df31f5-4a1f-4144-ab37-d9cecee14294",
   "metadata": {},
   "source": [
    "# Acessing elements from array 1D and 2D array\n",
    "<h2>For 1D array</h2>\n",
    "<h2>[row_start:row_end:row_step]</h2><br>\n",
    "<h2>For 2D array</h2>\n",
    "<h2>[row_start:row_end:row_step,row_start:row_end:row_step]</h2>\n"
   ]
  },
  {
   "cell_type": "markdown",
   "id": "8c0e5de7",
   "metadata": {},
   "source": [
    "### Dealing with 1D Array"
   ]
  },
  {
   "cell_type": "code",
   "execution_count": 44,
   "id": "218c4c07",
   "metadata": {},
   "outputs": [
    {
     "data": {
      "text/plain": [
       "array([ 0,  1,  2,  3,  4,  5,  6,  7,  8,  9, 10, 11, 12, 13, 14, 15, 16,\n",
       "       17, 18, 19, 20, 21, 22, 23, 24, 25, 26, 27, 28, 29, 30, 31, 32, 33,\n",
       "       34, 35, 36, 37, 38, 39, 40, 41, 42, 43, 44, 45, 46, 47, 48, 49, 50,\n",
       "       51, 52, 53, 54, 55, 56, 57, 58, 59])"
      ]
     },
     "execution_count": 44,
     "metadata": {},
     "output_type": "execute_result"
    }
   ],
   "source": [
    "arr = np.arange(60)\n",
    "arr"
   ]
  },
  {
   "cell_type": "code",
   "execution_count": 45,
   "id": "24ab87b9",
   "metadata": {},
   "outputs": [
    {
     "data": {
      "text/plain": [
       "10"
      ]
     },
     "execution_count": 45,
     "metadata": {},
     "output_type": "execute_result"
    }
   ],
   "source": [
    "arr[10]\n",
    "# to access particular array"
   ]
  },
  {
   "cell_type": "code",
   "execution_count": 46,
   "id": "3237b506",
   "metadata": {},
   "outputs": [
    {
     "data": {
      "text/plain": [
       "array([0, 1, 2, 3, 4])"
      ]
     },
     "execution_count": 46,
     "metadata": {},
     "output_type": "execute_result"
    }
   ],
   "source": [
    "arr[0:5]\n",
    "# to access particular group of items"
   ]
  },
  {
   "cell_type": "code",
   "execution_count": 47,
   "id": "99c85489",
   "metadata": {},
   "outputs": [
    {
     "data": {
      "text/plain": [
       "array([ 0,  2,  4,  6,  8, 10, 12, 14, 16, 18])"
      ]
     },
     "execution_count": 47,
     "metadata": {},
     "output_type": "execute_result"
    }
   ],
   "source": [
    "arr[0:20:2]\n",
    "# access particular group of element with 1 jump"
   ]
  },
  {
   "cell_type": "markdown",
   "id": "471cfd23",
   "metadata": {},
   "source": [
    "### Dealing with 2D Array"
   ]
  },
  {
   "cell_type": "code",
   "execution_count": 48,
   "id": "c638697c-bffe-49c2-97b5-eee41d629a82",
   "metadata": {},
   "outputs": [
    {
     "data": {
      "text/plain": [
       "array([[ 0,  1,  2,  3,  4],\n",
       "       [ 5,  6,  7,  8,  9],\n",
       "       [10, 11, 12, 13, 14],\n",
       "       [15, 16, 17, 18, 19],\n",
       "       [20, 21, 22, 23, 24],\n",
       "       [25, 26, 27, 28, 29],\n",
       "       [30, 31, 32, 33, 34],\n",
       "       [35, 36, 37, 38, 39],\n",
       "       [40, 41, 42, 43, 44],\n",
       "       [45, 46, 47, 48, 49],\n",
       "       [50, 51, 52, 53, 54],\n",
       "       [55, 56, 57, 58, 59]])"
      ]
     },
     "execution_count": 48,
     "metadata": {},
     "output_type": "execute_result"
    }
   ],
   "source": [
    "arr = np.arange(60).reshape(12,5)\n",
    "arr"
   ]
  },
  {
   "cell_type": "code",
   "execution_count": 49,
   "id": "3ed2d872-dad9-4b95-94ac-0ef1f81e0637",
   "metadata": {},
   "outputs": [
    {
     "data": {
      "text/plain": [
       "array([5, 6, 7, 8, 9])"
      ]
     },
     "execution_count": 49,
     "metadata": {},
     "output_type": "execute_result"
    }
   ],
   "source": [
    "arr[1]   \n",
    "# to access particular row"
   ]
  },
  {
   "cell_type": "code",
   "execution_count": 50,
   "id": "508a5be1-007b-469a-b680-b499116dfdc2",
   "metadata": {},
   "outputs": [
    {
     "data": {
      "text/plain": [
       "6"
      ]
     },
     "execution_count": 50,
     "metadata": {},
     "output_type": "execute_result"
    }
   ],
   "source": [
    "arr[1,1]  \n",
    "\n",
    "# 1  --> for row\n",
    "# 1  --> for column  \n",
    "# to access particular element from particular row and column"
   ]
  },
  {
   "cell_type": "code",
   "execution_count": 51,
   "id": "d5c4f1f4",
   "metadata": {},
   "outputs": [
    {
     "data": {
      "text/plain": [
       "array([[ 1],\n",
       "       [ 6],\n",
       "       [11],\n",
       "       [16],\n",
       "       [21]])"
      ]
     },
     "execution_count": 51,
     "metadata": {},
     "output_type": "execute_result"
    }
   ],
   "source": [
    "arr[0:5,1:2]\n",
    "\n",
    "# 0:5   --> for row\n",
    "# 1:2   --> for column"
   ]
  },
  {
   "cell_type": "code",
   "execution_count": 52,
   "id": "77b0f55c-4f40-4475-9c7e-9d0e3084f0e6",
   "metadata": {},
   "outputs": [
    {
     "data": {
      "text/plain": [
       "array([8, 9])"
      ]
     },
     "execution_count": 52,
     "metadata": {},
     "output_type": "execute_result"
    }
   ],
   "source": [
    "arr[1,3:5]\n",
    "# sub elements from particular row and column"
   ]
  },
  {
   "cell_type": "code",
   "execution_count": 53,
   "id": "6d227bea-0537-42d9-b23b-4372502af0ef",
   "metadata": {},
   "outputs": [],
   "source": [
    "arr[7:8,4][0]=100\n",
    "# manipulating the data of particular element in numpy array"
   ]
  },
  {
   "cell_type": "markdown",
   "id": "907ab83d-c314-447f-8d1a-a1293639dd73",
   "metadata": {},
   "source": [
    "### accessing last element by multiple way "
   ]
  },
  {
   "cell_type": "code",
   "execution_count": 54,
   "id": "a2e41707",
   "metadata": {},
   "outputs": [
    {
     "data": {
      "text/plain": [
       "array([[  0,   1,   2,   3,   4],\n",
       "       [  5,   6,   7,   8,   9],\n",
       "       [ 10,  11,  12,  13,  14],\n",
       "       [ 15,  16,  17,  18,  19],\n",
       "       [ 20,  21,  22,  23,  24],\n",
       "       [ 25,  26,  27,  28,  29],\n",
       "       [ 30,  31,  32,  33,  34],\n",
       "       [ 35,  36,  37,  38, 100],\n",
       "       [ 40,  41,  42,  43,  44],\n",
       "       [ 45,  46,  47,  48,  49],\n",
       "       [ 50,  51,  52,  53,  54],\n",
       "       [ 55,  56,  57,  58,  59]])"
      ]
     },
     "execution_count": 54,
     "metadata": {},
     "output_type": "execute_result"
    }
   ],
   "source": [
    "arr"
   ]
  },
  {
   "cell_type": "code",
   "execution_count": 55,
   "id": "7aa09eee-c9bf-4464-b640-b67517d002d9",
   "metadata": {},
   "outputs": [
    {
     "data": {
      "text/plain": [
       "59"
      ]
     },
     "execution_count": 55,
     "metadata": {},
     "output_type": "execute_result"
    }
   ],
   "source": [
    "arr[11][-1]\n",
    "# first way"
   ]
  },
  {
   "cell_type": "code",
   "execution_count": 56,
   "id": "abffc864",
   "metadata": {},
   "outputs": [
    {
     "data": {
      "text/plain": [
       "59"
      ]
     },
     "execution_count": 56,
     "metadata": {},
     "output_type": "execute_result"
    }
   ],
   "source": [
    "arr[-1][-1]"
   ]
  },
  {
   "cell_type": "code",
   "execution_count": 57,
   "id": "a34d2761",
   "metadata": {},
   "outputs": [
    {
     "data": {
      "text/plain": [
       "59"
      ]
     },
     "execution_count": 57,
     "metadata": {},
     "output_type": "execute_result"
    }
   ],
   "source": [
    "arr[-1,-1]"
   ]
  },
  {
   "cell_type": "code",
   "execution_count": 58,
   "id": "2bd7852d-6f77-4fd2-9893-cb1419a3fd43",
   "metadata": {},
   "outputs": [
    {
     "data": {
      "text/plain": [
       "59"
      ]
     },
     "execution_count": 58,
     "metadata": {},
     "output_type": "execute_result"
    }
   ],
   "source": [
    "arr[11:,-1][0]\n",
    "# second way"
   ]
  },
  {
   "cell_type": "code",
   "execution_count": 59,
   "id": "f0cf90d5-b1c3-4c9d-ab73-1e38448a2c4a",
   "metadata": {},
   "outputs": [
    {
     "data": {
      "text/plain": [
       "59"
      ]
     },
     "execution_count": 59,
     "metadata": {},
     "output_type": "execute_result"
    }
   ],
   "source": [
    "arr[11,4]\n",
    "# third way"
   ]
  },
  {
   "cell_type": "code",
   "execution_count": 60,
   "id": "0df1cf29",
   "metadata": {},
   "outputs": [
    {
     "data": {
      "text/plain": [
       "array([[  0,   1,   2,   3,   4],\n",
       "       [  5,   6,   7,   8,   9],\n",
       "       [ 10,  11,  12,  13,  14],\n",
       "       [ 15,  16,  17,  18,  19],\n",
       "       [ 20,  21,  22,  23,  24],\n",
       "       [ 25,  26,  27,  28,  29],\n",
       "       [ 30,  31,  32,  33,  34],\n",
       "       [ 35,  36,  37,  38, 100],\n",
       "       [ 40,  41,  42,  43,  44],\n",
       "       [ 45,  46,  47,  48,  49],\n",
       "       [ 50,  51,  52,  53,  54],\n",
       "       [ 55,  56,  57,  58,  59]])"
      ]
     },
     "execution_count": 60,
     "metadata": {},
     "output_type": "execute_result"
    }
   ],
   "source": [
    "arr"
   ]
  },
  {
   "cell_type": "code",
   "execution_count": 61,
   "id": "6a0faa58-2573-481b-8478-8b14c16b6503",
   "metadata": {},
   "outputs": [
    {
     "data": {
      "text/plain": [
       "59"
      ]
     },
     "execution_count": 61,
     "metadata": {},
     "output_type": "execute_result"
    }
   ],
   "source": [
    "arr[:,4][11]\n",
    "# fourth way"
   ]
  },
  {
   "cell_type": "code",
   "execution_count": 62,
   "id": "36a54095",
   "metadata": {},
   "outputs": [
    {
     "data": {
      "text/plain": [
       "59"
      ]
     },
     "execution_count": 62,
     "metadata": {},
     "output_type": "execute_result"
    }
   ],
   "source": [
    "arr[:,4][-1]\n"
   ]
  },
  {
   "cell_type": "code",
   "execution_count": 64,
   "id": "0bc7c9e8-9302-4595-89f8-4913b4cbe442",
   "metadata": {},
   "outputs": [
    {
     "data": {
      "text/plain": [
       "500"
      ]
     },
     "execution_count": 64,
     "metadata": {},
     "output_type": "execute_result"
    }
   ],
   "source": [
    "arr[4,2] = 500\n",
    "# manipulatin the value by multiple way accessing"
   ]
  },
  {
   "cell_type": "code",
   "execution_count": 18,
   "id": "82b6bac0-4935-4f6c-9890-5ad15f8d028c",
   "metadata": {},
   "outputs": [
    {
     "data": {
      "text/plain": [
       "59"
      ]
     },
     "execution_count": 18,
     "metadata": {},
     "output_type": "execute_result"
    }
   ],
   "source": [
    "arr[10:,3:][1,1]\n"
   ]
  },
  {
   "cell_type": "code",
   "execution_count": 90,
   "id": "2429c168-a2c4-43dc-b10c-bdabe57aa65a",
   "metadata": {},
   "outputs": [],
   "source": [
    "arr[10:,3:][1,1] = 500"
   ]
  },
  {
   "cell_type": "code",
   "execution_count": 91,
   "id": "6f9799ad-fe90-42b3-96f4-3472ef4ba148",
   "metadata": {},
   "outputs": [
    {
     "data": {
      "text/plain": [
       "500"
      ]
     },
     "execution_count": 91,
     "metadata": {},
     "output_type": "execute_result"
    }
   ],
   "source": [
    "arr[10:,3:][1,1]"
   ]
  },
  {
   "cell_type": "markdown",
   "id": "d2776f32-c8f6-40c5-b468-53d081d8940e",
   "metadata": {},
   "source": [
    "## accessing elements from 3D Numpy Array"
   ]
  },
  {
   "cell_type": "code",
   "execution_count": 66,
   "id": "96afa263-154b-4151-99e1-134bf612682f",
   "metadata": {},
   "outputs": [
    {
     "data": {
      "text/plain": [
       "array([[[  0,   1,   2],\n",
       "        [  3,   4,   5],\n",
       "        [  6,   7,   8],\n",
       "        [  9,  10,  11],\n",
       "        [ 12,  13,  14],\n",
       "        [ 15,  16,  17],\n",
       "        [ 18,  19,  20],\n",
       "        [ 21,  22,  23],\n",
       "        [ 24,  25,  26],\n",
       "        [ 27,  28,  29],\n",
       "        [ 30,  31,  32],\n",
       "        [ 33,  34,  35],\n",
       "        [ 36,  37,  38],\n",
       "        [ 39,  40,  41],\n",
       "        [ 42,  43,  44]],\n",
       "\n",
       "       [[ 45,  46,  47],\n",
       "        [ 48,  49,  50],\n",
       "        [ 51,  52,  53],\n",
       "        [ 54,  55,  56],\n",
       "        [ 57,  58,  59],\n",
       "        [ 60,  61,  62],\n",
       "        [ 63,  64,  65],\n",
       "        [ 66,  67,  68],\n",
       "        [ 69,  70,  71],\n",
       "        [ 72,  73,  74],\n",
       "        [ 75,  76,  77],\n",
       "        [ 78,  79,  80],\n",
       "        [ 81,  82,  83],\n",
       "        [ 84,  85,  86],\n",
       "        [ 87,  88,  89]],\n",
       "\n",
       "       [[ 90,  91,  92],\n",
       "        [ 93,  94,  95],\n",
       "        [ 96,  97,  98],\n",
       "        [ 99, 100, 101],\n",
       "        [102, 103, 104],\n",
       "        [105, 106, 107],\n",
       "        [108, 109, 110],\n",
       "        [111, 112, 113],\n",
       "        [114, 115, 116],\n",
       "        [117, 118, 119],\n",
       "        [120, 121, 122],\n",
       "        [123, 124, 125],\n",
       "        [126, 127, 128],\n",
       "        [129, 130, 131],\n",
       "        [132, 133, 134]],\n",
       "\n",
       "       [[135, 136, 137],\n",
       "        [138, 139, 140],\n",
       "        [141, 142, 143],\n",
       "        [144, 145, 146],\n",
       "        [147, 148, 149],\n",
       "        [150, 151, 152],\n",
       "        [153, 154, 155],\n",
       "        [156, 157, 158],\n",
       "        [159, 160, 161],\n",
       "        [162, 163, 164],\n",
       "        [165, 166, 167],\n",
       "        [168, 169, 170],\n",
       "        [171, 172, 173],\n",
       "        [174, 175, 176],\n",
       "        [177, 178, 179]],\n",
       "\n",
       "       [[180, 181, 182],\n",
       "        [183, 184, 185],\n",
       "        [186, 187, 188],\n",
       "        [189, 190, 191],\n",
       "        [192, 193, 194],\n",
       "        [195, 196, 197],\n",
       "        [198, 199, 200],\n",
       "        [201, 202, 203],\n",
       "        [204, 205, 206],\n",
       "        [207, 208, 209],\n",
       "        [210, 211, 212],\n",
       "        [213, 214, 215],\n",
       "        [216, 217, 218],\n",
       "        [219, 220, 221],\n",
       "        [222, 223, 224]]])"
      ]
     },
     "execution_count": 66,
     "metadata": {},
     "output_type": "execute_result"
    }
   ],
   "source": [
    "arr = np.array(np.arange(225).reshape(5,15,3))\n",
    "arr"
   ]
  },
  {
   "cell_type": "code",
   "execution_count": 67,
   "id": "c9131134-b004-4c8f-9470-f92267f013e0",
   "metadata": {},
   "outputs": [
    {
     "data": {
      "text/plain": [
       "(5, 15, 3)"
      ]
     },
     "execution_count": 67,
     "metadata": {},
     "output_type": "execute_result"
    }
   ],
   "source": [
    "arr.shape\n",
    "# now we got the 3D shape of numpy array\n",
    "# 5  --> Tables\n",
    "# 15 -- > Rows\n",
    "# 3 -->  columns"
   ]
  },
  {
   "cell_type": "code",
   "execution_count": 15,
   "id": "2fad190a-23b4-43ec-baea-e4fb3b5e77d9",
   "metadata": {},
   "outputs": [
    {
     "name": "stdout",
     "output_type": "stream",
     "text": [
      "dimension of array :- 3D\n"
     ]
    }
   ],
   "source": [
    "print(f\"dimension of array :- {arr.ndim}D\")\n"
   ]
  },
  {
   "cell_type": "code",
   "execution_count": 105,
   "id": "930d18f6-47f2-46e3-80fb-0a65d738007f",
   "metadata": {},
   "outputs": [
    {
     "data": {
      "text/plain": [
       "array([[ 0,  1,  2],\n",
       "       [ 3,  4,  5],\n",
       "       [ 6,  7,  8],\n",
       "       [ 9, 10, 11],\n",
       "       [12, 13, 14],\n",
       "       [15, 16, 17],\n",
       "       [18, 19, 20],\n",
       "       [21, 22, 23],\n",
       "       [24, 25, 26],\n",
       "       [27, 28, 29],\n",
       "       [30, 31, 32],\n",
       "       [33, 34, 35],\n",
       "       [36, 37, 38],\n",
       "       [39, 40, 41],\n",
       "       [42, 43, 44]])"
      ]
     },
     "execution_count": 105,
     "metadata": {},
     "output_type": "execute_result"
    }
   ],
   "source": [
    "arr[0][2:]\n",
    "# accessing rows from 0th tables"
   ]
  },
  {
   "cell_type": "code",
   "execution_count": 117,
   "id": "e32681ba-1901-43ef-9ac5-e372d8f901c7",
   "metadata": {},
   "outputs": [
    {
     "data": {
      "text/plain": [
       "array([[  0,   1,   2],\n",
       "       [ 45,  46,  47],\n",
       "       [ 90,  91,  92],\n",
       "       [135, 136, 137],\n",
       "       [180, 181, 182]])"
      ]
     },
     "execution_count": 117,
     "metadata": {},
     "output_type": "execute_result"
    }
   ],
   "source": [
    "arr[:,0,:]  \n",
    "# fetched first row from all the tables"
   ]
  },
  {
   "cell_type": "code",
   "execution_count": 120,
   "id": "a4168194-6fc2-4f06-bbee-fb3048574ae5",
   "metadata": {},
   "outputs": [
    {
     "data": {
      "text/plain": [
       "array([[[  0]],\n",
       "\n",
       "       [[ 45]],\n",
       "\n",
       "       [[ 90]],\n",
       "\n",
       "       [[135]],\n",
       "\n",
       "       [[180]]])"
      ]
     },
     "execution_count": 120,
     "metadata": {},
     "output_type": "execute_result"
    }
   ],
   "source": [
    "arr[:,0:1,0:1]       \n",
    "# only first element from all the tables"
   ]
  },
  {
   "cell_type": "markdown",
   "id": "3bf3778e-62f7-4f65-b13d-167d0e800b45",
   "metadata": {},
   "source": [
    "## replacing 100 to the 500 in 3D Numpy Array"
   ]
  },
  {
   "cell_type": "code",
   "execution_count": 125,
   "id": "f0a8c55f-91d0-4509-8006-ef859a6a0525",
   "metadata": {},
   "outputs": [
    {
     "data": {
      "text/plain": [
       "100"
      ]
     },
     "execution_count": 125,
     "metadata": {},
     "output_type": "execute_result"
    }
   ],
   "source": [
    "arr[2][3][1]\n",
    "\n",
    "# arr[2][3][1] = 500\n"
   ]
  },
  {
   "cell_type": "code",
   "execution_count": 131,
   "id": "0b947bbe-623c-4d35-b5a1-a911be1c070e",
   "metadata": {},
   "outputs": [
    {
     "data": {
      "text/plain": [
       "100"
      ]
     },
     "execution_count": 131,
     "metadata": {},
     "output_type": "execute_result"
    }
   ],
   "source": [
    "arr[2,3,1]"
   ]
  },
  {
   "cell_type": "code",
   "execution_count": 130,
   "id": "eb1df138-3dec-4fb2-9606-ee5767efcd70",
   "metadata": {},
   "outputs": [
    {
     "data": {
      "text/plain": [
       "array([[[100]]])"
      ]
     },
     "execution_count": 130,
     "metadata": {},
     "output_type": "execute_result"
    }
   ],
   "source": [
    "arr[2:3,3:4,1:2]"
   ]
  },
  {
   "cell_type": "code",
   "execution_count": 129,
   "id": "e94240b8-e308-4af5-bdac-5a3e1dee5fff",
   "metadata": {},
   "outputs": [
    {
     "data": {
      "text/plain": [
       "100"
      ]
     },
     "execution_count": 129,
     "metadata": {},
     "output_type": "execute_result"
    }
   ],
   "source": [
    "arr[2:3,3:4,1:2][0][0][0]"
   ]
  },
  {
   "cell_type": "markdown",
   "id": "c01d077c",
   "metadata": {},
   "source": [
    "### To Reverse print all the elements"
   ]
  },
  {
   "cell_type": "code",
   "execution_count": 72,
   "id": "c3805e0e",
   "metadata": {},
   "outputs": [
    {
     "data": {
      "text/plain": [
       "array([[ 0,  1,  2],\n",
       "       [ 3,  4,  5],\n",
       "       [ 6,  7,  8],\n",
       "       [ 9, 10, 11],\n",
       "       [12, 13, 14],\n",
       "       [15, 16, 17],\n",
       "       [18, 19, 20],\n",
       "       [21, 22, 23],\n",
       "       [24, 25, 26],\n",
       "       [27, 28, 29],\n",
       "       [30, 31, 32],\n",
       "       [33, 34, 35],\n",
       "       [36, 37, 38],\n",
       "       [39, 40, 41],\n",
       "       [42, 43, 44]])"
      ]
     },
     "execution_count": 72,
     "metadata": {},
     "output_type": "execute_result"
    }
   ],
   "source": [
    "arr[0]\n",
    "# we will reverse this first table of the 3D array "
   ]
  },
  {
   "cell_type": "code",
   "execution_count": 75,
   "id": "3ec3f940",
   "metadata": {},
   "outputs": [
    {
     "data": {
      "text/plain": [
       "array([[42, 43, 44],\n",
       "       [39, 40, 41],\n",
       "       [36, 37, 38],\n",
       "       [33, 34, 35],\n",
       "       [30, 31, 32],\n",
       "       [27, 28, 29],\n",
       "       [24, 25, 26],\n",
       "       [21, 22, 23],\n",
       "       [18, 19, 20],\n",
       "       [15, 16, 17],\n",
       "       [12, 13, 14],\n",
       "       [ 9, 10, 11],\n",
       "       [ 6,  7,  8],\n",
       "       [ 3,  4,  5],\n",
       "       [ 0,  1,  2]])"
      ]
     },
     "execution_count": 75,
     "metadata": {},
     "output_type": "execute_result"
    }
   ],
   "source": [
    "arr[0][::-1]\n",
    "# only row sequence has reversed"
   ]
  },
  {
   "cell_type": "code",
   "execution_count": 76,
   "id": "698cc8cf",
   "metadata": {},
   "outputs": [
    {
     "data": {
      "text/plain": [
       "array([[44, 43, 42],\n",
       "       [41, 40, 39],\n",
       "       [38, 37, 36],\n",
       "       [35, 34, 33],\n",
       "       [32, 31, 30],\n",
       "       [29, 28, 27],\n",
       "       [26, 25, 24],\n",
       "       [23, 22, 21],\n",
       "       [20, 19, 18],\n",
       "       [17, 16, 15],\n",
       "       [14, 13, 12],\n",
       "       [11, 10,  9],\n",
       "       [ 8,  7,  6],\n",
       "       [ 5,  4,  3],\n",
       "       [ 2,  1,  0]])"
      ]
     },
     "execution_count": 76,
     "metadata": {},
     "output_type": "execute_result"
    }
   ],
   "source": [
    "arr[0][::-1,::-1]\n",
    "# row and columns both are reversed"
   ]
  },
  {
   "cell_type": "code",
   "execution_count": 78,
   "id": "50f7b0af",
   "metadata": {},
   "outputs": [],
   "source": [
    "arr[0] = arr[0][::-1,::-1]\n",
    "# first table elements has been replaced with reversed elements"
   ]
  },
  {
   "cell_type": "code",
   "execution_count": 80,
   "id": "c8012bbb",
   "metadata": {},
   "outputs": [
    {
     "data": {
      "text/plain": [
       "array([[44, 43, 42],\n",
       "       [41, 40, 39],\n",
       "       [38, 37, 36],\n",
       "       [35, 34, 33],\n",
       "       [32, 31, 30],\n",
       "       [29, 28, 27],\n",
       "       [26, 25, 24],\n",
       "       [23, 22, 21],\n",
       "       [20, 19, 18],\n",
       "       [17, 16, 15],\n",
       "       [14, 13, 12],\n",
       "       [11, 10,  9],\n",
       "       [ 8,  7,  6],\n",
       "       [ 5,  4,  3],\n",
       "       [ 2,  1,  0]])"
      ]
     },
     "execution_count": 80,
     "metadata": {},
     "output_type": "execute_result"
    }
   ],
   "source": [
    "arr[0]"
   ]
  },
  {
   "cell_type": "markdown",
   "id": "ecc02170",
   "metadata": {},
   "source": [
    "### commonly used  function of Numpy array"
   ]
  },
  {
   "cell_type": "code",
   "execution_count": 88,
   "id": "ce37c8f1",
   "metadata": {},
   "outputs": [
    {
     "data": {
      "text/plain": [
       "array([[ 0,  1,  2,  3],\n",
       "       [ 4,  5,  6,  7],\n",
       "       [ 8,  9, 10, 11],\n",
       "       [12, 13, 14, 15],\n",
       "       [16, 17, 18, 19],\n",
       "       [20, 21, 22, 23],\n",
       "       [24, 25, 26, 27],\n",
       "       [28, 29, 30, 31],\n",
       "       [32, 33, 34, 35],\n",
       "       [36, 37, 38, 39],\n",
       "       [40, 41, 42, 43],\n",
       "       [44, 45, 46, 47],\n",
       "       [48, 49, 50, 51],\n",
       "       [52, 53, 54, 55],\n",
       "       [56, 57, 58, 59]])"
      ]
     },
     "execution_count": 88,
     "metadata": {},
     "output_type": "execute_result"
    }
   ],
   "source": [
    "arr = np.arange(60).reshape(15,4)\n",
    "arr"
   ]
  },
  {
   "cell_type": "code",
   "execution_count": 90,
   "id": "ee600886",
   "metadata": {},
   "outputs": [
    {
     "data": {
      "text/plain": [
       "0"
      ]
     },
     "execution_count": 90,
     "metadata": {},
     "output_type": "execute_result"
    }
   ],
   "source": [
    "np.min(arr)\n",
    "\n",
    "# same as min , max , mean ,sum , var , std\n",
    "# minimum element from entire array\n",
    "# you can also check for particualr row or column"
   ]
  },
  {
   "cell_type": "code",
   "execution_count": 104,
   "id": "38673c54",
   "metadata": {},
   "outputs": [
    {
     "name": "stdout",
     "output_type": "stream",
     "text": [
      "16 is root of 4 :- 256\n",
      "and square root of 16 will be :- 4.0\n"
     ]
    }
   ],
   "source": [
    "print(f\"16 is root of 4 :- {4**4}\")\n",
    "print(f\"and square root of 16 will be :- {np.sqrt(16)}\")\n",
    "# sum of particualar row"
   ]
  },
  {
   "cell_type": "markdown",
   "id": "e1ba21bc",
   "metadata": {},
   "source": [
    "### SORTING IN NUMPY ARRAY"
   ]
  },
  {
   "cell_type": "code",
   "execution_count": 2,
   "id": "97847288",
   "metadata": {},
   "outputs": [],
   "source": [
    "arr1 = np.array([2,5,4,1,3,6])\n",
    "arr2 = np.array([[5,1,4,6,8],[1,7,8,6,4]])"
   ]
  },
  {
   "cell_type": "code",
   "execution_count": 3,
   "id": "98175755",
   "metadata": {},
   "outputs": [
    {
     "data": {
      "text/plain": [
       "array([1, 2, 3, 4, 5, 6])"
      ]
     },
     "execution_count": 3,
     "metadata": {},
     "output_type": "execute_result"
    }
   ],
   "source": [
    "arr1.sort()\n",
    "arr1\n",
    "## 1D sorted"
   ]
  },
  {
   "cell_type": "code",
   "execution_count": 4,
   "id": "8ae0ff5b",
   "metadata": {},
   "outputs": [
    {
     "data": {
      "text/plain": [
       "array([6, 5, 4, 3, 2, 1])"
      ]
     },
     "execution_count": 4,
     "metadata": {},
     "output_type": "execute_result"
    }
   ],
   "source": [
    "arr1[::-1]\n",
    "# now its sortecd in descending order"
   ]
  },
  {
   "cell_type": "code",
   "execution_count": 5,
   "id": "5df203b2",
   "metadata": {},
   "outputs": [
    {
     "data": {
      "text/plain": [
       "array([[1, 4, 5, 6, 8],\n",
       "       [1, 4, 6, 7, 8]])"
      ]
     },
     "execution_count": 5,
     "metadata": {},
     "output_type": "execute_result"
    }
   ],
   "source": [
    "np.sort(arr2)\n",
    "# 2D array sort in ascending order"
   ]
  },
  {
   "cell_type": "code",
   "execution_count": 8,
   "id": "7fb91086",
   "metadata": {},
   "outputs": [
    {
     "data": {
      "text/plain": [
       "array([[1, 4, 5, 6, 8],\n",
       "       [1, 4, 6, 7, 8]])"
      ]
     },
     "execution_count": 8,
     "metadata": {},
     "output_type": "execute_result"
    }
   ],
   "source": [
    "arr2.sort()\n",
    "arr2\n",
    "# 2D array sort in ascending order"
   ]
  },
  {
   "cell_type": "code",
   "execution_count": 9,
   "id": "8e4477c1",
   "metadata": {},
   "outputs": [
    {
     "data": {
      "text/plain": [
       "array([[8, 7, 6, 4, 1],\n",
       "       [8, 6, 5, 4, 1]])"
      ]
     },
     "execution_count": 9,
     "metadata": {},
     "output_type": "execute_result"
    }
   ],
   "source": [
    "arr2[::-1,::-1]\n",
    "# 2D array sort in descending order"
   ]
  },
  {
   "cell_type": "markdown",
   "id": "56273702",
   "metadata": {},
   "source": [
    "### argsort()"
   ]
  },
  {
   "cell_type": "code",
   "execution_count": 10,
   "id": "20ac3d5a",
   "metadata": {},
   "outputs": [
    {
     "data": {
      "text/plain": [
       "array([7, 5, 9])"
      ]
     },
     "execution_count": 10,
     "metadata": {},
     "output_type": "execute_result"
    }
   ],
   "source": [
    "arr1 = np.array([7,5,9])\n",
    "arr1\n"
   ]
  },
  {
   "cell_type": "code",
   "execution_count": 147,
   "id": "9ade13ee",
   "metadata": {},
   "outputs": [
    {
     "data": {
      "text/plain": [
       "array([1, 0, 2], dtype=int64)"
      ]
     },
     "execution_count": 147,
     "metadata": {},
     "output_type": "execute_result"
    }
   ],
   "source": [
    "## argsort it returns sorted indexing\n",
    "\n",
    "np.argsort(arr1)"
   ]
  },
  {
   "cell_type": "code",
   "execution_count": 149,
   "id": "8557955b",
   "metadata": {},
   "outputs": [
    {
     "data": {
      "text/plain": [
       "array([[5, 1, 4, 6, 8],\n",
       "       [1, 7, 8, 6, 4]])"
      ]
     },
     "execution_count": 149,
     "metadata": {},
     "output_type": "execute_result"
    }
   ],
   "source": [
    "arr2"
   ]
  },
  {
   "cell_type": "code",
   "execution_count": 152,
   "id": "a823b593",
   "metadata": {},
   "outputs": [
    {
     "data": {
      "text/plain": [
       "array([1, 2, 0, 3, 4], dtype=int64)"
      ]
     },
     "execution_count": 152,
     "metadata": {},
     "output_type": "execute_result"
    }
   ],
   "source": [
    "np.argsort(arr2[0])"
   ]
  },
  {
   "cell_type": "code",
   "execution_count": 124,
   "id": "7bac8f70",
   "metadata": {},
   "outputs": [
    {
     "data": {
      "text/plain": [
       "array([[56, 57, 58, 59],\n",
       "       [52, 53, 54, 55],\n",
       "       [48, 49, 50, 51],\n",
       "       [44, 45, 46, 47],\n",
       "       [40, 41, 42, 43],\n",
       "       [36, 37, 38, 39],\n",
       "       [32, 33, 34, 35],\n",
       "       [28, 29, 30, 31],\n",
       "       [24, 25, 26, 27],\n",
       "       [20, 21, 22, 23],\n",
       "       [16, 17, 18, 19],\n",
       "       [12, 13, 14, 15],\n",
       "       [ 8,  9, 10, 11],\n",
       "       [ 4,  5,  6,  7],\n",
       "       [ 0,  1,  2,  3]])"
      ]
     },
     "execution_count": 124,
     "metadata": {},
     "output_type": "execute_result"
    }
   ],
   "source": [
    "arr[::-1]"
   ]
  },
  {
   "cell_type": "code",
   "execution_count": 114,
   "id": "fea7eea5",
   "metadata": {},
   "outputs": [
    {
     "data": {
      "text/plain": [
       "array([[ 0,  1,  2,  3],\n",
       "       [ 4,  5,  6,  7],\n",
       "       [ 8,  9, 10, 11],\n",
       "       [12, 13, 14, 15],\n",
       "       [16, 17, 18, 19],\n",
       "       [20, 21, 22, 23],\n",
       "       [24, 25, 26, 27],\n",
       "       [28, 29, 30, 31],\n",
       "       [32, 33, 34, 35],\n",
       "       [36, 37, 38, 39],\n",
       "       [40, 41, 42, 43],\n",
       "       [44, 45, 46, 47],\n",
       "       [48, 49, 50, 51],\n",
       "       [52, 53, 54, 55],\n",
       "       [56, 57, 58, 59]])"
      ]
     },
     "execution_count": 114,
     "metadata": {},
     "output_type": "execute_result"
    }
   ],
   "source": [
    "arr"
   ]
  },
  {
   "cell_type": "markdown",
   "id": "f2c5ded1-de3b-4e7a-b9b0-b8c7db6641b4",
   "metadata": {},
   "source": [
    "# Arithmatical operation using Numpy array\n"
   ]
  },
  {
   "cell_type": "code",
   "execution_count": 83,
   "id": "6cb5a947-63e2-4b97-97eb-7089e29448f3",
   "metadata": {},
   "outputs": [],
   "source": [
    "a = [1,2,3,4,5,6,7,8,9]\n",
    "b = [5,4,8,7,9,6,2,3,5]\n",
    "ar1 = np.array(a)\n",
    "ar2 = np.array(b)"
   ]
  },
  {
   "cell_type": "markdown",
   "id": "1158975d-17c2-4014-8ee4-bdc36b68c7bb",
   "metadata": {},
   "source": [
    "### direct operation on element"
   ]
  },
  {
   "cell_type": "code",
   "execution_count": 84,
   "id": "e8d2866b-610c-4c91-8563-3355811ca373",
   "metadata": {},
   "outputs": [
    {
     "data": {
      "text/plain": [
       "array([ 3,  4,  5,  6,  7,  8,  9, 10, 11])"
      ]
     },
     "execution_count": 84,
     "metadata": {},
     "output_type": "execute_result"
    }
   ],
   "source": [
    "ar1 + 2\n",
    "# it will add 2 in each element of Array"
   ]
  },
  {
   "cell_type": "code",
   "execution_count": 136,
   "id": "5495c821-34af-4c50-868d-1a001eaa6537",
   "metadata": {},
   "outputs": [
    {
     "data": {
      "text/plain": [
       "array([ 2,  4,  6,  8, 10, 12, 14, 16, 18])"
      ]
     },
     "execution_count": 136,
     "metadata": {},
     "output_type": "execute_result"
    }
   ],
   "source": [
    "ar1 * 2\n",
    "# multiply in each element"
   ]
  },
  {
   "cell_type": "code",
   "execution_count": 137,
   "id": "ff9746a5-04b3-4d22-9edf-5c5cbe4e2991",
   "metadata": {},
   "outputs": [
    {
     "data": {
      "text/plain": [
       "array([0, 1, 2, 3, 4, 5, 6, 7, 8])"
      ]
     },
     "execution_count": 137,
     "metadata": {},
     "output_type": "execute_result"
    }
   ],
   "source": [
    "ar1 - 1\n",
    "# minus from each element"
   ]
  },
  {
   "cell_type": "code",
   "execution_count": 138,
   "id": "48297e2a-cd03-417c-89c4-03f6f6085593",
   "metadata": {},
   "outputs": [
    {
     "data": {
      "text/plain": [
       "array([0.5, 1. , 1.5, 2. , 2.5, 3. , 3.5, 4. , 4.5])"
      ]
     },
     "execution_count": 138,
     "metadata": {},
     "output_type": "execute_result"
    }
   ],
   "source": [
    "ar1 / 2\n",
    "# dividing"
   ]
  },
  {
   "cell_type": "code",
   "execution_count": 146,
   "id": "ff4dde01-1983-4377-9608-92c5d2a367b9",
   "metadata": {},
   "outputs": [
    {
     "data": {
      "text/plain": [
       "array([ 6,  6, 11, 11, 14, 12,  9, 11, 14])"
      ]
     },
     "execution_count": 146,
     "metadata": {},
     "output_type": "execute_result"
    }
   ],
   "source": [
    "ar1 + ar2\n",
    "# array + array\n",
    "# performed by the indexing\n",
    "# array must in same shape to perform this operation"
   ]
  },
  {
   "cell_type": "markdown",
   "id": "caf7445b-989e-473f-a36e-f66d6547a3ff",
   "metadata": {},
   "source": [
    "## concatenate , vstack , hstack , split , hsplit , vsplit"
   ]
  },
  {
   "cell_type": "code",
   "execution_count": 148,
   "id": "13406323-ef1d-4d53-808e-21deb64a5168",
   "metadata": {},
   "outputs": [
    {
     "data": {
      "text/plain": [
       "array([1, 2, 3, 4, 5, 6, 7, 8, 9, 5, 4, 8, 7, 9, 6, 2, 3, 5])"
      ]
     },
     "execution_count": 148,
     "metadata": {},
     "output_type": "execute_result"
    }
   ],
   "source": [
    "np.concatenate([ar1,ar2])"
   ]
  },
  {
   "cell_type": "code",
   "execution_count": null,
   "id": "2c5d8d60-2ee9-4e10-9ee4-a86a0ba8d7d5",
   "metadata": {},
   "outputs": [],
   "source": []
  },
  {
   "cell_type": "markdown",
   "id": "5e75ed77",
   "metadata": {},
   "source": [
    "### Quizes on Numpy array"
   ]
  },
  {
   "cell_type": "code",
   "execution_count": 28,
   "id": "517efdd5-7042-4a65-bead-46422abf37f9",
   "metadata": {},
   "outputs": [
    {
     "data": {
      "text/plain": [
       "array([[ 0,  1,  2,  3,  4],\n",
       "       [ 5,  6,  7,  8,  9],\n",
       "       [10, 11, 12, 13, 14],\n",
       "       [15, 16, 17, 18, 19],\n",
       "       [20, 21, 22, 23, 24],\n",
       "       [25, 26, 27, 28, 29],\n",
       "       [30, 31, 32, 33, 34],\n",
       "       [35, 36, 37, 38, 39],\n",
       "       [40, 41, 42, 43, 44],\n",
       "       [45, 46, 47, 48, 49],\n",
       "       [50, 51, 52, 53, 54],\n",
       "       [55, 56, 57, 58, 59]])"
      ]
     },
     "execution_count": 28,
     "metadata": {},
     "output_type": "execute_result"
    }
   ],
   "source": [
    "arr = np.arange(60).reshape(12,5)\n",
    "arr"
   ]
  },
  {
   "cell_type": "markdown",
   "id": "ad73dd11",
   "metadata": {},
   "source": [
    "Function to manipulate a elements of last column in the 2D array by the range of row <br>\n",
    "function should work on any no. of shape in 2D,"
   ]
  },
  {
   "cell_type": "code",
   "execution_count": 29,
   "id": "db335ac2",
   "metadata": {},
   "outputs": [],
   "source": [
    "# defining function\n",
    "def manipulation(arr):\n",
    "    row , column = arr.shape\n",
    "    arr[:,-1] = list(range(row))\n",
    "    return arr"
   ]
  },
  {
   "cell_type": "code",
   "execution_count": 30,
   "id": "0dcfcba4",
   "metadata": {},
   "outputs": [
    {
     "data": {
      "text/plain": [
       "array([[ 0,  1,  2,  3,  0],\n",
       "       [ 5,  6,  7,  8,  1],\n",
       "       [10, 11, 12, 13,  2],\n",
       "       [15, 16, 17, 18,  3],\n",
       "       [20, 21, 22, 23,  4],\n",
       "       [25, 26, 27, 28,  5],\n",
       "       [30, 31, 32, 33,  6],\n",
       "       [35, 36, 37, 38,  7],\n",
       "       [40, 41, 42, 43,  8],\n",
       "       [45, 46, 47, 48,  9],\n",
       "       [50, 51, 52, 53, 10],\n",
       "       [55, 56, 57, 58, 11]])"
      ]
     },
     "execution_count": 30,
     "metadata": {},
     "output_type": "execute_result"
    }
   ],
   "source": [
    "manipulate = manipulation(arr)\n",
    "manipulate"
   ]
  }
 ],
 "metadata": {
  "kernelspec": {
   "display_name": "Python 3 (ipykernel)",
   "language": "python",
   "name": "python3"
  },
  "language_info": {
   "codemirror_mode": {
    "name": "ipython",
    "version": 3
   },
   "file_extension": ".py",
   "mimetype": "text/x-python",
   "name": "python",
   "nbconvert_exporter": "python",
   "pygments_lexer": "ipython3",
   "version": "3.11.5"
  }
 },
 "nbformat": 4,
 "nbformat_minor": 5
}
