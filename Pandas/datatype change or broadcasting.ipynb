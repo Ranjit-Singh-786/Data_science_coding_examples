{
 "cells": [
  {
   "cell_type": "markdown",
   "id": "8a0756ff",
   "metadata": {},
   "source": [
    "### inthis notebook we cover datatype broadcasting technique\n"
   ]
  },
  {
   "cell_type": "code",
   "execution_count": 1,
   "id": "fae44e78",
   "metadata": {},
   "outputs": [
    {
     "name": "stdout",
     "output_type": "stream",
     "text": [
      "imported successfully\n"
     ]
    }
   ],
   "source": [
    "import pandas as pd\n",
    "import numpy as np\n",
    "print(\"imported successfully\")"
   ]
  },
  {
   "cell_type": "code",
   "execution_count": 4,
   "id": "4bb7b985",
   "metadata": {},
   "outputs": [
    {
     "data": {
      "text/plain": [
       "{'string_col': ['1', '2', '3', '4', '5'],\n",
       " 'int_float': [1, 3, 2, 2.2, 3],\n",
       " 'int_col': [4, 4, 64, 43, 34],\n",
       " 'mising_col': [1, 3, 4, 5, nan],\n",
       " 'mixed_col': ['a', '-2', 3, 4, 3],\n",
       " 'price': ['$1,500.00', '$2,436.45', '$9,58.99', '$1,798.00', '$5,456.25']}"
      ]
     },
     "execution_count": 4,
     "metadata": {},
     "output_type": "execute_result"
    }
   ],
   "source": [
    "data={\"string_col\":['1','2','3','4','5'],\n",
    "     \"int_float\":[1,3,2,2.2,3],\n",
    "     \"int_col\":[4,4,64,43,34],\n",
    "     \"mising_col\":[1,3,4,5,np.nan],\n",
    "     \"mixed_col\":[\"a\",\"-2\",3,4,3],\n",
    "     \"price\":[\"$1,500.00\",\"$2,436.45\",\"$9,58.99\",\"$1,798.00\",\"$5,456.25\"]}\n",
    "data "
   ]
  },
  {
   "cell_type": "code",
   "execution_count": 6,
   "id": "61ccf5d1",
   "metadata": {},
   "outputs": [
    {
     "data": {
      "text/html": [
       "<div>\n",
       "<style scoped>\n",
       "    .dataframe tbody tr th:only-of-type {\n",
       "        vertical-align: middle;\n",
       "    }\n",
       "\n",
       "    .dataframe tbody tr th {\n",
       "        vertical-align: top;\n",
       "    }\n",
       "\n",
       "    .dataframe thead th {\n",
       "        text-align: right;\n",
       "    }\n",
       "</style>\n",
       "<table border=\"1\" class=\"dataframe\">\n",
       "  <thead>\n",
       "    <tr style=\"text-align: right;\">\n",
       "      <th></th>\n",
       "      <th>string_col</th>\n",
       "      <th>int_float</th>\n",
       "      <th>int_col</th>\n",
       "      <th>mising_col</th>\n",
       "      <th>mixed_col</th>\n",
       "      <th>price</th>\n",
       "    </tr>\n",
       "  </thead>\n",
       "  <tbody>\n",
       "    <tr>\n",
       "      <th>0</th>\n",
       "      <td>1</td>\n",
       "      <td>1.0</td>\n",
       "      <td>4</td>\n",
       "      <td>1.0</td>\n",
       "      <td>a</td>\n",
       "      <td>$1,500.00</td>\n",
       "    </tr>\n",
       "    <tr>\n",
       "      <th>1</th>\n",
       "      <td>2</td>\n",
       "      <td>3.0</td>\n",
       "      <td>4</td>\n",
       "      <td>3.0</td>\n",
       "      <td>-2</td>\n",
       "      <td>$2,436.45</td>\n",
       "    </tr>\n",
       "    <tr>\n",
       "      <th>2</th>\n",
       "      <td>3</td>\n",
       "      <td>2.0</td>\n",
       "      <td>64</td>\n",
       "      <td>4.0</td>\n",
       "      <td>3</td>\n",
       "      <td>$9,58.99</td>\n",
       "    </tr>\n",
       "    <tr>\n",
       "      <th>3</th>\n",
       "      <td>4</td>\n",
       "      <td>2.2</td>\n",
       "      <td>43</td>\n",
       "      <td>5.0</td>\n",
       "      <td>4</td>\n",
       "      <td>$1,798.00</td>\n",
       "    </tr>\n",
       "    <tr>\n",
       "      <th>4</th>\n",
       "      <td>5</td>\n",
       "      <td>3.0</td>\n",
       "      <td>34</td>\n",
       "      <td>NaN</td>\n",
       "      <td>3</td>\n",
       "      <td>$5,456.25</td>\n",
       "    </tr>\n",
       "  </tbody>\n",
       "</table>\n",
       "</div>"
      ],
      "text/plain": [
       "  string_col  int_float  int_col  mising_col mixed_col      price\n",
       "0          1        1.0        4         1.0         a  $1,500.00\n",
       "1          2        3.0        4         3.0        -2  $2,436.45\n",
       "2          3        2.0       64         4.0         3   $9,58.99\n",
       "3          4        2.2       43         5.0         4  $1,798.00\n",
       "4          5        3.0       34         NaN         3  $5,456.25"
      ]
     },
     "execution_count": 6,
     "metadata": {},
     "output_type": "execute_result"
    }
   ],
   "source": [
    "data=pd.DataFrame(data=data)\n",
    "data\n",
    "# creating dataframe using dictionary"
   ]
  },
  {
   "cell_type": "code",
   "execution_count": 7,
   "id": "439dbffb",
   "metadata": {},
   "outputs": [
    {
     "data": {
      "text/plain": [
       "string_col     object\n",
       "int_float     float64\n",
       "int_col         int64\n",
       "mising_col    float64\n",
       "mixed_col      object\n",
       "price          object\n",
       "dtype: object"
      ]
     },
     "execution_count": 7,
     "metadata": {},
     "output_type": "execute_result"
    }
   ],
   "source": [
    "data.dtypes"
   ]
  },
  {
   "cell_type": "code",
   "execution_count": 6,
   "id": "2449edc5",
   "metadata": {},
   "outputs": [
    {
     "data": {
      "text/plain": [
       "dtype('int32')"
      ]
     },
     "execution_count": 6,
     "metadata": {},
     "output_type": "execute_result"
    }
   ],
   "source": [
    "# converting string to integer\n",
    "\n",
    "data['string_col']=data['string_col'].astype(int)\n",
    "data['string_col'].dtypes"
   ]
  },
  {
   "cell_type": "code",
   "execution_count": 8,
   "id": "67421c81",
   "metadata": {},
   "outputs": [
    {
     "data": {
      "text/plain": [
       "dtype('float64')"
      ]
     },
     "execution_count": 8,
     "metadata": {},
     "output_type": "execute_result"
    }
   ],
   "source": [
    "#after converting integer, again we are trying to convert into float \n",
    "data['string_col']=data['string_col'].astype(float)\n",
    "data['string_col'].dtypes"
   ]
  },
  {
   "cell_type": "code",
   "execution_count": 9,
   "id": "0b05273c",
   "metadata": {},
   "outputs": [
    {
     "data": {
      "text/plain": [
       "0    1.0\n",
       "1    2.0\n",
       "2    3.0\n",
       "3    4.0\n",
       "4    5.0\n",
       "Name: string_col, dtype: float64"
      ]
     },
     "execution_count": 9,
     "metadata": {},
     "output_type": "execute_result"
    }
   ],
   "source": [
    "# now you can see we got it values in float\n",
    "data[\"string_col\"]"
   ]
  },
  {
   "cell_type": "markdown",
   "id": "4755f30c",
   "metadata": {},
   "source": [
    "### and now i will deal with the int_float column"
   ]
  },
  {
   "cell_type": "code",
   "execution_count": 7,
   "id": "5d0f9a3c",
   "metadata": {},
   "outputs": [
    {
     "data": {
      "text/plain": [
       "dtype('float64')"
      ]
     },
     "execution_count": 7,
     "metadata": {},
     "output_type": "execute_result"
    }
   ],
   "source": [
    "data['int_float'].dtypes"
   ]
  },
  {
   "cell_type": "code",
   "execution_count": 8,
   "id": "17ef0596",
   "metadata": {},
   "outputs": [
    {
     "data": {
      "text/plain": [
       "0    1.0\n",
       "1    3.0\n",
       "2    2.0\n",
       "3    2.2\n",
       "4    3.0\n",
       "Name: int_float, dtype: float64"
      ]
     },
     "execution_count": 8,
     "metadata": {},
     "output_type": "execute_result"
    }
   ],
   "source": [
    "data['int_float']"
   ]
  },
  {
   "cell_type": "code",
   "execution_count": 9,
   "id": "463d0924",
   "metadata": {},
   "outputs": [
    {
     "data": {
      "text/plain": [
       "dtype('int32')"
      ]
     },
     "execution_count": 9,
     "metadata": {},
     "output_type": "execute_result"
    }
   ],
   "source": [
    "data['int_float']=data['int_float'].astype(int)\n",
    "data['int_float'].dtypes"
   ]
  },
  {
   "cell_type": "code",
   "execution_count": 11,
   "id": "b86bebf7",
   "metadata": {},
   "outputs": [
    {
     "data": {
      "text/plain": [
       "0    1\n",
       "1    3\n",
       "2    2\n",
       "3    2\n",
       "4    3\n",
       "Name: int_float, dtype: int32"
      ]
     },
     "execution_count": 11,
     "metadata": {},
     "output_type": "execute_result"
    }
   ],
   "source": [
    "data['int_float']"
   ]
  },
  {
   "cell_type": "code",
   "execution_count": 7,
   "id": "52c1f37d",
   "metadata": {},
   "outputs": [
    {
     "data": {
      "text/plain": [
       "dtype('int32')"
      ]
     },
     "execution_count": 7,
     "metadata": {},
     "output_type": "execute_result"
    }
   ],
   "source": [
    "data['int_float'].dtypes"
   ]
  },
  {
   "cell_type": "code",
   "execution_count": 6,
   "id": "c6951372",
   "metadata": {},
   "outputs": [
    {
     "data": {
      "text/html": [
       "<div>\n",
       "<style scoped>\n",
       "    .dataframe tbody tr th:only-of-type {\n",
       "        vertical-align: middle;\n",
       "    }\n",
       "\n",
       "    .dataframe tbody tr th {\n",
       "        vertical-align: top;\n",
       "    }\n",
       "\n",
       "    .dataframe thead th {\n",
       "        text-align: right;\n",
       "    }\n",
       "</style>\n",
       "<table border=\"1\" class=\"dataframe\">\n",
       "  <thead>\n",
       "    <tr style=\"text-align: right;\">\n",
       "      <th></th>\n",
       "      <th>string_col</th>\n",
       "      <th>int_float</th>\n",
       "      <th>int_col</th>\n",
       "      <th>mising_col</th>\n",
       "      <th>mixed_col</th>\n",
       "      <th>price</th>\n",
       "    </tr>\n",
       "  </thead>\n",
       "  <tbody>\n",
       "    <tr>\n",
       "      <th>0</th>\n",
       "      <td>1</td>\n",
       "      <td>1</td>\n",
       "      <td>4</td>\n",
       "      <td>1.0</td>\n",
       "      <td>a</td>\n",
       "      <td>$1,500.00</td>\n",
       "    </tr>\n",
       "    <tr>\n",
       "      <th>1</th>\n",
       "      <td>2</td>\n",
       "      <td>3</td>\n",
       "      <td>4</td>\n",
       "      <td>3.0</td>\n",
       "      <td>-2</td>\n",
       "      <td>$2,436.45</td>\n",
       "    </tr>\n",
       "    <tr>\n",
       "      <th>2</th>\n",
       "      <td>3</td>\n",
       "      <td>2</td>\n",
       "      <td>64</td>\n",
       "      <td>4.0</td>\n",
       "      <td>3</td>\n",
       "      <td>$9,58.99</td>\n",
       "    </tr>\n",
       "    <tr>\n",
       "      <th>3</th>\n",
       "      <td>4</td>\n",
       "      <td>2</td>\n",
       "      <td>43</td>\n",
       "      <td>5.0</td>\n",
       "      <td>4</td>\n",
       "      <td>$1,798.00</td>\n",
       "    </tr>\n",
       "    <tr>\n",
       "      <th>4</th>\n",
       "      <td>5</td>\n",
       "      <td>3</td>\n",
       "      <td>34</td>\n",
       "      <td>NaN</td>\n",
       "      <td>3</td>\n",
       "      <td>$5,456.25</td>\n",
       "    </tr>\n",
       "  </tbody>\n",
       "</table>\n",
       "</div>"
      ],
      "text/plain": [
       "  string_col  int_float  int_col  mising_col mixed_col      price\n",
       "0          1          1        4         1.0         a  $1,500.00\n",
       "1          2          3        4         3.0        -2  $2,436.45\n",
       "2          3          2       64         4.0         3   $9,58.99\n",
       "3          4          2       43         5.0         4  $1,798.00\n",
       "4          5          3       34         NaN         3  $5,456.25"
      ]
     },
     "execution_count": 6,
     "metadata": {},
     "output_type": "execute_result"
    }
   ],
   "source": [
    "data.head()\n",
    "# int_float coverted into integer "
   ]
  },
  {
   "cell_type": "code",
   "execution_count": 13,
   "id": "7447598a",
   "metadata": {},
   "outputs": [
    {
     "data": {
      "text/plain": [
       "string_col    float64\n",
       "int_float       int32\n",
       "int_col         int64\n",
       "mising_col    float64\n",
       "mixed_col      object\n",
       "price          object\n",
       "dtype: object"
      ]
     },
     "execution_count": 13,
     "metadata": {},
     "output_type": "execute_result"
    }
   ],
   "source": [
    "data.dtypes"
   ]
  },
  {
   "cell_type": "markdown",
   "id": "2c73c155",
   "metadata": {},
   "source": [
    "\n",
    "### int_float again reverse in float position\n"
   ]
  },
  {
   "cell_type": "code",
   "execution_count": 14,
   "id": "b8594aff",
   "metadata": {},
   "outputs": [
    {
     "data": {
      "text/plain": [
       "dtype('float64')"
      ]
     },
     "execution_count": 14,
     "metadata": {},
     "output_type": "execute_result"
    }
   ],
   "source": [
    "data['int_float']=data['int_float'].astype(float)\n",
    "data['int_float'].dtypes"
   ]
  },
  {
   "cell_type": "code",
   "execution_count": 15,
   "id": "dbefde33",
   "metadata": {},
   "outputs": [
    {
     "data": {
      "text/html": [
       "<div>\n",
       "<style scoped>\n",
       "    .dataframe tbody tr th:only-of-type {\n",
       "        vertical-align: middle;\n",
       "    }\n",
       "\n",
       "    .dataframe tbody tr th {\n",
       "        vertical-align: top;\n",
       "    }\n",
       "\n",
       "    .dataframe thead th {\n",
       "        text-align: right;\n",
       "    }\n",
       "</style>\n",
       "<table border=\"1\" class=\"dataframe\">\n",
       "  <thead>\n",
       "    <tr style=\"text-align: right;\">\n",
       "      <th></th>\n",
       "      <th>string_col</th>\n",
       "      <th>int_float</th>\n",
       "      <th>int_col</th>\n",
       "      <th>mising_col</th>\n",
       "      <th>mixed_col</th>\n",
       "      <th>price</th>\n",
       "    </tr>\n",
       "  </thead>\n",
       "  <tbody>\n",
       "    <tr>\n",
       "      <th>0</th>\n",
       "      <td>1.0</td>\n",
       "      <td>1.0</td>\n",
       "      <td>4</td>\n",
       "      <td>1.0</td>\n",
       "      <td>a</td>\n",
       "      <td>$1,500.00</td>\n",
       "    </tr>\n",
       "    <tr>\n",
       "      <th>1</th>\n",
       "      <td>2.0</td>\n",
       "      <td>3.0</td>\n",
       "      <td>4</td>\n",
       "      <td>3.0</td>\n",
       "      <td>-2</td>\n",
       "      <td>$2,436.45</td>\n",
       "    </tr>\n",
       "    <tr>\n",
       "      <th>2</th>\n",
       "      <td>3.0</td>\n",
       "      <td>2.0</td>\n",
       "      <td>64</td>\n",
       "      <td>4.0</td>\n",
       "      <td>3</td>\n",
       "      <td>$958.99</td>\n",
       "    </tr>\n",
       "    <tr>\n",
       "      <th>3</th>\n",
       "      <td>4.0</td>\n",
       "      <td>2.0</td>\n",
       "      <td>43</td>\n",
       "      <td>5.0</td>\n",
       "      <td>4</td>\n",
       "      <td>$1,798.00</td>\n",
       "    </tr>\n",
       "    <tr>\n",
       "      <th>4</th>\n",
       "      <td>5.0</td>\n",
       "      <td>3.0</td>\n",
       "      <td>34</td>\n",
       "      <td>NaN</td>\n",
       "      <td>3</td>\n",
       "      <td>$5,456.25</td>\n",
       "    </tr>\n",
       "  </tbody>\n",
       "</table>\n",
       "</div>"
      ],
      "text/plain": [
       "   string_col  int_float  int_col  mising_col mixed_col      price\n",
       "0         1.0        1.0        4         1.0         a  $1,500.00\n",
       "1         2.0        3.0        4         3.0        -2  $2,436.45\n",
       "2         3.0        2.0       64         4.0         3    $958.99\n",
       "3         4.0        2.0       43         5.0         4  $1,798.00\n",
       "4         5.0        3.0       34         NaN         3  $5,456.25"
      ]
     },
     "execution_count": 15,
     "metadata": {},
     "output_type": "execute_result"
    }
   ],
   "source": [
    "data.head()"
   ]
  },
  {
   "cell_type": "markdown",
   "id": "98f74626",
   "metadata": {},
   "source": [
    "### and i will deal with the int_col to string column "
   ]
  },
  {
   "cell_type": "code",
   "execution_count": 16,
   "id": "2d88e1ed",
   "metadata": {},
   "outputs": [
    {
     "data": {
      "text/plain": [
       "'64'"
      ]
     },
     "execution_count": 16,
     "metadata": {},
     "output_type": "execute_result"
    }
   ],
   "source": [
    "# for object or str \n",
    "data['int_col']=data['int_col'].astype(str)        \n",
    "data['int_col'][2]"
   ]
  },
  {
   "cell_type": "code",
   "execution_count": 17,
   "id": "4f6f991d",
   "metadata": {},
   "outputs": [
    {
     "data": {
      "text/plain": [
       "64"
      ]
     },
     "execution_count": 17,
     "metadata": {},
     "output_type": "execute_result"
    }
   ],
   "source": [
    "# int object column to integer\n",
    "data['int_col']=data['int_col'].astype(int)\n",
    "data['int_col'][2]"
   ]
  },
  {
   "cell_type": "markdown",
   "id": "f3a791e0",
   "metadata": {},
   "source": [
    "### lets, deal with float column that containing missing value\n",
    " here rember that , a mising value dos,nt convert into the integer value<br>\n",
    " but if you want to convert than u can convert your mising value atribute to the float<br>\n",
    " if you need convert your mising value column in int than fill null value"
   ]
  },
  {
   "cell_type": "code",
   "execution_count": 12,
   "id": "91524e4c",
   "metadata": {},
   "outputs": [
    {
     "data": {
      "text/plain": [
       "0    1.0\n",
       "1    3.0\n",
       "2    4.0\n",
       "3    5.0\n",
       "4    NaN\n",
       "Name: mising_col, dtype: float64"
      ]
     },
     "execution_count": 12,
     "metadata": {},
     "output_type": "execute_result"
    }
   ],
   "source": [
    "data['mising_col']"
   ]
  },
  {
   "cell_type": "code",
   "execution_count": 13,
   "id": "8696bb90",
   "metadata": {},
   "outputs": [
    {
     "data": {
      "text/plain": [
       "dtype('float64')"
      ]
     },
     "execution_count": 13,
     "metadata": {},
     "output_type": "execute_result"
    }
   ],
   "source": [
    "data['mising_col'].dtypes"
   ]
  },
  {
   "cell_type": "code",
   "execution_count": 18,
   "id": "eb621c35",
   "metadata": {},
   "outputs": [
    {
     "data": {
      "text/plain": [
       "dtype('float64')"
      ]
     },
     "execution_count": 18,
     "metadata": {},
     "output_type": "execute_result"
    }
   ],
   "source": [
    "data['mising_col']=data['mising_col'].astype(int,errors='ignore')\n",
    "data['mising_col'].dtypes\n",
    "\n",
    "# it will not change the dtypes but not gives the error"
   ]
  },
  {
   "cell_type": "code",
   "execution_count": 9,
   "id": "91351ae5",
   "metadata": {},
   "outputs": [
    {
     "data": {
      "text/html": [
       "<div>\n",
       "<style scoped>\n",
       "    .dataframe tbody tr th:only-of-type {\n",
       "        vertical-align: middle;\n",
       "    }\n",
       "\n",
       "    .dataframe tbody tr th {\n",
       "        vertical-align: top;\n",
       "    }\n",
       "\n",
       "    .dataframe thead th {\n",
       "        text-align: right;\n",
       "    }\n",
       "</style>\n",
       "<table border=\"1\" class=\"dataframe\">\n",
       "  <thead>\n",
       "    <tr style=\"text-align: right;\">\n",
       "      <th></th>\n",
       "      <th>string_col</th>\n",
       "      <th>int_float</th>\n",
       "      <th>int_col</th>\n",
       "      <th>mising_col</th>\n",
       "      <th>mixed_col</th>\n",
       "      <th>price</th>\n",
       "    </tr>\n",
       "  </thead>\n",
       "  <tbody>\n",
       "    <tr>\n",
       "      <th>0</th>\n",
       "      <td>1</td>\n",
       "      <td>1</td>\n",
       "      <td>4</td>\n",
       "      <td>1.0</td>\n",
       "      <td>a</td>\n",
       "      <td>$1,500.00</td>\n",
       "    </tr>\n",
       "    <tr>\n",
       "      <th>1</th>\n",
       "      <td>2</td>\n",
       "      <td>3</td>\n",
       "      <td>4</td>\n",
       "      <td>3.0</td>\n",
       "      <td>-2</td>\n",
       "      <td>$2,436.45</td>\n",
       "    </tr>\n",
       "    <tr>\n",
       "      <th>2</th>\n",
       "      <td>3</td>\n",
       "      <td>2</td>\n",
       "      <td>64</td>\n",
       "      <td>4.0</td>\n",
       "      <td>3</td>\n",
       "      <td>$9,58.99</td>\n",
       "    </tr>\n",
       "    <tr>\n",
       "      <th>3</th>\n",
       "      <td>4</td>\n",
       "      <td>2</td>\n",
       "      <td>43</td>\n",
       "      <td>5.0</td>\n",
       "      <td>4</td>\n",
       "      <td>$1,798.00</td>\n",
       "    </tr>\n",
       "    <tr>\n",
       "      <th>4</th>\n",
       "      <td>5</td>\n",
       "      <td>3</td>\n",
       "      <td>34</td>\n",
       "      <td>NaN</td>\n",
       "      <td>3</td>\n",
       "      <td>$5,456.25</td>\n",
       "    </tr>\n",
       "  </tbody>\n",
       "</table>\n",
       "</div>"
      ],
      "text/plain": [
       "  string_col  int_float  int_col  mising_col mixed_col      price\n",
       "0          1          1        4         1.0         a  $1,500.00\n",
       "1          2          3        4         3.0        -2  $2,436.45\n",
       "2          3          2       64         4.0         3   $9,58.99\n",
       "3          4          2       43         5.0         4  $1,798.00\n",
       "4          5          3       34         NaN         3  $5,456.25"
      ]
     },
     "execution_count": 9,
     "metadata": {},
     "output_type": "execute_result"
    }
   ],
   "source": [
    "data.head()"
   ]
  },
  {
   "cell_type": "code",
   "execution_count": 13,
   "id": "e5759e36",
   "metadata": {},
   "outputs": [
    {
     "data": {
      "text/plain": [
       "dtype('float64')"
      ]
     },
     "execution_count": 13,
     "metadata": {},
     "output_type": "execute_result"
    }
   ],
   "source": [
    "data['mising_col']=data['mising_col'].astype(int,errors='ignore')  #it is not possible bcz here mising value\n",
    "data['mising_col'].dtypes\n",
    "# but if you passed errors = ignore than it would not display the errar message\n",
    "# but it does,nt dtype of column"
   ]
  },
  {
   "cell_type": "code",
   "execution_count": 8,
   "id": "b5b5ca4c",
   "metadata": {},
   "outputs": [
    {
     "data": {
      "text/plain": [
       "0    1.0\n",
       "1    3.0\n",
       "2    4.0\n",
       "3    5.0\n",
       "4    NaN\n",
       "Name: mising_col, dtype: float64"
      ]
     },
     "execution_count": 8,
     "metadata": {},
     "output_type": "execute_result"
    }
   ],
   "source": [
    "data['mising_col']=pd.to_numeric(data.mising_col)\n",
    "data.mising_col\n",
    "\n",
    "#here result will be prsent in the float64 and nun value present also here\n",
    "# if you want to change into int then remeber some point to keep in mind\n",
    "# first \"Int64\" in string will have to parse and after the to_numeric\n",
    "# bcz only one thid data typ can change the mising value present in float datatype\n"
   ]
  },
  {
   "cell_type": "markdown",
   "id": "3d6893e3",
   "metadata": {},
   "source": [
    "### you have to choose the \"int64\" dtypes for the missing columns"
   ]
  },
  {
   "cell_type": "code",
   "execution_count": 9,
   "id": "89681d79",
   "metadata": {},
   "outputs": [
    {
     "data": {
      "text/plain": [
       "0       1\n",
       "1       3\n",
       "2       4\n",
       "3       5\n",
       "4    <NA>\n",
       "Name: mising_col, dtype: Int64"
      ]
     },
     "execution_count": 9,
     "metadata": {},
     "output_type": "execute_result"
    }
   ],
   "source": [
    "data['mising_col'] = pd.to_numeric(data.mising_col).astype('Int64') \n",
    "data.mising_col\n",
    "#this syntex is important for convert to mising value into Int64\n",
    "data.mising_col"
   ]
  },
  {
   "cell_type": "code",
   "execution_count": 22,
   "id": "989d333d",
   "metadata": {},
   "outputs": [
    {
     "data": {
      "text/plain": [
       "0       1\n",
       "1       3\n",
       "2       4\n",
       "3       5\n",
       "4    <NA>\n",
       "Name: mising_col, dtype: Int64"
      ]
     },
     "execution_count": 22,
     "metadata": {},
     "output_type": "execute_result"
    }
   ],
   "source": [
    "pd.to_numeric(data['mising_col']).astype('Int64')   # there is i in capital"
   ]
  },
  {
   "cell_type": "markdown",
   "id": "33b6fdf7",
   "metadata": {},
   "source": [
    "### and we will remove the null value in the mising_col after that we will change the dattype in integer"
   ]
  },
  {
   "cell_type": "code",
   "execution_count": 20,
   "id": "a0105094",
   "metadata": {},
   "outputs": [
    {
     "data": {
      "text/html": [
       "<div>\n",
       "<style scoped>\n",
       "    .dataframe tbody tr th:only-of-type {\n",
       "        vertical-align: middle;\n",
       "    }\n",
       "\n",
       "    .dataframe tbody tr th {\n",
       "        vertical-align: top;\n",
       "    }\n",
       "\n",
       "    .dataframe thead th {\n",
       "        text-align: right;\n",
       "    }\n",
       "</style>\n",
       "<table border=\"1\" class=\"dataframe\">\n",
       "  <thead>\n",
       "    <tr style=\"text-align: right;\">\n",
       "      <th></th>\n",
       "      <th>string_col</th>\n",
       "      <th>int_float</th>\n",
       "      <th>int_col</th>\n",
       "      <th>mising_col</th>\n",
       "      <th>mixed_col</th>\n",
       "      <th>price</th>\n",
       "    </tr>\n",
       "  </thead>\n",
       "  <tbody>\n",
       "    <tr>\n",
       "      <th>4</th>\n",
       "      <td>5</td>\n",
       "      <td>3.0</td>\n",
       "      <td>34</td>\n",
       "      <td>&lt;NA&gt;</td>\n",
       "      <td>3</td>\n",
       "      <td>$5,456.25</td>\n",
       "    </tr>\n",
       "  </tbody>\n",
       "</table>\n",
       "</div>"
      ],
      "text/plain": [
       "  string_col  int_float  int_col  mising_col mixed_col      price\n",
       "4          5        3.0       34        <NA>         3  $5,456.25"
      ]
     },
     "execution_count": 20,
     "metadata": {},
     "output_type": "execute_result"
    }
   ],
   "source": [
    "data[-1:]\n",
    "# you can see there is missing value present"
   ]
  },
  {
   "cell_type": "code",
   "execution_count": 21,
   "id": "8edf4bca",
   "metadata": {},
   "outputs": [],
   "source": [
    "# To fill the missing value\n",
    "data['mising_col']=data['mising_col'].fillna(0)"
   ]
  },
  {
   "cell_type": "code",
   "execution_count": 22,
   "id": "e57d80d0",
   "metadata": {},
   "outputs": [
    {
     "data": {
      "text/html": [
       "<div>\n",
       "<style scoped>\n",
       "    .dataframe tbody tr th:only-of-type {\n",
       "        vertical-align: middle;\n",
       "    }\n",
       "\n",
       "    .dataframe tbody tr th {\n",
       "        vertical-align: top;\n",
       "    }\n",
       "\n",
       "    .dataframe thead th {\n",
       "        text-align: right;\n",
       "    }\n",
       "</style>\n",
       "<table border=\"1\" class=\"dataframe\">\n",
       "  <thead>\n",
       "    <tr style=\"text-align: right;\">\n",
       "      <th></th>\n",
       "      <th>string_col</th>\n",
       "      <th>int_float</th>\n",
       "      <th>int_col</th>\n",
       "      <th>mising_col</th>\n",
       "      <th>mixed_col</th>\n",
       "      <th>price</th>\n",
       "    </tr>\n",
       "  </thead>\n",
       "  <tbody>\n",
       "    <tr>\n",
       "      <th>0</th>\n",
       "      <td>1</td>\n",
       "      <td>1.0</td>\n",
       "      <td>4</td>\n",
       "      <td>1</td>\n",
       "      <td>a</td>\n",
       "      <td>$1,500.00</td>\n",
       "    </tr>\n",
       "    <tr>\n",
       "      <th>1</th>\n",
       "      <td>2</td>\n",
       "      <td>3.0</td>\n",
       "      <td>4</td>\n",
       "      <td>3</td>\n",
       "      <td>-2</td>\n",
       "      <td>$2,436.45</td>\n",
       "    </tr>\n",
       "    <tr>\n",
       "      <th>2</th>\n",
       "      <td>3</td>\n",
       "      <td>2.0</td>\n",
       "      <td>64</td>\n",
       "      <td>4</td>\n",
       "      <td>3</td>\n",
       "      <td>$9,58.99</td>\n",
       "    </tr>\n",
       "    <tr>\n",
       "      <th>3</th>\n",
       "      <td>4</td>\n",
       "      <td>2.2</td>\n",
       "      <td>43</td>\n",
       "      <td>5</td>\n",
       "      <td>4</td>\n",
       "      <td>$1,798.00</td>\n",
       "    </tr>\n",
       "    <tr>\n",
       "      <th>4</th>\n",
       "      <td>5</td>\n",
       "      <td>3.0</td>\n",
       "      <td>34</td>\n",
       "      <td>0</td>\n",
       "      <td>3</td>\n",
       "      <td>$5,456.25</td>\n",
       "    </tr>\n",
       "  </tbody>\n",
       "</table>\n",
       "</div>"
      ],
      "text/plain": [
       "  string_col  int_float  int_col  mising_col mixed_col      price\n",
       "0          1        1.0        4           1         a  $1,500.00\n",
       "1          2        3.0        4           3        -2  $2,436.45\n",
       "2          3        2.0       64           4         3   $9,58.99\n",
       "3          4        2.2       43           5         4  $1,798.00\n",
       "4          5        3.0       34           0         3  $5,456.25"
      ]
     },
     "execution_count": 22,
     "metadata": {},
     "output_type": "execute_result"
    }
   ],
   "source": [
    "data\n",
    "# we have filled out missing value"
   ]
  },
  {
   "cell_type": "markdown",
   "id": "56e0cb7f",
   "metadata": {},
   "source": [
    "### now, we will deal with mixed_col"
   ]
  },
  {
   "cell_type": "code",
   "execution_count": 29,
   "id": "20777445",
   "metadata": {},
   "outputs": [
    {
     "data": {
      "text/plain": [
       "dtype('O')"
      ]
     },
     "execution_count": 29,
     "metadata": {},
     "output_type": "execute_result"
    }
   ],
   "source": [
    "data.mixed_col.dtypes"
   ]
  },
  {
   "cell_type": "markdown",
   "id": "fde3230a",
   "metadata": {},
   "source": [
    "### you can use  map function"
   ]
  },
  {
   "cell_type": "code",
   "execution_count": 26,
   "id": "a2eef2de",
   "metadata": {},
   "outputs": [
    {
     "data": {
      "text/plain": [
       "'4'"
      ]
     },
     "execution_count": 26,
     "metadata": {},
     "output_type": "execute_result"
    }
   ],
   "source": [
    "data['mixed_col'].map(str)[3]     \n",
    "#and now this is string datatype"
   ]
  },
  {
   "cell_type": "code",
   "execution_count": 27,
   "id": "d07ea370",
   "metadata": {},
   "outputs": [],
   "source": [
    "       \n"
   ]
  },
  {
   "cell_type": "code",
   "execution_count": 28,
   "id": "53b503b5",
   "metadata": {},
   "outputs": [],
   "source": [
    "dist={'a':'5'} \n",
    "def mapping_fun(x):\n",
    "    if x==\"a\":\n",
    "        return dist[x]\n",
    "    else:\n",
    "        return x"
   ]
  },
  {
   "cell_type": "code",
   "execution_count": 29,
   "id": "8470a578",
   "metadata": {},
   "outputs": [
    {
     "data": {
      "text/plain": [
       "0     a\n",
       "1    -2\n",
       "2     3\n",
       "3     4\n",
       "4     3\n",
       "Name: mixed_col, dtype: object"
      ]
     },
     "execution_count": 29,
     "metadata": {},
     "output_type": "execute_result"
    }
   ],
   "source": [
    "data['mixed_col']"
   ]
  },
  {
   "cell_type": "code",
   "execution_count": 30,
   "id": "8c95554a",
   "metadata": {},
   "outputs": [
    {
     "data": {
      "text/plain": [
       "0     5\n",
       "1    -2\n",
       "2     3\n",
       "3     4\n",
       "4     3\n",
       "Name: mixed_col, dtype: object"
      ]
     },
     "execution_count": 30,
     "metadata": {},
     "output_type": "execute_result"
    }
   ],
   "source": [
    "data['mixed_col'].map(mapping_fun)"
   ]
  },
  {
   "cell_type": "code",
   "execution_count": 31,
   "id": "52a1e05d",
   "metadata": {},
   "outputs": [
    {
     "data": {
      "text/plain": [
       "dtype('O')"
      ]
     },
     "execution_count": 31,
     "metadata": {},
     "output_type": "execute_result"
    }
   ],
   "source": [
    "data.mixed_col.dtypes\n",
    "#and this is object dtypes and we want into int"
   ]
  },
  {
   "cell_type": "markdown",
   "id": "fde41708",
   "metadata": {},
   "source": [
    "### first we will goint to change in numeric bxz you can see all elements is numeric\n",
    "but dtypes is Object because it contains many dtypes , so i can say this is object dtype.<br>\n",
    "firs we take the to_numeric function and in this a parametere is very that is errors='coerce\"<br>\n",
    "this parameter when we will use ,i have numeric value dtypes of str <br>\n",
    "hence, to_numeric function not change string value into integere ,so to_numeric function will be<br>\n",
    "raise the error and if you want not to see error in your prograg than <br>\n",
    "you should use errors parametere it will converet a numeric string into actual integer value thank you\n",
    "                                                                                                   "
   ]
  },
  {
   "cell_type": "code",
   "execution_count": 35,
   "id": "6714a48d",
   "metadata": {},
   "outputs": [
    {
     "data": {
      "text/html": [
       "<div>\n",
       "<style scoped>\n",
       "    .dataframe tbody tr th:only-of-type {\n",
       "        vertical-align: middle;\n",
       "    }\n",
       "\n",
       "    .dataframe tbody tr th {\n",
       "        vertical-align: top;\n",
       "    }\n",
       "\n",
       "    .dataframe thead th {\n",
       "        text-align: right;\n",
       "    }\n",
       "</style>\n",
       "<table border=\"1\" class=\"dataframe\">\n",
       "  <thead>\n",
       "    <tr style=\"text-align: right;\">\n",
       "      <th></th>\n",
       "      <th>string_col</th>\n",
       "      <th>int_float</th>\n",
       "      <th>int_col</th>\n",
       "      <th>mising_col</th>\n",
       "      <th>mixed_col</th>\n",
       "      <th>price</th>\n",
       "    </tr>\n",
       "  </thead>\n",
       "  <tbody>\n",
       "    <tr>\n",
       "      <th>0</th>\n",
       "      <td>1.0</td>\n",
       "      <td>1.0</td>\n",
       "      <td>4</td>\n",
       "      <td>1</td>\n",
       "      <td>0</td>\n",
       "      <td>$1,500.00</td>\n",
       "    </tr>\n",
       "    <tr>\n",
       "      <th>1</th>\n",
       "      <td>2.0</td>\n",
       "      <td>3.0</td>\n",
       "      <td>4</td>\n",
       "      <td>3</td>\n",
       "      <td>-2</td>\n",
       "      <td>$2,436.45</td>\n",
       "    </tr>\n",
       "    <tr>\n",
       "      <th>2</th>\n",
       "      <td>3.0</td>\n",
       "      <td>2.0</td>\n",
       "      <td>64</td>\n",
       "      <td>4</td>\n",
       "      <td>3</td>\n",
       "      <td>$958.99</td>\n",
       "    </tr>\n",
       "    <tr>\n",
       "      <th>3</th>\n",
       "      <td>4.0</td>\n",
       "      <td>2.0</td>\n",
       "      <td>43</td>\n",
       "      <td>5</td>\n",
       "      <td>4</td>\n",
       "      <td>$1,798.00</td>\n",
       "    </tr>\n",
       "    <tr>\n",
       "      <th>4</th>\n",
       "      <td>5.0</td>\n",
       "      <td>3.0</td>\n",
       "      <td>34</td>\n",
       "      <td>0</td>\n",
       "      <td>3</td>\n",
       "      <td>$5,456.25</td>\n",
       "    </tr>\n",
       "  </tbody>\n",
       "</table>\n",
       "</div>"
      ],
      "text/plain": [
       "   string_col  int_float  int_col  mising_col  mixed_col      price\n",
       "0         1.0        1.0        4           1          0  $1,500.00\n",
       "1         2.0        3.0        4           3         -2  $2,436.45\n",
       "2         3.0        2.0       64           4          3    $958.99\n",
       "3         4.0        2.0       43           5          4  $1,798.00\n",
       "4         5.0        3.0       34           0          3  $5,456.25"
      ]
     },
     "execution_count": 35,
     "metadata": {},
     "output_type": "execute_result"
    }
   ],
   "source": [
    "data['mixed_col']=pd.to_numeric(data.mixed_col,errors=\"coerce\").fillna(0).astype(int)\n",
    "data\n",
    "# astype() have no coerce parameter value astype() contains only two value errors and ignore\n",
    "# but to_numeric() contains three parameter value both are same and as well as \"coerce\"  !"
   ]
  },
  {
   "cell_type": "markdown",
   "id": "721ae296",
   "metadata": {},
   "source": [
    "### this is my last object columns it contains str with numeric value\n",
    "and i will deal with this column"
   ]
  },
  {
   "cell_type": "code",
   "execution_count": 39,
   "id": "64fca5fb",
   "metadata": {},
   "outputs": [
    {
     "data": {
      "text/html": [
       "<div>\n",
       "<style scoped>\n",
       "    .dataframe tbody tr th:only-of-type {\n",
       "        vertical-align: middle;\n",
       "    }\n",
       "\n",
       "    .dataframe tbody tr th {\n",
       "        vertical-align: top;\n",
       "    }\n",
       "\n",
       "    .dataframe thead th {\n",
       "        text-align: right;\n",
       "    }\n",
       "</style>\n",
       "<table border=\"1\" class=\"dataframe\">\n",
       "  <thead>\n",
       "    <tr style=\"text-align: right;\">\n",
       "      <th></th>\n",
       "      <th>price</th>\n",
       "    </tr>\n",
       "  </thead>\n",
       "  <tbody>\n",
       "    <tr>\n",
       "      <th>0</th>\n",
       "      <td>$1,500.00</td>\n",
       "    </tr>\n",
       "    <tr>\n",
       "      <th>1</th>\n",
       "      <td>$2,436.45</td>\n",
       "    </tr>\n",
       "    <tr>\n",
       "      <th>2</th>\n",
       "      <td>$9,58.99</td>\n",
       "    </tr>\n",
       "    <tr>\n",
       "      <th>3</th>\n",
       "      <td>$1,798.00</td>\n",
       "    </tr>\n",
       "    <tr>\n",
       "      <th>4</th>\n",
       "      <td>$5,456.25</td>\n",
       "    </tr>\n",
       "  </tbody>\n",
       "</table>\n",
       "</div>"
      ],
      "text/plain": [
       "       price\n",
       "0  $1,500.00\n",
       "1  $2,436.45\n",
       "2   $9,58.99\n",
       "3  $1,798.00\n",
       "4  $5,456.25"
      ]
     },
     "execution_count": 39,
     "metadata": {},
     "output_type": "execute_result"
    }
   ],
   "source": [
    "data[['price']]"
   ]
  },
  {
   "cell_type": "code",
   "execution_count": 38,
   "id": "8c35232c",
   "metadata": {},
   "outputs": [
    {
     "data": {
      "text/plain": [
       "price    object\n",
       "dtype: object"
      ]
     },
     "execution_count": 38,
     "metadata": {},
     "output_type": "execute_result"
    }
   ],
   "source": [
    "data[['price']].dtypes"
   ]
  },
  {
   "cell_type": "code",
   "execution_count": 39,
   "id": "24944bf0",
   "metadata": {},
   "outputs": [
    {
     "data": {
      "text/html": [
       "<div>\n",
       "<style scoped>\n",
       "    .dataframe tbody tr th:only-of-type {\n",
       "        vertical-align: middle;\n",
       "    }\n",
       "\n",
       "    .dataframe tbody tr th {\n",
       "        vertical-align: top;\n",
       "    }\n",
       "\n",
       "    .dataframe thead th {\n",
       "        text-align: right;\n",
       "    }\n",
       "</style>\n",
       "<table border=\"1\" class=\"dataframe\">\n",
       "  <thead>\n",
       "    <tr style=\"text-align: right;\">\n",
       "      <th></th>\n",
       "      <th>price</th>\n",
       "    </tr>\n",
       "  </thead>\n",
       "  <tbody>\n",
       "    <tr>\n",
       "      <th>0</th>\n",
       "      <td>$1,500.00</td>\n",
       "    </tr>\n",
       "    <tr>\n",
       "      <th>1</th>\n",
       "      <td>$2,436.45</td>\n",
       "    </tr>\n",
       "    <tr>\n",
       "      <th>2</th>\n",
       "      <td>$9,58.99</td>\n",
       "    </tr>\n",
       "    <tr>\n",
       "      <th>3</th>\n",
       "      <td>$1,798.00</td>\n",
       "    </tr>\n",
       "    <tr>\n",
       "      <th>4</th>\n",
       "      <td>$5,456.25</td>\n",
       "    </tr>\n",
       "  </tbody>\n",
       "</table>\n",
       "</div>"
      ],
      "text/plain": [
       "       price\n",
       "0  $1,500.00\n",
       "1  $2,436.45\n",
       "2   $9,58.99\n",
       "3  $1,798.00\n",
       "4  $5,456.25"
      ]
     },
     "execution_count": 39,
     "metadata": {},
     "output_type": "execute_result"
    }
   ],
   "source": [
    "data[['price']]"
   ]
  },
  {
   "cell_type": "code",
   "execution_count": 42,
   "id": "d560bdf9",
   "metadata": {},
   "outputs": [
    {
     "ename": "ValueError",
     "evalue": "Unable to parse string \"$1,500.00\" at position 0",
     "output_type": "error",
     "traceback": [
      "\u001b[1;31m---------------------------------------------------------------------------\u001b[0m",
      "\u001b[1;31mValueError\u001b[0m                                Traceback (most recent call last)",
      "File \u001b[1;32m~\\AppData\\Local\\Programs\\Python\\Python310\\lib\\site-packages\\pandas\\_libs\\lib.pyx:2315\u001b[0m, in \u001b[0;36mpandas._libs.lib.maybe_convert_numeric\u001b[1;34m()\u001b[0m\n",
      "\u001b[1;31mValueError\u001b[0m: Unable to parse string \"$1,500.00\"",
      "\nDuring handling of the above exception, another exception occurred:\n",
      "\u001b[1;31mValueError\u001b[0m                                Traceback (most recent call last)",
      "Input \u001b[1;32mIn [42]\u001b[0m, in \u001b[0;36m<cell line: 1>\u001b[1;34m()\u001b[0m\n\u001b[1;32m----> 1\u001b[0m \u001b[43mpd\u001b[49m\u001b[38;5;241;43m.\u001b[39;49m\u001b[43mto_numeric\u001b[49m\u001b[43m(\u001b[49m\u001b[43mdata\u001b[49m\u001b[43m[\u001b[49m\u001b[38;5;124;43m'\u001b[39;49m\u001b[38;5;124;43mprice\u001b[39;49m\u001b[38;5;124;43m'\u001b[39;49m\u001b[43m]\u001b[49m\u001b[43m)\u001b[49m\n",
      "File \u001b[1;32m~\\AppData\\Local\\Programs\\Python\\Python310\\lib\\site-packages\\pandas\\core\\tools\\numeric.py:184\u001b[0m, in \u001b[0;36mto_numeric\u001b[1;34m(arg, errors, downcast)\u001b[0m\n\u001b[0;32m    182\u001b[0m coerce_numeric \u001b[38;5;241m=\u001b[39m errors \u001b[38;5;129;01mnot\u001b[39;00m \u001b[38;5;129;01min\u001b[39;00m (\u001b[38;5;124m\"\u001b[39m\u001b[38;5;124mignore\u001b[39m\u001b[38;5;124m\"\u001b[39m, \u001b[38;5;124m\"\u001b[39m\u001b[38;5;124mraise\u001b[39m\u001b[38;5;124m\"\u001b[39m)\n\u001b[0;32m    183\u001b[0m \u001b[38;5;28;01mtry\u001b[39;00m:\n\u001b[1;32m--> 184\u001b[0m     values, _ \u001b[38;5;241m=\u001b[39m \u001b[43mlib\u001b[49m\u001b[38;5;241;43m.\u001b[39;49m\u001b[43mmaybe_convert_numeric\u001b[49m\u001b[43m(\u001b[49m\n\u001b[0;32m    185\u001b[0m \u001b[43m        \u001b[49m\u001b[43mvalues\u001b[49m\u001b[43m,\u001b[49m\u001b[43m \u001b[49m\u001b[38;5;28;43mset\u001b[39;49m\u001b[43m(\u001b[49m\u001b[43m)\u001b[49m\u001b[43m,\u001b[49m\u001b[43m \u001b[49m\u001b[43mcoerce_numeric\u001b[49m\u001b[38;5;241;43m=\u001b[39;49m\u001b[43mcoerce_numeric\u001b[49m\n\u001b[0;32m    186\u001b[0m \u001b[43m    \u001b[49m\u001b[43m)\u001b[49m\n\u001b[0;32m    187\u001b[0m \u001b[38;5;28;01mexcept\u001b[39;00m (\u001b[38;5;167;01mValueError\u001b[39;00m, \u001b[38;5;167;01mTypeError\u001b[39;00m):\n\u001b[0;32m    188\u001b[0m     \u001b[38;5;28;01mif\u001b[39;00m errors \u001b[38;5;241m==\u001b[39m \u001b[38;5;124m\"\u001b[39m\u001b[38;5;124mraise\u001b[39m\u001b[38;5;124m\"\u001b[39m:\n",
      "File \u001b[1;32m~\\AppData\\Local\\Programs\\Python\\Python310\\lib\\site-packages\\pandas\\_libs\\lib.pyx:2357\u001b[0m, in \u001b[0;36mpandas._libs.lib.maybe_convert_numeric\u001b[1;34m()\u001b[0m\n",
      "\u001b[1;31mValueError\u001b[0m: Unable to parse string \"$1,500.00\" at position 0"
     ]
    }
   ],
   "source": [
    "pd.to_numeric(data['price'])\n",
    "# it show the error because element contain symbol\n",
    "# and to_numeric function just only work on numeric "
   ]
  },
  {
   "cell_type": "code",
   "execution_count": 34,
   "id": "91979864",
   "metadata": {},
   "outputs": [
    {
     "data": {
      "text/plain": [
       "0   NaN\n",
       "1   NaN\n",
       "2   NaN\n",
       "3   NaN\n",
       "4   NaN\n",
       "Name: price, dtype: float64"
      ]
     },
     "execution_count": 34,
     "metadata": {},
     "output_type": "execute_result"
    }
   ],
   "source": [
    "pd.to_numeric(data['price'],errors='coerce')\n",
    "# It is telling that i have all value of string value because they contain a string character\n",
    "# hence to_numeric function convert into none value\n",
    "# if you change the dtypes of this columns , rememeber that\n",
    "# first you wil have to remove the \" $ \" symbol"
   ]
  },
  {
   "cell_type": "code",
   "execution_count": 40,
   "id": "a40a9b23",
   "metadata": {},
   "outputs": [
    {
     "data": {
      "text/plain": [
       "dtype('O')"
      ]
     },
     "execution_count": 40,
     "metadata": {},
     "output_type": "execute_result"
    }
   ],
   "source": [
    "data['price']=data['price'].str.replace(\"$\",'')\n",
    "data['price'].dtypes"
   ]
  },
  {
   "cell_type": "code",
   "execution_count": 41,
   "id": "bdb26794",
   "metadata": {},
   "outputs": [
    {
     "data": {
      "text/html": [
       "<div>\n",
       "<style scoped>\n",
       "    .dataframe tbody tr th:only-of-type {\n",
       "        vertical-align: middle;\n",
       "    }\n",
       "\n",
       "    .dataframe tbody tr th {\n",
       "        vertical-align: top;\n",
       "    }\n",
       "\n",
       "    .dataframe thead th {\n",
       "        text-align: right;\n",
       "    }\n",
       "</style>\n",
       "<table border=\"1\" class=\"dataframe\">\n",
       "  <thead>\n",
       "    <tr style=\"text-align: right;\">\n",
       "      <th></th>\n",
       "      <th>price</th>\n",
       "    </tr>\n",
       "  </thead>\n",
       "  <tbody>\n",
       "    <tr>\n",
       "      <th>0</th>\n",
       "      <td>1,500.00</td>\n",
       "    </tr>\n",
       "    <tr>\n",
       "      <th>1</th>\n",
       "      <td>2,436.45</td>\n",
       "    </tr>\n",
       "    <tr>\n",
       "      <th>2</th>\n",
       "      <td>9,58.99</td>\n",
       "    </tr>\n",
       "    <tr>\n",
       "      <th>3</th>\n",
       "      <td>1,798.00</td>\n",
       "    </tr>\n",
       "    <tr>\n",
       "      <th>4</th>\n",
       "      <td>5,456.25</td>\n",
       "    </tr>\n",
       "  </tbody>\n",
       "</table>\n",
       "</div>"
      ],
      "text/plain": [
       "      price\n",
       "0  1,500.00\n",
       "1  2,436.45\n",
       "2   9,58.99\n",
       "3  1,798.00\n",
       "4  5,456.25"
      ]
     },
     "execution_count": 41,
     "metadata": {},
     "output_type": "execute_result"
    }
   ],
   "source": [
    "data[['price']]\n",
    "# now i has removed the $ symbol"
   ]
  },
  {
   "cell_type": "code",
   "execution_count": 42,
   "id": "95e1830d",
   "metadata": {},
   "outputs": [
    {
     "data": {
      "text/plain": [
       "price    object\n",
       "dtype: object"
      ]
     },
     "execution_count": 42,
     "metadata": {},
     "output_type": "execute_result"
    }
   ],
   "source": [
    "data[['price']].dtypes\n",
    "# and now we can easily change the dtype"
   ]
  },
  {
   "cell_type": "code",
   "execution_count": 43,
   "id": "b7e37acc",
   "metadata": {},
   "outputs": [
    {
     "data": {
      "text/plain": [
       "0    1500.00\n",
       "1    2436.45\n",
       "2     958.99\n",
       "3    1798.00\n",
       "4    5456.25\n",
       "Name: price, dtype: object"
      ]
     },
     "execution_count": 43,
     "metadata": {},
     "output_type": "execute_result"
    }
   ],
   "source": [
    "# replacing \"$\" and \",\" with empty space\n",
    "data['price']=data['price'].str.replace('$','').str.replace(',','')\n",
    "data['price']"
   ]
  },
  {
   "cell_type": "code",
   "execution_count": 44,
   "id": "583e344e",
   "metadata": {},
   "outputs": [
    {
     "data": {
      "text/plain": [
       "0    1500.00\n",
       "1    2436.45\n",
       "2     958.99\n",
       "3    1798.00\n",
       "4    5456.25\n",
       "Name: price, dtype: float64"
      ]
     },
     "execution_count": 44,
     "metadata": {},
     "output_type": "execute_result"
    }
   ],
   "source": [
    "pd.to_numeric(data['price'],errors='coerce')"
   ]
  },
  {
   "cell_type": "code",
   "execution_count": 45,
   "id": "ae62523f",
   "metadata": {},
   "outputs": [
    {
     "data": {
      "text/plain": [
       "dtype('float64')"
      ]
     },
     "execution_count": 45,
     "metadata": {},
     "output_type": "execute_result"
    }
   ],
   "source": [
    "pd.to_numeric(data['price'],errors='coerce').dtypes"
   ]
  },
  {
   "cell_type": "code",
   "execution_count": 63,
   "id": "b7f5405e",
   "metadata": {},
   "outputs": [
    {
     "data": {
      "text/plain": [
       "dtype('int32')"
      ]
     },
     "execution_count": 63,
     "metadata": {},
     "output_type": "execute_result"
    }
   ],
   "source": [
    "pd.to_numeric(data['price'],errors='coerce').astype(int).dtype"
   ]
  },
  {
   "cell_type": "code",
   "execution_count": 65,
   "id": "5a1fc6c8",
   "metadata": {},
   "outputs": [],
   "source": [
    "data['price']=pd.to_numeric(data['price'],errors='coerce').astype(int)"
   ]
  },
  {
   "cell_type": "code",
   "execution_count": 66,
   "id": "6e0c4eec",
   "metadata": {},
   "outputs": [
    {
     "data": {
      "text/html": [
       "<div>\n",
       "<style scoped>\n",
       "    .dataframe tbody tr th:only-of-type {\n",
       "        vertical-align: middle;\n",
       "    }\n",
       "\n",
       "    .dataframe tbody tr th {\n",
       "        vertical-align: top;\n",
       "    }\n",
       "\n",
       "    .dataframe thead th {\n",
       "        text-align: right;\n",
       "    }\n",
       "</style>\n",
       "<table border=\"1\" class=\"dataframe\">\n",
       "  <thead>\n",
       "    <tr style=\"text-align: right;\">\n",
       "      <th></th>\n",
       "      <th>string_col</th>\n",
       "      <th>int_float</th>\n",
       "      <th>int_col</th>\n",
       "      <th>mising_col</th>\n",
       "      <th>mixed_col</th>\n",
       "      <th>price</th>\n",
       "    </tr>\n",
       "  </thead>\n",
       "  <tbody>\n",
       "    <tr>\n",
       "      <th>0</th>\n",
       "      <td>1</td>\n",
       "      <td>1</td>\n",
       "      <td>4</td>\n",
       "      <td>1</td>\n",
       "      <td>a</td>\n",
       "      <td>1500</td>\n",
       "    </tr>\n",
       "    <tr>\n",
       "      <th>1</th>\n",
       "      <td>2</td>\n",
       "      <td>3</td>\n",
       "      <td>4</td>\n",
       "      <td>3</td>\n",
       "      <td>-2</td>\n",
       "      <td>2436</td>\n",
       "    </tr>\n",
       "    <tr>\n",
       "      <th>2</th>\n",
       "      <td>3</td>\n",
       "      <td>2</td>\n",
       "      <td>64</td>\n",
       "      <td>4</td>\n",
       "      <td>3</td>\n",
       "      <td>958</td>\n",
       "    </tr>\n",
       "    <tr>\n",
       "      <th>3</th>\n",
       "      <td>4</td>\n",
       "      <td>2</td>\n",
       "      <td>43</td>\n",
       "      <td>5</td>\n",
       "      <td>4</td>\n",
       "      <td>1798</td>\n",
       "    </tr>\n",
       "    <tr>\n",
       "      <th>4</th>\n",
       "      <td>5</td>\n",
       "      <td>3</td>\n",
       "      <td>34</td>\n",
       "      <td>&lt;NA&gt;</td>\n",
       "      <td>3</td>\n",
       "      <td>5456</td>\n",
       "    </tr>\n",
       "  </tbody>\n",
       "</table>\n",
       "</div>"
      ],
      "text/plain": [
       "  string_col  int_float  int_col  mising_col mixed_col  price\n",
       "0          1          1        4           1         a   1500\n",
       "1          2          3        4           3        -2   2436\n",
       "2          3          2       64           4         3    958\n",
       "3          4          2       43           5         4   1798\n",
       "4          5          3       34        <NA>         3   5456"
      ]
     },
     "execution_count": 66,
     "metadata": {},
     "output_type": "execute_result"
    }
   ],
   "source": [
    "data.head()"
   ]
  },
  {
   "cell_type": "code",
   "execution_count": 67,
   "id": "deb461d4",
   "metadata": {},
   "outputs": [
    {
     "data": {
      "text/plain": [
       "string_col    object\n",
       "int_float      int32\n",
       "int_col        int64\n",
       "mising_col     Int64\n",
       "mixed_col     object\n",
       "price          int32\n",
       "dtype: object"
      ]
     },
     "execution_count": 67,
     "metadata": {},
     "output_type": "execute_result"
    }
   ],
   "source": [
    "data.dtypes\n"
   ]
  },
  {
   "cell_type": "markdown",
   "id": "931396fe",
   "metadata": {},
   "source": [
    "### astype() with other syntex "
   ]
  },
  {
   "cell_type": "code",
   "execution_count": 69,
   "id": "8b7e082b",
   "metadata": {},
   "outputs": [
    {
     "data": {
      "text/plain": [
       "(   string_col  int_float  int_col  mising_col mixed_col   price\n",
       " 0           1        1.0      4.0           1         a  1500.0\n",
       " 1           2        3.0      4.0           3        -2  2436.0\n",
       " 2           3        2.0     64.0           4         3   958.0\n",
       " 3           4        2.0     43.0           5         4  1798.0\n",
       " 4           5        3.0     34.0        <NA>         3  5456.0,\n",
       " string_col      int32\n",
       " int_float     float64\n",
       " int_col       float64\n",
       " mising_col      Int64\n",
       " mixed_col      object\n",
       " price         float64\n",
       " dtype: object)"
      ]
     },
     "execution_count": 69,
     "metadata": {},
     "output_type": "execute_result"
    }
   ],
   "source": [
    "new_data=data.astype({'string_col':'int32','int_float':'float','int_col':'float','price':'float'})\n",
    "new_data,new_data.dtypes"
   ]
  },
  {
   "cell_type": "markdown",
   "id": "4b93a2f3",
   "metadata": {},
   "source": [
    "### Thank You "
   ]
  }
 ],
 "metadata": {
  "kernelspec": {
   "display_name": "Python 3 (ipykernel)",
   "language": "python",
   "name": "python3"
  },
  "language_info": {
   "codemirror_mode": {
    "name": "ipython",
    "version": 3
   },
   "file_extension": ".py",
   "mimetype": "text/x-python",
   "name": "python",
   "nbconvert_exporter": "python",
   "pygments_lexer": "ipython3",
   "version": "3.11.5"
  }
 },
 "nbformat": 4,
 "nbformat_minor": 5
}
