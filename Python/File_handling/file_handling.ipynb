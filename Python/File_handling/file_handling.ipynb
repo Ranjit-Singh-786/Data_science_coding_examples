{
 "cells": [
  {
   "cell_type": "markdown",
   "metadata": {},
   "source": [
    "### File handling notebook"
   ]
  },
  {
   "cell_type": "code",
   "execution_count": 1,
   "metadata": {},
   "outputs": [],
   "source": [
    "import os\n",
    "import csv"
   ]
  },
  {
   "cell_type": "code",
   "execution_count": 3,
   "metadata": {},
   "outputs": [
    {
     "name": "stdout",
     "output_type": "stream",
     "text": [
      "there is  only single file itself are exist :- ['file_handling.ipynb']\n"
     ]
    }
   ],
   "source": [
    "print(\"there is  only single file itself are exist :-\",os.listdir())"
   ]
  },
  {
   "cell_type": "markdown",
   "metadata": {},
   "source": [
    "Common modes are:\n",
    "<ul>\n",
    "<li>'r': Read mode (default). Opens the file for reading.</li>\n",
    "<li>'w': Write mode. Opens the file for writing. If the file already exists, it will be overwritten. If it doesn't exist, a new file will be created.</li>\n",
    "\n",
    "<li>'a': Append mode. Opens the file for appending. New data will be added at the end of the file.\n",
    "</li>\n",
    "\n",
    "<li>'b': Binary mode. Used for non-text files like images or binary data.\n",
    "</li>\n",
    "\n",
    "\n",
    "\n",
    "<li>'x': Exclusive creation mode. Creates a new file, but raises an error if the file already exists.</li>\n",
    "</ul>"
   ]
  },
  {
   "cell_type": "code",
   "execution_count": 5,
   "metadata": {},
   "outputs": [
    {
     "ename": "FileNotFoundError",
     "evalue": "[Errno 2] No such file or directory: 'hello.txt'",
     "output_type": "error",
     "traceback": [
      "\u001b[1;31m---------------------------------------------------------------------------\u001b[0m",
      "\u001b[1;31mFileNotFoundError\u001b[0m                         Traceback (most recent call last)",
      "\u001b[1;32mc:\\Users\\Ranjit\\Desktop\\ranjit-python-expertise\\File_handling\\file_handling.ipynb Cell 5\u001b[0m line \u001b[0;36m1\n\u001b[1;32m----> <a href='vscode-notebook-cell:/c%3A/Users/Ranjit/Desktop/ranjit-python-expertise/File_handling/file_handling.ipynb#W4sZmlsZQ%3D%3D?line=0'>1</a>\u001b[0m file \u001b[39m=\u001b[39m\u001b[39mopen\u001b[39;49m(\u001b[39m'\u001b[39;49m\u001b[39mhello.txt\u001b[39;49m\u001b[39m'\u001b[39;49m)\n",
      "File \u001b[1;32mc:\\Users\\Ranjit\\AppData\\Local\\Programs\\Python\\Python311\\Lib\\site-packages\\IPython\\core\\interactiveshell.py:286\u001b[0m, in \u001b[0;36m_modified_open\u001b[1;34m(file, *args, **kwargs)\u001b[0m\n\u001b[0;32m    279\u001b[0m \u001b[39mif\u001b[39;00m file \u001b[39min\u001b[39;00m {\u001b[39m0\u001b[39m, \u001b[39m1\u001b[39m, \u001b[39m2\u001b[39m}:\n\u001b[0;32m    280\u001b[0m     \u001b[39mraise\u001b[39;00m \u001b[39mValueError\u001b[39;00m(\n\u001b[0;32m    281\u001b[0m         \u001b[39mf\u001b[39m\u001b[39m\"\u001b[39m\u001b[39mIPython won\u001b[39m\u001b[39m'\u001b[39m\u001b[39mt let you open fd=\u001b[39m\u001b[39m{\u001b[39;00mfile\u001b[39m}\u001b[39;00m\u001b[39m by default \u001b[39m\u001b[39m\"\u001b[39m\n\u001b[0;32m    282\u001b[0m         \u001b[39m\"\u001b[39m\u001b[39mas it is likely to crash IPython. If you know what you are doing, \u001b[39m\u001b[39m\"\u001b[39m\n\u001b[0;32m    283\u001b[0m         \u001b[39m\"\u001b[39m\u001b[39myou can use builtins\u001b[39m\u001b[39m'\u001b[39m\u001b[39m open.\u001b[39m\u001b[39m\"\u001b[39m\n\u001b[0;32m    284\u001b[0m     )\n\u001b[1;32m--> 286\u001b[0m \u001b[39mreturn\u001b[39;00m io_open(file, \u001b[39m*\u001b[39;49margs, \u001b[39m*\u001b[39;49m\u001b[39m*\u001b[39;49mkwargs)\n",
      "\u001b[1;31mFileNotFoundError\u001b[0m: [Errno 2] No such file or directory: 'hello.txt'"
     ]
    }
   ],
   "source": [
    "file =open('hello.txt')\n",
    "# we got this error, because by default  this file opening in \"r\"  READ MODE"
   ]
  },
  {
   "cell_type": "code",
   "execution_count": 8,
   "metadata": {},
   "outputs": [
    {
     "name": "stdout",
     "output_type": "stream",
     "text": [
      "file has been created :-['file_handling.ipynb', 'hello.txt']\n"
     ]
    }
   ],
   "source": [
    "file = open('hello.txt','w')\n",
    "\n",
    "print(f'file has been created :-{os.listdir()}')"
   ]
  },
  {
   "cell_type": "code",
   "execution_count": 9,
   "metadata": {},
   "outputs": [
    {
     "ename": "FileExistsError",
     "evalue": "[Errno 17] File exists: 'hello.txt'",
     "output_type": "error",
     "traceback": [
      "\u001b[1;31m---------------------------------------------------------------------------\u001b[0m",
      "\u001b[1;31mFileExistsError\u001b[0m                           Traceback (most recent call last)",
      "\u001b[1;32mc:\\Users\\Ranjit\\Desktop\\ranjit-python-expertise\\File_handling\\file_handling.ipynb Cell 7\u001b[0m line \u001b[0;36m1\n\u001b[1;32m----> <a href='vscode-notebook-cell:/c%3A/Users/Ranjit/Desktop/ranjit-python-expertise/File_handling/file_handling.ipynb#X13sZmlsZQ%3D%3D?line=0'>1</a>\u001b[0m file \u001b[39m=\u001b[39m \u001b[39mopen\u001b[39;49m(\u001b[39m'\u001b[39;49m\u001b[39mhello.txt\u001b[39;49m\u001b[39m'\u001b[39;49m,\u001b[39m'\u001b[39;49m\u001b[39mx\u001b[39;49m\u001b[39m'\u001b[39;49m)\n",
      "File \u001b[1;32mc:\\Users\\Ranjit\\AppData\\Local\\Programs\\Python\\Python311\\Lib\\site-packages\\IPython\\core\\interactiveshell.py:286\u001b[0m, in \u001b[0;36m_modified_open\u001b[1;34m(file, *args, **kwargs)\u001b[0m\n\u001b[0;32m    279\u001b[0m \u001b[39mif\u001b[39;00m file \u001b[39min\u001b[39;00m {\u001b[39m0\u001b[39m, \u001b[39m1\u001b[39m, \u001b[39m2\u001b[39m}:\n\u001b[0;32m    280\u001b[0m     \u001b[39mraise\u001b[39;00m \u001b[39mValueError\u001b[39;00m(\n\u001b[0;32m    281\u001b[0m         \u001b[39mf\u001b[39m\u001b[39m\"\u001b[39m\u001b[39mIPython won\u001b[39m\u001b[39m'\u001b[39m\u001b[39mt let you open fd=\u001b[39m\u001b[39m{\u001b[39;00mfile\u001b[39m}\u001b[39;00m\u001b[39m by default \u001b[39m\u001b[39m\"\u001b[39m\n\u001b[0;32m    282\u001b[0m         \u001b[39m\"\u001b[39m\u001b[39mas it is likely to crash IPython. If you know what you are doing, \u001b[39m\u001b[39m\"\u001b[39m\n\u001b[0;32m    283\u001b[0m         \u001b[39m\"\u001b[39m\u001b[39myou can use builtins\u001b[39m\u001b[39m'\u001b[39m\u001b[39m open.\u001b[39m\u001b[39m\"\u001b[39m\n\u001b[0;32m    284\u001b[0m     )\n\u001b[1;32m--> 286\u001b[0m \u001b[39mreturn\u001b[39;00m io_open(file, \u001b[39m*\u001b[39;49margs, \u001b[39m*\u001b[39;49m\u001b[39m*\u001b[39;49mkwargs)\n",
      "\u001b[1;31mFileExistsError\u001b[0m: [Errno 17] File exists: 'hello.txt'"
     ]
    }
   ],
   "source": [
    "file = open('hello.txt','x')\n",
    "# 'X' mode is raising error because file already exists"
   ]
  },
  {
   "cell_type": "code",
   "execution_count": 10,
   "metadata": {},
   "outputs": [
    {
     "name": "stdout",
     "output_type": "stream",
     "text": [
      "file created using x mode :- ['file_handling.ipynb', 'hello.txt', 'hello2.txt']\n"
     ]
    }
   ],
   "source": [
    "file = open('hello2.txt','x')\n",
    "print(f'file created using x mode :- {os.listdir()}')"
   ]
  },
  {
   "cell_type": "code",
   "execution_count": 4,
   "metadata": {},
   "outputs": [
    {
     "name": "stdout",
     "output_type": "stream",
     "text": [
      "successfully message has been written !\n"
     ]
    }
   ],
   "source": [
    "file = open('hello.txt','w')\n",
    "message = \"\"\"Hello Everyone, This is Ranjit Singh\"\"\"\n",
    "file.write(message)\n",
    "file.close()\n",
    "print('successfully message has been written !')"
   ]
  },
  {
   "cell_type": "code",
   "execution_count": 5,
   "metadata": {},
   "outputs": [
    {
     "name": "stdout",
     "output_type": "stream",
     "text": [
      "Hello Everyone, This is Ranjit Singh\n"
     ]
    }
   ],
   "source": [
    "file = open('hello.txt','r')\n",
    "message = file.read()\n",
    "file.close()\n",
    "print(message)\n",
    "#Now i am reading the message of the file."
   ]
  },
  {
   "cell_type": "code",
   "execution_count": 11,
   "metadata": {},
   "outputs": [
    {
     "name": "stdout",
     "output_type": "stream",
     "text": [
      "successfully message has been written But keep remember 'w' mode will clean your previous data first !\n"
     ]
    }
   ],
   "source": [
    "file = open('hello.txt','w',encoding='utf-8')\n",
    "message = \"\"\"Hello Everyone, This is Ranjit Singh , again i am greeting to you ! ❤\"\"\"\n",
    "file.write(message)\n",
    "file.close()\n",
    "print(\"successfully message has been written But keep remember 'w' mode will clean your previous data first !\")\n",
    "\n",
    "# now i am again trying to write message in a same file\n",
    "# encoding='utf-8'   Due to emoji"
   ]
  },
  {
   "cell_type": "code",
   "execution_count": 12,
   "metadata": {},
   "outputs": [
    {
     "name": "stdout",
     "output_type": "stream",
     "text": [
      "Hello Everyone, This is Ranjit Singh , again i am greeting to you ! ❤\n"
     ]
    }
   ],
   "source": [
    "file = open('hello.txt','r',encoding='utf-8')\n",
    "message = file.read()\n",
    "file.close()\n",
    "print(message)\n",
    "#Now i am reading the message of the file and you can see 'w' mode update the text of my file."
   ]
  },
  {
   "cell_type": "markdown",
   "metadata": {},
   "source": [
    "with open keyword,<br>\n",
    "you don,t need define close() function with keyword close your file by default itself."
   ]
  },
  {
   "cell_type": "code",
   "execution_count": 14,
   "metadata": {},
   "outputs": [
    {
     "name": "stdout",
     "output_type": "stream",
     "text": [
      "Hello Everyone, This is Ranjit Singh , again i am greeting to you ! ❤\n"
     ]
    }
   ],
   "source": [
    "with open('hello.txt','r',encoding='utf-8') as file:\n",
    "    message = file.read()\n",
    "    print(message)"
   ]
  },
  {
   "cell_type": "code",
   "execution_count": 17,
   "metadata": {},
   "outputs": [
    {
     "name": "stdout",
     "output_type": "stream",
     "text": [
      "24\n"
     ]
    }
   ],
   "source": [
    "# Now take the look with append mode\n",
    "\n",
    "with open('hello.txt','a',encoding='utf-8') as file:\n",
    "    message = file.write(' \\n I am Data scientist 👀')\n",
    "    print(message)\n",
    "\n",
    "# writing the data in append mode 24 means are 24 char are written in your file."
   ]
  },
  {
   "cell_type": "code",
   "execution_count": 18,
   "metadata": {},
   "outputs": [
    {
     "name": "stdout",
     "output_type": "stream",
     "text": [
      "Hello Everyone, This is Ranjit Singh , again i am greeting to you ! ❤ \n",
      " I am Data scientist 👀\n"
     ]
    }
   ],
   "source": [
    "with open('hello.txt','r',encoding='utf-8') as file:\n",
    "    data = file.read()\n",
    "    print(data)\n",
    "    \n",
    "    # we have successfully read our appended data"
   ]
  },
  {
   "cell_type": "code",
   "execution_count": 20,
   "metadata": {},
   "outputs": [
    {
     "name": "stdout",
     "output_type": "stream",
     "text": [
      "Hello Everyone, This\n"
     ]
    }
   ],
   "source": [
    "with open('hello.txt','r',encoding='utf-8') as file:\n",
    "    data = file.read(20) # now i am reading only 20 characters from my file\n",
    "    print(data)"
   ]
  },
  {
   "cell_type": "code",
   "execution_count": 22,
   "metadata": {},
   "outputs": [
    {
     "name": "stdout",
     "output_type": "stream",
     "text": [
      "['Hello Everyone, This is Ranjit Singh , again i am greeting to you ! ❤ \\n', ' I am Data scientist 👀']\n"
     ]
    }
   ],
   "source": [
    "with open('hello.txt','r',encoding='utf-8') as file:\n",
    "    data = file.readlines()  # reading data line by line\n",
    "    print(data)"
   ]
  },
  {
   "cell_type": "code",
   "execution_count": 29,
   "metadata": {},
   "outputs": [
    {
     "name": "stdout",
     "output_type": "stream",
     "text": [
      "4  are has been written !\n"
     ]
    }
   ],
   "source": [
    "text = ['Ranjit singh Line 1 \\n' , 'Ranjit singh Line 2 \\n' , 'Ranjit singh Line 3 \\n' , 'Ranjit singh Line 4']\n",
    "with open('hello2.txt','w') as file:\n",
    "    file.writelines(text)\n",
    "    print(f'{len(text)}  are has been written !')"
   ]
  },
  {
   "cell_type": "code",
   "execution_count": 30,
   "metadata": {},
   "outputs": [
    {
     "name": "stdout",
     "output_type": "stream",
     "text": [
      "Ranjit singh Line 1 \n",
      "Ranjit singh Line 2 \n",
      "Ranjit singh Line 3 \n",
      "Ranjit singh Line 4\n"
     ]
    }
   ],
   "source": [
    "with open('hello2.txt','r') as file:\n",
    "    lines_message  = file.read()   # read entire data in a attempt\n",
    "    print(lines_message)\n",
    "# All lines are readed"
   ]
  },
  {
   "cell_type": "code",
   "execution_count": 31,
   "metadata": {},
   "outputs": [
    {
     "name": "stdout",
     "output_type": "stream",
     "text": [
      "Ranjit singh Line 1 \n",
      "\n"
     ]
    }
   ],
   "source": [
    "with open('hello2.txt','r') as file:\n",
    "    lines_message  = file.readline()   # read single line in a attempt\n",
    "    print(lines_message)\n",
    "# All lines are readed"
   ]
  },
  {
   "cell_type": "code",
   "execution_count": 32,
   "metadata": {},
   "outputs": [
    {
     "name": "stdout",
     "output_type": "stream",
     "text": [
      "['Ranjit singh Line 1 \\n', 'Ranjit singh Line 2 \\n', 'Ranjit singh Line 3 \\n', 'Ranjit singh Line 4']\n"
     ]
    }
   ],
   "source": [
    "with open('hello2.txt','r') as file:\n",
    "    lines_message  = file.readlines()   # read all lines in a attempt and returns lines of list\n",
    "    print(lines_message)\n",
    "# All lines are readed"
   ]
  },
  {
   "cell_type": "code",
   "execution_count": 37,
   "metadata": {},
   "outputs": [],
   "source": [
    "import csv\n",
    "\n",
    "with open('data.csv', 'w', newline='') as csvfile:\n",
    "    writer = csv.writer(csvfile)\n",
    "    writer.writerow(['Name','Branch', 'Age'])\n",
    "    writer.writerow(['Alice','cse', 30])\n",
    "    writer.writerow(['Bob','it' ,35])"
   ]
  },
  {
   "cell_type": "code",
   "execution_count": 35,
   "metadata": {},
   "outputs": [
    {
     "name": "stdout",
     "output_type": "stream",
     "text": [
      "Name,Branch,Age\n",
      "Alice,cse,30\n",
      "Bob,it,35\n",
      "\n"
     ]
    }
   ],
   "source": [
    "with open('data.csv','r') as file:\n",
    "    print(file.read())\n",
    "# Reading the data of .csv file\n"
   ]
  },
  {
   "cell_type": "code",
   "execution_count": 57,
   "metadata": {},
   "outputs": [
    {
     "name": "stdout",
     "output_type": "stream",
     "text": [
      "Name, Branch, Age\n",
      "Alice, cse, 30\n",
      "Bob, it, 35\n"
     ]
    }
   ],
   "source": [
    "with open('data.csv', 'r') as file:\n",
    "    file_object = csv.reader(file)\n",
    "\n",
    "    for row in file_object:\n",
    "        print(', '.join(row))"
   ]
  },
  {
   "cell_type": "markdown",
   "metadata": {},
   "source": [
    "THANK YOU ❤"
   ]
  }
 ],
 "metadata": {
  "kernelspec": {
   "display_name": "Python 3",
   "language": "python",
   "name": "python3"
  },
  "language_info": {
   "codemirror_mode": {
    "name": "ipython",
    "version": 3
   },
   "file_extension": ".py",
   "mimetype": "text/x-python",
   "name": "python",
   "nbconvert_exporter": "python",
   "pygments_lexer": "ipython3",
   "version": "3.11.5"
  }
 },
 "nbformat": 4,
 "nbformat_minor": 2
}
