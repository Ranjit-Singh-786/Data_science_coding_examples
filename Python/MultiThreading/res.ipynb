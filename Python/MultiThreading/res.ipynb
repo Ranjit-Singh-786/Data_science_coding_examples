{
 "cells": [
  {
   "cell_type": "code",
   "execution_count": 1,
   "metadata": {},
   "outputs": [],
   "source": [
    "import random"
   ]
  },
  {
   "cell_type": "code",
   "execution_count": 7,
   "metadata": {},
   "outputs": [
    {
     "name": "stdout",
     "output_type": "stream",
     "text": [
      "(100,)\n",
      "59\n"
     ]
    }
   ],
   "source": [
    "import numpy as np \n",
    "x = np.random.randint(1, 101, size=100)\n",
    "print(x.shape)\n",
    "print(len(set(x)))"
   ]
  },
  {
   "cell_type": "code",
   "execution_count": 8,
   "metadata": {},
   "outputs": [
    {
     "name": "stdout",
     "output_type": "stream",
     "text": [
      "[563, 320, 333, 350, 852, 104, 642, 221, 689, 549, 841, 176, 489, 438, 880, 84, 895, 815, 754, 808, 442, 743, 698, 713, 372, 514, 398, 744, 799, 537, 814, 355, 930, 233, 862, 716, 788, 828, 318, 579, 379, 571, 979, 694, 945, 726, 209, 44, 540, 295, 362, 611, 524, 822, 310, 909, 406, 464, 747, 308, 600, 279, 393, 854, 48, 88, 922, 735, 5, 955, 664, 748, 67, 910, 170, 173, 157, 153, 222, 809, 554, 206, 448, 80, 452, 967, 254, 175, 42, 405, 889, 461, 665, 256, 485, 848, 370, 705, 52, 134]\n"
     ]
    }
   ],
   "source": [
    "import random\n",
    "\n",
    "# Set the range and size of the pool\n",
    "pool_size = 100  # Adjust this as needed\n",
    "pool_range = 1000  # Adjust this as needed\n",
    "\n",
    "# Generate a pool of random numbers\n",
    "pool = random.sample(range(1, pool_range + 1), pool_size)\n",
    "\n",
    "# Generate a list of unique random numbers from the pool\n",
    "unique_random_numbers = random.sample(pool, pool_size)\n",
    "\n",
    "print(unique_random_numbers)"
   ]
  },
  {
   "cell_type": "code",
   "execution_count": 15,
   "metadata": {},
   "outputs": [
    {
     "data": {
      "text/plain": [
       "'MjdKPmAB'"
      ]
     },
     "execution_count": 15,
     "metadata": {},
     "output_type": "execute_result"
    }
   ],
   "source": [
    "import string \n",
    "unique_id = ''.join(random.choices(string.ascii_letters + string.digits, k=8))\n",
    "unique_id"
   ]
  },
  {
   "cell_type": "code",
   "execution_count": 23,
   "metadata": {},
   "outputs": [
    {
     "data": {
      "text/plain": [
       "'4vycv1gs'"
      ]
     },
     "execution_count": 23,
     "metadata": {},
     "output_type": "execute_result"
    }
   ],
   "source": [
    "\"\".join(random.choices(string.ascii_letters + string.digits, k=8))"
   ]
  },
  {
   "cell_type": "code",
   "execution_count": 21,
   "metadata": {},
   "outputs": [
    {
     "data": {
      "text/plain": [
       "'0123456789'"
      ]
     },
     "execution_count": 21,
     "metadata": {},
     "output_type": "execute_result"
    }
   ],
   "source": [
    "string.digits"
   ]
  },
  {
   "cell_type": "code",
   "execution_count": 25,
   "metadata": {},
   "outputs": [
    {
     "data": {
      "text/plain": [
       "[2, 2]"
      ]
     },
     "execution_count": 25,
     "metadata": {},
     "output_type": "execute_result"
    }
   ],
   "source": [
    "lst = [5,2,1,4]\n",
    "lst2 = [2]*2\n",
    "lst2\n"
   ]
  }
 ],
 "metadata": {
  "kernelspec": {
   "display_name": "Python 3",
   "language": "python",
   "name": "python3"
  },
  "language_info": {
   "codemirror_mode": {
    "name": "ipython",
    "version": 3
   },
   "file_extension": ".py",
   "mimetype": "text/x-python",
   "name": "python",
   "nbconvert_exporter": "python",
   "pygments_lexer": "ipython3",
   "version": "3.11.5"
  }
 },
 "nbformat": 4,
 "nbformat_minor": 2
}
