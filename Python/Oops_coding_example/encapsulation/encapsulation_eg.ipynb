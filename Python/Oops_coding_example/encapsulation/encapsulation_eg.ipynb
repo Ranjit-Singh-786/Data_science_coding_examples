{
 "cells": [
  {
   "cell_type": "code",
   "execution_count": 1,
   "metadata": {},
   "outputs": [
    {
     "ename": "AttributeError",
     "evalue": "'Employee' object has no attribute '_Employee__Mangaer_name'",
     "output_type": "error",
     "traceback": [
      "\u001b[1;31m---------------------------------------------------------------------------\u001b[0m",
      "\u001b[1;31mAttributeError\u001b[0m                            Traceback (most recent call last)",
      "Cell \u001b[1;32mIn[1], line 35\u001b[0m\n\u001b[0;32m     32\u001b[0m emp_obj \u001b[38;5;241m=\u001b[39m Employee()\n\u001b[0;32m     34\u001b[0m \u001b[38;5;66;03m# calling a method that can access private variable \u001b[39;00m\n\u001b[1;32m---> 35\u001b[0m \u001b[43memp_obj\u001b[49m\u001b[38;5;241;43m.\u001b[39;49m\u001b[43mdisplay_private\u001b[49m\u001b[43m(\u001b[49m\u001b[43m)\u001b[49m\n\u001b[0;32m     36\u001b[0m \u001b[38;5;66;03m# we are getting error, because private variable can not be accesible in\u001b[39;00m\n\u001b[0;32m     37\u001b[0m \u001b[38;5;66;03m# sub class \u001b[39;00m\n",
      "Cell \u001b[1;32mIn[1], line 26\u001b[0m, in \u001b[0;36mEmployee.display_private\u001b[1;34m(self)\u001b[0m\n\u001b[0;32m     25\u001b[0m \u001b[38;5;28;01mdef\u001b[39;00m \u001b[38;5;21mdisplay_private\u001b[39m(\u001b[38;5;28mself\u001b[39m):\n\u001b[1;32m---> 26\u001b[0m     \u001b[38;5;28mprint\u001b[39m(\u001b[38;5;28;43mself\u001b[39;49m\u001b[38;5;241;43m.\u001b[39;49m\u001b[43m__Mangaer_name\u001b[49m)\n\u001b[0;32m     27\u001b[0m     \u001b[38;5;28mprint\u001b[39m(\u001b[38;5;28mself\u001b[39m\u001b[38;5;241m.\u001b[39m__Manger_email)\n\u001b[0;32m     28\u001b[0m     \u001b[38;5;28mprint\u001b[39m(\u001b[38;5;28mself\u001b[39m\u001b[38;5;241m.\u001b[39m__Mangaer_pass)\n",
      "\u001b[1;31mAttributeError\u001b[0m: 'Employee' object has no attribute '_Employee__Mangaer_name'"
     ]
    }
   ],
   "source": [
    "# 1. public variable\n",
    "# 2. protected variable\n",
    "# 3. private variable\n",
    "\n",
    "class Manager:\n",
    "    def __init__(self):\n",
    "\n",
    "        #Manager creditintioal  (set as private variable)\n",
    "        self.__Mangaer_name = \"suresh chandra\"\n",
    "        self.__Manger_email = \"suresh123@gmail.com\"\n",
    "        self.__Mangaer_pass = \"Hellow@12354\"\n",
    "\n",
    "        #Manager has employee data as public variable\n",
    "        self.Employe_name = \"Rahul kumar\"\n",
    "        self.Employee_email = \"rahul@sbi.in\"\n",
    "        self.Employee_pass = \"sbi@882\"\n",
    "\n",
    "        #protected data set as a protected varaiable\n",
    "        self._Manager_address  = \"Agra taj ganj\"\n",
    "        self._Manager_contact_number = 9759194985\n",
    "\n",
    "class Employee(Manager):\n",
    "\n",
    "    # creating a method to access private variable\n",
    "    def display_private(self):\n",
    "        print(self.__Mangaer_name)\n",
    "        print(self.__Manger_email)\n",
    "        print(self.__Mangaer_pass)\n",
    "\n",
    "\n",
    "\n",
    "emp_obj = Employee()\n",
    "\n",
    "# calling a method that can access private variable \n",
    "emp_obj.display_private()\n",
    "# we are getting error, because private variable can not be accesible in\n",
    "# sub class "
   ]
  },
  {
   "cell_type": "code",
   "execution_count": 2,
   "metadata": {},
   "outputs": [
    {
     "ename": "AttributeError",
     "evalue": "'Employee' object has no attribute '__Mangaer_name'",
     "output_type": "error",
     "traceback": [
      "\u001b[1;31m---------------------------------------------------------------------------\u001b[0m",
      "\u001b[1;31mAttributeError\u001b[0m                            Traceback (most recent call last)",
      "Cell \u001b[1;32mIn[2], line 1\u001b[0m\n\u001b[1;32m----> 1\u001b[0m \u001b[43memp_obj\u001b[49m\u001b[38;5;241;43m.\u001b[39;49m\u001b[43m__Mangaer_name\u001b[49m\n\u001b[0;32m      2\u001b[0m \u001b[38;5;66;03m# even we can,t access directly variable \u001b[39;00m\n",
      "\u001b[1;31mAttributeError\u001b[0m: 'Employee' object has no attribute '__Mangaer_name'"
     ]
    }
   ],
   "source": [
    "emp_obj.__Mangaer_name\n",
    "# even we can,t access directly variable "
   ]
  },
  {
   "cell_type": "code",
   "execution_count": 13,
   "metadata": {},
   "outputs": [
    {
     "data": {
      "text/plain": [
       "'Agra taj ganj'"
      ]
     },
     "execution_count": 13,
     "metadata": {},
     "output_type": "execute_result"
    }
   ],
   "source": [
    "## Lets access protected var with  emp obj,\n",
    "# it is accessible, due to we are accessing through the sub class \n",
    "\n",
    "emp_obj._Manager_address"
   ]
  },
  {
   "cell_type": "code",
   "execution_count": 3,
   "metadata": {},
   "outputs": [
    {
     "name": "stdout",
     "output_type": "stream",
     "text": [
      "protected var from outside the class \n"
     ]
    },
    {
     "data": {
      "text/plain": [
       "'Agra taj ganj'"
      ]
     },
     "execution_count": 3,
     "metadata": {},
     "output_type": "execute_result"
    }
   ],
   "source": [
    "# lets access protected var outside the class\n",
    "# in python protected var is accessible \n",
    "manager_obj = Manager()\n",
    "print('protected var from outside the class ')\n",
    "manager_obj._Manager_address"
   ]
  },
  {
   "cell_type": "code",
   "execution_count": 7,
   "metadata": {},
   "outputs": [
    {
     "ename": "AttributeError",
     "evalue": "'Employee' object has no attribute '__Manger_email'",
     "output_type": "error",
     "traceback": [
      "\u001b[1;31m---------------------------------------------------------------------------\u001b[0m",
      "\u001b[1;31mAttributeError\u001b[0m                            Traceback (most recent call last)",
      "Cell \u001b[1;32mIn[7], line 1\u001b[0m\n\u001b[1;32m----> 1\u001b[0m \u001b[38;5;28mprint\u001b[39m(\u001b[43memp_obj\u001b[49m\u001b[38;5;241;43m.\u001b[39;49m\u001b[43m__Manger_email\u001b[49m)\n",
      "\u001b[1;31mAttributeError\u001b[0m: 'Employee' object has no attribute '__Manger_email'"
     ]
    }
   ],
   "source": [
    "# we cant access a private variable but using namemangling can be possible \n",
    "print(emp_obj.__Manger_email)"
   ]
  },
  {
   "cell_type": "markdown",
   "metadata": {},
   "source": [
    "### Name mangling "
   ]
  },
  {
   "cell_type": "code",
   "execution_count": 8,
   "metadata": {},
   "outputs": [
    {
     "data": {
      "text/plain": [
       "{'_Manager__Mangaer_name': 'suresh chandra',\n",
       " '_Manager__Manger_email': 'suresh123@gmail.com',\n",
       " '_Manager__Mangaer_pass': 'Hellow@12354',\n",
       " 'Employe_name': 'Rahul kumar',\n",
       " 'Employee_email': 'rahul@sbi.in',\n",
       " 'Employee_pass': 'sbi@882',\n",
       " '_Manager_address': 'Agra taj ganj',\n",
       " '_Manager_contact_number': 9759194985}"
      ]
     },
     "execution_count": 8,
     "metadata": {},
     "output_type": "execute_result"
    }
   ],
   "source": [
    "emp_obj.__dict__\n",
    "# printing object pproperty "
   ]
  },
  {
   "cell_type": "code",
   "execution_count": 10,
   "metadata": {},
   "outputs": [
    {
     "name": "stdout",
     "output_type": "stream",
     "text": [
      "accessing manager private data using name mangling \n",
      "Manger email :  suresh123@gmail.com\n",
      "Manager passowrd :  Hellow@12354\n"
     ]
    }
   ],
   "source": [
    "print(\"accessing manager private data using name mangling \")\n",
    "print(\"Manger email : \", emp_obj._Manager__Manger_email)\n",
    "print(\"Manager passowrd : \", emp_obj._Manager__Mangaer_pass)\n"
   ]
  },
  {
   "cell_type": "markdown",
   "metadata": {},
   "source": [
    "Thank you"
   ]
  }
 ],
 "metadata": {
  "kernelspec": {
   "display_name": "Python 3 (ipykernel)",
   "language": "python",
   "name": "python3"
  },
  "language_info": {
   "codemirror_mode": {
    "name": "ipython",
    "version": 3
   },
   "file_extension": ".py",
   "mimetype": "text/x-python",
   "name": "python",
   "nbconvert_exporter": "python",
   "pygments_lexer": "ipython3",
   "version": "3.11.5"
  }
 },
 "nbformat": 4,
 "nbformat_minor": 4
}
