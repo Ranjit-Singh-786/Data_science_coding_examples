{
 "cells": [
  {
   "cell_type": "markdown",
   "metadata": {},
   "source": [
    "### Magic or Dunder kerywords in python "
   ]
  },
  {
   "cell_type": "code",
   "execution_count": 2,
   "metadata": {},
   "outputs": [],
   "source": [
    "# 1.    __len__\n",
    "\n",
    "class Student:\n",
    "    def __init__(self):\n",
    "        self.no_of_student = 100 \n",
    "\n",
    "st_obj = Student()"
   ]
  },
  {
   "cell_type": "code",
   "execution_count": 3,
   "metadata": {},
   "outputs": [
    {
     "ename": "TypeError",
     "evalue": "object of type 'Student' has no len()",
     "output_type": "error",
     "traceback": [
      "\u001b[1;31m---------------------------------------------------------------------------\u001b[0m",
      "\u001b[1;31mTypeError\u001b[0m                                 Traceback (most recent call last)",
      "Cell \u001b[1;32mIn[3], line 1\u001b[0m\n\u001b[1;32m----> 1\u001b[0m \u001b[38;5;28;43mlen\u001b[39;49m\u001b[43m(\u001b[49m\u001b[43mst_obj\u001b[49m\u001b[43m)\u001b[49m\n",
      "\u001b[1;31mTypeError\u001b[0m: object of type 'Student' has no len()"
     ]
    }
   ],
   "source": [
    "len(st_obj)\n",
    "# object has no len() "
   ]
  },
  {
   "cell_type": "code",
   "execution_count": 5,
   "metadata": {},
   "outputs": [
    {
     "name": "stdout",
     "output_type": "stream",
     "text": [
      "100\n"
     ]
    }
   ],
   "source": [
    "class Student:\n",
    "    def __init__(self):\n",
    "        self.no_of_student = 100 \n",
    "\n",
    "    #adding __len__ \n",
    "    def __len__(self):\n",
    "        return self.no_of_student\n",
    "\n",
    "st_obj = Student()\n",
    "\n",
    "# Now again we are trying to call len() on object.\n",
    "print(len(st_obj))"
   ]
  },
  {
   "cell_type": "code",
   "execution_count": 7,
   "metadata": {},
   "outputs": [
    {
     "data": {
      "text/plain": [
       "<__main__.Student at 0x1a530b94250>"
      ]
     },
     "execution_count": 7,
     "metadata": {},
     "output_type": "execute_result"
    }
   ],
   "source": [
    "# 2. __str__ \n",
    "\n",
    "class Student:\n",
    "    def __init__(self):\n",
    "        self.no_of_student = 100 \n",
    "\n",
    "    #adding __len__ \n",
    "    def __len__(self):\n",
    "        return self.no_of_student\n",
    "\n",
    "st_obj = Student()\n",
    "st_obj "
   ]
  },
  {
   "cell_type": "code",
   "execution_count": 8,
   "metadata": {},
   "outputs": [
    {
     "data": {
      "text/plain": [
       "<__main__.Student at 0x1a5310c6c90>"
      ]
     },
     "execution_count": 8,
     "metadata": {},
     "output_type": "execute_result"
    }
   ],
   "source": [
    "class Student:\n",
    "    def __init__(self):\n",
    "        self.no_of_student = 100 \n",
    "\n",
    "    #adding __len__ \n",
    "    def __len__(self):\n",
    "        return self.no_of_student\n",
    "\n",
    "    # #adding __str__ \n",
    "    # def __str__(self):\n",
    "    #     return f\"You are printing the status of Student object\"\n",
    "\n",
    "st_obj = Student()\n",
    "st_obj "
   ]
  }
 ],
 "metadata": {
  "kernelspec": {
   "display_name": "Python 3",
   "language": "python",
   "name": "python3"
  },
  "language_info": {
   "codemirror_mode": {
    "name": "ipython",
    "version": 3
   },
   "file_extension": ".py",
   "mimetype": "text/x-python",
   "name": "python",
   "nbconvert_exporter": "python",
   "pygments_lexer": "ipython3",
   "version": "3.11.5"
  }
 },
 "nbformat": 4,
 "nbformat_minor": 2
}
