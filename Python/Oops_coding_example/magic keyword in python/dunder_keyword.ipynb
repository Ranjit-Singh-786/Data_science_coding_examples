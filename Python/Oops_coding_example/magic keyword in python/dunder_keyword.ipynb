{
 "cells": [
  {
   "cell_type": "markdown",
   "metadata": {},
   "source": [
    "### Magic or Dunder kerywords in python "
   ]
  },
  {
   "cell_type": "code",
   "execution_count": 2,
   "metadata": {},
   "outputs": [],
   "source": [
    "# 1.    __len__\n",
    "\n",
    "class Student:\n",
    "    def __init__(self):\n",
    "        self.no_of_student = 100 \n",
    "\n",
    "st_obj = Student()"
   ]
  },
  {
   "cell_type": "code",
   "execution_count": 3,
   "metadata": {},
   "outputs": [
    {
     "ename": "TypeError",
     "evalue": "object of type 'Student' has no len()",
     "output_type": "error",
     "traceback": [
      "\u001b[1;31m---------------------------------------------------------------------------\u001b[0m",
      "\u001b[1;31mTypeError\u001b[0m                                 Traceback (most recent call last)",
      "Cell \u001b[1;32mIn[3], line 1\u001b[0m\n\u001b[1;32m----> 1\u001b[0m \u001b[38;5;28;43mlen\u001b[39;49m\u001b[43m(\u001b[49m\u001b[43mst_obj\u001b[49m\u001b[43m)\u001b[49m\n",
      "\u001b[1;31mTypeError\u001b[0m: object of type 'Student' has no len()"
     ]
    }
   ],
   "source": [
    "len(st_obj)\n",
    "# object has no len() "
   ]
  },
  {
   "cell_type": "code",
   "execution_count": 5,
   "metadata": {},
   "outputs": [
    {
     "name": "stdout",
     "output_type": "stream",
     "text": [
      "100\n"
     ]
    }
   ],
   "source": [
    "class Student:\n",
    "    def __init__(self):\n",
    "        self.no_of_student = 100 \n",
    "\n",
    "    #adding __len__ \n",
    "    def __len__(self):\n",
    "        return self.no_of_student\n",
    "\n",
    "st_obj = Student()\n",
    "\n",
    "# Now again we are trying to call len() on object.\n",
    "print(len(st_obj))"
   ]
  },
  {
   "cell_type": "code",
   "execution_count": 19,
   "metadata": {},
   "outputs": [
    {
     "name": "stdout",
     "output_type": "stream",
     "text": [
      "You are printing the status of Student object\n"
     ]
    }
   ],
   "source": [
    "# 2. __str__ \n",
    "\n",
    "class Student:\n",
    "    def __init__(self):\n",
    "        self.no_of_student = 100 \n",
    "\n",
    "    #adding __len__ \n",
    "    def __len__(self):\n",
    "        return self.no_of_student\n",
    "\n",
    "    \n",
    "    # adding __str__ \n",
    "    def __str__(self):\n",
    "        return f\"You are printing the status of Student object\"\n",
    "\n",
    "st_obj = Student()\n",
    "print(st_obj) "
   ]
  },
  {
   "cell_type": "code",
   "execution_count": 5,
   "metadata": {},
   "outputs": [
    {
     "name": "stdout",
     "output_type": "stream",
     "text": [
      "To check the class name : Student\n"
     ]
    }
   ],
   "source": [
    "### __class__ \n",
    "### __class__.__name__\n",
    "\n",
    "class Student:\n",
    "    def __init__(self):\n",
    "        self.name = 'Ranjit singh'\n",
    "        self.branch = 'cse'\n",
    "        self.roll_no = 112 \n",
    "    def show():\n",
    "        print(self.name)\n",
    "        print(self.branch)\n",
    "        print(self.roll_no)\n",
    "\n",
    "\n",
    "obj = Student() \n",
    "print(\"To check the class name :\",obj.__class__.__name__)"
   ]
  },
  {
   "cell_type": "code",
   "execution_count": 13,
   "metadata": {},
   "outputs": [
    {
     "name": "stdout",
     "output_type": "stream",
     "text": [
      "student object has brand  :  True\n",
      "student object has price  :  True\n",
      "student object has  ownership  :  False\n"
     ]
    }
   ],
   "source": [
    "class Student:\n",
    "    def __init__(self):\n",
    "        self.brand = \"ktm\" \n",
    "        self.price = \"25k\"\n",
    "st_obj = Student()\n",
    "print(\"student object has brand  : \",hasattr(st_obj,'brand'))\n",
    "print(\"student object has price  : \",hasattr(st_obj,'price'))\n",
    "print(\"student object has  ownership  : \",hasattr(st_obj,'ownership'))\n",
    "\n"
   ]
  },
  {
   "cell_type": "code",
   "execution_count": 14,
   "metadata": {},
   "outputs": [
    {
     "data": {
      "text/plain": [
       "'I created this class to checkout the doc string'"
      ]
     },
     "execution_count": 14,
     "metadata": {},
     "output_type": "execute_result"
    }
   ],
   "source": [
    "### ___doc___ \n",
    "class Student:\n",
    "    \"\"\"I created this class to checkout the doc string\"\"\"\n",
    "    def __init__(self):\n",
    "        self.brand = \"xyz\"\n",
    "        self.price = \"12k\"\n",
    "\n",
    "st_obj = Student()\n",
    "st_obj.__doc__  # print"
   ]
  }
 ],
 "metadata": {
  "kernelspec": {
   "display_name": "Python 3",
   "language": "python",
   "name": "python3"
  },
  "language_info": {
   "codemirror_mode": {
    "name": "ipython",
    "version": 3
   },
   "file_extension": ".py",
   "mimetype": "text/x-python",
   "name": "python",
   "nbconvert_exporter": "python",
   "pygments_lexer": "ipython3",
   "version": "3.12.4"
  }
 },
 "nbformat": 4,
 "nbformat_minor": 2
}
