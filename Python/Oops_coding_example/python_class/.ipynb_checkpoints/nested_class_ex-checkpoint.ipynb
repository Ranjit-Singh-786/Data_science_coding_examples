{
 "cells": [
  {
   "cell_type": "markdown",
   "metadata": {},
   "source": [
    "### Nested class in python "
   ]
  },
  {
   "cell_type": "code",
   "execution_count": 37,
   "metadata": {},
   "outputs": [],
   "source": [
    "# 1st class \n",
    "class College: \n",
    "    def __init__(self,colleg_name,college_city):\n",
    "        self.college_name = colleg_name\n",
    "        self.college_city = college_city \n",
    "\n",
    "    def college_info(self):\n",
    "        print(\"college name : \",self.college_name)\n",
    "        print(\"college city : \",self.college_city)\n",
    "\n",
    "    # 2nd class \n",
    "    class Faculty:\n",
    "        def __init__(self,cse_hod,ece_hod):\n",
    "            self.cse_hod = cse_hod \n",
    "            self.ece_hod = ece_hod \n",
    "\n",
    "        def faculty_info(self):\n",
    "            print(\"Faculties name list : \",[self.cse_hod,self.ece_hod])\n",
    "\n",
    "\n",
    "    # 3rd class \n",
    "    class Student: \n",
    "        def __init__(self,student_in_cs,student_in_ece):\n",
    "            self.student_in_cs = student_in_cs\n",
    "            self.student_in_ece = student_in_ece\n",
    "\n",
    "        def Student_details(self):\n",
    "            print(\"No. of Student in cs : \",student_in_cs)\n",
    "            print(\"No. of Student in ece : \",student_in_ece)\n",
    "\n",
    "\n",
    "\n",
    "        # 4Th class  \n",
    "        class CsTopper:\n",
    "            def __init__(self,cs_topper,ece_topper):\n",
    "                self.student_name = cs_topper,ece_topper \n",
    "\n",
    "            def topper_details(self):\n",
    "                print(\"CSE topper name : \",self.student_name[0])\n",
    "                print(\"ECE topper name : \",self.student_name[1])\n",
    "\n"
   ]
  },
  {
   "cell_type": "markdown",
   "metadata": {},
   "source": [
    "### ACCESSING CLASS PROPERTIES "
   ]
  },
  {
   "cell_type": "code",
   "execution_count": 38,
   "metadata": {},
   "outputs": [
    {
     "name": "stdout",
     "output_type": "stream",
     "text": [
      "college name :  IET AGRA\n",
      "college city :  AGRA\n"
     ]
    }
   ],
   "source": [
    "## Accessing \"COLLGEG\" class PROPERTIES \n",
    "\n",
    "colg_obj = College(colleg_name=\"IET AGRA\",college_city=\"AGRA\")\n",
    "colg_obj.college_info()"
   ]
  },
  {
   "cell_type": "code",
   "execution_count": 39,
   "metadata": {},
   "outputs": [
    {
     "name": "stdout",
     "output_type": "stream",
     "text": [
      "instance var :  satish sharma   <<<  >>> satish sharma\n",
      "\n",
      "Faculties name list :  ['Sanjay sir', 'satish sharma']\n"
     ]
    }
   ],
   "source": [
    "## Accessing \"FACULTY\" class PROPERTIES \n",
    "\n",
    "Faculty_obj = colg_obj.Faculty(cse_hod='Sanjay sir',ece_hod=\"satish sharma\")\n",
    "print(\"instance var : \", Faculty_obj.ece_hod,\"  <<<  >>>\",Faculty_obj.ece_hod)\n",
    "print()\n",
    "Faculty_obj.faculty_info()"
   ]
  },
  {
   "cell_type": "code",
   "execution_count": 40,
   "metadata": {},
   "outputs": [
    {
     "name": "stdout",
     "output_type": "stream",
     "text": [
      "Topper student name list directing printing :  ('shiv shankar', 'Rahul kumar')\n",
      "\n",
      "CSE topper name :  shiv shankar\n",
      "ECE topper name :  Rahul kumar\n"
     ]
    }
   ],
   "source": [
    "## Accessing \"CsTopper\" class PROPERTIES \n",
    "\n",
    "Student_obj = colg_obj.Student(student_in_cs=144,student_in_ece=121)\n",
    "\n",
    "\n",
    "Topper_obje = Student_obj.CsTopper(cs_topper=\"shiv shankar\",ece_topper=\"Rahul kumar\")\n",
    "print(\"Topper student name list directing printing : \", Topper_obje.student_name)\n",
    "print()\n",
    "Topper_obje.topper_details()"
   ]
  },
  {
   "cell_type": "code",
   "execution_count": null,
   "metadata": {},
   "outputs": [],
   "source": []
  },
  {
   "cell_type": "code",
   "execution_count": 41,
   "metadata": {},
   "outputs": [
    {
     "data": {
      "text/plain": [
       "'IET AGRA'"
      ]
     },
     "execution_count": 41,
     "metadata": {},
     "output_type": "execute_result"
    }
   ],
   "source": [
    "colg_obj.college_name"
   ]
  },
  {
   "cell_type": "code",
   "execution_count": null,
   "metadata": {},
   "outputs": [],
   "source": []
  },
  {
   "cell_type": "code",
   "execution_count": null,
   "metadata": {},
   "outputs": [],
   "source": []
  },
  {
   "cell_type": "code",
   "execution_count": null,
   "metadata": {},
   "outputs": [],
   "source": []
  },
  {
   "cell_type": "code",
   "execution_count": null,
   "metadata": {},
   "outputs": [],
   "source": []
  }
 ],
 "metadata": {
  "kernelspec": {
   "display_name": "Python 3",
   "language": "python",
   "name": "python3"
  },
  "language_info": {
   "codemirror_mode": {
    "name": "ipython",
    "version": 3
   },
   "file_extension": ".py",
   "mimetype": "text/x-python",
   "name": "python",
   "nbconvert_exporter": "python",
   "pygments_lexer": "ipython3",
   "version": "3.11.5"
  }
 },
 "nbformat": 4,
 "nbformat_minor": 2
}
