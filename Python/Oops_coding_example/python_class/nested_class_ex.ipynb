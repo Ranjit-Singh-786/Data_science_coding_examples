{
 "cells": [
  {
   "cell_type": "markdown",
   "metadata": {},
   "source": [
    "### Nested class in python "
   ]
  },
  {
   "cell_type": "code",
   "execution_count": 1,
   "metadata": {},
   "outputs": [],
   "source": [
    "# 1st class \n",
    "class College: \n",
    "    def __init__(self,colleg_name,college_city):\n",
    "        self.college_name = colleg_name\n",
    "        self.college_city = college_city \n",
    "\n",
    "    def college_info(self):\n",
    "        print(\"college name : \",self.colleg_name)\n",
    "        print(\"college city : \",self.college_city)\n",
    "\n",
    "    # 2nd class \n",
    "    class Faculty:\n",
    "        def __init__(self,cs_hod,ece_hod):\n",
    "            self.cse_hod = cs_hod \n",
    "            self.ece_hod = ece_hod \n",
    "\n",
    "        def faculty_info(self):\n",
    "            print(\"Faculties list name : \",[self.cse_hod,self.ece_hod])\n",
    "\n",
    "\n",
    "    # 3rd class \n",
    "    class Student: \n",
    "        def __init__()\n",
    "    \n",
    "\n",
    "\n",
    "    \n",
    "\n",
    "    \n"
   ]
  }
 ],
 "metadata": {
  "kernelspec": {
   "display_name": "Python 3",
   "language": "python",
   "name": "python3"
  },
  "language_info": {
   "codemirror_mode": {
    "name": "ipython",
    "version": 3
   },
   "file_extension": ".py",
   "mimetype": "text/x-python",
   "name": "python",
   "nbconvert_exporter": "python",
   "pygments_lexer": "ipython3",
   "version": "3.11.5"
  }
 },
 "nbformat": 4,
 "nbformat_minor": 2
}
