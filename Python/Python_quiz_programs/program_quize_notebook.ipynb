{
 "cells": [
  {
   "cell_type": "markdown",
   "metadata": {},
   "source": [
    "<h2>Number Guessing Program in Python </h2>"
   ]
  },
  {
   "cell_type": "code",
   "execution_count": 5,
   "metadata": {},
   "outputs": [
    {
     "name": "stdout",
     "output_type": "stream",
     "text": [
      "your attempted numbers :-  [11]\n",
      "your attempted numbers :-  [11, 12]\n",
      "your attempted numbers :-  [11, 12, 13]\n",
      "your attempted numbers :-  [11, 12, 13, 14]\n",
      "your attempted numbers :-  [11, 12, 13, 14, 15]\n",
      "your attempted numbers :-  [11, 12, 13, 14, 15, 16]\n",
      "your attempted numbers :-  [11, 12, 13, 14, 15, 16, 17]\n",
      "your attempted numbers :-  [11, 12, 13, 14, 15, 16, 17, 18]\n",
      "your attempted numbers :-  [11, 12, 13, 14, 15, 16, 17, 18, 19]\n",
      "your attempted numbers :-  [11, 12, 13, 14, 15, 16, 17, 18, 19, 20]\n",
      "your attempted numbers :-  [11, 12, 13, 14, 15, 16, 17, 18, 19, 20, 10]\n",
      "your attempted numbers :-  [11, 12, 13, 14, 15, 16, 17, 18, 19, 20, 10, 9]\n",
      "You Won Great, you guessed this number 9 in 12 attempts\n"
     ]
    }
   ],
   "source": [
    "import random\n",
    "\n",
    "guess = random.randint(1,20)\n",
    "user_guesed = int(input('Please Guess The Number :- '))\n",
    "attempt = 0\n",
    "wrong_guessed = []\n",
    "condition = True\n",
    "while condition:\n",
    "    if user_guesed == guess:\n",
    "        print(f\"You Won Great, you guessed this number {user_guesed} in {attempt} attempts\")\n",
    "        condition = False\n",
    "\n",
    "    else:\n",
    "        user_guesed = int(input('please guess the number'))\n",
    "        attempt += 1\n",
    "        wrong_guessed.append(user_guesed)\n",
    "        print('your attempted numbers :- ',wrong_guessed)\n"
   ]
  },
  {
   "cell_type": "markdown",
   "metadata": {},
   "source": [
    "Febonacci Series Program\n"
   ]
  },
  {
   "cell_type": "code",
   "execution_count": 2,
   "metadata": {},
   "outputs": [
    {
     "name": "stdout",
     "output_type": "stream",
     "text": [
      "[0, 1, 1, 2, 3, 5, 8, 13, 21, 34, 55]\n"
     ]
    }
   ],
   "source": [
    "def febonacci(n):\n",
    "    febonacii_sequ = [0,1]\n",
    "    while len(febonacii_sequ) < n:\n",
    "        febonacii_sequ.append(febonacii_sequ[-1] + febonacii_sequ[-2])\n",
    "    return febonacii_sequ\n",
    "\n",
    "\n",
    "# get input from the user\n",
    "number = int(input('Enter your number length for febonacci series'))\n",
    "print(febonacci(number))"
   ]
  },
  {
   "cell_type": "markdown",
   "metadata": {},
   "source": [
    "### Febonacci series program using generator"
   ]
  },
  {
   "cell_type": "markdown",
   "metadata": {},
   "source": [
    "### febonacci series program using recursion "
   ]
  },
  {
   "cell_type": "markdown",
   "metadata": {},
   "source": [
    "### sort list without using sort() keyword "
   ]
  },
  {
   "cell_type": "markdown",
   "metadata": {},
   "source": [
    "### wheather a string is palindrome or not"
   ]
  },
  {
   "cell_type": "code",
   "execution_count": 1,
   "metadata": {},
   "outputs": [
    {
     "name": "stdout",
     "output_type": "stream",
     "text": [
      "0 9\n",
      "1 8\n",
      "2 7\n",
      "3 6\n",
      "4 5\n",
      "5 4\n",
      "6 3\n",
      "7 2\n",
      "8 1\n",
      "9 0\n"
     ]
    }
   ],
   "source": [
    "n = 10 \n",
    "for i in range(n):\n",
    "    print(i  ,   n-i-1)"
   ]
  },
  {
   "cell_type": "code",
   "execution_count": 5,
   "metadata": {},
   "outputs": [
    {
     "name": "stdout",
     "output_type": "stream",
     "text": [
      "10\n",
      "9\n",
      "8\n",
      "7\n",
      "6\n",
      "5\n",
      "4\n",
      "3\n",
      "2\n",
      "1\n"
     ]
    }
   ],
   "source": [
    "# reversed order loop from 10 --> 1\n",
    "for i in range(10,0,-1):  \n",
    "    print(i)"
   ]
  },
  {
   "cell_type": "code",
   "execution_count": 4,
   "metadata": {},
   "outputs": [
    {
     "name": "stdout",
     "output_type": "stream",
     "text": [
      "10\n",
      "9\n",
      "8\n",
      "7\n",
      "6\n",
      "5\n",
      "4\n",
      "3\n",
      "2\n",
      "1\n",
      "0\n"
     ]
    }
   ],
   "source": [
    "# reversed order loop from 10 --> 0\n",
    "for i in range(10,-1,-1):  \n",
    "    print(i)"
   ]
  },
  {
   "cell_type": "code",
   "execution_count": 7,
   "metadata": {},
   "outputs": [
    {
     "name": "stdout",
     "output_type": "stream",
     "text": [
      "-1\n",
      "-2\n",
      "-3\n",
      "-4\n",
      "-5\n",
      "-6\n",
      "-7\n",
      "-8\n",
      "-9\n"
     ]
    }
   ],
   "source": [
    "# Negative indexing loop \n",
    "for i in range(1,10):\n",
    "    print(-i)"
   ]
  },
  {
   "cell_type": "markdown",
   "metadata": {},
   "source": [
    "#### Find the pair of element from the given two list that has,sum of two element = 25"
   ]
  },
  {
   "cell_type": "markdown",
   "metadata": {},
   "source": [
    "Check for Prime number"
   ]
  },
  {
   "cell_type": "code",
   "execution_count": null,
   "metadata": {},
   "outputs": [],
   "source": []
  },
  {
   "cell_type": "code",
   "execution_count": 4,
   "metadata": {},
   "outputs": [
    {
     "name": "stdout",
     "output_type": "stream",
     "text": [
      "True\n",
      "False\n",
      "\n",
      "number is prime \n"
     ]
    }
   ],
   "source": [
    "def is_prime(n):\n",
    "    if n < 2:\n",
    "        return False\n",
    "    for i in range(2, int(n**0.5) + 1):\n",
    "        if n % i == 0:\n",
    "            return False\n",
    "    return True\n",
    "\n",
    "# Example usage\n",
    "print(is_prime(17))  # Output: True\n",
    "print(is_prime(10))  # Output: False\n",
    "print()\n",
    "\n",
    "if is_prime(17):\n",
    "    print(f\"number is prime \")\n",
    "else:\n",
    "    print('number is not prime')\n"
   ]
  }
 ],
 "metadata": {
  "kernelspec": {
   "display_name": "Python 3",
   "language": "python",
   "name": "python3"
  },
  "language_info": {
   "codemirror_mode": {
    "name": "ipython",
    "version": 3
   },
   "file_extension": ".py",
   "mimetype": "text/x-python",
   "name": "python",
   "nbconvert_exporter": "python",
   "pygments_lexer": "ipython3",
   "version": "3.11.5"
  }
 },
 "nbformat": 4,
 "nbformat_minor": 2
}
