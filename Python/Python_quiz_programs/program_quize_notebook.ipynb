{
 "cells": [
  {
   "cell_type": "markdown",
   "metadata": {},
   "source": [
    "<h2>Number Guessing Program in Python </h2>"
   ]
  },
  {
   "cell_type": "code",
   "execution_count": 5,
   "metadata": {},
   "outputs": [
    {
     "name": "stdout",
     "output_type": "stream",
     "text": [
      "your attempted numbers :-  [11]\n",
      "your attempted numbers :-  [11, 12]\n",
      "your attempted numbers :-  [11, 12, 13]\n",
      "your attempted numbers :-  [11, 12, 13, 14]\n",
      "your attempted numbers :-  [11, 12, 13, 14, 15]\n",
      "your attempted numbers :-  [11, 12, 13, 14, 15, 16]\n",
      "your attempted numbers :-  [11, 12, 13, 14, 15, 16, 17]\n",
      "your attempted numbers :-  [11, 12, 13, 14, 15, 16, 17, 18]\n",
      "your attempted numbers :-  [11, 12, 13, 14, 15, 16, 17, 18, 19]\n",
      "your attempted numbers :-  [11, 12, 13, 14, 15, 16, 17, 18, 19, 20]\n",
      "your attempted numbers :-  [11, 12, 13, 14, 15, 16, 17, 18, 19, 20, 10]\n",
      "your attempted numbers :-  [11, 12, 13, 14, 15, 16, 17, 18, 19, 20, 10, 9]\n",
      "You Won Great, you guessed this number 9 in 12 attempts\n"
     ]
    }
   ],
   "source": [
    "import random\n",
    "\n",
    "guess = random.randint(1,20)\n",
    "user_guesed = int(input('Please Guess The Number :- '))\n",
    "attempt = 0\n",
    "wrong_guessed = []\n",
    "condition = True\n",
    "while condition:\n",
    "    if user_guesed == guess:\n",
    "        print(f\"You Won Great, you guessed this number {user_guesed} in {attempt} attempts\")\n",
    "        condition = False\n",
    "\n",
    "    else:\n",
    "        user_guesed = int(input('please guess the number'))\n",
    "        attempt += 1\n",
    "        wrong_guessed.append(user_guesed)\n",
    "        print('your attempted numbers :- ',wrong_guessed)\n"
   ]
  }
 ],
 "metadata": {
  "kernelspec": {
   "display_name": "Python 3",
   "language": "python",
   "name": "python3"
  },
  "language_info": {
   "codemirror_mode": {
    "name": "ipython",
    "version": 3
   },
   "file_extension": ".py",
   "mimetype": "text/x-python",
   "name": "python",
   "nbconvert_exporter": "python",
   "pygments_lexer": "ipython3",
   "version": "3.11.5"
  }
 },
 "nbformat": 4,
 "nbformat_minor": 2
}
