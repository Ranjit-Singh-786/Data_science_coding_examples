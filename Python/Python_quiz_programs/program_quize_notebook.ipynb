{
 "cells": [
  {
   "cell_type": "markdown",
   "metadata": {},
   "source": [
    "<h2>Number Guessing Program in Python </h2>"
   ]
  },
  {
   "cell_type": "code",
   "execution_count": 5,
   "metadata": {},
   "outputs": [
    {
     "name": "stdout",
     "output_type": "stream",
     "text": [
      "your attempted numbers :-  [11]\n",
      "your attempted numbers :-  [11, 12]\n",
      "your attempted numbers :-  [11, 12, 13]\n",
      "your attempted numbers :-  [11, 12, 13, 14]\n",
      "your attempted numbers :-  [11, 12, 13, 14, 15]\n",
      "your attempted numbers :-  [11, 12, 13, 14, 15, 16]\n",
      "your attempted numbers :-  [11, 12, 13, 14, 15, 16, 17]\n",
      "your attempted numbers :-  [11, 12, 13, 14, 15, 16, 17, 18]\n",
      "your attempted numbers :-  [11, 12, 13, 14, 15, 16, 17, 18, 19]\n",
      "your attempted numbers :-  [11, 12, 13, 14, 15, 16, 17, 18, 19, 20]\n",
      "your attempted numbers :-  [11, 12, 13, 14, 15, 16, 17, 18, 19, 20, 10]\n",
      "your attempted numbers :-  [11, 12, 13, 14, 15, 16, 17, 18, 19, 20, 10, 9]\n",
      "You Won Great, you guessed this number 9 in 12 attempts\n"
     ]
    }
   ],
   "source": [
    "import random\n",
    "\n",
    "guess = random.randint(1,20)\n",
    "user_guesed = int(input('Please Guess The Number :- '))\n",
    "attempt = 0\n",
    "wrong_guessed = []\n",
    "condition = True\n",
    "while condition:\n",
    "    if user_guesed == guess:\n",
    "        print(f\"You Won Great, you guessed this number {user_guesed} in {attempt} attempts\")\n",
    "        condition = False\n",
    "\n",
    "    else:\n",
    "        user_guesed = int(input('please guess the number'))\n",
    "        attempt += 1\n",
    "        wrong_guessed.append(user_guesed)\n",
    "        print('your attempted numbers :- ',wrong_guessed)\n"
   ]
  },
  {
   "cell_type": "markdown",
   "metadata": {},
   "source": [
    "Febonacci Series Program\n"
   ]
  },
  {
   "cell_type": "code",
   "execution_count": 2,
   "metadata": {},
   "outputs": [
    {
     "name": "stdout",
     "output_type": "stream",
     "text": [
      "[0, 1, 1, 2, 3, 5, 8, 13, 21, 34, 55]\n"
     ]
    }
   ],
   "source": [
    "def febonacci(n):\n",
    "    febonacii_sequ = [0,1]\n",
    "    while len(febonacii_sequ) < n:\n",
    "        febonacii_sequ.append(febonacii_sequ[-1] + febonacii_sequ[-2])\n",
    "    return febonacii_sequ\n",
    "\n",
    "\n",
    "# get input from the user\n",
    "number = int(input('Enter your number length for febonacci series'))\n",
    "print(febonacci(number))"
   ]
  },
  {
   "cell_type": "markdown",
   "metadata": {},
   "source": [
    "### Febonacci series program using generator"
   ]
  },
  {
   "cell_type": "markdown",
   "metadata": {},
   "source": [
    "### febonacci series program using recursion "
   ]
  },
  {
   "cell_type": "markdown",
   "metadata": {},
   "source": [
    "### sort list without using sort() keyword "
   ]
  },
  {
   "cell_type": "markdown",
   "metadata": {},
   "source": [
    "### wheather a string is palindrome or not"
   ]
  },
  {
   "cell_type": "code",
   "execution_count": 1,
   "metadata": {},
   "outputs": [
    {
     "name": "stdout",
     "output_type": "stream",
     "text": [
      "0 9\n",
      "1 8\n",
      "2 7\n",
      "3 6\n",
      "4 5\n",
      "5 4\n",
      "6 3\n",
      "7 2\n",
      "8 1\n",
      "9 0\n"
     ]
    }
   ],
   "source": [
    "n = 10 \n",
    "for i in range(n):\n",
    "    print(i  ,   n-i-1)"
   ]
  },
  {
   "cell_type": "code",
   "execution_count": 5,
   "metadata": {},
   "outputs": [
    {
     "name": "stdout",
     "output_type": "stream",
     "text": [
      "10\n",
      "9\n",
      "8\n",
      "7\n",
      "6\n",
      "5\n",
      "4\n",
      "3\n",
      "2\n",
      "1\n"
     ]
    }
   ],
   "source": [
    "# reversed order loop from 10 --> 1\n",
    "for i in range(10,0,-1):  \n",
    "    print(i)"
   ]
  },
  {
   "cell_type": "code",
   "execution_count": 4,
   "metadata": {},
   "outputs": [
    {
     "name": "stdout",
     "output_type": "stream",
     "text": [
      "10\n",
      "9\n",
      "8\n",
      "7\n",
      "6\n",
      "5\n",
      "4\n",
      "3\n",
      "2\n",
      "1\n",
      "0\n"
     ]
    }
   ],
   "source": [
    "# reversed order loop from 10 --> 0\n",
    "for i in range(10,-1,-1):  \n",
    "    print(i)"
   ]
  },
  {
   "cell_type": "code",
   "execution_count": 7,
   "metadata": {},
   "outputs": [
    {
     "name": "stdout",
     "output_type": "stream",
     "text": [
      "-1\n",
      "-2\n",
      "-3\n",
      "-4\n",
      "-5\n",
      "-6\n",
      "-7\n",
      "-8\n",
      "-9\n"
     ]
    }
   ],
   "source": [
    "# Negative indexing loop \n",
    "for i in range(1,10):\n",
    "    print(-i)"
   ]
  },
  {
   "cell_type": "markdown",
   "metadata": {},
   "source": [
    "#### Find the pair of element from the given two list that has,sum of two element = 25"
   ]
  },
  {
   "cell_type": "markdown",
   "metadata": {},
   "source": [
    "Check for Prime number"
   ]
  },
  {
   "cell_type": "code",
   "execution_count": 11,
   "metadata": {},
   "outputs": [
    {
     "name": "stdout",
     "output_type": "stream",
     "text": [
      "True\n",
      "False\n",
      "\n",
      "number is prime \n"
     ]
    }
   ],
   "source": [
    "def is_prime(n):\n",
    "    if n < 2:\n",
    "        return False\n",
    "    for i in range(2, int(n**0.5) + 1):\n",
    "        if n % i == 0:\n",
    "            return False\n",
    "    return True\n",
    "\n",
    "# Example usage\n",
    "print(is_prime(17))  # Output: True\n",
    "print(is_prime(10))  # Output: False\n",
    "print()\n",
    "\n",
    "if is_prime(31):\n",
    "    print(f\"number is prime \")\n",
    "else:\n",
    "    print('number is not prime')\n"
   ]
  },
  {
   "cell_type": "markdown",
   "metadata": {},
   "source": [
    "### find the name of student that obtained second minimum score"
   ]
  },
  {
   "cell_type": "code",
   "execution_count": 2,
   "metadata": {},
   "outputs": [
    {
     "name": "stdout",
     "output_type": "stream",
     "text": [
      "mohan\n",
      "rocky\n"
     ]
    }
   ],
   "source": [
    "students = [['harry',85.2],['rocky',24.2],['raju',96.2],['mohan',24.2],\n",
    "['jacky',10],['kalu',85],['suresh',36]]\n",
    "    \n",
    "scores = sorted(set([score for name, score in students]))\n",
    "second_lowest_score = scores[1]\n",
    "second_lowest_students = sorted([name for name, score in students if score ==       second_lowest_score])\n",
    "for student in second_lowest_students:\n",
    "    print(student)"
   ]
  },
  {
   "cell_type": "markdown",
   "metadata": {},
   "source": [
    "### Find the no. of occurence of substring "
   ]
  },
  {
   "cell_type": "code",
   "execution_count": 3,
   "metadata": {},
   "outputs": [
    {
     "name": "stdout",
     "output_type": "stream",
     "text": [
      "occurence no. 0 : CDC\n",
      "occurence no. 1 : CDC\n",
      "2\n"
     ]
    }
   ],
   "source": [
    "def count_substring(string, sub_string):\n",
    "    count = 0 \n",
    "    len_sub = len(sub_string)\n",
    "    for  i in range(len(string)):\n",
    "        if string[i:len_sub+i] == sub_string:\n",
    "            print(f\"occurence no. {count} : {string[i:len_sub+i]}\")\n",
    "            count += 1\n",
    "\n",
    "    return count\n",
    "\n",
    "COUNT = count_substring(\"ABCDCDC\",\"CDC\")\n",
    "print(COUNT)"
   ]
  },
  {
   "cell_type": "markdown",
   "metadata": {},
   "source": [
    "### Qize on python string\n",
    "In the first line, print True if  has any alphanumeric characters. Otherwise, print False.<br>\n",
    "\n",
    "In the second line, print True if  has any alphabetical characters. Otherwise, print False.<br>\n",
    "\n",
    "In the third line, print True if  has any digits. Otherwise, print False.<br>\n",
    "\n",
    "In the fourth line, print True if  has any lowercase characters. Otherwise, print False.<br>\n",
    "\n",
    "In the fifth line, print True if  has any uppercase characters. Otherwise, print False\n",
    "\n",
    "sample input:<br>\n",
    "\"qA2\"<br>\n",
    "\n",
    "\n",
    "sample output:<br>\n",
    "True<br>\n",
    "True<br>\n",
    "True<br>\n",
    "True<br>\n",
    "True<br>"
   ]
  },
  {
   "cell_type": "code",
   "execution_count": 4,
   "metadata": {},
   "outputs": [
    {
     "name": "stdout",
     "output_type": "stream",
     "text": [
      "True\n",
      "True\n",
      "True\n",
      "True\n",
      "True\n"
     ]
    }
   ],
   "source": [
    "s  = \"qA2\"\n",
    "print(any([char.isalnum() for char in s]))\n",
    "print(any([char.isalpha() for char in s]))\n",
    "print(any([char.isdigit() for char in s]))\n",
    "print(any([char.islower() for char in s]))\n",
    "print(any([char.isupper() for char in s]))\n",
    "    \n",
    "    "
   ]
  },
  {
   "cell_type": "markdown",
   "metadata": {},
   "source": [
    "### Pattern programs "
   ]
  },
  {
   "cell_type": "code",
   "execution_count": 17,
   "metadata": {},
   "outputs": [
    {
     "name": "stdout",
     "output_type": "stream",
     "text": [
      "    H    \n",
      "   HHH   \n",
      "  HHHHH  \n",
      " HHHHHHH \n",
      "HHHHHHHHH\n",
      "  HHHHH                 HHHHH\n",
      "  HHHHH                 HHHHH\n",
      "  HHHHH                 HHHHH\n",
      "  HHHHH                 HHHHH\n",
      "  HHHHH                 HHHHH\n",
      "  HHHHH                 HHHHH\n",
      "  HHHHHHHHHHHHHHHHHHHHHHHHHHH\n",
      "  HHHHHHHHHHHHHHHHHHHHHHHHHHH\n",
      "  HHHHHHHHHHHHHHHHHHHHHHHHHHH\n",
      "  HHHHH                 HHHHH\n",
      "  HHHHH                 HHHHH\n",
      "  HHHHH                 HHHHH\n",
      "  HHHHH                 HHHHH\n",
      "  HHHHH                 HHHHH\n",
      "  HHHHH                 HHHHH\n",
      "                      HHHHHHHHH \n",
      "                       HHHHHHH  \n",
      "                        HHHHH   \n",
      "                         HHH    \n",
      "                          H     \n"
     ]
    }
   ],
   "source": [
    "thickness=5\n",
    "c = 'H'\n",
    "\n",
    "#Top Cone\n",
    "for i in range(thickness):\n",
    "    print((c*i).rjust(thickness-1)+c+(c*i).ljust(thickness-1))\n",
    "    \n",
    "for i in range(thickness+1):\n",
    "    print((c*thickness).center(9),end=\"\")\n",
    "    print((c*thickness).rjust(20))\n",
    "    # print()\n",
    "    # print(i)\n",
    "for i in range(3):\n",
    "    print((c*27).rjust(29))\n",
    "    \n",
    "for i in range(thickness+1):\n",
    "    print((c*thickness).center(9),end=\"\")\n",
    "    print((c*thickness).rjust(20))\n",
    "\n",
    "for i in range(thickness-1,-1,-1):\n",
    "    added = (c*i).rjust(thickness)\n",
    "    print(added.rjust(26)+c+(c*i).ljust(thickness))   #32  must be 29+2=31\n",
    "    print(len(added.rjust(26)+c+(c*i).ljust(thickness)))   #32  must be 29+2=31\n"
   ]
  },
  {
   "cell_type": "code",
   "execution_count": 1,
   "metadata": {},
   "outputs": [
    {
     "name": "stdout",
     "output_type": "stream",
     "text": [
      "*\n",
      "**\n",
      "***\n",
      "****\n",
      "*****\n"
     ]
    }
   ],
   "source": [
    "n = 5\n",
    "for i in range(1, n + 1):\n",
    "    print(\"*\" * i)"
   ]
  },
  {
   "cell_type": "code",
   "execution_count": 2,
   "metadata": {},
   "outputs": [
    {
     "name": "stdout",
     "output_type": "stream",
     "text": [
      "    *\n",
      "   **\n",
      "  ***\n",
      " ****\n",
      "*****\n"
     ]
    }
   ],
   "source": [
    "n = 5\n",
    "for i in range(1, n + 1):\n",
    "    print(\" \" * (n - i) + \"*\" * i)"
   ]
  },
  {
   "cell_type": "code",
   "execution_count": 3,
   "metadata": {},
   "outputs": [
    {
     "name": "stdout",
     "output_type": "stream",
     "text": [
      "1\n",
      "12\n",
      "123\n",
      "1234\n",
      "12345\n"
     ]
    }
   ],
   "source": [
    "for i in range(1,6):\n",
    "    for j in range(1,i+1):\n",
    "        print(j,end=\"\")\n",
    "    print()"
   ]
  },
  {
   "cell_type": "code",
   "execution_count": 5,
   "metadata": {},
   "outputs": [
    {
     "name": "stdout",
     "output_type": "stream",
     "text": [
      "1\n",
      "22\n",
      "333\n",
      "4444\n",
      "55555\n"
     ]
    }
   ],
   "source": [
    "for i in range(1,6):\n",
    "    for j in range(1,i+1):\n",
    "        print(i,end=\"\")\n",
    "    print()"
   ]
  }
 ],
 "metadata": {
  "kernelspec": {
   "display_name": "Python 3",
   "language": "python",
   "name": "python3"
  },
  "language_info": {
   "codemirror_mode": {
    "name": "ipython",
    "version": 3
   },
   "file_extension": ".py",
   "mimetype": "text/x-python",
   "name": "python",
   "nbconvert_exporter": "python",
   "pygments_lexer": "ipython3",
   "version": "3.12.4"
  }
 },
 "nbformat": 4,
 "nbformat_minor": 2
}
