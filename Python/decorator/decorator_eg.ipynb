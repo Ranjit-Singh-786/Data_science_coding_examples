{
 "cells": [
  {
   "cell_type": "markdown",
   "metadata": {},
   "source": [
    "### Decorator examples "
   ]
  },
  {
   "cell_type": "code",
   "execution_count": 2,
   "metadata": {},
   "outputs": [],
   "source": [
    "#decorator\n",
    "def wrapper(fun):\n",
    "    def inner_func():\n",
    "        fun()\n",
    "        print(\"Hiii from inner function !\")\n",
    "    return inner_func"
   ]
  },
  {
   "cell_type": "code",
   "execution_count": 4,
   "metadata": {},
   "outputs": [
    {
     "name": "stdout",
     "output_type": "stream",
     "text": [
      "Hii from passed function\n",
      "Hiii from inner function !\n"
     ]
    }
   ],
   "source": [
    "def function_to_be_pass():\n",
    "    print(\"Hii from passed function\")\n",
    "\n",
    "inner_fun = wrapper(function_to_be_pass)\n",
    "inner_fun()"
   ]
  },
  {
   "cell_type": "code",
   "execution_count": 5,
   "metadata": {},
   "outputs": [
    {
     "name": "stdout",
     "output_type": "stream",
     "text": [
      "hii from passed function\n",
      "Hiii from inner function !\n"
     ]
    }
   ],
   "source": [
    "@wrapper\n",
    "def function_to_be_pass():\n",
    "    print(\"hii from passed function\")\n",
    "\n",
    "function_to_be_pass()"
   ]
  },
  {
   "cell_type": "code",
   "execution_count": 6,
   "metadata": {},
   "outputs": [
    {
     "name": "stdout",
     "output_type": "stream",
     "text": [
      "hii before decorate\n",
      "developer wants to update me!\n",
      "Hii after decorate\n"
     ]
    }
   ],
   "source": [
    "# example = 2\n",
    "def wrapper(fun):\n",
    "    def to_decorate():\n",
    "        print(\"hii before decorate\")\n",
    "        fun()\n",
    "        print('Hii after decorate')\n",
    "    return to_decorate \n",
    "\n",
    "\n",
    "@wrapper \n",
    "def testing():\n",
    "    print(\"developer wants to update me!\")\n",
    "testing()"
   ]
  }
 ],
 "metadata": {
  "kernelspec": {
   "display_name": "Python 3",
   "language": "python",
   "name": "python3"
  },
  "language_info": {
   "codemirror_mode": {
    "name": "ipython",
    "version": 3
   },
   "file_extension": ".py",
   "mimetype": "text/x-python",
   "name": "python",
   "nbconvert_exporter": "python",
   "pygments_lexer": "ipython3",
   "version": "3.12.4"
  }
 },
 "nbformat": 4,
 "nbformat_minor": 2
}
