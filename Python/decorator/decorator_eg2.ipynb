{
 "cells": [
  {
   "cell_type": "code",
   "execution_count": null,
   "metadata": {},
   "outputs": [],
   "source": [
    "decorator: "
   ]
  },
  {
   "cell_type": "code",
   "execution_count": 1,
   "metadata": {},
   "outputs": [
    {
     "name": "stdout",
     "output_type": "stream",
     "text": [
      "Testing 1 \n"
     ]
    }
   ],
   "source": [
    "def test1():\n",
    "    print('Testing 1 ')\n",
    "test1()    "
   ]
  },
  {
   "cell_type": "code",
   "execution_count": 3,
   "metadata": {},
   "outputs": [
    {
     "name": "stdout",
     "output_type": "stream",
     "text": [
      "Testing 2\n",
      "Testing 1 \n"
     ]
    }
   ],
   "source": [
    "def test2(fun):\n",
    "    print(\"Testing 2\")\n",
    "    fun()\n",
    "\n",
    "test2(fun=test1)"
   ]
  },
  {
   "cell_type": "code",
   "execution_count": 6,
   "metadata": {},
   "outputs": [
    {
     "name": "stdout",
     "output_type": "stream",
     "text": [
      "hey testing 3\n",
      "Hey testing 4\n"
     ]
    }
   ],
   "source": [
    "def test3():\n",
    "    print(\"hey testing 3\") \n",
    "    def test4():\n",
    "        print(\"Hey testing 4\") \n",
    "    return test4\n",
    "\n",
    "test4 = test3()\n",
    "test4()"
   ]
  },
  {
   "cell_type": "code",
   "execution_count": 8,
   "metadata": {},
   "outputs": [
    {
     "name": "stdout",
     "output_type": "stream",
     "text": [
      "hey testing 3\n",
      "Hey testing 4\n"
     ]
    }
   ],
   "source": [
    "test3()()"
   ]
  },
  {
   "cell_type": "code",
   "execution_count": 17,
   "metadata": {},
   "outputs": [
    {
     "name": "stdout",
     "output_type": "stream",
     "text": [
      "Your average is : 52.83\n"
     ]
    }
   ],
   "source": [
    "## average calculator \n",
    "def total_sum(input_ls):\n",
    "    total_sum = 0\n",
    "    count = 0 \n",
    "    for item in input_ls:\n",
    "        total_sum += item \n",
    "        count += 1 \n",
    "    def average_finder(total_sum,count):\n",
    "        print(f\"Your average is : {round(total_sum/count,2)}\")\n",
    "    return average_finder,total_sum,count\n",
    "\n",
    "ls = [25,41,63,96,85,7]\n",
    "\n",
    "average_calculate,total_sumision,n_count = total_sum(input_ls=ls)\n",
    "average_calculate(total_sum=total_sumision,count=n_count)"
   ]
  },
  {
   "cell_type": "code",
   "execution_count": 22,
   "metadata": {},
   "outputs": [
    {
     "name": "stdout",
     "output_type": "stream",
     "text": [
      "Hey before execute the your function!\n",
      "hey i need modification\n",
      "Hey after calling your function!\n",
      "hey you have modified!\n"
     ]
    }
   ],
   "source": [
    "def wraper(fun): \n",
    "    def innerfunction():\n",
    "        print(\"Hey before execute the your function!\")\n",
    "        fun()\n",
    "        print(\"Hey after calling your function!\")\n",
    "        print(\"hey you have modified!\")\n",
    "    return innerfunction\n",
    "\n",
    "\n",
    "def testing_fun(): \n",
    "    print(\"hey i need modification\")\n",
    "\n",
    "\n",
    "\n",
    "innerfunction = wraper(fun=testing_fun)\n",
    "innerfunction()"
   ]
  },
  {
   "cell_type": "code",
   "execution_count": 23,
   "metadata": {},
   "outputs": [
    {
     "name": "stdout",
     "output_type": "stream",
     "text": [
      "Your average is : 52.83\n"
     ]
    }
   ],
   "source": [
    "def wraper(average_finder,ls): \n",
    "    def inner_function():\n",
    "        total_sum = sum(ls)\n",
    "        count = len(ls)\n",
    "        average_finder(total_sum,count) \n",
    "\n",
    "    return inner_function\n",
    "\n",
    "\n",
    "def average_finder(total_sum,count):\n",
    "    print(f\"Your average is : {round(total_sum/count,2)}\")\n",
    "\n",
    "\n",
    "ls = [25,41,63,96,85,7]\n",
    "\n",
    "inner_function = wraper(average_finder=average_finder,ls=ls)\n",
    "inner_function()"
   ]
  },
  {
   "cell_type": "code",
   "execution_count": 26,
   "metadata": {},
   "outputs": [],
   "source": [
    "def wraper(average_finder,ls): \n",
    "    def inner_function():\n",
    "        total_sum = sum(ls)\n",
    "        count = len(ls)\n",
    "        average_finder(total_sum,count) \n",
    "\n",
    "    return inner_function\n",
    "\n",
    "\n",
    "def average_finder(total_sum,count):\n",
    "    print(f\"Your average is : {round(total_sum/count,2)}\")\n",
    "\n",
    "\n",
    "ls = [25,41,63,96,85,7]\n",
    "\n",
    "inner_function = wraper(average_finder=average_finder,ls=ls)\n",
    "inner_function()"
   ]
  },
  {
   "cell_type": "code",
   "execution_count": 2,
   "metadata": {},
   "outputs": [
    {
     "name": "stdout",
     "output_type": "stream",
     "text": [
      "Your average is: 52.83\n"
     ]
    }
   ],
   "source": [
    "def wraper(func):\n",
    "    def inner_function(ls):\n",
    "        total_sum = sum(ls)\n",
    "        count = len(ls)\n",
    "        return func(total_sum, count)\n",
    "    return inner_function\n",
    "\n",
    "@wraper\n",
    "def average_finder(total_sum, count):\n",
    "    print(f\"Your average is: {round(total_sum / count, 2)}\")\n",
    "\n",
    "# Now, call average_finder with the list of numbers\n",
    "ls = [25, 41, 63, 96, 85, 7]\n",
    "average_finder(ls)"
   ]
  },
  {
   "cell_type": "code",
   "execution_count": 28,
   "metadata": {},
   "outputs": [
    {
     "name": "stdout",
     "output_type": "stream",
     "text": [
      "Hey before execute the your function!\n",
      "hey i need modification\n",
      "Hey after calling your function!\n",
      "hey you have modified!\n"
     ]
    }
   ],
   "source": [
    "def wraper(fun): \n",
    "    def innerfunction():\n",
    "        print(\"Hey before execute the your function!\")\n",
    "        fun()\n",
    "        print(\"Hey after calling your function!\")\n",
    "        print(\"hey you have modified!\")\n",
    "    return innerfunction\n",
    "\n",
    "def testing_fun(): \n",
    "    print(\"hey i need modification\")\n",
    "\n",
    "\n",
    "\n",
    "innerfunction = wraper(fun=testing_fun)\n",
    "innerfunction()"
   ]
  },
  {
   "cell_type": "code",
   "execution_count": 30,
   "metadata": {},
   "outputs": [
    {
     "name": "stdout",
     "output_type": "stream",
     "text": [
      "Hey before execute the your function!\n",
      "hey i need modification\n",
      "Hey after calling your function!\n",
      "hey you have modified!\n"
     ]
    }
   ],
   "source": [
    "@wraper \n",
    "def testing_fun(): \n",
    "    print(\"hey i need modification\")\n",
    "\n",
    "\n",
    "testing_fun()"
   ]
  },
  {
   "cell_type": "code",
   "execution_count": null,
   "metadata": {},
   "outputs": [],
   "source": [
    "def decorator_function(original_function):\n",
    "    def wrapper_function(*args, **kwargs):\n",
    "        # Code to run before the original function\n",
    "        print(\"Wrapper executed before {}\".format(original_function.__name__))\n",
    "        \n",
    "        # Call the original function\n",
    "        result = original_function(*args, **kwargs)\n",
    "        \n",
    "        # Code to run after the original function\n",
    "        print(\"Wrapper executed after {}\".format(original_function.__name__))\n",
    "        \n",
    "        return result\n",
    "    return wrapper_function\n"
   ]
  }
 ],
 "metadata": {
  "kernelspec": {
   "display_name": "Python 3",
   "language": "python",
   "name": "python3"
  },
  "language_info": {
   "codemirror_mode": {
    "name": "ipython",
    "version": 3
   },
   "file_extension": ".py",
   "mimetype": "text/x-python",
   "name": "python",
   "nbconvert_exporter": "python",
   "pygments_lexer": "ipython3",
   "version": "3.12.4"
  }
 },
 "nbformat": 4,
 "nbformat_minor": 2
}
