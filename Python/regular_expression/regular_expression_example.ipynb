{
 "cells": [
  {
   "cell_type": "code",
   "execution_count": 1,
   "metadata": {},
   "outputs": [],
   "source": [
    "import re "
   ]
  },
  {
   "cell_type": "code",
   "execution_count": null,
   "metadata": {},
   "outputs": [
    {
     "data": {
      "text/plain": [
       "'pvt'"
      ]
     },
     "execution_count": 11,
     "metadata": {},
     "output_type": "execute_result"
    }
   ],
   "source": [
    "st = \"upflairs pvt ltd jaipur rajasthan\" \n",
    "match = re.search('pvt',st)  # it return single match pattern\n",
    "print(match.group())"
   ]
  },
  {
   "cell_type": "code",
   "execution_count": 17,
   "metadata": {},
   "outputs": [
    {
     "name": "stdout",
     "output_type": "stream",
     "text": [
      "['pvt', 'pvt']\n"
     ]
    }
   ],
   "source": [
    "st = \"upflairs pvt ltd jaipur pvt rajasthan\" \n",
    "match = re.findall(\"pvt\",st)\n",
    "print(match)  # return all the match "
   ]
  },
  {
   "cell_type": "code",
   "execution_count": 19,
   "metadata": {},
   "outputs": [
    {
     "name": "stdout",
     "output_type": "stream",
     "text": [
      "['upflairs', 'pvt', 'ltd', 'jaipur', 'pvt', 'rajasthan']\n"
     ]
    }
   ],
   "source": [
    "st = \"upflairs pvt ltd jaipur pvt rajasthan\" \n",
    "match = re.split(\" \",st)\n",
    "print(match)  # return all the match "
   ]
  },
  {
   "cell_type": "code",
   "execution_count": null,
   "metadata": {},
   "outputs": [
    {
     "name": "stdout",
     "output_type": "stream",
     "text": [
      "upflairs private ltd jaipur private rajasthan\n"
     ]
    }
   ],
   "source": [
    "st = \"upflairs pvt ltd jaipur pvt rajasthan\" \n",
    "output = re.sub(\"pvt\",'private',st)  # replace multiple item at a time.\n",
    "print(match)  "
   ]
  },
  {
   "cell_type": "code",
   "execution_count": null,
   "metadata": {},
   "outputs": [
    {
     "name": "stdout",
     "output_type": "stream",
     "text": [
      "upflairs private ltd jaipur private rajasthan\n"
     ]
    }
   ],
   "source": [
    "st = \"upflairs pvt ltd jaipur pvt rajasthan 82545 @Delhi \" \n",
    "output = re.sub(\"[^a-zA-z ]\",\"\",st)  # replace all the other than words by the pattern\n",
    "print(match)  "
   ]
  },
  {
   "cell_type": "code",
   "execution_count": null,
   "metadata": {},
   "outputs": [
    {
     "name": "stdout",
     "output_type": "stream",
     "text": [
      "['5', '9']\n"
     ]
    }
   ],
   "source": [
    "# Find all digit characters:\n",
    "txt = \"That will be 59 dollars\"\n",
    "x = re.findall(\"\\\\d\", txt)  \n",
    "print(x)"
   ]
  },
  {
   "cell_type": "code",
   "execution_count": null,
   "metadata": {},
   "outputs": [
    {
     "name": "stdout",
     "output_type": "stream",
     "text": [
      "['a', 'w', 'l', 'l', 'l', 'l', 'a']\n"
     ]
    }
   ],
   "source": [
    "# Find all the specify character\n",
    "txt = \"That will be 59 dollars\"\n",
    "x = re.findall(\"[awl]\", txt)  \n",
    "print(x)"
   ]
  }
 ],
 "metadata": {
  "kernelspec": {
   "display_name": "Python 3",
   "language": "python",
   "name": "python3"
  },
  "language_info": {
   "codemirror_mode": {
    "name": "ipython",
    "version": 3
   },
   "file_extension": ".py",
   "mimetype": "text/x-python",
   "name": "python",
   "nbconvert_exporter": "python",
   "pygments_lexer": "ipython3",
   "version": "3.12.4"
  }
 },
 "nbformat": 4,
 "nbformat_minor": 2
}
